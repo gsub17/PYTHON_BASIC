{
 "cells": [
  {
   "cell_type": "code",
   "execution_count": 13,
   "id": "998d7161",
   "metadata": {},
   "outputs": [
    {
     "name": "stdout",
     "output_type": "stream",
     "text": [
      "the no. of digit is 4\n",
      "the new no. is 3443\n",
      "not a pallindrome no\n"
     ]
    }
   ],
   "source": [
    "## check a no. is pallindrome or not\n",
    "\n",
    "n = 3443\n",
    "\n",
    "a = n\n",
    "n2 = 0\n",
    "count = 0\n",
    "\n",
    "while a > 0:\n",
    "    count += 1\n",
    "    a = a//10\n",
    "    \n",
    "print(f\"the no. of digit is {count}\")\n",
    "\n",
    "for i in range(1 , count + 1 , 1):\n",
    "    temp = n % 10\n",
    "    n2 = n2*10 + temp\n",
    "    n = n//10\n",
    "\n",
    "print(f\"the new no. is {n2}\")\n",
    "\n",
    "if n2 == n:\n",
    "    print(\"it is pallindrome no\")\n",
    "else:\n",
    "    print(\"not a pallindrome no\")\n"
   ]
  },
  {
   "cell_type": "code",
   "execution_count": 2,
   "id": "715bc2be",
   "metadata": {},
   "outputs": [
    {
     "name": "stdout",
     "output_type": "stream",
     "text": [
      "5\n"
     ]
    }
   ],
   "source": [
    "a = 10 // 2\n",
    "print(a)"
   ]
  },
  {
   "cell_type": "code",
   "execution_count": 12,
   "id": "30d0656a",
   "metadata": {},
   "outputs": [
    {
     "name": "stdout",
     "output_type": "stream",
     "text": [
      "5.0\n",
      "<class 'float'>\n"
     ]
    }
   ],
   "source": [
    "a = 10/2\n",
    "print(a)\n",
    "print(type(a))"
   ]
  },
  {
   "cell_type": "markdown",
   "id": "52e1919c",
   "metadata": {},
   "source": [
    "## Bitwise Operator\n",
    "- Bitwise and &\n",
    "- Bitwise or |\n",
    "- Bitwise xor ^\n",
    "- Bitwise not~\n",
    "- leftshift - a<<1 is multiplication by 2\n",
    "- rightshift - a >> 1 is division by 2"
   ]
  },
  {
   "cell_type": "code",
   "execution_count": 1,
   "id": "9fcafc67",
   "metadata": {},
   "outputs": [
    {
     "data": {
      "text/plain": [
       "0"
      ]
     },
     "execution_count": 1,
     "metadata": {},
     "output_type": "execute_result"
    }
   ],
   "source": [
    "5 ^ 5"
   ]
  },
  {
   "cell_type": "code",
   "execution_count": 2,
   "id": "3eb496be",
   "metadata": {},
   "outputs": [
    {
     "data": {
      "text/plain": [
       "5"
      ]
     },
     "execution_count": 2,
     "metadata": {},
     "output_type": "execute_result"
    }
   ],
   "source": [
    "5 ^ 0"
   ]
  },
  {
   "cell_type": "code",
   "execution_count": 3,
   "id": "4bd03d21",
   "metadata": {},
   "outputs": [
    {
     "data": {
      "text/plain": [
       "-6"
      ]
     },
     "execution_count": 3,
     "metadata": {},
     "output_type": "execute_result"
    }
   ],
   "source": [
    "~5"
   ]
  },
  {
   "cell_type": "code",
   "execution_count": 4,
   "id": "86b9c1bf",
   "metadata": {},
   "outputs": [
    {
     "data": {
      "text/plain": [
       "32"
      ]
     },
     "execution_count": 4,
     "metadata": {},
     "output_type": "execute_result"
    }
   ],
   "source": [
    "2 << 4 "
   ]
  },
  {
   "cell_type": "code",
   "execution_count": 5,
   "id": "7c7b0a4b",
   "metadata": {},
   "outputs": [
    {
     "data": {
      "text/plain": [
       "2"
      ]
     },
     "execution_count": 5,
     "metadata": {},
     "output_type": "execute_result"
    }
   ],
   "source": [
    "32 >> 4"
   ]
  },
  {
   "cell_type": "code",
   "execution_count": 6,
   "id": "7379014e",
   "metadata": {},
   "outputs": [
    {
     "data": {
      "text/plain": [
       "4"
      ]
     },
     "execution_count": 6,
     "metadata": {},
     "output_type": "execute_result"
    }
   ],
   "source": [
    "32 >> 3"
   ]
  },
  {
   "cell_type": "code",
   "execution_count": 7,
   "id": "f1468dbd",
   "metadata": {},
   "outputs": [
    {
     "data": {
      "text/plain": [
       "-30"
      ]
     },
     "execution_count": 7,
     "metadata": {},
     "output_type": "execute_result"
    }
   ],
   "source": [
    "~29"
   ]
  },
  {
   "cell_type": "code",
   "execution_count": 8,
   "id": "9bf7500f",
   "metadata": {},
   "outputs": [
    {
     "data": {
      "text/plain": [
       "1"
      ]
     },
     "execution_count": 8,
     "metadata": {},
     "output_type": "execute_result"
    }
   ],
   "source": [
    "5 & 3"
   ]
  },
  {
   "cell_type": "code",
   "execution_count": 9,
   "id": "ecc2e59e",
   "metadata": {},
   "outputs": [
    {
     "data": {
      "text/plain": [
       "7"
      ]
     },
     "execution_count": 9,
     "metadata": {},
     "output_type": "execute_result"
    }
   ],
   "source": [
    "5 | 3"
   ]
  },
  {
   "cell_type": "code",
   "execution_count": 10,
   "id": "03872ff2",
   "metadata": {},
   "outputs": [
    {
     "data": {
      "text/plain": [
       "-3"
      ]
     },
     "execution_count": 10,
     "metadata": {},
     "output_type": "execute_result"
    }
   ],
   "source": [
    "~2"
   ]
  },
  {
   "cell_type": "code",
   "execution_count": 11,
   "id": "6f6a565d",
   "metadata": {},
   "outputs": [
    {
     "data": {
      "text/plain": [
       "-10"
      ]
     },
     "execution_count": 11,
     "metadata": {},
     "output_type": "execute_result"
    }
   ],
   "source": [
    "~9"
   ]
  },
  {
   "cell_type": "code",
   "execution_count": 1,
   "id": "f758a427",
   "metadata": {},
   "outputs": [
    {
     "data": {
      "text/plain": [
       "1"
      ]
     },
     "execution_count": 1,
     "metadata": {},
     "output_type": "execute_result"
    }
   ],
   "source": [
    "5 & 3\n"
   ]
  },
  {
   "cell_type": "code",
   "execution_count": 2,
   "id": "5db08578",
   "metadata": {},
   "outputs": [
    {
     "data": {
      "text/plain": [
       "7"
      ]
     },
     "execution_count": 2,
     "metadata": {},
     "output_type": "execute_result"
    }
   ],
   "source": [
    "5 | 3"
   ]
  },
  {
   "cell_type": "code",
   "execution_count": null,
   "id": "3c9267a6",
   "metadata": {},
   "outputs": [],
   "source": []
  },
  {
   "cell_type": "code",
   "execution_count": null,
   "id": "c790e55f",
   "metadata": {},
   "outputs": [],
   "source": []
  },
  {
   "cell_type": "code",
   "execution_count": null,
   "id": "d18c3b41",
   "metadata": {},
   "outputs": [],
   "source": []
  },
  {
   "cell_type": "markdown",
   "id": "f6dc4e6a",
   "metadata": {},
   "source": [
    "## List\n",
    " - it is like dynamic array arraylist\n",
    " - mutable data structure"
   ]
  },
  {
   "cell_type": "code",
   "execution_count": 3,
   "id": "4770aca5",
   "metadata": {},
   "outputs": [
    {
     "data": {
      "text/plain": [
       "list"
      ]
     },
     "execution_count": 3,
     "metadata": {},
     "output_type": "execute_result"
    }
   ],
   "source": [
    "l = [] # empty list\n",
    "type(l)"
   ]
  },
  {
   "cell_type": "code",
   "execution_count": 4,
   "id": "6c28109c",
   "metadata": {},
   "outputs": [
    {
     "data": {
      "text/plain": [
       "0"
      ]
     },
     "execution_count": 4,
     "metadata": {},
     "output_type": "execute_result"
    }
   ],
   "source": [
    "len(l)"
   ]
  },
  {
   "cell_type": "code",
   "execution_count": 4,
   "id": "8ffd221c",
   "metadata": {},
   "outputs": [
    {
     "data": {
      "text/plain": [
       "5"
      ]
     },
     "execution_count": 4,
     "metadata": {},
     "output_type": "execute_result"
    }
   ],
   "source": [
    "num = [10 , 20 , 30 , 40 , 50]\n",
    "len(num)"
   ]
  },
  {
   "cell_type": "code",
   "execution_count": 7,
   "id": "381e9789",
   "metadata": {},
   "outputs": [
    {
     "name": "stdout",
     "output_type": "stream",
     "text": [
      "['hi ', 45, 7.9, False]\n"
     ]
    }
   ],
   "source": [
    " l = ['hi ' , 45 , 7.9 , False]\n",
    "print(l)\n"
   ]
  },
  {
   "cell_type": "code",
   "execution_count": 9,
   "id": "0fa0217c",
   "metadata": {},
   "outputs": [
    {
     "data": {
      "text/plain": [
       "'hi '"
      ]
     },
     "execution_count": 9,
     "metadata": {},
     "output_type": "execute_result"
    }
   ],
   "source": [
    "l[0]"
   ]
  },
  {
   "cell_type": "code",
   "execution_count": 10,
   "id": "a6758717",
   "metadata": {},
   "outputs": [
    {
     "data": {
      "text/plain": [
       "'hi '"
      ]
     },
     "execution_count": 10,
     "metadata": {},
     "output_type": "execute_result"
    }
   ],
   "source": [
    "l[-4]"
   ]
  },
  {
   "cell_type": "code",
   "execution_count": 11,
   "id": "85212127",
   "metadata": {},
   "outputs": [
    {
     "data": {
      "text/plain": [
       "False"
      ]
     },
     "execution_count": 11,
     "metadata": {},
     "output_type": "execute_result"
    }
   ],
   "source": [
    "l[3]"
   ]
  },
  {
   "cell_type": "code",
   "execution_count": 12,
   "id": "7505a488",
   "metadata": {},
   "outputs": [
    {
     "name": "stdout",
     "output_type": "stream",
     "text": [
      "['hi ', 45, 7.9, False]\n"
     ]
    }
   ],
   "source": [
    "print(l)"
   ]
  },
  {
   "cell_type": "code",
   "execution_count": 14,
   "id": "5c502e23",
   "metadata": {},
   "outputs": [
    {
     "name": "stdout",
     "output_type": "stream",
     "text": [
      "[10, 20, 30, 40, 50]\n"
     ]
    }
   ],
   "source": [
    "print(num)"
   ]
  },
  {
   "cell_type": "code",
   "execution_count": 15,
   "id": "3597ffd4",
   "metadata": {},
   "outputs": [],
   "source": [
    "num[3] = 60\n"
   ]
  },
  {
   "cell_type": "code",
   "execution_count": 16,
   "id": "3c465677",
   "metadata": {},
   "outputs": [
    {
     "name": "stdout",
     "output_type": "stream",
     "text": [
      "[10, 20, 30, 60, 50]\n"
     ]
    }
   ],
   "source": [
    "print(num)"
   ]
  },
  {
   "cell_type": "code",
   "execution_count": 17,
   "id": "73d6b79d",
   "metadata": {},
   "outputs": [
    {
     "data": {
      "text/plain": [
       "5"
      ]
     },
     "execution_count": 17,
     "metadata": {},
     "output_type": "execute_result"
    }
   ],
   "source": [
    "len(num)"
   ]
  },
  {
   "cell_type": "code",
   "execution_count": 18,
   "id": "a8ecf16d",
   "metadata": {},
   "outputs": [],
   "source": [
    "num.append(80)"
   ]
  },
  {
   "cell_type": "code",
   "execution_count": 20,
   "id": "473300d2",
   "metadata": {},
   "outputs": [
    {
     "name": "stdout",
     "output_type": "stream",
     "text": [
      "[10, 20, 30, 60, 50, 80]\n",
      "6\n"
     ]
    }
   ],
   "source": [
    "print(num)\n",
    "print(len(num))"
   ]
  },
  {
   "cell_type": "code",
   "execution_count": 5,
   "id": "44235548",
   "metadata": {},
   "outputs": [
    {
     "name": "stdout",
     "output_type": "stream",
     "text": [
      "[10, 20, 30, 40, 50, [1, 2, 3]]\n"
     ]
    }
   ],
   "source": [
    "t = [1 , 2 ,3]\n",
    "num.append(t) \n",
    "print(num)"
   ]
  },
  {
   "cell_type": "code",
   "execution_count": 22,
   "id": "84438a91",
   "metadata": {},
   "outputs": [
    {
     "data": {
      "text/plain": [
       "7"
      ]
     },
     "execution_count": 22,
     "metadata": {},
     "output_type": "execute_result"
    }
   ],
   "source": [
    "len(num)"
   ]
  },
  {
   "cell_type": "code",
   "execution_count": 23,
   "id": "65ba1753",
   "metadata": {},
   "outputs": [
    {
     "data": {
      "text/plain": [
       "[1, 2, 3]"
      ]
     },
     "execution_count": 23,
     "metadata": {},
     "output_type": "execute_result"
    }
   ],
   "source": [
    "num[6]"
   ]
  },
  {
   "cell_type": "code",
   "execution_count": 6,
   "id": "a7feed55",
   "metadata": {},
   "outputs": [],
   "source": [
    "num.extend(t)"
   ]
  },
  {
   "cell_type": "code",
   "execution_count": 7,
   "id": "3c5787a4",
   "metadata": {},
   "outputs": [
    {
     "name": "stdout",
     "output_type": "stream",
     "text": [
      "[10, 20, 30, 40, 50, [1, 2, 3], 1, 2, 3]\n"
     ]
    }
   ],
   "source": [
    "print(num)"
   ]
  },
  {
   "cell_type": "code",
   "execution_count": 8,
   "id": "5ced15db",
   "metadata": {},
   "outputs": [
    {
     "ename": "TypeError",
     "evalue": "'int' object is not iterable",
     "output_type": "error",
     "traceback": [
      "\u001b[1;31m---------------------------------------------------------------------------\u001b[0m",
      "\u001b[1;31mTypeError\u001b[0m                                 Traceback (most recent call last)",
      "\u001b[1;32mC:\\Users\\SUBHAJ~1\\AppData\\Local\\Temp/ipykernel_12812/2590699313.py\u001b[0m in \u001b[0;36m<module>\u001b[1;34m\u001b[0m\n\u001b[1;32m----> 1\u001b[1;33m \u001b[0mnum\u001b[0m\u001b[1;33m.\u001b[0m\u001b[0mextend\u001b[0m\u001b[1;33m(\u001b[0m\u001b[1;36m99\u001b[0m\u001b[1;33m)\u001b[0m\u001b[1;33m\u001b[0m\u001b[1;33m\u001b[0m\u001b[0m\n\u001b[0m",
      "\u001b[1;31mTypeError\u001b[0m: 'int' object is not iterable"
     ]
    }
   ],
   "source": [
    "num.extend(99)"
   ]
  },
  {
   "cell_type": "code",
   "execution_count": 9,
   "id": "675445db",
   "metadata": {},
   "outputs": [],
   "source": [
    "l = [78 , 90 , 60]\n",
    "num.extend(l)"
   ]
  },
  {
   "cell_type": "code",
   "execution_count": 10,
   "id": "8a06e9f9",
   "metadata": {},
   "outputs": [
    {
     "name": "stdout",
     "output_type": "stream",
     "text": [
      "[10, 20, 30, 40, 50, [1, 2, 3], 1, 2, 3, 78, 90, 60]\n"
     ]
    }
   ],
   "source": [
    "print(num)"
   ]
  },
  {
   "cell_type": "code",
   "execution_count": 11,
   "id": "b8500606",
   "metadata": {},
   "outputs": [],
   "source": [
    "l1 = [50 , 60 , 70]"
   ]
  },
  {
   "cell_type": "code",
   "execution_count": 13,
   "id": "7abda3db",
   "metadata": {},
   "outputs": [
    {
     "name": "stdout",
     "output_type": "stream",
     "text": [
      "[50, 60, 65, 65, 70]\n"
     ]
    }
   ],
   "source": [
    "l1.insert(2 , 65)\n",
    "print(l1)"
   ]
  },
  {
   "cell_type": "code",
   "execution_count": 14,
   "id": "3ef70a42",
   "metadata": {},
   "outputs": [
    {
     "name": "stdout",
     "output_type": "stream",
     "text": [
      "70\n"
     ]
    }
   ],
   "source": [
    "print(l1.pop())"
   ]
  },
  {
   "cell_type": "code",
   "execution_count": 15,
   "id": "0221a169",
   "metadata": {},
   "outputs": [
    {
     "name": "stdout",
     "output_type": "stream",
     "text": [
      "[50, 60, 65, 65]\n"
     ]
    }
   ],
   "source": [
    "print(l1)"
   ]
  },
  {
   "cell_type": "code",
   "execution_count": 16,
   "id": "d24f7637",
   "metadata": {},
   "outputs": [
    {
     "name": "stdout",
     "output_type": "stream",
     "text": [
      "60\n"
     ]
    }
   ],
   "source": [
    "print(l1.pop(1))"
   ]
  },
  {
   "cell_type": "code",
   "execution_count": 17,
   "id": "b516c070",
   "metadata": {},
   "outputs": [
    {
     "name": "stdout",
     "output_type": "stream",
     "text": [
      "[50, 65, 65]\n"
     ]
    }
   ],
   "source": [
    "print(l1)"
   ]
  },
  {
   "cell_type": "markdown",
   "id": "f5beec74",
   "metadata": {},
   "source": [
    "## List Slicing"
   ]
  },
  {
   "cell_type": "code",
   "execution_count": 19,
   "id": "6d6f7638",
   "metadata": {},
   "outputs": [],
   "source": [
    "l2 = [20 ,30 ,40 ,50 ,60 ,70 ]"
   ]
  },
  {
   "cell_type": "code",
   "execution_count": 20,
   "id": "f0d7745f",
   "metadata": {},
   "outputs": [
    {
     "name": "stdout",
     "output_type": "stream",
     "text": [
      "<class 'list'> [20, 30, 40, 50, 60, 70]\n"
     ]
    }
   ],
   "source": [
    "print(type(l1) , l2)"
   ]
  },
  {
   "cell_type": "code",
   "execution_count": 21,
   "id": "4667c5e3",
   "metadata": {},
   "outputs": [
    {
     "data": {
      "text/plain": [
       "[20, 30, 40]"
      ]
     },
     "execution_count": 21,
     "metadata": {},
     "output_type": "execute_result"
    }
   ],
   "source": [
    "l2[0 : 3 : 1]"
   ]
  },
  {
   "cell_type": "code",
   "execution_count": 22,
   "id": "325270be",
   "metadata": {},
   "outputs": [
    {
     "name": "stdout",
     "output_type": "stream",
     "text": [
      "[20, 30, 40, 50, 60, 70]\n"
     ]
    }
   ],
   "source": [
    "print(l2)"
   ]
  },
  {
   "cell_type": "code",
   "execution_count": 28,
   "id": "d3bba87b",
   "metadata": {},
   "outputs": [
    {
     "name": "stdout",
     "output_type": "stream",
     "text": [
      "[40]\n"
     ]
    }
   ],
   "source": [
    "print(l2[2 : 4 : 2])"
   ]
  },
  {
   "cell_type": "code",
   "execution_count": 29,
   "id": "87c72d13",
   "metadata": {},
   "outputs": [
    {
     "name": "stdout",
     "output_type": "stream",
     "text": [
      "[20, 30, 40, 50]\n",
      "[20, 30, 40, 50]\n",
      "[20, 30, 40, 50]\n"
     ]
    }
   ],
   "source": [
    "print(l2[0 : 4 : 1])\n",
    "print(l2[0 : 4 ])\n",
    "print(l2[:4])"
   ]
  },
  {
   "cell_type": "code",
   "execution_count": 31,
   "id": "087a951a",
   "metadata": {},
   "outputs": [
    {
     "name": "stdout",
     "output_type": "stream",
     "text": [
      "[70, 60, 50, 40, 30]\n"
     ]
    }
   ],
   "source": [
    "print(l2[5 : 0 : -1])"
   ]
  },
  {
   "cell_type": "code",
   "execution_count": 32,
   "id": "05eb5ce1",
   "metadata": {},
   "outputs": [
    {
     "name": "stdout",
     "output_type": "stream",
     "text": [
      "[50, 60, 70]\n"
     ]
    }
   ],
   "source": [
    "print(l2[3:])"
   ]
  },
  {
   "cell_type": "code",
   "execution_count": 34,
   "id": "9f35fa2f",
   "metadata": {},
   "outputs": [
    {
     "name": "stdout",
     "output_type": "stream",
     "text": [
      "[50, 60, 70]\n"
     ]
    }
   ],
   "source": [
    "l3 = l2[3:]\n",
    "print(l3)"
   ]
  },
  {
   "cell_type": "code",
   "execution_count": 35,
   "id": "bf52bd63",
   "metadata": {},
   "outputs": [],
   "source": [
    "l3[1] = 6666"
   ]
  },
  {
   "cell_type": "code",
   "execution_count": 36,
   "id": "b4db73d2",
   "metadata": {},
   "outputs": [
    {
     "name": "stdout",
     "output_type": "stream",
     "text": [
      "[50, 6666, 70]\n"
     ]
    }
   ],
   "source": [
    "print(l3)"
   ]
  },
  {
   "cell_type": "markdown",
   "id": "b95d1c74",
   "metadata": {},
   "source": [
    "## iterate over list"
   ]
  },
  {
   "cell_type": "code",
   "execution_count": 38,
   "id": "f99edc2e",
   "metadata": {},
   "outputs": [
    {
     "name": "stdout",
     "output_type": "stream",
     "text": [
      "0 10\n",
      "1 20\n",
      "2 30\n",
      "3 40\n",
      "4 50\n"
     ]
    }
   ],
   "source": [
    "l = [10 , 20 ,30 ,40 ,50 ]\n",
    "for i in range(len(l)):\n",
    "    print(i , l[i])"
   ]
  },
  {
   "cell_type": "code",
   "execution_count": 41,
   "id": "e020951c",
   "metadata": {},
   "outputs": [
    {
     "name": "stdout",
     "output_type": "stream",
     "text": [
      "10\n",
      "20\n",
      "30\n",
      "40\n",
      "50\n"
     ]
    }
   ],
   "source": [
    "for i in range ( 0, len(l)  , 1):\n",
    "    print(l[i])"
   ]
  },
  {
   "cell_type": "code",
   "execution_count": 42,
   "id": "3a044c46",
   "metadata": {},
   "outputs": [
    {
     "name": "stdout",
     "output_type": "stream",
     "text": [
      "10\n",
      "20\n",
      "30\n",
      "40\n",
      "50\n"
     ]
    }
   ],
   "source": [
    "for i in l :  # equivalent to for i in  [10 , 20 , 30 , 40 ,50 ]\n",
    "    print(i)"
   ]
  },
  {
   "cell_type": "markdown",
   "id": "4f241afa",
   "metadata": {},
   "source": [
    " ## sum of element in a list  "
   ]
  },
  {
   "cell_type": "code",
   "execution_count": 8,
   "id": "98a136cc",
   "metadata": {},
   "outputs": [
    {
     "name": "stdout",
     "output_type": "stream",
     "text": [
      "1\n",
      "5\n",
      "7\n",
      "-3\n",
      "6\n",
      "4\n"
     ]
    }
   ],
   "source": [
    "l = [1 , 5 ,   7 , -3 ,6 , 4]\n",
    "for i in l:\n",
    "    print(i)"
   ]
  },
  {
   "cell_type": "code",
   "execution_count": 25,
   "id": "978b587c",
   "metadata": {},
   "outputs": [
    {
     "name": "stdout",
     "output_type": "stream",
     "text": [
      "20\n"
     ]
    }
   ],
   "source": [
    "sum = 0\n",
    "for i in l:\n",
    "    sum = sum + i\n",
    "print(sum)"
   ]
  },
  {
   "cell_type": "code",
   "execution_count": 27,
   "id": "8459da52",
   "metadata": {},
   "outputs": [
    {
     "name": "stdout",
     "output_type": "stream",
     "text": [
      "20\n"
     ]
    }
   ],
   "source": [
    "sum = 0\n",
    "for i in range(0 , len(l) , 1):\n",
    "    sum = sum + l[i]\n",
    "print(sum)"
   ]
  },
  {
   "cell_type": "markdown",
   "id": "fdf2dccb",
   "metadata": {},
   "source": [
    "## Given a list of integer find the missing one"
   ]
  },
  {
   "cell_type": "code",
   "execution_count": 45,
   "id": "1912e18f",
   "metadata": {},
   "outputs": [
    {
     "name": "stdout",
     "output_type": "stream",
     "text": [
      "4\n"
     ]
    }
   ],
   "source": [
    "l = [1 , 7 , 8 , 3 , 2 ,5 , 6]\n",
    "sum = 0\n",
    "for i in l:\n",
    "    sum = sum + i\n",
    "    \n",
    "    \n",
    "    \n",
    "n = len(l) + 1\n",
    "sum2  = n * (n + 1) // 2\n",
    "\n",
    "x = sum2 - sum\n",
    "print(x)\n",
    "    "
   ]
  },
  {
   "cell_type": "code",
   "execution_count": 80,
   "id": "3bccb2d5",
   "metadata": {},
   "outputs": [
    {
     "name": "stdout",
     "output_type": "stream",
     "text": [
      "4\n"
     ]
    }
   ],
   "source": [
    "l = [2 , 3 ,4 ,3,2]\n",
    "for i in range ( 1 , len(l) , 1):\n",
    "    if i == 1:\n",
    "        ans = l[0] ^ l[i]\n",
    "    else:\n",
    "        ans = ans ^ l[i]\n",
    "    \n",
    "print(ans)"
   ]
  },
  {
   "cell_type": "code",
   "execution_count": null,
   "id": "4abc644f",
   "metadata": {},
   "outputs": [],
   "source": []
  },
  {
   "cell_type": "code",
   "execution_count": null,
   "id": "c1b87747",
   "metadata": {},
   "outputs": [],
   "source": []
  },
  {
   "cell_type": "code",
   "execution_count": null,
   "id": "bb82a793",
   "metadata": {},
   "outputs": [],
   "source": []
  },
  {
   "cell_type": "code",
   "execution_count": null,
   "id": "146c733e",
   "metadata": {},
   "outputs": [],
   "source": []
  },
  {
   "cell_type": "code",
   "execution_count": null,
   "id": "f5bfd0fd",
   "metadata": {},
   "outputs": [],
   "source": []
  },
  {
   "cell_type": "code",
   "execution_count": null,
   "id": "b81bdf9c",
   "metadata": {},
   "outputs": [],
   "source": []
  }
 ],
 "metadata": {
  "kernelspec": {
   "display_name": "Python 3 (ipykernel)",
   "language": "python",
   "name": "python3"
  },
  "language_info": {
   "codemirror_mode": {
    "name": "ipython",
    "version": 3
   },
   "file_extension": ".py",
   "mimetype": "text/x-python",
   "name": "python",
   "nbconvert_exporter": "python",
   "pygments_lexer": "ipython3",
   "version": "3.9.7"
  }
 },
 "nbformat": 4,
 "nbformat_minor": 5
}
