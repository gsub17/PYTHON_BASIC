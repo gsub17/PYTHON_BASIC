{
 "cells": [
  {
   "cell_type": "markdown",
   "id": "c1f75ff6",
   "metadata": {},
   "source": [
    "## 2D - List"
   ]
  },
  {
   "cell_type": "code",
   "execution_count": 1,
   "id": "8e81de78",
   "metadata": {},
   "outputs": [],
   "source": [
    "l = [[1 , 20] , [2 , 15] , [4 , 10] , [5 , 17] , [0 , 11]\n",
    "    ]"
   ]
  },
  {
   "cell_type": "code",
   "execution_count": 2,
   "id": "053ab7c4",
   "metadata": {},
   "outputs": [
    {
     "name": "stdout",
     "output_type": "stream",
     "text": [
      "[[1, 20], [2, 15], [4, 10], [5, 17], [0, 11]]\n"
     ]
    }
   ],
   "source": [
    "print(l)"
   ]
  },
  {
   "cell_type": "code",
   "execution_count": 3,
   "id": "076edb9f",
   "metadata": {},
   "outputs": [
    {
     "name": "stdout",
     "output_type": "stream",
     "text": [
      "<class 'list'>\n"
     ]
    }
   ],
   "source": [
    "print(type(l))"
   ]
  },
  {
   "cell_type": "code",
   "execution_count": 4,
   "id": "1e5e21e8",
   "metadata": {},
   "outputs": [
    {
     "name": "stdout",
     "output_type": "stream",
     "text": [
      "5\n"
     ]
    }
   ],
   "source": [
    "print(len(l))"
   ]
  },
  {
   "cell_type": "code",
   "execution_count": 6,
   "id": "3fe64f7f",
   "metadata": {},
   "outputs": [
    {
     "data": {
      "text/plain": [
       "([4, 10], 10)"
      ]
     },
     "execution_count": 6,
     "metadata": {},
     "output_type": "execute_result"
    }
   ],
   "source": [
    "l[2] , l[2][1]"
   ]
  },
  {
   "cell_type": "markdown",
   "id": "809cca3f",
   "metadata": {},
   "source": [
    "## find the sum of all element in a list\n",
    "\n",
    "l = [[1 , 20 ] , [2 , 15] ,[4 , 10] , [5 , 17] , [0 , 11]]\n",
    "o/p = 85"
   ]
  },
  {
   "cell_type": "code",
   "execution_count": 9,
   "id": "9a0bc02a",
   "metadata": {},
   "outputs": [
    {
     "name": "stdout",
     "output_type": "stream",
     "text": [
      "85\n"
     ]
    }
   ],
   "source": [
    "l = [[1 , 20 ] , [2 , 15] ,[4 , 10] , [5 , 17] , [0 , 11]] \n",
    "sum = 0\n",
    "for i in range (0 , len(l) , 1):\n",
    "    for j in range(0 , len(l[0]) , 1):\n",
    "                   sum = sum + l[i][j]\n",
    "\n",
    "print(sum)"
   ]
  },
  {
   "cell_type": "code",
   "execution_count": 10,
   "id": "bd110220",
   "metadata": {},
   "outputs": [
    {
     "name": "stdout",
     "output_type": "stream",
     "text": [
      "85\n"
     ]
    }
   ],
   "source": [
    "sum = 0 \n",
    "n = len(l)\n",
    "for i in range(n):\n",
    "    for j in range(len(l[0])):\n",
    "        sum = sum + l[i][j]\n",
    "print(sum)"
   ]
  },
  {
   "cell_type": "markdown",
   "id": "5f4a0bd8",
   "metadata": {},
   "source": [
    "## find the sum rowwise and columnwise"
   ]
  },
  {
   "cell_type": "code",
   "execution_count": 12,
   "id": "09cb2915",
   "metadata": {},
   "outputs": [
    {
     "name": "stdout",
     "output_type": "stream",
     "text": [
      "[[1, 20], [2, 15], [4, 10], [5, 17], [0, 11]]\n"
     ]
    }
   ],
   "source": [
    "print(l)"
   ]
  },
  {
   "cell_type": "code",
   "execution_count": 13,
   "id": "009afa44",
   "metadata": {},
   "outputs": [
    {
     "name": "stdout",
     "output_type": "stream",
     "text": [
      "[1, 20]\n",
      "[2, 15]\n",
      "[4, 10]\n",
      "[5, 17]\n",
      "[0, 11]\n"
     ]
    }
   ],
   "source": [
    "for i in l:\n",
    "    print(i)"
   ]
  },
  {
   "cell_type": "code",
   "execution_count": 15,
   "id": "731913f5",
   "metadata": {},
   "outputs": [
    {
     "name": "stdout",
     "output_type": "stream",
     "text": [
      "21\n",
      "17\n",
      "14\n",
      "22\n",
      "11\n"
     ]
    }
   ],
   "source": [
    "\n",
    "for i in range(0 , len(l) , 1):\n",
    "    sum = 0\n",
    "    for j in range(0 , len(l[0]) , 1):\n",
    "        sum  = sum + l[i][j]\n",
    "    print(sum)"
   ]
  },
  {
   "cell_type": "code",
   "execution_count": 16,
   "id": "7466025a",
   "metadata": {},
   "outputs": [
    {
     "name": "stdout",
     "output_type": "stream",
     "text": [
      "[21, 17, 14, 22, 11]\n"
     ]
    }
   ],
   "source": [
    "rowsum = []\n",
    "for i in range(0 , len(l) , 1):\n",
    "    sum = 0\n",
    "    for j in range(0 , len(l[0]) , 1):\n",
    "        sum  = sum + l[i][j]\n",
    "    rowsum.append(sum)\n",
    "print(rowsum)\n",
    "    "
   ]
  },
  {
   "cell_type": "code",
   "execution_count": 17,
   "id": "9268fc2b",
   "metadata": {},
   "outputs": [
    {
     "name": "stdout",
     "output_type": "stream",
     "text": [
      "[12, 73]\n"
     ]
    }
   ],
   "source": [
    "colsum = []\n",
    "for i in range(0 , len(l[0]) , 1):\n",
    "    sum = 0\n",
    "    for j in range(len(l)):\n",
    "        sum = sum + l[j][i]\n",
    "    colsum.append(sum)\n",
    "print(colsum)\n",
    "            \n",
    "            "
   ]
  },
  {
   "cell_type": "code",
   "execution_count": 20,
   "id": "bde4d8ab",
   "metadata": {},
   "outputs": [],
   "source": [
    " # Given a 2d list, Return the index of the row with min sum\n",
    "l = [[1, 20, 3], # 24\n",
    "     [2, 15, 4], # 21\n",
    "     [4, 10, 0], # 14\n",
    "     [5, 17, 5], # 27\n",
    "     [0, 11, -1] # 10\n",
    "]\n",
    "output: 4"
   ]
  },
  {
   "cell_type": "code",
   "execution_count": 24,
   "id": "ca632998",
   "metadata": {},
   "outputs": [
    {
     "name": "stdout",
     "output_type": "stream",
     "text": [
      "Min_index is 4 and min_sum is 10\n"
     ]
    }
   ],
   "source": [
    "import math\n",
    "\n",
    "min_sum = math.inf\n",
    "min_index = 0\n",
    "for i in range(0 , len(l) , 1):\n",
    "    sum = 0\n",
    "    for j in range(0 , len(l[0]) , 1):\n",
    "        sum = sum + l[i][j]\n",
    "    if(min_sum > sum):\n",
    "        min_sum = sum\n",
    "        min_index = i\n",
    "print(f\"Min_index is {min_index} and min_sum is {min_sum}\")"
   ]
  },
  {
   "cell_type": "markdown",
   "id": "569762e3",
   "metadata": {},
   "source": [
    "## Given a list, find the min and second minimum element"
   ]
  },
  {
   "cell_type": "code",
   "execution_count": 25,
   "id": "8d081438",
   "metadata": {},
   "outputs": [
    {
     "data": {
      "text/plain": [
       "[-1, 0, 1, 4, 5, 6, 10]"
      ]
     },
     "execution_count": 25,
     "metadata": {},
     "output_type": "execute_result"
    }
   ],
   "source": [
    "l = [10, 5, 4, 1, -1, 0, 6]\n",
    "sorted(l)"
   ]
  },
  {
   "cell_type": "code",
   "execution_count": 28,
   "id": "0b7f0c81",
   "metadata": {},
   "outputs": [
    {
     "name": "stdout",
     "output_type": "stream",
     "text": [
      "[10, 5, 4, 1, -1, 0, 6]\n"
     ]
    }
   ],
   "source": [
    "print(l)"
   ]
  },
  {
   "cell_type": "code",
   "execution_count": null,
   "id": "46b290b6",
   "metadata": {},
   "outputs": [],
   "source": []
  },
  {
   "cell_type": "code",
   "execution_count": null,
   "id": "206eafb8",
   "metadata": {},
   "outputs": [],
   "source": []
  },
  {
   "cell_type": "code",
   "execution_count": null,
   "id": "2622c9a2",
   "metadata": {},
   "outputs": [],
   "source": []
  },
  {
   "cell_type": "code",
   "execution_count": null,
   "id": "883efa6b",
   "metadata": {},
   "outputs": [],
   "source": []
  },
  {
   "cell_type": "code",
   "execution_count": null,
   "id": "5c3206fa",
   "metadata": {},
   "outputs": [],
   "source": []
  },
  {
   "cell_type": "code",
   "execution_count": null,
   "id": "03182e6f",
   "metadata": {},
   "outputs": [],
   "source": []
  },
  {
   "cell_type": "code",
   "execution_count": null,
   "id": "37d8ee4d",
   "metadata": {},
   "outputs": [],
   "source": []
  }
 ],
 "metadata": {
  "kernelspec": {
   "display_name": "Python 3 (ipykernel)",
   "language": "python",
   "name": "python3"
  },
  "language_info": {
   "codemirror_mode": {
    "name": "ipython",
    "version": 3
   },
   "file_extension": ".py",
   "mimetype": "text/x-python",
   "name": "python",
   "nbconvert_exporter": "python",
   "pygments_lexer": "ipython3",
   "version": "3.9.7"
  }
 },
 "nbformat": 4,
 "nbformat_minor": 5
}
