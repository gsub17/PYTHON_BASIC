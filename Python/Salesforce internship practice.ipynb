{
 "cells": [
  {
   "cell_type": "code",
   "execution_count": 2,
   "id": "bae3e0c8",
   "metadata": {},
   "outputs": [
    {
     "name": "stdout",
     "output_type": "stream",
     "text": [
      "3\n",
      "[[1, 5], [1, 5], [7, -1]]\n"
     ]
    }
   ],
   "source": [
    "arr = [1, 5, 7, -1, 5]\n",
    "sum = 6\n",
    "count = 0\n",
    "l = []\n",
    "for i in range(0 , len(arr) , 1):\n",
    "    for j in range(i+1 , len(arr) , 1):\n",
    "        \n",
    "        if(arr[i] + arr[j] == sum):\n",
    "            count += 1\n",
    "            l.append([arr[i],arr[j]])\n",
    "            \n",
    "print(count)\n",
    "print(l)     \n",
    "\n",
    "# 0(n^2)"
   ]
  },
  {
   "cell_type": "code",
   "execution_count": 5,
   "id": "86e52ad5",
   "metadata": {},
   "outputs": [
    {
     "name": "stdout",
     "output_type": "stream",
     "text": [
      "{1: 1, 5: 2, 7: 1, -1: 1}\n",
      "3\n"
     ]
    }
   ],
   "source": [
    "def count_pairs(arr , sum , n):\n",
    "    dict = {}\n",
    "    count = 0\n",
    "    for i in range(0 , n , 1):\n",
    "        if sum - arr[i] in dict:\n",
    "            count = count + dict[sum - arr[i]]\n",
    "            \n",
    "        if arr[i] in dict:\n",
    "            dict[arr[i]] += 1\n",
    "        else:\n",
    "            dict[arr[i]] = 1\n",
    "    \n",
    "    return count\n",
    "\n",
    "\n",
    "\n",
    "arr = [1 , 5 , 7 , -1 , 5]\n",
    "sum = 6\n",
    "n = len(arr)\n",
    "\n",
    "print(count_pairs(arr,sum,n))"
   ]
  },
  {
   "cell_type": "code",
   "execution_count": null,
   "id": "14e47299",
   "metadata": {},
   "outputs": [],
   "source": [
    "## leetcode \n",
    "\n",
    "def left_dist(seats , i):\n",
    "    count = 0\n",
    "    while(i != 0):\n",
    "        if seats[i] != 0:\n",
    "            count += 1\n",
    "            i -= 1\n",
    "        else:\n",
    "            return count + 1\n",
    "    return count + 1\n",
    "\n",
    "def right_dist(seats , i):\n",
    "    count = 0\n",
    "    while(i < len(seats) - 1):\n",
    "        if seats[i] != 0:\n",
    "            print(i , count)\n",
    "            count += 1\n",
    "            i += 1\n",
    "        else:\n",
    "            return count + 1\n",
    "    return count + 1\n",
    "\n",
    "        \n",
    "seats = [1,0,0,0,1,0,1]\n",
    "distance = []\n",
    "        \n",
    "for i in range(0 , len(seats) , 1):\n",
    "    \n",
    "            \n",
    "    if seats[i] == 1:\n",
    "        continue\n",
    "    else:\n",
    "     print('---------------------------')\n",
    "                l = left_dist(seats,i-1)\n",
    "                r = right_dist(seats,i+1)\n",
    "                distance.append([i,l,r])\n",
    "                \n",
    "        print(distance)\n",
    "        return 2\n",
    "    \n",
    "\n",
    " \n",
    "                \n",
    "                \n",
    "        \n",
    "        \n",
    "                \n",
    "        "
   ]
  },
  {
   "cell_type": "code",
   "execution_count": null,
   "id": "6dbe0a8b",
   "metadata": {},
   "outputs": [],
   "source": []
  },
  {
   "cell_type": "code",
   "execution_count": null,
   "id": "4c19e750",
   "metadata": {},
   "outputs": [],
   "source": []
  },
  {
   "cell_type": "code",
   "execution_count": null,
   "id": "3c557ce6",
   "metadata": {},
   "outputs": [],
   "source": []
  },
  {
   "cell_type": "code",
   "execution_count": null,
   "id": "adaa34a2",
   "metadata": {},
   "outputs": [],
   "source": []
  },
  {
   "cell_type": "code",
   "execution_count": null,
   "id": "4a1132a7",
   "metadata": {},
   "outputs": [],
   "source": []
  },
  {
   "cell_type": "code",
   "execution_count": null,
   "id": "7ca5fe72",
   "metadata": {},
   "outputs": [],
   "source": []
  },
  {
   "cell_type": "code",
   "execution_count": null,
   "id": "b7ea8c0d",
   "metadata": {},
   "outputs": [],
   "source": []
  },
  {
   "cell_type": "code",
   "execution_count": null,
   "id": "5ed40c7b",
   "metadata": {},
   "outputs": [],
   "source": []
  }
 ],
 "metadata": {
  "kernelspec": {
   "display_name": "Python 3 (ipykernel)",
   "language": "python",
   "name": "python3"
  },
  "language_info": {
   "codemirror_mode": {
    "name": "ipython",
    "version": 3
   },
   "file_extension": ".py",
   "mimetype": "text/x-python",
   "name": "python",
   "nbconvert_exporter": "python",
   "pygments_lexer": "ipython3",
   "version": "3.9.7"
  }
 },
 "nbformat": 4,
 "nbformat_minor": 5
}
