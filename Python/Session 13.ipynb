{
 "cells": [
  {
   "cell_type": "markdown",
   "id": "212fcdfe",
   "metadata": {},
   "source": [
    "## Modules , Error Handling"
   ]
  },
  {
   "cell_type": "code",
   "execution_count": 2,
   "id": "715691bb",
   "metadata": {},
   "outputs": [],
   "source": [
    "class A:\n",
    "    vara = 10\n",
    "\n",
    "class B:\n",
    "    varb = 20\n",
    "\n",
    "class C(A , B):\n",
    "    pass\n",
    "\n",
    "c = C()\n"
   ]
  },
  {
   "cell_type": "code",
   "execution_count": 3,
   "id": "b95ac2f2",
   "metadata": {},
   "outputs": [
    {
     "data": {
      "text/plain": [
       "['__class__',\n",
       " '__delattr__',\n",
       " '__dict__',\n",
       " '__dir__',\n",
       " '__doc__',\n",
       " '__eq__',\n",
       " '__format__',\n",
       " '__ge__',\n",
       " '__getattribute__',\n",
       " '__gt__',\n",
       " '__hash__',\n",
       " '__init__',\n",
       " '__init_subclass__',\n",
       " '__le__',\n",
       " '__lt__',\n",
       " '__module__',\n",
       " '__ne__',\n",
       " '__new__',\n",
       " '__reduce__',\n",
       " '__reduce_ex__',\n",
       " '__repr__',\n",
       " '__setattr__',\n",
       " '__sizeof__',\n",
       " '__str__',\n",
       " '__subclasshook__',\n",
       " '__weakref__',\n",
       " 'vara',\n",
       " 'varb']"
      ]
     },
     "execution_count": 3,
     "metadata": {},
     "output_type": "execute_result"
    }
   ],
   "source": [
    "dir(c)"
   ]
  },
  {
   "cell_type": "code",
   "execution_count": 4,
   "id": "d2b3e8c9",
   "metadata": {},
   "outputs": [
    {
     "name": "stdout",
     "output_type": "stream",
     "text": [
      "10 20\n"
     ]
    }
   ],
   "source": [
    "print(c.vara , c.varb)"
   ]
  },
  {
   "cell_type": "markdown",
   "id": "9faba1d6",
   "metadata": {},
   "source": [
    "## Diamond Inheritance"
   ]
  },
  {
   "cell_type": "code",
   "execution_count": 6,
   "id": "333d7ec6",
   "metadata": {},
   "outputs": [],
   "source": [
    "class A:\n",
    "    pass    # pass is used to skipped \n",
    "\n",
    "class B(A):\n",
    "    pass\n",
    "\n",
    "class C(A):\n",
    "    pass\n",
    "\n",
    "class D(B , C):\n",
    "    pass"
   ]
  },
  {
   "cell_type": "code",
   "execution_count": 7,
   "id": "4bab2e20",
   "metadata": {},
   "outputs": [],
   "source": [
    "d=D()"
   ]
  },
  {
   "cell_type": "code",
   "execution_count": 8,
   "id": "fa846f09",
   "metadata": {},
   "outputs": [
    {
     "data": {
      "text/plain": [
       "[__main__.D, __main__.B, __main__.C, __main__.A, object]"
      ]
     },
     "execution_count": 8,
     "metadata": {},
     "output_type": "execute_result"
    }
   ],
   "source": [
    "D.mro()         ## method resolution order , how the classes are called"
   ]
  },
  {
   "cell_type": "markdown",
   "id": "b35b39b9",
   "metadata": {},
   "source": [
    "## MRO find from depth first with left to rigth traversal"
   ]
  },
  {
   "cell_type": "markdown",
   "id": "095aba4b",
   "metadata": {},
   "source": [
    "# Decorators"
   ]
  },
  {
   "cell_type": "markdown",
   "id": "68a2a186",
   "metadata": {},
   "source": [
    "## @classmethod , @staticmethod\n",
    "- class method requires reference of the class\n",
    "- state method doesn't requires any reference of the class"
   ]
  },
  {
   "cell_type": "code",
   "execution_count": 18,
   "id": "e3e870d3",
   "metadata": {},
   "outputs": [],
   "source": [
    "class Fan():\n",
    "    \n",
    "    band = \"philips\"\n",
    "    max_speed = 200\n",
    "    \n",
    "    def __init__(self , blades , colors , rpm):\n",
    "        self.blades = blades\n",
    "        self.colors = colors\n",
    "        self.rpm = rpm\n",
    "        \n",
    "    def display_properties(self):       # self is the reference of the object\n",
    "        print(self.blades , self.colors , self.rpm , self.band , self.max_speed)\n",
    "        \n",
    "    @classmethod\n",
    "    def update_speed(cls , max_speed):\n",
    "        \"\"\"modify the state of the class\"\"\"\n",
    "        cls.max_speed = max_speed\n",
    "        \n",
    "    @staticmethod\n",
    "    def rotate_helper():\n",
    "        print(\"Fans run on electriccity\")\n",
    "        \n",
    "    def rotate():\n",
    "        Fan.rotate_helper()\n",
    "        print(f\"Fan rotate {self.rpm}\")\n",
    "\n",
    "    "
   ]
  },
  {
   "cell_type": "code",
   "execution_count": 19,
   "id": "743ef8b2",
   "metadata": {},
   "outputs": [
    {
     "name": "stdout",
     "output_type": "stream",
     "text": [
      "4 green 400 philips 200\n"
     ]
    }
   ],
   "source": [
    "a = Fan(4 , \"green\" , 400)\n",
    "b = Fan(5 , \"blue\" , 600)\n",
    "a.display_properties()"
   ]
  },
  {
   "cell_type": "code",
   "execution_count": 11,
   "id": "2cd1c5f1",
   "metadata": {},
   "outputs": [],
   "source": [
    "Fan.update_speed(320)"
   ]
  },
  {
   "cell_type": "code",
   "execution_count": 12,
   "id": "68546847",
   "metadata": {},
   "outputs": [
    {
     "name": "stdout",
     "output_type": "stream",
     "text": [
      "4 green 400 philips 320\n"
     ]
    }
   ],
   "source": [
    "a = Fan(4 , \"green\" , 400)\n",
    "b = Fan(5 , \"blue\" , 600)\n",
    "a.display_properties()"
   ]
  },
  {
   "cell_type": "code",
   "execution_count": 29,
   "id": "6a0db068",
   "metadata": {},
   "outputs": [],
   "source": [
    "class Point:\n",
    "    \n",
    "    dim = 2\n",
    "    \n",
    "    def __init__(self , x ,y):\n",
    "        self.x = x\n",
    "        self.y = y\n",
    "        \n",
    "    @staticmethod     # it doesn't changed the state of the class or object , it is just is as helper function\n",
    "    def distance(p1 , p2):\n",
    "        return  ((p1.x -p2.x)**2 + (p1.y - p2.y)**2)**0.5\n",
    "        "
   ]
  },
  {
   "cell_type": "code",
   "execution_count": 31,
   "id": "3d8ca23e",
   "metadata": {},
   "outputs": [],
   "source": [
    "A = Point(2,3)\n",
    "B = Point(4,5)"
   ]
  },
  {
   "cell_type": "code",
   "execution_count": 32,
   "id": "a14ddb3b",
   "metadata": {},
   "outputs": [
    {
     "data": {
      "text/plain": [
       "2.8284271247461903"
      ]
     },
     "execution_count": 32,
     "metadata": {},
     "output_type": "execute_result"
    }
   ],
   "source": [
    "Point.distance(A,B)"
   ]
  },
  {
   "cell_type": "markdown",
   "id": "0f8c9a97",
   "metadata": {},
   "source": [
    "## Private Variable\n",
    "- in python we don't have access modifier"
   ]
  },
  {
   "cell_type": "code",
   "execution_count": 43,
   "id": "67218b9a",
   "metadata": {},
   "outputs": [],
   "source": [
    "class A:\n",
    "    \n",
    "    __x = 100      # we used __ in front of x so that we hide it from the user\n",
    "    \n",
    "    def __init__(self, val):\n",
    "        self.val = val\n",
    "        \n",
    "    @staticmethod\n",
    "    def __func():\n",
    "        print(A.__x)\n",
    "        \n",
    "    def func2(self):\n",
    "        print(f\"hi my value {self.val}\")\n",
    "        \n",
    "    def func3(self):\n",
    "        print(self.__x)\n",
    "        "
   ]
  },
  {
   "cell_type": "code",
   "execution_count": 44,
   "id": "e93054ff",
   "metadata": {},
   "outputs": [],
   "source": [
    "k = A(30)\n"
   ]
  },
  {
   "cell_type": "code",
   "execution_count": 46,
   "id": "71784e2e",
   "metadata": {},
   "outputs": [
    {
     "name": "stdout",
     "output_type": "stream",
     "text": [
      "hi my value 30\n"
     ]
    }
   ],
   "source": [
    "k.func2()"
   ]
  },
  {
   "cell_type": "code",
   "execution_count": 48,
   "id": "410b00ea",
   "metadata": {},
   "outputs": [
    {
     "name": "stdout",
     "output_type": "stream",
     "text": [
      "100\n"
     ]
    }
   ],
   "source": [
    "k.func3()"
   ]
  },
  {
   "cell_type": "code",
   "execution_count": 50,
   "id": "715cd279",
   "metadata": {},
   "outputs": [
    {
     "data": {
      "text/plain": [
       "100"
      ]
     },
     "execution_count": 50,
     "metadata": {},
     "output_type": "execute_result"
    }
   ],
   "source": [
    "k._A__x"
   ]
  },
  {
   "cell_type": "code",
   "execution_count": 52,
   "id": "0d6c2754",
   "metadata": {},
   "outputs": [
    {
     "name": "stdout",
     "output_type": "stream",
     "text": [
      "100\n"
     ]
    }
   ],
   "source": [
    "k._A__func()"
   ]
  },
  {
   "cell_type": "code",
   "execution_count": 47,
   "id": "107ea15f",
   "metadata": {},
   "outputs": [
    {
     "ename": "AttributeError",
     "evalue": "'A' object has no attribute '__x'",
     "output_type": "error",
     "traceback": [
      "\u001b[1;31m---------------------------------------------------------------------------\u001b[0m",
      "\u001b[1;31mAttributeError\u001b[0m                            Traceback (most recent call last)",
      "\u001b[1;32mC:\\Users\\SUBHAJ~1\\AppData\\Local\\Temp/ipykernel_3640/3345579570.py\u001b[0m in \u001b[0;36m<module>\u001b[1;34m\u001b[0m\n\u001b[1;32m----> 1\u001b[1;33m \u001b[0mk\u001b[0m\u001b[1;33m.\u001b[0m\u001b[0m__x\u001b[0m\u001b[1;33m\u001b[0m\u001b[1;33m\u001b[0m\u001b[0m\n\u001b[0m",
      "\u001b[1;31mAttributeError\u001b[0m: 'A' object has no attribute '__x'"
     ]
    }
   ],
   "source": [
    "k.__x"
   ]
  },
  {
   "cell_type": "code",
   "execution_count": 51,
   "id": "8e545f1f",
   "metadata": {},
   "outputs": [
    {
     "ename": "AttributeError",
     "evalue": "'A' object has no attribute '__func'",
     "output_type": "error",
     "traceback": [
      "\u001b[1;31m---------------------------------------------------------------------------\u001b[0m",
      "\u001b[1;31mAttributeError\u001b[0m                            Traceback (most recent call last)",
      "\u001b[1;32mC:\\Users\\SUBHAJ~1\\AppData\\Local\\Temp/ipykernel_3640/2990492417.py\u001b[0m in \u001b[0;36m<module>\u001b[1;34m\u001b[0m\n\u001b[1;32m----> 1\u001b[1;33m \u001b[0mk\u001b[0m\u001b[1;33m.\u001b[0m\u001b[0m__func\u001b[0m\u001b[1;33m(\u001b[0m\u001b[1;33m)\u001b[0m\u001b[1;33m\u001b[0m\u001b[1;33m\u001b[0m\u001b[0m\n\u001b[0m",
      "\u001b[1;31mAttributeError\u001b[0m: 'A' object has no attribute '__func'"
     ]
    }
   ],
   "source": [
    "k.__func()"
   ]
  },
  {
   "cell_type": "code",
   "execution_count": 45,
   "id": "bcb45c59",
   "metadata": {},
   "outputs": [
    {
     "data": {
      "text/plain": [
       "['_A__func',\n",
       " '_A__x',\n",
       " '__class__',\n",
       " '__delattr__',\n",
       " '__dict__',\n",
       " '__dir__',\n",
       " '__doc__',\n",
       " '__eq__',\n",
       " '__format__',\n",
       " '__ge__',\n",
       " '__getattribute__',\n",
       " '__gt__',\n",
       " '__hash__',\n",
       " '__init__',\n",
       " '__init_subclass__',\n",
       " '__le__',\n",
       " '__lt__',\n",
       " '__module__',\n",
       " '__ne__',\n",
       " '__new__',\n",
       " '__reduce__',\n",
       " '__reduce_ex__',\n",
       " '__repr__',\n",
       " '__setattr__',\n",
       " '__sizeof__',\n",
       " '__str__',\n",
       " '__subclasshook__',\n",
       " '__weakref__',\n",
       " 'func2',\n",
       " 'func3',\n",
       " 'val']"
      ]
     },
     "execution_count": 45,
     "metadata": {},
     "output_type": "execute_result"
    }
   ],
   "source": [
    "dir(k)"
   ]
  },
  {
   "cell_type": "markdown",
   "id": "43456a49",
   "metadata": {},
   "source": [
    "in the dir(k) - in the last two we have func2 , val but no func()"
   ]
  },
  {
   "cell_type": "markdown",
   "id": "a479749d",
   "metadata": {},
   "source": [
    "## Magic Methods/Dunders\n",
    "- __repr__\n",
    "- __str__\n",
    "- __len__\n",
    "- __dict__\n",
    "- __add__\n"
   ]
  },
  {
   "cell_type": "code",
   "execution_count": 74,
   "id": "255cadae",
   "metadata": {},
   "outputs": [],
   "source": [
    "class Person:\n",
    "    \n",
    "    def __init__(self,name,age):\n",
    "        self.name = name\n",
    "        self.age = age\n",
    "        \n",
    "    def __len__(self):\n",
    "        return len(self.name)\n",
    "    \n",
    "    def __str__(self):\n",
    "        return self.name\n",
    "        \n",
    "    "
   ]
  },
  {
   "cell_type": "code",
   "execution_count": 75,
   "id": "75a87e27",
   "metadata": {},
   "outputs": [],
   "source": [
    "p1 = Person(\"sub\" , 24)  # class instantiation invokes __init__ dunder\n",
    "p2 = Person(\"Isha\"  , 24)\n"
   ]
  },
  {
   "cell_type": "code",
   "execution_count": 63,
   "id": "cb4d168c",
   "metadata": {},
   "outputs": [
    {
     "data": {
      "text/plain": [
       "3"
      ]
     },
     "execution_count": 63,
     "metadata": {},
     "output_type": "execute_result"
    }
   ],
   "source": [
    " len(p1)  # call __len__ dunders"
   ]
  },
  {
   "cell_type": "code",
   "execution_count": 58,
   "id": "e57fd488",
   "metadata": {},
   "outputs": [
    {
     "data": {
      "text/plain": [
       "4"
      ]
     },
     "execution_count": 58,
     "metadata": {},
     "output_type": "execute_result"
    }
   ],
   "source": [
    "len(p2)"
   ]
  },
  {
   "cell_type": "code",
   "execution_count": 59,
   "id": "7226877e",
   "metadata": {},
   "outputs": [
    {
     "name": "stdout",
     "output_type": "stream",
     "text": [
      "[1, 2, 3]\n"
     ]
    }
   ],
   "source": [
    "l = [1 ,2 ,3]\n",
    "print(l)"
   ]
  },
  {
   "cell_type": "code",
   "execution_count": 60,
   "id": "7f7da438",
   "metadata": {},
   "outputs": [
    {
     "name": "stdout",
     "output_type": "stream",
     "text": [
      "<__main__.Person object at 0x0000014E16700F70>\n"
     ]
    }
   ],
   "source": [
    "print(p1)"
   ]
  },
  {
   "cell_type": "code",
   "execution_count": 76,
   "id": "f7574058",
   "metadata": {},
   "outputs": [
    {
     "name": "stdout",
     "output_type": "stream",
     "text": [
      "sub\n"
     ]
    }
   ],
   "source": [
    "print(p1) # call __str__ dunders"
   ]
  },
  {
   "cell_type": "markdown",
   "id": "7a6cb81b",
   "metadata": {},
   "source": [
    "## Modules"
   ]
  },
  {
   "cell_type": "code",
   "execution_count": null,
   "id": "47aedcd3",
   "metadata": {},
   "outputs": [],
   "source": []
  },
  {
   "cell_type": "code",
   "execution_count": null,
   "id": "0695b7b5",
   "metadata": {},
   "outputs": [],
   "source": []
  },
  {
   "cell_type": "code",
   "execution_count": null,
   "id": "20c89b06",
   "metadata": {},
   "outputs": [],
   "source": []
  },
  {
   "cell_type": "code",
   "execution_count": null,
   "id": "ae577fb4",
   "metadata": {},
   "outputs": [],
   "source": []
  },
  {
   "cell_type": "code",
   "execution_count": null,
   "id": "ead19374",
   "metadata": {},
   "outputs": [],
   "source": []
  }
 ],
 "metadata": {
  "kernelspec": {
   "display_name": "Python 3 (ipykernel)",
   "language": "python",
   "name": "python3"
  },
  "language_info": {
   "codemirror_mode": {
    "name": "ipython",
    "version": 3
   },
   "file_extension": ".py",
   "mimetype": "text/x-python",
   "name": "python",
   "nbconvert_exporter": "python",
   "pygments_lexer": "ipython3",
   "version": "3.9.7"
  }
 },
 "nbformat": 4,
 "nbformat_minor": 5
}
