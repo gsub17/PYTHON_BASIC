{
 "cells": [
  {
   "cell_type": "markdown",
   "id": "0944cc6b",
   "metadata": {},
   "source": [
    "## 1. Find a given element in an array"
   ]
  },
  {
   "cell_type": "code",
   "execution_count": 12,
   "id": "a125fbcd",
   "metadata": {},
   "outputs": [
    {
     "name": "stdout",
     "output_type": "stream",
     "text": [
      "[3, 6, 8, 4, -1]\n",
      "False\n"
     ]
    }
   ],
   "source": [
    "l = [3 , 6 , 8 , 4 , -1]\n",
    "key = 4 # the element need to search\n",
    "\n",
    "def func(l,key,index):\n",
    "    if index == 0:\n",
    "        return False\n",
    "    \n",
    "    if key == l[index]:\n",
    "        return True\n",
    "    else:\n",
    "        return func(l,key,index - 1)\n",
    "\n",
    "print(func(l,88,len(l) - 1))\n",
    "    \n",
    "    \n",
    "    "
   ]
  },
  {
   "cell_type": "markdown",
   "id": "1319549c",
   "metadata": {},
   "source": [
    "## 2.check if array is sorted or not"
   ]
  },
  {
   "cell_type": "code",
   "execution_count": 21,
   "id": "96bfca3f",
   "metadata": {},
   "outputs": [
    {
     "data": {
      "text/plain": [
       "False"
      ]
     },
     "execution_count": 21,
     "metadata": {},
     "output_type": "execute_result"
    }
   ],
   "source": [
    "l = [100 , 20 ,5,4,1,2]  # descending order\n",
    "\n",
    "def isSorted(l , index):\n",
    "    if index == len(l)-1:\n",
    "        return True\n",
    "    \n",
    "    if l[index] > l[index + 1]:\n",
    "        return isSorted(l,index+1)\n",
    "    else:\n",
    "        return False\n",
    "    \n",
    "isSorted(l,0)\n",
    "    \n",
    "        \n",
    "    \n",
    "    "
   ]
  },
  {
   "cell_type": "code",
   "execution_count": 23,
   "id": "c497889b",
   "metadata": {},
   "outputs": [
    {
     "data": {
      "text/plain": [
       "False"
      ]
     },
     "execution_count": 23,
     "metadata": {},
     "output_type": "execute_result"
    }
   ],
   "source": [
    "l = [100 , 20 ,5,4,1,2]  # descending order\n",
    "\n",
    "def isSorted(l , index = 0):  # default parameter passed\n",
    "    if index == len(l)-1:\n",
    "        return True\n",
    "    \n",
    "    if l[index] > l[index + 1]:\n",
    "        return isSorted(l,index+1)\n",
    "    else:\n",
    "        return False\n",
    "    \n",
    "isSorted(l,1)\n",
    "    \n",
    "        \n",
    "    \n",
    "    "
   ]
  },
  {
   "cell_type": "markdown",
   "id": "e2219fdc",
   "metadata": {},
   "source": [
    "## 3.search an element in sorted array using binary search"
   ]
  },
  {
   "cell_type": "code",
   "execution_count": 1,
   "id": "501355b1",
   "metadata": {},
   "outputs": [
    {
     "name": "stdout",
     "output_type": "stream",
     "text": [
      "start = 0 , end = 4 , mid = 2\n",
      "start = 3 , end = 4 , mid = 3\n"
     ]
    },
    {
     "data": {
      "text/plain": [
       "3"
      ]
     },
     "execution_count": 1,
     "metadata": {},
     "output_type": "execute_result"
    }
   ],
   "source": [
    "l = [-1 , 2 , 5 ,7 ,8]\n",
    "key = 7\n",
    "\n",
    "def binary_search(l,start ,end ):  # default parameter is also passed\n",
    "    \n",
    "    if start > end:\n",
    "        return False\n",
    "    \n",
    "    mid = (start+end) // 2\n",
    "    print(f\"start = {start} , end = {end} , mid = {mid}\")\n",
    "    \n",
    "    if l[mid] == key:\n",
    "        return mid\n",
    "    \n",
    "    \n",
    "    if l[mid] < key:\n",
    "        start = mid + 1\n",
    "        return binary_search(l,start,end)\n",
    "    else:\n",
    "        end = mid - 1\n",
    "        return binary_search(l,start,end)\n",
    "    \n",
    "    \n",
    "    \n",
    "binary_search(l ,0,len(l) - 1)\n",
    "    \n",
    "        \n"
   ]
  },
  {
   "cell_type": "markdown",
   "id": "421bb61c",
   "metadata": {},
   "source": [
    "# OOPS"
   ]
  },
  {
   "cell_type": "code",
   "execution_count": 4,
   "id": "e652ea75",
   "metadata": {},
   "outputs": [],
   "source": [
    "class Dog:\n",
    "    \n",
    "    # self is the reference of the object in the memory\n",
    "    def __init__(self, name, breed, color):\n",
    "        self.name = name\n",
    "        self.breed = breed\n",
    "        self.color = color\n",
    "        \n",
    "# create object of a class/ Instantiation\n",
    "d1 = Dog(\"Tyson\", \"Pitbul\", \"white\") # calling the name of the class -> calls the __init__ method"
   ]
  },
  {
   "cell_type": "code",
   "execution_count": 5,
   "id": "14f5a5ee",
   "metadata": {},
   "outputs": [],
   "source": [
    "d2 = Dog(\"zoro\" , \"pitbull\" , \"green\")"
   ]
  },
  {
   "cell_type": "code",
   "execution_count": 8,
   "id": "f1c91869",
   "metadata": {},
   "outputs": [],
   "source": [
    "class Onepiece:\n",
    "    def __init__(self , name , power , color):\n",
    "        self.name = name\n",
    "        self.power = power\n",
    "        self.color = color\n",
    "        \n",
    "o1 = Onepiece(\"luffy \", \"gum\" ,\" white\")\n",
    "        "
   ]
  },
  {
   "cell_type": "code",
   "execution_count": 9,
   "id": "ded64c10",
   "metadata": {},
   "outputs": [
    {
     "name": "stdout",
     "output_type": "stream",
     "text": [
      "<__main__.Onepiece object at 0x0000027843032430>\n"
     ]
    }
   ],
   "source": [
    "print(o1)"
   ]
  },
  {
   "cell_type": "code",
   "execution_count": 10,
   "id": "f668ca82",
   "metadata": {},
   "outputs": [
    {
     "name": "stdout",
     "output_type": "stream",
     "text": [
      "luffy \n"
     ]
    }
   ],
   "source": [
    "print(o1.name)"
   ]
  },
  {
   "cell_type": "code",
   "execution_count": null,
   "id": "eda095ab",
   "metadata": {},
   "outputs": [],
   "source": []
  }
 ],
 "metadata": {
  "kernelspec": {
   "display_name": "Python 3 (ipykernel)",
   "language": "python",
   "name": "python3"
  },
  "language_info": {
   "codemirror_mode": {
    "name": "ipython",
    "version": 3
   },
   "file_extension": ".py",
   "mimetype": "text/x-python",
   "name": "python",
   "nbconvert_exporter": "python",
   "pygments_lexer": "ipython3",
   "version": "3.9.7"
  }
 },
 "nbformat": 4,
 "nbformat_minor": 5
}
