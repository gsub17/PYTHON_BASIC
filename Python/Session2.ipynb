{
 "cells": [
  {
   "cell_type": "markdown",
   "id": "9be6dcd0",
   "metadata": {},
   "source": [
    "## Taking input from User and Type Casting\n",
    "write a program to take input from user to add "
   ]
  },
  {
   "cell_type": "code",
   "execution_count": 3,
   "id": "f81da36e",
   "metadata": {},
   "outputs": [
    {
     "name": "stdout",
     "output_type": "stream",
     "text": [
      "Enter first number 10\n",
      "Enter second number 20\n",
      "The sum of a and b 1020\n"
     ]
    }
   ],
   "source": [
    "a = input(\"Enter first number \")\n",
    "b = input(\"Enter second number \")\n",
    "print(\"The sum of a and b\" , a+b)"
   ]
  },
  {
   "cell_type": "code",
   "execution_count": 4,
   "id": "c777e0fd",
   "metadata": {},
   "outputs": [
    {
     "data": {
      "text/plain": [
       "str"
      ]
     },
     "execution_count": 4,
     "metadata": {},
     "output_type": "execute_result"
    }
   ],
   "source": [
    "type(a)"
   ]
  },
  {
   "cell_type": "code",
   "execution_count": null,
   "id": "f98bf45b",
   "metadata": {},
   "outputs": [],
   "source": [
    "q = queue.Queue()\n",
    "for i in[3,2,1]:\n",
    "    def f():\n",
    "        time.sleep(i)\n",
    "        q.put(i)\n",
    "        threading"
   ]
  },
  {
   "cell_type": "code",
   "execution_count": 5,
   "id": "81b9d542",
   "metadata": {},
   "outputs": [
    {
     "data": {
      "text/plain": [
       "str"
      ]
     },
     "execution_count": 5,
     "metadata": {},
     "output_type": "execute_result"
    }
   ],
   "source": [
    "type(b)"
   ]
  },
  {
   "cell_type": "code",
   "execution_count": 6,
   "id": "1148f274",
   "metadata": {},
   "outputs": [
    {
     "data": {
      "text/plain": [
       "'435789'"
      ]
     },
     "execution_count": 6,
     "metadata": {},
     "output_type": "execute_result"
    }
   ],
   "source": [
    "s1  = \"435\"\n",
    "s2 = \"789\"\n",
    "s1 + s2"
   ]
  },
  {
   "cell_type": "code",
   "execution_count": 7,
   "id": "9b6142b3",
   "metadata": {},
   "outputs": [
    {
     "name": "stdout",
     "output_type": "stream",
     "text": [
      "435789\n"
     ]
    }
   ],
   "source": [
    "s1  = \"435\"\n",
    "s2 = \"789\"\n",
    "print(s1 + s2)"
   ]
  },
  {
   "cell_type": "code",
   "execution_count": 8,
   "id": "3812d279",
   "metadata": {},
   "outputs": [
    {
     "data": {
      "text/plain": [
       "30"
      ]
     },
     "execution_count": 8,
     "metadata": {},
     "output_type": "execute_result"
    }
   ],
   "source": [
    "a = int(a)\n",
    "b = int(b)\n",
    "a+b"
   ]
  },
  {
   "cell_type": "code",
   "execution_count": 9,
   "id": "5a7e5fb1",
   "metadata": {},
   "outputs": [
    {
     "name": "stdout",
     "output_type": "stream",
     "text": [
      "30\n"
     ]
    }
   ],
   "source": [
    "a = int(a)\n",
    "b = int(b)\n",
    "print(a+b)"
   ]
  },
  {
   "cell_type": "code",
   "execution_count": 11,
   "id": "8754ba26",
   "metadata": {},
   "outputs": [
    {
     "name": "stdout",
     "output_type": "stream",
     "text": [
      "Enter a number30\n",
      "Enter a second number40\n",
      "70\n"
     ]
    }
   ],
   "source": [
    "a = int(input(\"Enter a number\"))\n",
    "b = int(input(\"Enter a second number\"))\n",
    "print(a + b)"
   ]
  },
  {
   "cell_type": "code",
   "execution_count": 12,
   "id": "ba5bd5d2",
   "metadata": {},
   "outputs": [
    {
     "data": {
      "text/plain": [
       "int"
      ]
     },
     "execution_count": 12,
     "metadata": {},
     "output_type": "execute_result"
    }
   ],
   "source": [
    "type(a)"
   ]
  },
  {
   "cell_type": "code",
   "execution_count": null,
   "id": "ba4b3108",
   "metadata": {},
   "outputs": [],
   "source": [
    "## shortcut for comment/uncomment -> ctrl + /\n",
    "# a = 23\n",
    "# b = 45"
   ]
  },
  {
   "cell_type": "code",
   "execution_count": 13,
   "id": "b994f42e",
   "metadata": {},
   "outputs": [
    {
     "name": "stdout",
     "output_type": "stream",
     "text": [
      "23 <class 'int'>\n",
      "23 <class 'str'>\n"
     ]
    }
   ],
   "source": [
    "## to convert int to string\n",
    "a = 23\n",
    "print(a , type(a))\n",
    "a = str(a)\n",
    "print(a , type(a))"
   ]
  },
  {
   "cell_type": "markdown",
   "id": "c00f94ac",
   "metadata": {},
   "source": [
    "## String Formatting\n",
    "- Concatenation using +\n",
    "- format()\n",
    "- %()\n",
    "- f strings"
   ]
  },
  {
   "cell_type": "code",
   "execution_count": null,
   "id": "62f376a0",
   "metadata": {},
   "outputs": [],
   "source": [
    "# Expected output -> \"My name is subhajit . I am doing my post graduates from IIITG\"\n"
   ]
  },
  {
   "cell_type": "code",
   "execution_count": 14,
   "id": "b1d128ed",
   "metadata": {},
   "outputs": [
    {
     "name": "stdout",
     "output_type": "stream",
     "text": [
      "Enter your nameluffy\n",
      "Enter your college nameonepiece\n",
      "My name is luffy. I am doing my post graduation from onepiece\n"
     ]
    }
   ],
   "source": [
    "name = str(input(\"Enter your name\"))\n",
    "college = str(input(\"Enter your college name\"))\n",
    "print(\"My name is \"+ name + \". I am doing my post graduation from \" + college)"
   ]
  },
  {
   "cell_type": "code",
   "execution_count": 15,
   "id": "463bcae8",
   "metadata": {},
   "outputs": [],
   "source": [
    "name = \"subhajit\"\n",
    "college = \" IIIT Guwahati\"\n"
   ]
  },
  {
   "cell_type": "code",
   "execution_count": 16,
   "id": "d99710b6",
   "metadata": {},
   "outputs": [
    {
     "name": "stdout",
     "output_type": "stream",
     "text": [
      "My name is subhajit , I am doing my post graduation form  IIIT Guwahati\n"
     ]
    }
   ],
   "source": [
    "s = \"My name is {} , I am doing my post graduation form {}\".format(name , college)\n",
    "print(s)"
   ]
  },
  {
   "cell_type": "code",
   "execution_count": 17,
   "id": "7457fbfa",
   "metadata": {},
   "outputs": [
    {
     "name": "stdout",
     "output_type": "stream",
     "text": [
      "My name is subhajit , I am doing my post graduation form  IIIT Guwahati\n"
     ]
    }
   ],
   "source": [
    "s = \"My name is {a} , I am doing my post graduation form {b}\".format(a=name , b=college)\n",
    "print(s)"
   ]
  },
  {
   "cell_type": "code",
   "execution_count": 18,
   "id": "9eea7b87",
   "metadata": {},
   "outputs": [
    {
     "name": "stdout",
     "output_type": "stream",
     "text": [
      "My name is subhajit , I am doing my post graduation form  IIIT Guwahati\n"
     ]
    }
   ],
   "source": [
    "s = f\"My name is {name} , I am doing my post graduation form {college}\"\n",
    "print(s)"
   ]
  },
  {
   "cell_type": "markdown",
   "id": "5cf2861d",
   "metadata": {},
   "source": [
    "## Comparison Operators\n",
    "<= >= > < == !="
   ]
  },
  {
   "cell_type": "code",
   "execution_count": 20,
   "id": "4b773145",
   "metadata": {},
   "outputs": [
    {
     "name": "stdout",
     "output_type": "stream",
     "text": [
      "False\n"
     ]
    }
   ],
   "source": [
    "a = 23\n",
    "b = 45\n",
    "print(a >= b)"
   ]
  },
  {
   "cell_type": "code",
   "execution_count": 21,
   "id": "f9b75895",
   "metadata": {
    "scrolled": true
   },
   "outputs": [
    {
     "data": {
      "text/plain": [
       "False"
      ]
     },
     "execution_count": 21,
     "metadata": {},
     "output_type": "execute_result"
    }
   ],
   "source": [
    "a = 23\n",
    "b = 45\n",
    "a >= b"
   ]
  },
  {
   "cell_type": "markdown",
   "id": "0540ce3c",
   "metadata": {},
   "source": [
    "## Logical Operator\n",
    "- AND\n",
    "- OR\n",
    "- NOT"
   ]
  },
  {
   "cell_type": "code",
   "execution_count": 1,
   "id": "a22cf92b",
   "metadata": {},
   "outputs": [
    {
     "name": "stdout",
     "output_type": "stream",
     "text": [
      "False\n"
     ]
    }
   ],
   "source": [
    "x = 60 \n",
    "print(x > 0 and x < 50)"
   ]
  },
  {
   "cell_type": "code",
   "execution_count": 2,
   "id": "7f2d5a3a",
   "metadata": {},
   "outputs": [
    {
     "name": "stdout",
     "output_type": "stream",
     "text": [
      "True\n"
     ]
    }
   ],
   "source": [
    "x = 90\n",
    "print(x > 0 or x < 50)"
   ]
  },
  {
   "cell_type": "code",
   "execution_count": 4,
   "id": "6d601ed9",
   "metadata": {},
   "outputs": [
    {
     "name": "stdout",
     "output_type": "stream",
     "text": [
      "False\n"
     ]
    }
   ],
   "source": [
    "x = 60\n",
    "print(not(x))"
   ]
  },
  {
   "cell_type": "markdown",
   "id": "0dfe6c79",
   "metadata": {},
   "source": [
    "## Conditional Statement \n",
    "- if\n",
    "- else\n",
    "- elif"
   ]
  },
  {
   "cell_type": "code",
   "execution_count": 10,
   "id": "0ccb430d",
   "metadata": {},
   "outputs": [
    {
     "name": "stdout",
     "output_type": "stream",
     "text": [
      "Enter your age23\n",
      "you can vote\n"
     ]
    }
   ],
   "source": [
    "x = int(input(\"Enter your age\"))\n",
    "if x>=18 :\n",
    "    print(\"you can vote\")\n",
    "else:\n",
    "    print(\"you can't vote\")"
   ]
  },
  {
   "cell_type": "code",
   "execution_count": null,
   "id": "d514604f",
   "metadata": {},
   "outputs": [],
   "source": [
    "x = int(input(\"Enter your age\"))\n",
    "if x>=18 :\n",
    "    print(\"you can vote\")\n",
    "else:\n",
    "    print(\"you can't vote\")\n",
    "    print(\"doesn't belong to any indent\")"
   ]
  },
  {
   "cell_type": "code",
   "execution_count": 11,
   "id": "1a6df836",
   "metadata": {},
   "outputs": [
    {
     "name": "stdout",
     "output_type": "stream",
     "text": [
      "Enter your age45\n",
      "you can vote\n",
      "doesn't belong to any indent\n"
     ]
    }
   ],
   "source": [
    "x = int(input(\"Enter your age\"))\n",
    "if x>=18 :\n",
    "    print(\"you can vote\")\n",
    "else:\n",
    "    print(\"you can't vote\")\n",
    "print(\"doesn't belong to any indent\")"
   ]
  },
  {
   "cell_type": "code",
   "execution_count": 12,
   "id": "8df03b12",
   "metadata": {},
   "outputs": [
    {
     "ename": "IndentationError",
     "evalue": "unexpected indent (Temp/ipykernel_13520/688667770.py, line 4)",
     "output_type": "error",
     "traceback": [
      "\u001b[1;36m  File \u001b[1;32m\"C:\\Users\\SUBHAJ~1\\AppData\\Local\\Temp/ipykernel_13520/688667770.py\"\u001b[1;36m, line \u001b[1;32m4\u001b[0m\n\u001b[1;33m    print(\"if block\")\u001b[0m\n\u001b[1;37m    ^\u001b[0m\n\u001b[1;31mIndentationError\u001b[0m\u001b[1;31m:\u001b[0m unexpected indent\n"
     ]
    }
   ],
   "source": [
    "x = int(input(\"Enter your age\"))\n",
    "if x>=18 :\n",
    "    print(\"you can vote\")\n",
    "          print(\"if block\") # will give you an error as indent error\n",
    "else:\n",
    "    print(\"you can't vote\")\n",
    "print(\"doesn't belong to any indent\")"
   ]
  },
  {
   "cell_type": "code",
   "execution_count": 14,
   "id": "bbf3953d",
   "metadata": {},
   "outputs": [
    {
     "ename": "IndentationError",
     "evalue": "unindent does not match any outer indentation level (<tokenize>, line 4)",
     "output_type": "error",
     "traceback": [
      "\u001b[1;36m  File \u001b[1;32m\"<tokenize>\"\u001b[1;36m, line \u001b[1;32m4\u001b[0m\n\u001b[1;33m    print(\"if block\") # will give you an error as indent error\u001b[0m\n\u001b[1;37m    ^\u001b[0m\n\u001b[1;31mIndentationError\u001b[0m\u001b[1;31m:\u001b[0m unindent does not match any outer indentation level\n"
     ]
    }
   ],
   "source": [
    "x = int(input(\"Enter your age\"))\n",
    "if x>=18 :\n",
    "          print(\"you can vote\")  \n",
    "    print(\"if block\") # will give you an error as indent error\n",
    "else:\n",
    "    print(\"you can't vote\")\n",
    "print(\"doesn't belong to any indent\")"
   ]
  },
  {
   "cell_type": "code",
   "execution_count": 16,
   "id": "4017c78c",
   "metadata": {},
   "outputs": [
    {
     "name": "stdout",
     "output_type": "stream",
     "text": [
      "enter age1\n",
      "vote nahi de sakta ha\n",
      "khatam ho gaya\n"
     ]
    }
   ],
   "source": [
    "x = int(input(\"enter age\"))\n",
    "if x > 18:\n",
    "    print(\"vote de\")\n",
    "elif x == 18:\n",
    "    print(\"vote de de re baaba\")\n",
    "elif x < 18:\n",
    "    print(\"vote nahi de sakta ha\")\n",
    "print(\"khatam ho gaya\")"
   ]
  },
  {
   "cell_type": "markdown",
   "id": "6f31a57c",
   "metadata": {},
   "source": [
    "## Loops\n",
    "- while\n",
    "- for\n",
    "- range()"
   ]
  },
  {
   "cell_type": "code",
   "execution_count": 18,
   "id": "7d1dbfe9",
   "metadata": {},
   "outputs": [
    {
     "name": "stdout",
     "output_type": "stream",
     "text": [
      "1\n",
      "2\n",
      "3\n",
      "4\n",
      "5\n",
      "6\n",
      "7\n",
      "8\n",
      "9\n",
      "10\n"
     ]
    }
   ],
   "source": [
    "## print numbers 1 to 10\n",
    "i = 1\n",
    "while i <= 10:\n",
    "    print(i)\n",
    "    i = i + 1\n",
    "    "
   ]
  },
  {
   "cell_type": "code",
   "execution_count": 21,
   "id": "331dc64f",
   "metadata": {},
   "outputs": [
    {
     "name": "stdout",
     "output_type": "stream",
     "text": [
      "1 2 3 4 5 6 7 8 9 10 "
     ]
    }
   ],
   "source": [
    "x = 1\n",
    "while x <=10:\n",
    "    print(x , end =\" \")\n",
    "    x = x + 1"
   ]
  },
  {
   "cell_type": "code",
   "execution_count": 25,
   "id": "72022fb8",
   "metadata": {},
   "outputs": [
    {
     "name": "stdout",
     "output_type": "stream",
     "text": [
      "1\n",
      "2\n",
      "3\n",
      "4\n",
      "5\n",
      "6\n",
      "7\n",
      "8\n",
      "9\n",
      "10\n"
     ]
    }
   ],
   "source": [
    "for x in range(1 , 11 , 1):\n",
    "    print(x)\n"
   ]
  },
  {
   "cell_type": "code",
   "execution_count": 26,
   "id": "db2794b4",
   "metadata": {},
   "outputs": [
    {
     "name": "stdout",
     "output_type": "stream",
     "text": [
      "1 2 3 4 5 6 7 8 9 10 "
     ]
    }
   ],
   "source": [
    "for x in range(1 , 11 , 1):\n",
    "    print(x , end = \" \")"
   ]
  },
  {
   "cell_type": "code",
   "execution_count": 27,
   "id": "02224e58",
   "metadata": {},
   "outputs": [
    {
     "name": "stdout",
     "output_type": "stream",
     "text": [
      "0 1 2 3 4 5 6 7 8 9 10 "
     ]
    }
   ],
   "source": [
    "## by default it will start from 0\n",
    "for x in range(11):\n",
    "    print(x , end = \" \")"
   ]
  },
  {
   "cell_type": "code",
   "execution_count": 28,
   "id": "a44ad11d",
   "metadata": {},
   "outputs": [
    {
     "name": "stdout",
     "output_type": "stream",
     "text": [
      "2\n",
      "5\n",
      "8\n"
     ]
    }
   ],
   "source": [
    "for x in range(2 , 11 , 3):\n",
    "    print(x)"
   ]
  },
  {
   "cell_type": "code",
   "execution_count": 30,
   "id": "e8b8ca67",
   "metadata": {},
   "outputs": [
    {
     "name": "stdout",
     "output_type": "stream",
     "text": [
      "10 9 8 7 6 5 4 3 2 1 "
     ]
    }
   ],
   "source": [
    "for x in range(10 , 0 , -1):\n",
    "    print(x , end = \" \")"
   ]
  },
  {
   "cell_type": "code",
   "execution_count": 34,
   "id": "3b889b0c",
   "metadata": {},
   "outputs": [
    {
     "name": "stdout",
     "output_type": "stream",
     "text": [
      " enter the value5\n",
      "*\n",
      "**\n",
      "***\n",
      "****\n",
      "*****\n",
      "******\n"
     ]
    }
   ],
   "source": [
    "x = int(input(\" enter the value\"))\n",
    "nst = 1\n",
    "\n",
    "while(x >= 0):\n",
    "    cst = 1\n",
    "    while(cst <= nst):\n",
    "        print(\"*\" , end=\"\")\n",
    "        cst = cst + 1\n",
    "        \n",
    "    x = x - 1\n",
    "    print(\"\")\n",
    "    nst += 1\n",
    "    "
   ]
  },
  {
   "cell_type": "code",
   "execution_count": 38,
   "id": "535bc674",
   "metadata": {},
   "outputs": [
    {
     "name": "stdout",
     "output_type": "stream",
     "text": [
      "4\n",
      "1***\n",
      "12**\n",
      "123*\n",
      "1234\n"
     ]
    }
   ],
   "source": [
    "x = int(input())\n",
    "nsp = 1\n",
    "nst = x - 1\n",
    "\n",
    "while(x > 0):\n",
    "    \n",
    "    csp = 1\n",
    "    while(csp <= nsp):\n",
    "        print(csp , end=\"\")\n",
    "        csp +=1\n",
    "    cst = 1\n",
    "    while(cst <= nst):\n",
    "        print(\"*\",end=\"\")\n",
    "        cst += 1\n",
    "    \n",
    "    print()\n",
    "    nst -= 1\n",
    "    nsp +=1\n",
    "    x -=1\n",
    "    "
   ]
  },
  {
   "cell_type": "code",
   "execution_count": 36,
   "id": "c27e7823",
   "metadata": {},
   "outputs": [
    {
     "name": "stdout",
     "output_type": "stream",
     "text": [
      "7\n",
      "1******\n",
      "12*****\n",
      "123****\n",
      "1234***\n",
      "12345**\n",
      "123456*\n",
      "1234567\n",
      "12345678\n"
     ]
    }
   ],
   "source": [
    "x = int(input())\n",
    "nsp = 1\n",
    "nst = x - 1\n",
    "\n",
    "while(x >= 0):\n",
    "    \n",
    "    csp = 1\n",
    "    while(csp <= nsp):\n",
    "        print(csp , end=\"\")\n",
    "        csp +=1\n",
    "    cst = 1\n",
    "    while(cst <= nst):\n",
    "        print(\"*\",end=\"\")\n",
    "        cst += 1\n",
    "    \n",
    "    print()\n",
    "    nst -= 1\n",
    "    nsp +=1\n",
    "    x -=1\n",
    "    "
   ]
  },
  {
   "cell_type": "code",
   "execution_count": 43,
   "id": "cb4d45a7",
   "metadata": {},
   "outputs": [
    {
     "name": "stdout",
     "output_type": "stream",
     "text": [
      "5\n",
      "    *\n",
      "   **\n",
      "  ***\n",
      " ****\n",
      "*****\n"
     ]
    }
   ],
   "source": [
    "x = int(input())\n",
    "nst = 1   ## no. of stars\n",
    "nsp = x - 1 # no. of spaces\n",
    "\n",
    "while(x > 0):\n",
    "    \n",
    "    csp = 1\n",
    "    while(csp <= nsp):\n",
    "        print(\" \" , end=\"\")\n",
    "        csp += 1\n",
    "    \n",
    "    cst = 1\n",
    "    while(cst <= nst):\n",
    "        print(\"*\" , end = \"\")\n",
    "        cst += 1\n",
    "        \n",
    "    print()\n",
    "    nsp -=1\n",
    "    nst += 1\n",
    "    x -= 1"
   ]
  },
  {
   "cell_type": "code",
   "execution_count": 57,
   "id": "9badf9cc",
   "metadata": {},
   "outputs": [
    {
     "name": "stdout",
     "output_type": "stream",
     "text": [
      "4\n",
      "   ****\n",
      "  *  *\n",
      " *  *\n",
      "****"
     ]
    }
   ],
   "source": [
    "x = int(input())\n",
    "nsp = x - 1\n",
    "nst = x\n",
    "nsp2 = x - 2\n",
    "\n",
    "i = 1\n",
    "while(i < x):\n",
    "    if i == 1:\n",
    "        for k in range(1 , nsp + 1 , 1):\n",
    "            print(\" \" , end =\"\")\n",
    "        \n",
    "        for j in range(1 , nst + 1 , 1):\n",
    "            print(\"*\" , end = \"\")\n",
    "            \n",
    "    else:\n",
    "        csp =1\n",
    "        while(csp <= nsp):\n",
    "            print(\" \" , end = \"\")\n",
    "            csp += 1\n",
    "        \n",
    "        print(\"*\" , end =\"\")\n",
    "        \n",
    "        csp2 = 1\n",
    "        while(csp2 <= nsp2):\n",
    "            print(\" \", end = \"\")\n",
    "            csp2 +=1\n",
    "            \n",
    "        print(\"*\",end = \"\")\n",
    "            \n",
    "    print()\n",
    "    nsp -=1\n",
    "    i += 1\n",
    "    \n",
    "for j2 in range(1 , nst + 1 , 1):\n",
    "            print(\"*\" , end = \"\")"
   ]
  },
  {
   "cell_type": "code",
   "execution_count": 4,
   "id": "76effa2a",
   "metadata": {},
   "outputs": [
    {
     "name": "stdout",
     "output_type": "stream",
     "text": [
      "{'Hello': {'world': {}}}\n"
     ]
    }
   ],
   "source": [
    "def list11(x):\n",
    "    r = {}\n",
    "    for i in x:\n",
    "        base = r\n",
    "        for w in i.split(' '):\n",
    "            if not base.get(w):\n",
    "                base[w] = {}\n",
    "            base = base[w]\n",
    "    return r\n",
    "\n",
    "tree  = list11([\"Hello world\" , \"Hello world\"])\n",
    "print(tree)"
   ]
  },
  {
   "cell_type": "code",
   "execution_count": 5,
   "id": "17a1971b",
   "metadata": {},
   "outputs": [
    {
     "name": "stdout",
     "output_type": "stream",
     "text": [
      "0 [1]\n"
     ]
    }
   ],
   "source": [
    "def func(a,b):\n",
    "    a += 1\n",
    "    b.append(1)\n",
    "    \n",
    "a , b = 0  , []\n",
    "func(a,b)\n",
    "print(a,b)"
   ]
  },
  {
   "cell_type": "code",
   "execution_count": 6,
   "id": "390beab5",
   "metadata": {},
   "outputs": [
    {
     "name": "stdout",
     "output_type": "stream",
     "text": [
      "None\n"
     ]
    }
   ],
   "source": [
    "def x(items):\n",
    "    i = 0\n",
    "    while i < len(items):\n",
    "        if len(items[i]) == 0:\n",
    "            del items[i]\n",
    "        i += 1\n",
    "    \n",
    "names = ['R' , '' , 'M' , '' , '' , 'T']\n",
    "print(x(names))"
   ]
  },
  {
   "cell_type": "code",
   "execution_count": 8,
   "id": "dbbbd554",
   "metadata": {},
   "outputs": [
    {
     "name": "stdout",
     "output_type": "stream",
     "text": [
      "24\n"
     ]
    }
   ],
   "source": [
    "f = lambda n:1 if n<= 1 else n * f(n-1)\n",
    "g = f(4)\n",
    "print(g)"
   ]
  },
  {
   "cell_type": "code",
   "execution_count": 9,
   "id": "9fbcc2d3",
   "metadata": {},
   "outputs": [
    {
     "ename": "SyntaxError",
     "evalue": "invalid syntax (Temp/ipykernel_11904/409776432.py, line 2)",
     "output_type": "error",
     "traceback": [
      "\u001b[1;36m  File \u001b[1;32m\"C:\\Users\\SUBHAJ~1\\AppData\\Local\\Temp/ipykernel_11904/409776432.py\"\u001b[1;36m, line \u001b[1;32m2\u001b[0m\n\u001b[1;33m    for i in word enumerate(words):\u001b[0m\n\u001b[1;37m                  ^\u001b[0m\n\u001b[1;31mSyntaxError\u001b[0m\u001b[1;31m:\u001b[0m invalid syntax\n"
     ]
    }
   ],
   "source": [
    "words = [\"Hello\" , \"Worlds\"]\n",
    "for i in word enumerate(words):\n",
    "    word.lower()\n",
    "    words[i] = word[::-1]"
   ]
  },
  {
   "cell_type": "code",
   "execution_count": 10,
   "id": "70753fe0",
   "metadata": {},
   "outputs": [
    {
     "ename": "NameError",
     "evalue": "name 'file' is not defined",
     "output_type": "error",
     "traceback": [
      "\u001b[1;31m---------------------------------------------------------------------------\u001b[0m",
      "\u001b[1;31mNameError\u001b[0m                                 Traceback (most recent call last)",
      "\u001b[1;32mC:\\Users\\SUBHAJ~1\\AppData\\Local\\Temp/ipykernel_11904/4120051344.py\u001b[0m in \u001b[0;36m<module>\u001b[1;34m\u001b[0m\n\u001b[0;32m      1\u001b[0m \u001b[1;32mtry\u001b[0m\u001b[1;33m:\u001b[0m\u001b[1;33m\u001b[0m\u001b[1;33m\u001b[0m\u001b[0m\n\u001b[1;32m----> 2\u001b[1;33m     \u001b[0mfile\u001b[0m \u001b[1;33m=\u001b[0m \u001b[0mopen\u001b[0m\u001b[1;33m(\u001b[0m\u001b[0mfilepath\u001b[0m\u001b[1;33m)\u001b[0m\u001b[1;33m\u001b[0m\u001b[1;33m\u001b[0m\u001b[0m\n\u001b[0m\u001b[0;32m      3\u001b[0m     \u001b[0mdata\u001b[0m \u001b[1;33m=\u001b[0m \u001b[0mfile\u001b[0m\u001b[1;33m.\u001b[0m\u001b[0mread\u001b[0m\u001b[1;33m(\u001b[0m\u001b[1;33m)\u001b[0m\u001b[1;33m\u001b[0m\u001b[1;33m\u001b[0m\u001b[0m\n",
      "\u001b[1;31mNameError\u001b[0m: name 'filepath' is not defined",
      "\nDuring handling of the above exception, another exception occurred:\n",
      "\u001b[1;31mNameError\u001b[0m                                 Traceback (most recent call last)",
      "\u001b[1;32mC:\\Users\\SUBHAJ~1\\AppData\\Local\\Temp/ipykernel_11904/4120051344.py\u001b[0m in \u001b[0;36m<module>\u001b[1;34m\u001b[0m\n\u001b[0;32m      3\u001b[0m     \u001b[0mdata\u001b[0m \u001b[1;33m=\u001b[0m \u001b[0mfile\u001b[0m\u001b[1;33m.\u001b[0m\u001b[0mread\u001b[0m\u001b[1;33m(\u001b[0m\u001b[1;33m)\u001b[0m\u001b[1;33m\u001b[0m\u001b[1;33m\u001b[0m\u001b[0m\n\u001b[0;32m      4\u001b[0m \u001b[1;32mfinally\u001b[0m\u001b[1;33m:\u001b[0m\u001b[1;33m\u001b[0m\u001b[1;33m\u001b[0m\u001b[0m\n\u001b[1;32m----> 5\u001b[1;33m     \u001b[0mfile\u001b[0m\u001b[1;33m.\u001b[0m\u001b[0mclose\u001b[0m\u001b[1;33m(\u001b[0m\u001b[1;33m)\u001b[0m\u001b[1;33m\u001b[0m\u001b[1;33m\u001b[0m\u001b[0m\n\u001b[0m",
      "\u001b[1;31mNameError\u001b[0m: name 'file' is not defined"
     ]
    }
   ],
   "source": [
    "try:\n",
    "    file = open(filepath)\n",
    "    data = file.read()\n",
    "finally:\n",
    "    file.close()"
   ]
  },
  {
   "cell_type": "code",
   "execution_count": null,
   "id": "c3cc38a7",
   "metadata": {},
   "outputs": [],
   "source": []
  },
  {
   "cell_type": "code",
   "execution_count": null,
   "id": "87e8bc0b",
   "metadata": {},
   "outputs": [],
   "source": []
  },
  {
   "cell_type": "code",
   "execution_count": null,
   "id": "8913edb8",
   "metadata": {},
   "outputs": [],
   "source": []
  },
  {
   "cell_type": "code",
   "execution_count": null,
   "id": "51a65da3",
   "metadata": {},
   "outputs": [],
   "source": []
  },
  {
   "cell_type": "code",
   "execution_count": null,
   "id": "3f10b8f7",
   "metadata": {},
   "outputs": [],
   "source": []
  },
  {
   "cell_type": "code",
   "execution_count": null,
   "id": "bc55befd",
   "metadata": {},
   "outputs": [],
   "source": []
  },
  {
   "cell_type": "code",
   "execution_count": null,
   "id": "c691b225",
   "metadata": {},
   "outputs": [],
   "source": []
  },
  {
   "cell_type": "code",
   "execution_count": null,
   "id": "d1d6ca8b",
   "metadata": {},
   "outputs": [],
   "source": []
  },
  {
   "cell_type": "code",
   "execution_count": null,
   "id": "a90a2d5f",
   "metadata": {},
   "outputs": [],
   "source": []
  }
 ],
 "metadata": {
  "kernelspec": {
   "display_name": "Python 3 (ipykernel)",
   "language": "python",
   "name": "python3"
  },
  "language_info": {
   "codemirror_mode": {
    "name": "ipython",
    "version": 3
   },
   "file_extension": ".py",
   "mimetype": "text/x-python",
   "name": "python",
   "nbconvert_exporter": "python",
   "pygments_lexer": "ipython3",
   "version": "3.9.7"
  }
 },
 "nbformat": 4,
 "nbformat_minor": 5
}
