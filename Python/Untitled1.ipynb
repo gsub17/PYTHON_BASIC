{
 "cells": [
  {
   "cell_type": "code",
   "execution_count": 1,
   "id": "a69537a1",
   "metadata": {},
   "outputs": [
    {
     "name": "stdout",
     "output_type": "stream",
     "text": [
      "{'name': 'princey', 'likes': ['anime', 'ghosh'], 'friends': {'A': 1, 'B': 2}}\n"
     ]
    }
   ],
   "source": [
    "d = {\n",
    "    \"name\" : \"princey\",\n",
    "    \"likes\" : [\"anime\",\"ghosh\"],\n",
    "    \"friends\" : {\"A\" : 1 , \"B\" : 2}\n",
    " \n",
    "}\n",
    "print(d)"
   ]
  },
  {
   "cell_type": "code",
   "execution_count": 2,
   "id": "c99e7a15",
   "metadata": {},
   "outputs": [
    {
     "name": "stdout",
     "output_type": "stream",
     "text": [
      "ghosh\n"
     ]
    }
   ],
   "source": [
    "print(d['likes'][1])"
   ]
  },
  {
   "cell_type": "code",
   "execution_count": 3,
   "id": "6b79a8d4",
   "metadata": {},
   "outputs": [
    {
     "name": "stdout",
     "output_type": "stream",
     "text": [
      "{'A': 1, 'B': 2}\n"
     ]
    }
   ],
   "source": [
    "print(d['friends'])"
   ]
  },
  {
   "cell_type": "code",
   "execution_count": 5,
   "id": "507c2d71",
   "metadata": {},
   "outputs": [
    {
     "name": "stdout",
     "output_type": "stream",
     "text": [
      "2\n"
     ]
    }
   ],
   "source": [
    "print(d['friends']['B'])"
   ]
  },
  {
   "cell_type": "code",
   "execution_count": 7,
   "id": "bbdaee0d",
   "metadata": {},
   "outputs": [
    {
     "ename": "TypeError",
     "evalue": "unhashable type: 'dict'",
     "output_type": "error",
     "traceback": [
      "\u001b[1;31m---------------------------------------------------------------------------\u001b[0m",
      "\u001b[1;31mTypeError\u001b[0m                                 Traceback (most recent call last)",
      "\u001b[1;32mC:\\Users\\SUBHAJ~1\\AppData\\Local\\Temp/ipykernel_12300/2989349405.py\u001b[0m in \u001b[0;36m<module>\u001b[1;34m\u001b[0m\n\u001b[1;32m----> 1\u001b[1;33m \u001b[0md\u001b[0m\u001b[1;33m[\u001b[0m\u001b[1;33m{\u001b[0m\u001b[1;34m'a'\u001b[0m \u001b[1;33m:\u001b[0m \u001b[1;36m10\u001b[0m\u001b[1;33m}\u001b[0m\u001b[1;33m]\u001b[0m \u001b[1;33m=\u001b[0m \u001b[1;36m90\u001b[0m\u001b[1;33m\u001b[0m\u001b[1;33m\u001b[0m\u001b[0m\n\u001b[0m\u001b[0;32m      2\u001b[0m \u001b[0mprint\u001b[0m\u001b[1;33m(\u001b[0m\u001b[0md\u001b[0m\u001b[1;33m)\u001b[0m\u001b[1;33m\u001b[0m\u001b[1;33m\u001b[0m\u001b[0m\n",
      "\u001b[1;31mTypeError\u001b[0m: unhashable type: 'dict'"
     ]
    }
   ],
   "source": [
    "d[{'a' : 10}] = 90\n",
    "print(d)"
   ]
  },
  {
   "cell_type": "code",
   "execution_count": 4,
   "id": "d8119f1b",
   "metadata": {},
   "outputs": [
    {
     "name": "stdout",
     "output_type": "stream",
     "text": [
      "True\n",
      "False\n"
     ]
    }
   ],
   "source": [
    "a = [1 , 20 ,30 ,50 ,9]\n",
    "b = 50\n",
    "for i in range(1 , len(a) + 1 , 1):\n",
    "    if b == a[i]:\n",
    "        print(True)\n",
    "        break\n",
    "print(False)"
   ]
  },
  {
   "cell_type": "code",
   "execution_count": 5,
   "id": "bfc01c5b",
   "metadata": {},
   "outputs": [],
   "source": [
    "s = { 1 ,2,5,4,3}"
   ]
  },
  {
   "cell_type": "code",
   "execution_count": 6,
   "id": "26468698",
   "metadata": {},
   "outputs": [
    {
     "name": "stdout",
     "output_type": "stream",
     "text": [
      "{1, 2, 3, 4, 5}\n"
     ]
    }
   ],
   "source": [
    "print(s)"
   ]
  },
  {
   "cell_type": "code",
   "execution_count": 7,
   "id": "39c93f56",
   "metadata": {},
   "outputs": [
    {
     "data": {
      "text/plain": [
       "5"
      ]
     },
     "execution_count": 7,
     "metadata": {},
     "output_type": "execute_result"
    }
   ],
   "source": [
    "len(s)"
   ]
  },
  {
   "cell_type": "code",
   "execution_count": 8,
   "id": "1c521f3b",
   "metadata": {},
   "outputs": [
    {
     "name": "stdout",
     "output_type": "stream",
     "text": [
      "<class 'set'>\n"
     ]
    }
   ],
   "source": [
    "print(type(s))"
   ]
  },
  {
   "cell_type": "code",
   "execution_count": 10,
   "id": "50918c42",
   "metadata": {},
   "outputs": [
    {
     "name": "stdout",
     "output_type": "stream",
     "text": [
      "{1, 2, 4, 5}\n"
     ]
    }
   ],
   "source": [
    "l = [1 ,1 , 1,2, 4,5 , 5]\n",
    "s = set(l)\n",
    "print(s)"
   ]
  },
  {
   "cell_type": "code",
   "execution_count": 11,
   "id": "ff0812fb",
   "metadata": {},
   "outputs": [],
   "source": [
    "s1 = {1 , 4, 5 , 7}\n",
    "s2 = {3 , 8, 9}"
   ]
  },
  {
   "cell_type": "code",
   "execution_count": 12,
   "id": "794d1dd3",
   "metadata": {},
   "outputs": [
    {
     "data": {
      "text/plain": [
       "['__and__',\n",
       " '__class__',\n",
       " '__class_getitem__',\n",
       " '__contains__',\n",
       " '__delattr__',\n",
       " '__dir__',\n",
       " '__doc__',\n",
       " '__eq__',\n",
       " '__format__',\n",
       " '__ge__',\n",
       " '__getattribute__',\n",
       " '__gt__',\n",
       " '__hash__',\n",
       " '__iand__',\n",
       " '__init__',\n",
       " '__init_subclass__',\n",
       " '__ior__',\n",
       " '__isub__',\n",
       " '__iter__',\n",
       " '__ixor__',\n",
       " '__le__',\n",
       " '__len__',\n",
       " '__lt__',\n",
       " '__ne__',\n",
       " '__new__',\n",
       " '__or__',\n",
       " '__rand__',\n",
       " '__reduce__',\n",
       " '__reduce_ex__',\n",
       " '__repr__',\n",
       " '__ror__',\n",
       " '__rsub__',\n",
       " '__rxor__',\n",
       " '__setattr__',\n",
       " '__sizeof__',\n",
       " '__str__',\n",
       " '__sub__',\n",
       " '__subclasshook__',\n",
       " '__xor__',\n",
       " 'add',\n",
       " 'clear',\n",
       " 'copy',\n",
       " 'difference',\n",
       " 'difference_update',\n",
       " 'discard',\n",
       " 'intersection',\n",
       " 'intersection_update',\n",
       " 'isdisjoint',\n",
       " 'issubset',\n",
       " 'issuperset',\n",
       " 'pop',\n",
       " 'remove',\n",
       " 'symmetric_difference',\n",
       " 'symmetric_difference_update',\n",
       " 'union',\n",
       " 'update']"
      ]
     },
     "execution_count": 12,
     "metadata": {},
     "output_type": "execute_result"
    }
   ],
   "source": [
    "dir(s1)"
   ]
  },
  {
   "cell_type": "code",
   "execution_count": 13,
   "id": "8d8ac79d",
   "metadata": {},
   "outputs": [
    {
     "name": "stdout",
     "output_type": "stream",
     "text": [
      "set()\n"
     ]
    }
   ],
   "source": [
    "print(s1.intersection(s2))"
   ]
  },
  {
   "cell_type": "code",
   "execution_count": 14,
   "id": "5403445a",
   "metadata": {},
   "outputs": [],
   "source": [
    "s1.add(90)"
   ]
  },
  {
   "cell_type": "code",
   "execution_count": 15,
   "id": "c2461260",
   "metadata": {},
   "outputs": [
    {
     "name": "stdout",
     "output_type": "stream",
     "text": [
      "{1, 4, 5, 7, 90}\n"
     ]
    }
   ],
   "source": [
    "print(s1)"
   ]
  },
  {
   "cell_type": "code",
   "execution_count": 17,
   "id": "6fa0ad31",
   "metadata": {},
   "outputs": [
    {
     "name": "stdout",
     "output_type": "stream",
     "text": [
      "{1, 4, 5, 7, 90}\n"
     ]
    }
   ],
   "source": [
    "s1.add(90)\n",
    "print(s1)"
   ]
  },
  {
   "cell_type": "code",
   "execution_count": 5,
   "id": "8d29ad01",
   "metadata": {},
   "outputs": [
    {
     "name": "stdout",
     "output_type": "stream",
     "text": [
      "5\n",
      "2\n",
      "6\n",
      "7\n",
      "8\n",
      "6\n",
      "[2, 6, 7, 8, 6]\n",
      "6\n"
     ]
    }
   ],
   "source": [
    "x = int(input())\n",
    "nums = []\n",
    "for i in range(0 , x , 1):\n",
    "    y = int(input())\n",
    "    nums.append(y)\n",
    "print(nums)\n",
    "\n",
    "nums.sort()\n",
    "\n",
    "if len(nums) == 2 and nums[0] == nums[i]:\n",
    "    print(nums[0])\n",
    "else:\n",
    "    for i in range(1 , len(nums)- 1, 1):\n",
    "        if nums[i - 1] == nums[i]:\n",
    "            print(nums[i])"
   ]
  },
  {
   "cell_type": "code",
   "execution_count": 8,
   "id": "5cc5277c",
   "metadata": {},
   "outputs": [
    {
     "data": {
      "text/plain": [
       "['__add__',\n",
       " '__class__',\n",
       " '__contains__',\n",
       " '__delattr__',\n",
       " '__dir__',\n",
       " '__doc__',\n",
       " '__eq__',\n",
       " '__format__',\n",
       " '__ge__',\n",
       " '__getattribute__',\n",
       " '__getitem__',\n",
       " '__getnewargs__',\n",
       " '__gt__',\n",
       " '__hash__',\n",
       " '__init__',\n",
       " '__init_subclass__',\n",
       " '__iter__',\n",
       " '__le__',\n",
       " '__len__',\n",
       " '__lt__',\n",
       " '__mod__',\n",
       " '__mul__',\n",
       " '__ne__',\n",
       " '__new__',\n",
       " '__reduce__',\n",
       " '__reduce_ex__',\n",
       " '__repr__',\n",
       " '__rmod__',\n",
       " '__rmul__',\n",
       " '__setattr__',\n",
       " '__sizeof__',\n",
       " '__str__',\n",
       " '__subclasshook__',\n",
       " 'capitalize',\n",
       " 'casefold',\n",
       " 'center',\n",
       " 'count',\n",
       " 'encode',\n",
       " 'endswith',\n",
       " 'expandtabs',\n",
       " 'find',\n",
       " 'format',\n",
       " 'format_map',\n",
       " 'index',\n",
       " 'isalnum',\n",
       " 'isalpha',\n",
       " 'isascii',\n",
       " 'isdecimal',\n",
       " 'isdigit',\n",
       " 'isidentifier',\n",
       " 'islower',\n",
       " 'isnumeric',\n",
       " 'isprintable',\n",
       " 'isspace',\n",
       " 'istitle',\n",
       " 'isupper',\n",
       " 'join',\n",
       " 'ljust',\n",
       " 'lower',\n",
       " 'lstrip',\n",
       " 'maketrans',\n",
       " 'partition',\n",
       " 'removeprefix',\n",
       " 'removesuffix',\n",
       " 'replace',\n",
       " 'rfind',\n",
       " 'rindex',\n",
       " 'rjust',\n",
       " 'rpartition',\n",
       " 'rsplit',\n",
       " 'rstrip',\n",
       " 'split',\n",
       " 'splitlines',\n",
       " 'startswith',\n",
       " 'strip',\n",
       " 'swapcase',\n",
       " 'title',\n",
       " 'translate',\n",
       " 'upper',\n",
       " 'zfill']"
      ]
     },
     "execution_count": 8,
     "metadata": {},
     "output_type": "execute_result"
    }
   ],
   "source": [
    "s =\" HackerRank.com presents Pythonist 2.\"\n",
    "dir(s)"
   ]
  },
  {
   "cell_type": "code",
   "execution_count": 9,
   "id": "f7e8b941",
   "metadata": {},
   "outputs": [
    {
     "data": {
      "text/plain": [
       "' hACKERrANK.COM PRESENTS pYTHONIST 2.'"
      ]
     },
     "execution_count": 9,
     "metadata": {},
     "output_type": "execute_result"
    }
   ],
   "source": [
    "s.swapcase()"
   ]
  },
  {
   "cell_type": "markdown",
   "id": "271cb958",
   "metadata": {},
   "source": [
    "## GFG"
   ]
  },
  {
   "cell_type": "code",
   "execution_count": 48,
   "id": "fd01c1c8",
   "metadata": {},
   "outputs": [
    {
     "data": {
      "text/plain": [
       "16"
      ]
     },
     "execution_count": 48,
     "metadata": {},
     "output_type": "execute_result"
    }
   ],
   "source": [
    "2**4"
   ]
  },
  {
   "cell_type": "code",
   "execution_count": 39,
   "id": "5ee75050",
   "metadata": {},
   "outputs": [],
   "source": [
    "A = 7\n",
    "X = A | 16"
   ]
  },
  {
   "cell_type": "code",
   "execution_count": 40,
   "id": "cce9bf6f",
   "metadata": {},
   "outputs": [
    {
     "data": {
      "text/plain": [
       "23"
      ]
     },
     "execution_count": 40,
     "metadata": {},
     "output_type": "execute_result"
    }
   ],
   "source": [
    "X"
   ]
  },
  {
   "cell_type": "code",
   "execution_count": 45,
   "id": "0080e296",
   "metadata": {},
   "outputs": [],
   "source": [
    "import math"
   ]
  },
  {
   "cell_type": "code",
   "execution_count": 50,
   "id": "338c9683",
   "metadata": {},
   "outputs": [
    {
     "name": "stdout",
     "output_type": "stream",
     "text": [
      "2\n",
      "2\n",
      "1\n",
      "--------------------------------------------\n",
      "101\n",
      "43\n",
      "--------------------------------------------\n"
     ]
    }
   ],
   "source": [
    "test_cases = int(input())\n",
    "\n",
    "while(test_cases > 0):\n",
    "    n = int(input())\n",
    "    count = 0\n",
    "    \n",
    "    \n",
    "    for i in range(2 , n+1,1):\n",
    "        l = []\n",
    "        \n",
    "        quartic = 0\n",
    "        product = 1\n",
    "        \n",
    "        x = str(i)\n",
    "        for i in x:\n",
    "            l.append(int(i))\n",
    "        \n",
    "        for j in range(0 , len(l) , 1):\n",
    "            quartic = l[j]**4 + quartic\n",
    "        \n",
    "        for k in range(0 , len(l) , 1):\n",
    "            product = product * l[k]\n",
    "            \n",
    "        gcd1 = math.gcd(quartic , product)\n",
    "        \n",
    "        if gcd1 > 1:\n",
    "            count += 1\n",
    "        \n",
    "    print(count)\n",
    "    print(\"--------------------------------------------\")\n",
    "    \n",
    "    test_cases -= 1"
   ]
  },
  {
   "cell_type": "code",
   "execution_count": 52,
   "id": "28c587f3",
   "metadata": {},
   "outputs": [
    {
     "name": "stdout",
     "output_type": "stream",
     "text": [
      "2\n",
      "2\n",
      "1\n",
      "101\n",
      "43\n"
     ]
    }
   ],
   "source": [
    "def gcd(a,b):\n",
    "    if(b == 0):\n",
    "        return a\n",
    "    else:\n",
    "        return gcd(b, a % b)\n",
    "\n",
    "test_cases = int(input())\n",
    "\n",
    "while(test_cases > 0):\n",
    "    n = int(input())\n",
    "    count = 0\n",
    "\n",
    "    for i in range(2 , n+1,1):\n",
    "        l = []\n",
    "        quartic = 0\n",
    "        product = 1\n",
    "        \n",
    "        x = str(i)\n",
    "        for i in x:\n",
    "            l.append(int(i))\n",
    "        \n",
    "        for j in range(0 , len(l) , 1):\n",
    "            quartic = l[j]**4 + quartic\n",
    "        \n",
    "        for k in range(0 , len(l) , 1):\n",
    "            product = product * l[k]\n",
    "            \n",
    "        gcd1 = gcd(quartic , product)\n",
    "        \n",
    "        if gcd1 > 1:\n",
    "            count += 1\n",
    "        \n",
    "    print(count)\n",
    "    \n",
    "    \n",
    "    test_cases -= 1\n",
    "    \n",
    "    "
   ]
  },
  {
   "cell_type": "code",
   "execution_count": 56,
   "id": "ee93c315",
   "metadata": {},
   "outputs": [
    {
     "name": "stdout",
     "output_type": "stream",
     "text": [
      "False\n"
     ]
    }
   ],
   "source": [
    "n = 124\n",
    "quad = 0\n",
    "product = 1\n",
    "\n",
    "def gcd(a,b):\n",
    "    if(b == 0):\n",
    "        return a\n",
    "    else:\n",
    "        return gcd(b, a % b)\n",
    "\n",
    "while(n > 0):\n",
    "    temp = n % 10\n",
    "    quad = temp**4 + quad\n",
    "    product = temp*product\n",
    "    n = n // 10\n",
    "    \n",
    "x = gcd(quad , product)\n",
    "\n",
    "if x > 1:\n",
    "    print(True)\n",
    "else:\n",
    "    print(False)\n",
    "\n"
   ]
  },
  {
   "cell_type": "markdown",
   "id": "0bbf1576",
   "metadata": {},
   "source": [
    "## Q1"
   ]
  },
  {
   "cell_type": "code",
   "execution_count": 81,
   "id": "c33208cc",
   "metadata": {},
   "outputs": [
    {
     "name": "stdout",
     "output_type": "stream",
     "text": [
      "1\n"
     ]
    }
   ],
   "source": [
    "a = 1\n",
    "b = 3\n",
    "\n",
    "diff1 = b - a\n",
    "\n",
    "x = a\n",
    "\n",
    "while(x <= b):\n",
    "    x2 = x\n",
    "    x = a | (x+1)\n",
    "    \n",
    "if x2 == b:\n",
    "    print(1)\n",
    "else:\n",
    "    diff2 = b - x2\n",
    "    move = 1 + diff2\n",
    "    print(move)"
   ]
  },
  {
   "cell_type": "code",
   "execution_count": 85,
   "id": "08a92d05",
   "metadata": {},
   "outputs": [
    {
     "name": "stdout",
     "output_type": "stream",
     "text": [
      "9\n"
     ]
    }
   ],
   "source": [
    "a = 10\n",
    "b = 1\n",
    "\n",
    "if a > b:\n",
    "    diff = a - b\n",
    "    print(diff)\n",
    "else:\n",
    "    \n",
    "    diff1 = b - a\n",
    "\n",
    "    x = a\n",
    "\n",
    "    while(x <= b):\n",
    "        x2 = x\n",
    "        x = a | (x+1)\n",
    "    \n",
    "    if x2 == b:\n",
    "        print(1)\n",
    "    else:\n",
    "        diff2 = b - x2\n",
    "        move = 1 + diff2\n",
    "        print(move)"
   ]
  },
  {
   "cell_type": "code",
   "execution_count": 83,
   "id": "ed851204",
   "metadata": {},
   "outputs": [
    {
     "name": "stdout",
     "output_type": "stream",
     "text": [
      "9\n"
     ]
    }
   ],
   "source": [
    "a = 10\n",
    "b = 1\n",
    "\n",
    "if a > b:\n",
    "    diff = a - b\n",
    "    print(diff)"
   ]
  },
  {
   "cell_type": "code",
   "execution_count": 92,
   "id": "72f92f3c",
   "metadata": {},
   "outputs": [
    {
     "name": "stdout",
     "output_type": "stream",
     "text": [
      "[7, 24]\n"
     ]
    }
   ],
   "source": [
    "l = []\n",
    "s = ''\n",
    "input1 = '7 24'\n",
    "for i in input1:\n",
    "    if i != ' ':\n",
    "        s = s + i\n",
    "    else:\n",
    "        l.append(int(s))\n",
    "        s = ''\n",
    "l.append(int(s))\n",
    "print(l)"
   ]
  },
  {
   "cell_type": "code",
   "execution_count": 97,
   "id": "0a382ba4",
   "metadata": {},
   "outputs": [
    {
     "name": "stdout",
     "output_type": "stream",
     "text": [
      "1\n",
      "0 5\n",
      "1\n"
     ]
    }
   ],
   "source": [
    "test = int(input())\n",
    "\n",
    "while(test > 0):\n",
    "    \n",
    "    input1 = input()\n",
    "    l = []\n",
    "    s = ''\n",
    "    for i in input1:\n",
    "        if i != ' ':\n",
    "            s = s + i\n",
    "        else:\n",
    "            l.append(int(s))\n",
    "            s = ''\n",
    "    l.append(int(s))\n",
    "            \n",
    "    a = int(l[0])\n",
    "    b = int(l[1])\n",
    "\n",
    "    if a > b:\n",
    "        diff = a - b\n",
    "        print(diff)\n",
    "    else:\n",
    "        diff1 = b - a\n",
    "        x = a\n",
    "        while(x <= b):\n",
    "            x2 = x\n",
    "            x = a | (x+1)\n",
    "        if x2 == b:\n",
    "            print(1)\n",
    "        else:\n",
    "            diff2 = b - x2\n",
    "            move = 1 + diff2\n",
    "            print(move)\n",
    "    \n",
    "    test -= 1"
   ]
  },
  {
   "cell_type": "markdown",
   "id": "385004fe",
   "metadata": {},
   "source": [
    "## coding ninja"
   ]
  },
  {
   "cell_type": "code",
   "execution_count": 11,
   "id": "def2f0c6",
   "metadata": {},
   "outputs": [],
   "source": [
    "def up(matrix , n , m , n1 , m2):\n",
    "    row = n1 - 1\n",
    "    col = m2\n",
    "    x = 0\n",
    "    if row >= 0 and row < n and col >= 0 and col < m:\n",
    "        x = matrix[row][col]\n",
    "        return x\n",
    "    \n",
    "    return x"
   ]
  },
  {
   "cell_type": "code",
   "execution_count": 19,
   "id": "974e4771",
   "metadata": {},
   "outputs": [],
   "source": [
    "def down(matrix , n , m , n1 , m2):\n",
    "    row = n1 + 1\n",
    "    col = m2\n",
    "    x = 0\n",
    "    if row >= 0 and row < n and col >= 0 and col < m:\n",
    "        x = matrix[row][col]\n",
    "        return x\n",
    "    \n",
    "    return x\n",
    "    "
   ]
  },
  {
   "cell_type": "code",
   "execution_count": 23,
   "id": "b2e7dbf2",
   "metadata": {},
   "outputs": [],
   "source": [
    "def left(matrix , n , m , n1 , m2):\n",
    "    row = n1\n",
    "    col = m2 -1\n",
    "    x = 0\n",
    "    if row >= 0 and row < n and col >= 0 and col < m:\n",
    "        x = matrix[row][col]\n",
    "        return x\n",
    "    \n",
    "    return x\n",
    "    "
   ]
  },
  {
   "cell_type": "code",
   "execution_count": 30,
   "id": "a49b5fa2",
   "metadata": {},
   "outputs": [],
   "source": [
    "def right(matrix , n , m , n1 , m2):\n",
    "    row = n1\n",
    "    col = m2 + 1\n",
    "    x = 0\n",
    "    if row >= 0 and row < n and col >= 0 and col < m:\n",
    "        x = matrix[row][col]\n",
    "        return x\n",
    "    \n",
    "    return x"
   ]
  },
  {
   "cell_type": "code",
   "execution_count": 50,
   "id": "2579b4c3",
   "metadata": {},
   "outputs": [
    {
     "name": "stdout",
     "output_type": "stream",
     "text": [
      "[[9, 15, 18], [14, 18, 8]]\n",
      "9 15 18 \n",
      "14 18 8 \n"
     ]
    }
   ],
   "source": [
    "matrix = [[7 , 9 , 1],[0 , 7 , 9]]\n",
    "n = len(matrix) \n",
    "m = len(matrix[0]) \n",
    "matrix2 = []\n",
    "sum = 0\n",
    "for i in range(0 , n , 1):\n",
    "    sum = 0\n",
    "    for j in range(0 , m , 1):\n",
    "        \n",
    "        p1 = up(matrix , n , m , i, j)\n",
    "        p2 = down(matrix , n , m , i, j)\n",
    "        p3 = left(matrix , n , m , i , j)\n",
    "        p4 = right(matrix , n , m , i , j)\n",
    "        sum = p1 + p2 + p3 + p4\n",
    "        matrix2.append(sum)\n",
    "        sum = 0\n",
    "\n",
    "count = 0\n",
    "\n",
    "for i in range(0 , n , 1):\n",
    "    for j in range(0 , m ,1):\n",
    "        matrix[i][j] = matrix2[count]\n",
    "        count += 1\n",
    "        \n",
    "print(matrix)\n",
    "\n",
    "for i in range(0 , n , 1):\n",
    "    for j in range(0 , m ,1):\n",
    "        print(matrix[i][j] , end = ' ')\n",
    "    print()\n",
    "\n",
    "\n"
   ]
  },
  {
   "cell_type": "code",
   "execution_count": 52,
   "id": "01bfd8ab",
   "metadata": {},
   "outputs": [
    {
     "name": "stdout",
     "output_type": "stream",
     "text": [
      "2 6\n"
     ]
    }
   ],
   "source": [
    "a,b = input().split()"
   ]
  },
  {
   "cell_type": "code",
   "execution_count": null,
   "id": "578a2deb",
   "metadata": {},
   "outputs": [],
   "source": []
  },
  {
   "cell_type": "code",
   "execution_count": null,
   "id": "ae135477",
   "metadata": {},
   "outputs": [],
   "source": []
  },
  {
   "cell_type": "code",
   "execution_count": null,
   "id": "c5dfce09",
   "metadata": {},
   "outputs": [],
   "source": []
  },
  {
   "cell_type": "code",
   "execution_count": null,
   "id": "2865ad8d",
   "metadata": {},
   "outputs": [],
   "source": []
  },
  {
   "cell_type": "code",
   "execution_count": null,
   "id": "01498a80",
   "metadata": {},
   "outputs": [],
   "source": []
  },
  {
   "cell_type": "code",
   "execution_count": null,
   "id": "0e5aecbe",
   "metadata": {},
   "outputs": [],
   "source": []
  },
  {
   "cell_type": "code",
   "execution_count": null,
   "id": "6f6455c5",
   "metadata": {},
   "outputs": [],
   "source": []
  }
 ],
 "metadata": {
  "kernelspec": {
   "display_name": "Python 3 (ipykernel)",
   "language": "python",
   "name": "python3"
  },
  "language_info": {
   "codemirror_mode": {
    "name": "ipython",
    "version": 3
   },
   "file_extension": ".py",
   "mimetype": "text/x-python",
   "name": "python",
   "nbconvert_exporter": "python",
   "pygments_lexer": "ipython3",
   "version": "3.9.7"
  }
 },
 "nbformat": 4,
 "nbformat_minor": 5
}
