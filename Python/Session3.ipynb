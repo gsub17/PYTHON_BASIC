{
 "cells": [
  {
   "cell_type": "markdown",
   "id": "2c38777e",
   "metadata": {},
   "source": [
    "## N no. from user then find the max and min from those"
   ]
  },
  {
   "cell_type": "code",
   "execution_count": null,
   "id": "198b4c4c",
   "metadata": {},
   "outputs": [],
   "source": [
    "min = 0\n",
    "max = 0\n",
    "while(1):\n",
    "    x = int(input())\n",
    "    if x > max:\n",
    "        max = x\n",
    "    elif x < min:\n",
    "        min = x\n",
    "    \n",
    "    print(max , min)\n",
    "    "
   ]
  },
  {
   "cell_type": "code",
   "execution_count": 2,
   "id": "8b740cbb",
   "metadata": {},
   "outputs": [
    {
     "name": "stdout",
     "output_type": "stream",
     "text": [
      "7\n",
      "2\n",
      "9\n",
      "-1\n",
      "3\n",
      "20\n",
      "20\n",
      "100\n",
      "34\n",
      "-1 100\n"
     ]
    }
   ],
   "source": [
    "x = int(input())\n",
    "min = 0 \n",
    "max = 0\n",
    "\n",
    "for t in range(x+1):\n",
    "    p = int(input())\n",
    "    if p > max :\n",
    "        max = p\n",
    "    elif p < min:\n",
    "        min = p\n",
    "        \n",
    "print(min , max)"
   ]
  },
  {
   "cell_type": "markdown",
   "id": "8374d19e",
   "metadata": {},
   "source": [
    "## check a given number is prime or not"
   ]
  },
  {
   "cell_type": "code",
   "execution_count": 10,
   "id": "3e982e39",
   "metadata": {},
   "outputs": [
    {
     "name": "stdout",
     "output_type": "stream",
     "text": [
      "53\n",
      "53 is a prime\n"
     ]
    }
   ],
   "source": [
    "x = int(input())\n",
    "count = True\n",
    "\n",
    "if x == 1:\n",
    "    print(\"not a prime\")\n",
    "    count = False\n",
    "else:\n",
    "    for k in range(2 , x ,1):\n",
    "        if x % k == 0:\n",
    "            print(f\"{x} is not a prime\")\n",
    "            count = False\n",
    "            break \n",
    "if count:\n",
    "    print(f\"{x} is a prime\")\n",
    "            \n",
    "            "
   ]
  },
  {
   "cell_type": "code",
   "execution_count": 14,
   "id": "10bed70f",
   "metadata": {},
   "outputs": [
    {
     "name": "stdout",
     "output_type": "stream",
     "text": [
      "10000\n",
      "10000 is not a prime\n"
     ]
    }
   ],
   "source": [
    "import math  # we are importing math library\n",
    "x = int(input())\n",
    "count = True\n",
    "p = int(math.sqrt(x)) # it will give float value \n",
    "\n",
    "if x == 1:\n",
    "    print(\"not a prime\")\n",
    "    count = False\n",
    "else:\n",
    "    for k in range(2 ,p +1):\n",
    "        if x % k == 0:\n",
    "            print(f\"{x} is not a prime\")\n",
    "            count = False\n",
    "            break \n",
    "if count:\n",
    "    print(f\"{x} is a prime\")"
   ]
  },
  {
   "cell_type": "markdown",
   "id": "3cef35b0",
   "metadata": {},
   "source": [
    "##  find the sum of odd and even digit of a number"
   ]
  },
  {
   "cell_type": "code",
   "execution_count": 20,
   "id": "cf4eb088",
   "metadata": {},
   "outputs": [
    {
     "name": "stdout",
     "output_type": "stream",
     "text": [
      "7489\n",
      "sum of odd is 16 and even is 12\n"
     ]
    }
   ],
   "source": [
    "x = int(input())\n",
    "\n",
    "odd = 0\n",
    "even = 0\n",
    "\n",
    "while(x > 0):\n",
    "    i = x % 10\n",
    "    if i % 2 == 0:\n",
    "        even = even + i\n",
    "    else:\n",
    "        odd = odd + i\n",
    "    x = int(x/10)\n",
    "    \n",
    "print(f\"sum of odd is {odd} and even is {even}\") # f string "
   ]
  },
  {
   "cell_type": "markdown",
   "id": "fc604a2e",
   "metadata": {},
   "source": [
    "## check if given no. is pallindrome or not"
   ]
  },
  {
   "cell_type": "code",
   "execution_count": 26,
   "id": "192d0449",
   "metadata": {},
   "outputs": [
    {
     "name": "stdout",
     "output_type": "stream",
     "text": [
      "1234\n",
      "not a pallindrome\n"
     ]
    }
   ],
   "source": [
    "x = int(input())\n",
    "z = x\n",
    "p = \"\"\n",
    "while(x > 0):\n",
    "    i = x %10\n",
    "    p =  p+ str(i)\n",
    "    x = int(x/10)\n",
    "\n",
    "q = int(p)\n",
    "if q == z:\n",
    "    print(f\"yes it {q} is a pallindrome of {z}\")\n",
    "else:\n",
    "          print(\"not a pallindrome\")\n",
    "          \n",
    "    "
   ]
  },
  {
   "cell_type": "markdown",
   "id": "a8c90c8b",
   "metadata": {},
   "source": [
    " ##9. Print the below pattern: Satiya¶\n",
    "N = 7\n",
    "\n",
    "*     * * * * \n",
    "*     *\n",
    "*     *\n",
    "* * * * * * *\n",
    "      *     *\n",
    "      *     *\n",
    "* * * *     *"
   ]
  },
  {
   "cell_type": "code",
   "execution_count": 40,
   "id": "b1797bd0",
   "metadata": {},
   "outputs": [
    {
     "name": "stdout",
     "output_type": "stream",
     "text": [
      "5\n",
      "* ***\n",
      "* *\n",
      "*****\n",
      "  * *\n",
      "*** *\n"
     ]
    }
   ],
   "source": [
    "x = int(input())\n",
    "x2 = x\n",
    "nsp = int(x / 2) - 1\n",
    "nsp2 = int(x/2)\n",
    "row = int(x/2) + 1\n",
    "\n",
    "i = 1\n",
    "while(i <= x):\n",
    "    \n",
    "    if i == int(x/2) + 1:                     # 4 \n",
    "        csp = 1\n",
    "        while(csp <= x2):\n",
    "            print(\"*\" , end=\"\")\n",
    "            csp += 1\n",
    "    elif i <= int(x/2):                         # 1 , 2 , 3\n",
    "        if i == 1:                               # 1\n",
    "            print(\"*\" , end=\"\")\n",
    "            csp2 = 1\n",
    "            while(csp2 <= nsp):\n",
    "                print(\" \" , end = \"\")\n",
    "                csp2 +=1\n",
    "            csp3 = 1\n",
    "            while(csp3 <= row):\n",
    "                print(\"*\" , end = \"\")\n",
    "                csp3 += 1\n",
    "        else:                                    # 2 , 3\n",
    "            print(\"*\" , end=\"\")\n",
    "            csp4 = 1\n",
    "            while(csp4 <= nsp):\n",
    "                print(\" \" , end = \"\")\n",
    "                csp4 += 1\n",
    "            print(\"*\" , end = \"\")\n",
    "    else:                                           # 5,6,7\n",
    "        if i == x2:\n",
    "            csp5 = 1\n",
    "            while(csp5 <= row):\n",
    "                print(\"*\" , end = \"\")\n",
    "                csp5 += 1\n",
    "            csp6 = 1\n",
    "            while(csp6 <= nsp):\n",
    "                print(\" \" , end = \"\")\n",
    "                csp6 +=1\n",
    "            print(\"*\" , end=\"\")\n",
    "        else:\n",
    "            csp7 = 1\n",
    "            while(csp7 <= nsp2):\n",
    "                print(\" \" , end = \"\")\n",
    "                csp7 += 1\n",
    "            print(\"*\" , end = \"\")\n",
    "            csp8 = 1\n",
    "            while(csp8 <= nsp):\n",
    "                print(\" \" , end = \"\")\n",
    "                csp8 += 1\n",
    "            print(\"*\" , end = \"\")\n",
    "            \n",
    "    print()\n",
    "    i += 1"
   ]
  },
  {
   "cell_type": "code",
   "execution_count": 30,
   "id": "05f25b60",
   "metadata": {},
   "outputs": [
    {
     "name": "stdout",
     "output_type": "stream",
     "text": [
      "* * * * * * * \n",
      "*           * \n",
      "*           * \n",
      "*           * \n",
      "*           * \n",
      "*           * \n",
      "* * * * * * * \n"
     ]
    }
   ],
   "source": [
    "n =7\n",
    "for i in range(n):\n",
    "    for j in range(n):\n",
    "        # update the conditions for swastik pattern \n",
    "        if i==0 or i==n-1 or j==0 or j==n-1:\n",
    "            print(\"*\", end=\" \")\n",
    "        else:\n",
    "            print(\" \", end=\" \")        \n",
    "    print()"
   ]
  }
 ],
 "metadata": {
  "kernelspec": {
   "display_name": "Python 3 (ipykernel)",
   "language": "python",
   "name": "python3"
  },
  "language_info": {
   "codemirror_mode": {
    "name": "ipython",
    "version": 3
   },
   "file_extension": ".py",
   "mimetype": "text/x-python",
   "name": "python",
   "nbconvert_exporter": "python",
   "pygments_lexer": "ipython3",
   "version": "3.9.7"
  }
 },
 "nbformat": 4,
 "nbformat_minor": 5
}
