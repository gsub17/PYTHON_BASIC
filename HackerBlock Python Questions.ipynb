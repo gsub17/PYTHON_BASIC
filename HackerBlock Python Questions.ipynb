{
 "cells": [
  {
   "cell_type": "code",
   "execution_count": null,
   "id": "012070be",
   "metadata": {},
   "outputs": [],
   "source": [
    "## print this pattern if i = 5\n",
    "1\n",
    "11\n",
    "202\n",
    "3003\n",
    "40004"
   ]
  },
  {
   "cell_type": "code",
   "execution_count": 2,
   "id": "c1cde95b",
   "metadata": {},
   "outputs": [
    {
     "name": "stdout",
     "output_type": "stream",
     "text": [
      "5\n",
      "1\n",
      "11\n",
      "202\n",
      "3003\n",
      "40004\n"
     ]
    }
   ],
   "source": [
    "x = int(input())\n",
    "i = 1\n",
    "print(i)\n",
    "\n",
    "while(i < x):\n",
    "    \n",
    "    if i == 1:\n",
    "        print(11 , end=\"\")\n",
    "        \n",
    "    else:\n",
    "        print(i , end=\"\")\n",
    "        \n",
    "        for t in range(1 , i , 1):\n",
    "            print(0 , end=\"\")\n",
    "            \n",
    "        print(i, end =\"\")\n",
    "        \n",
    "    print()\n",
    "    i +=1"
   ]
  },
  {
   "cell_type": "code",
   "execution_count": null,
   "id": "4b027631",
   "metadata": {},
   "outputs": [],
   "source": [
    "# print this pattern\n",
    "                       1 \n",
    "                     2 3 2\n",
    "                   3 4 5 4 3\n",
    "                 4 5 6 7 6 5 4"
   ]
  },
  {
   "cell_type": "code",
   "execution_count": 3,
   "id": "08a6f86b",
   "metadata": {},
   "outputs": [
    {
     "name": "stdout",
     "output_type": "stream",
     "text": [
      "4\n",
      "   1\n",
      "  232\n",
      " 34543\n",
      "4567654\n"
     ]
    }
   ],
   "source": [
    "x = int(input())\n",
    "nsp = x - 1\n",
    "i = 1\n",
    "\n",
    "while(i <= x):\n",
    "    csp = 1\n",
    "    while(csp <= nsp):\n",
    "        print(\" \" , end = \"\")\n",
    "        csp += 1\n",
    "        \n",
    "    p = i\n",
    "    for k in range(1 , i+1 ,1):\n",
    "        print(p , end =\"\")\n",
    "        p += 1\n",
    "        \n",
    "    p -= 2\n",
    "    for l in range(1 , i , 1):\n",
    "        print(p , end = \"\")\n",
    "        p -= 1\n",
    "        \n",
    "    nsp -= 1\n",
    "    print()\n",
    "    i += 1"
   ]
  },
  {
   "cell_type": "code",
   "execution_count": 6,
   "id": "6c8b5d16",
   "metadata": {},
   "outputs": [
    {
     "name": "stdout",
     "output_type": "stream",
     "text": [
      "4\n",
      " \t \t \t1\t\n",
      " \t \t2\t3\t2\t\n",
      " \t3\t4\t5\t4\t3\t\n",
      "4\t5\t6\t7\t6\t5\t4\t\n"
     ]
    }
   ],
   "source": [
    "x = int(input())\n",
    "nsp = x - 1\n",
    "i = 1\n",
    "\n",
    "while(i <= x):\n",
    "    csp = 1\n",
    "    while(csp <= nsp):\n",
    "        print(\" \" ,  end = \"\\t\" )   # \\t for tap space       1 \n",
    "                        2 1   1 2 \n",
    "                    3 2 1       1 2 3 \n",
    "                4 3 2 1           1 2 3 4 \n",
    "                    3 2 1       1 2 3 \n",
    "                        2 1   1 2 \n",
    "                            1 \n",
    "        csp += 1\n",
    "        \n",
    "    p = i\n",
    "    for k in range(1 , i+1 ,1):\n",
    "        print(p , end = \"\\t\")\n",
    "        p += 1\n",
    "        \n",
    "    p -= 2\n",
    "    for l in range(1 , i , 1):\n",
    "        print(p ,end = \"\\t\")\n",
    "        p -= 1\n",
    "        \n",
    "    nsp -= 1\n",
    "    print()\n",
    "    i += 1"
   ]
  },
  {
   "cell_type": "code",
   "execution_count": 15,
   "id": "8510cf87",
   "metadata": {},
   "outputs": [
    {
     "name": "stdout",
     "output_type": "stream",
     "text": [
      "5\n",
      "1\n",
      "2\t2\n",
      "3\t0\t3\n",
      "4\t0\t0\t4\n",
      "5\t0\t0\t0\t5\n"
     ]
    }
   ],
   "source": [
    "x = int(input())\n",
    "i = 1\n",
    "\n",
    "while(i <= x):\n",
    "    if i==1:\n",
    "        print(i , end =\"\")\n",
    "        \n",
    "    elif i == 2:\n",
    "        print(i , end=\"\\t\" )\n",
    "        print(i , end =\"\")\n",
    "    \n",
    "    else:\n",
    "        print(i , end=\"\\t\")\n",
    "        \n",
    "        for k in range ( 1 , i - 1 , 1):\n",
    "            print(0 , end=\"\\t\")\n",
    "            \n",
    "        print(i , end=\"\")\n",
    "        \n",
    "    print()\n",
    "    i += 1\n",
    "        "
   ]
  },
  {
   "cell_type": "code",
   "execution_count": null,
   "id": "d4520526",
   "metadata": {},
   "outputs": [],
   "source": [
    "                       1           1\n",
    "                       1 2       2 1  \n",
    "                       1 2 3   3 2 1\n",
    "                       1 2 3 4 3 2 1 "
   ]
  },
  {
   "cell_type": "code",
   "execution_count": 22,
   "id": "05396073",
   "metadata": {},
   "outputs": [
    {
     "name": "stdout",
     "output_type": "stream",
     "text": [
      "4\n",
      "1\t \t \t \t \t \t1\t\n",
      "1\t2\t \t \t \t2\t1\t\n",
      "1\t2\t3\t \t3\t2\t1\t\n",
      "1\t2\t3\t4\t3\t2\t1\t\n"
     ]
    }
   ],
   "source": [
    "x = int(input())\n",
    "i = 1\n",
    "nsp = x + 1\n",
    "nst = 1\n",
    "\n",
    "while( i <= x):\n",
    "    \n",
    "    cst  = 1\n",
    "    while(cst <= nst):\n",
    "        print(cst , end=\"\\t\")\n",
    "        cst += 1\n",
    "    \n",
    "    \n",
    "    csp = 1\n",
    "    while(csp <= nsp):\n",
    "        print(\" \" , end=\"\\t\")\n",
    "        csp += 1\n",
    "    \n",
    "    if i == x:\n",
    "        cst2 = i - 1\n",
    "        while(cst2 > 0):\n",
    "            print(cst2 , end=\"\\t\")\n",
    "            cst2 -= 1\n",
    "    else:\n",
    "        cst2 = cst - 1\n",
    "        while(cst2 > 0):\n",
    "            print(cst2 , end=\"\\t\")\n",
    "            cst2 -=1\n",
    "        \n",
    "    \n",
    "    \n",
    "    \n",
    "    i+=1\n",
    "    nst += 1\n",
    "    nsp -= 2\n",
    "    print()"
   ]
  },
  {
   "cell_type": "code",
   "execution_count": null,
   "id": "02e122e3",
   "metadata": {},
   "outputs": [],
   "source": [
    "                            1 \n",
    "                        2 1   1 2 \n",
    "                    3 2 1       1 2 3 \n",
    "                4 3 2 1           1 2 3 4 \n",
    "                    3 2 1       1 2 3 \n",
    "                        2 1   1 2 \n",
    "                            1 "
   ]
  },
  {
   "cell_type": "code",
   "execution_count": 24,
   "id": "b80ade53",
   "metadata": {},
   "outputs": [
    {
     "name": "stdout",
     "output_type": "stream",
     "text": [
      "7\n",
      "      1\n",
      "\n",
      "    21   -10\n",
      "  321     -101\n",
      "4321       -1012\n",
      "54321         -10123\n",
      "654321           -101234\n",
      "\n"
     ]
    }
   ],
   "source": [
    "x = int(input())\n",
    "nsp = x - 1\n",
    "i = 1\n",
    "nsp2 = 1\n",
    "\n",
    "while(i <= x):\n",
    "    \n",
    "    if(i == 1):\n",
    "        csp = 1\n",
    "        while(csp <= nsp):\n",
    "            print(\" \" , end=\"\")\n",
    "            csp += 1\n",
    "            \n",
    "        print(1)\n",
    "        \n",
    "    elif(i == x):\n",
    "        csp = 1\n",
    "        while(csp <= nsp):\n",
    "            print(\" \" , end=\"\")\n",
    "            csp += 1\n",
    "            \n",
    "    else:\n",
    "        csp = 1\n",
    "        while(csp <= nsp):\n",
    "            print(\" \" , end=\"\")\n",
    "            csp += 1\n",
    "            \n",
    "        num = i\n",
    "        for p in range(1 , i + 1 , 1):\n",
    "            print(num , end =\"\")\n",
    "            num -= 1\n",
    "            \n",
    "        csp2 = 1\n",
    "        while(csp2 <= nsp2):\n",
    "            print(\" \" , end = \"\")\n",
    "            csp2+=1\n",
    "            \n",
    "        num2 = num - 1\n",
    "        for k in range(1 , i+1,1):\n",
    "            print(num2 , end=\"\")\n",
    "            num2 += 1\n",
    "            \n",
    "        \n",
    "        \n",
    "    nsp2 += 2\n",
    "    nsp -= 2\n",
    "    i+=1\n",
    "    print()"
   ]
  },
  {
   "cell_type": "code",
   "execution_count": null,
   "id": "c22c9c64",
   "metadata": {},
   "outputs": [],
   "source": [
    "## pattern\n",
    "1 \n",
    "11\n",
    "111 \n",
    "1001 \n",
    "11111\n",
    "100001"
   ]
  },
  {
   "cell_type": "code",
   "execution_count": 1,
   "id": "bd5e3961",
   "metadata": {},
   "outputs": [
    {
     "name": "stdout",
     "output_type": "stream",
     "text": [
      "6\n",
      "1\n",
      "11\n",
      "111\n",
      "1001\n",
      "11111\n",
      "100001\n"
     ]
    }
   ],
   "source": [
    "x = int(input())\n",
    "\n",
    "i = 1\n",
    "\n",
    "while(i <= x):\n",
    "\n",
    "\tif i % 2 != 0:\n",
    "\t\tfor k in range( 1 , i + 1 , 1):\n",
    "\t\t\tprint(1 , end=\"\")\n",
    "\telif i == 2:\n",
    "\t\tprint(11 , end=\"\")\n",
    "\telse:\n",
    "\t\tprint(1 , end = \"\")\n",
    "\t\tt = i - 2\n",
    "\t\tfor l in range(1 , t + 1 , 1 ):\n",
    "\t\t\tprint(0 , end = \"\")\n",
    "\t\tprint(1 , end = \"\")\n",
    "\n",
    "\n",
    "\ti += 1\n",
    "\tprint()"
   ]
  },
  {
   "cell_type": "code",
   "execution_count": null,
   "id": "28129c3b",
   "metadata": {},
   "outputs": [],
   "source": [
    "## pattern\n",
    "1 2 3 4 5\n",
    "1 2 3 4 * \n",
    "1 2 3 * * *\n",
    "1 2 * * * * *\n",
    "1 * * * * * * *"
   ]
  },
  {
   "cell_type": "code",
   "execution_count": 5,
   "id": "fd5e4dbc",
   "metadata": {},
   "outputs": [
    {
     "ename": "IndentationError",
     "evalue": "unindent does not match any outer indentation level (<tokenize>, line 27)",
     "output_type": "error",
     "traceback": [
      "\u001b[1;36m  File \u001b[1;32m\"<tokenize>\"\u001b[1;36m, line \u001b[1;32m27\u001b[0m\n\u001b[1;33m    nsp -= 1\u001b[0m\n\u001b[1;37m    ^\u001b[0m\n\u001b[1;31mIndentationError\u001b[0m\u001b[1;31m:\u001b[0m unindent does not match any outer indentation level\n"
     ]
    }
   ],
   "source": [
    "x = int(input())\n",
    "nsp = 5\n",
    "nst = 0\n",
    "i = 1\n",
    "\n",
    "while(i <= x):\n",
    "\n",
    "\tif i == 1:\n",
    "         csp = 1\n",
    "         while(csp <= nsp):\n",
    "\t\t      print(csp , end=\"\")\n",
    "\t\t     csp += 1\n",
    "\t\t\t nst += 1\n",
    "\n",
    "\telse: \n",
    "\t\tcsp = 1\n",
    "\t\twhile(csp <= nsp):\n",
    "\t\t\tprint(csp , end=\"\")\n",
    "\t\t\tcsp += 1\t\n",
    "\t\n",
    "        cst = 1\n",
    "\t\twhile(cst <= nst):\n",
    "\t\t\tprint(cst , end = \"\")\n",
    "\t\t\tcst += 1 \n",
    "    \n",
    "\tnst += 2\n",
    "    nsp -= 1\n",
    "\ti += 1\n",
    "\tprint()"
   ]
  },
  {
   "cell_type": "code",
   "execution_count": 9,
   "id": "9ab0e57b",
   "metadata": {},
   "outputs": [
    {
     "name": "stdout",
     "output_type": "stream",
     "text": [
      "5\n",
      "12345\n",
      "1234*\n",
      "123***\n",
      "12*****\n",
      "1*******\n"
     ]
    }
   ],
   "source": [
    "x = int(input())\n",
    "nsp = x\n",
    "nst = 0\n",
    "i = 1\n",
    "\n",
    "while(i <= x):\n",
    "    \n",
    "    if i == 1:\n",
    "        csp = 1\n",
    "        while(csp <= nsp):\n",
    "            print(csp , end=\"\")\n",
    "            csp += 1\n",
    "            nst = -1\n",
    "    else:\n",
    "        csp = 1\n",
    "        while(csp <= nsp):\n",
    "            print(csp , end=\"\")\n",
    "            csp += 1\n",
    "        \n",
    "        cst = 1\n",
    "        while(cst <= nst):\n",
    "            print(\"*\" , end=\"\")\n",
    "            cst += 1\n",
    "    \n",
    "   \n",
    "\n",
    "    print()\n",
    "    nsp -= 1\n",
    "    nst += 2\n",
    "    i += 1\n",
    "    \n"
   ]
  },
  {
   "cell_type": "code",
   "execution_count": null,
   "id": "4419a215",
   "metadata": {},
   "outputs": [],
   "source": [
    " ##9. Print the below pattern: Satiya¶\n",
    "N = 7\n",
    "\n",
    "*     * * * * \n",
    "*     *\n",
    "*     *\n",
    "* * * * * * *\n",
    "      *     *\n",
    "      *     *\n",
    "* * * *     *"
   ]
  },
  {
   "cell_type": "code",
   "execution_count": 2,
   "id": "cce825b5",
   "metadata": {},
   "outputs": [
    {
     "name": "stdout",
     "output_type": "stream",
     "text": [
      "19\n",
      "*        **********\n",
      "*        *\n",
      "*        *\n",
      "*        *\n",
      "*        *\n",
      "*        *\n",
      "*        *\n",
      "*        *\n",
      "*        *\n",
      "*******************\n",
      "         *        *\n",
      "         *        *\n",
      "         *        *\n",
      "         *        *\n",
      "         *        *\n",
      "         *        *\n",
      "         *        *\n",
      "         *        *\n",
      "**********        *\n"
     ]
    }
   ],
   "source": [
    "x = int(input())\n",
    "x2 = x\n",
    "nsp = int(x / 2) - 1\n",
    "nsp2 = int(x/2)\n",
    "row = int(x/2) + 1\n",
    "\n",
    "i = 1\n",
    "while(i <= x):\n",
    "    \n",
    "    if i == int(x/2) + 1:                     # 4 \n",
    "        csp = 1\n",
    "        while(csp <= x2):\n",
    "            print(\"*\" , end=\"\")\n",
    "            csp += 1\n",
    "    elif i <= int(x/2):                         # 1 , 2 , 3\n",
    "        if i == 1:                               # 1\n",
    "            print(\"*\" , end=\"\")\n",
    "            csp2 = 1\n",
    "            while(csp2 <= nsp):\n",
    "                print(\" \" , end = \"\")\n",
    "                csp2 +=1\n",
    "            csp3 = 1\n",
    "            while(csp3 <= row):\n",
    "                print(\"*\" , end = \"\")\n",
    "                csp3 += 1\n",
    "        else:                                    # 2 , 3\n",
    "            print(\"*\" , end=\"\")\n",
    "            csp4 = 1\n",
    "            while(csp4 <= nsp):\n",
    "                print(\" \" , end = \"\")\n",
    "                csp4 += 1\n",
    "            print(\"*\" , end = \"\")\n",
    "    else:                                           # 5,6,7\n",
    "        if i == x2:\n",
    "            csp5 = 1\n",
    "            while(csp5 <= row):\n",
    "                print(\"*\" , end = \"\")\n",
    "                csp5 += 1\n",
    "            csp6 = 1\n",
    "            while(csp6 <= nsp):\n",
    "                print(\" \" , end = \"\")\n",
    "                csp6 +=1\n",
    "            print(\"*\" , end=\"\")\n",
    "        else:\n",
    "            csp7 = 1\n",
    "            while(csp7 <= nsp2):\n",
    "                print(\" \" , end = \"\")\n",
    "                csp7 += 1\n",
    "            print(\"*\" , end = \"\")\n",
    "            csp8 = 1\n",
    "            while(csp8 <= nsp):\n",
    "                print(\" \" , end = \"\")\n",
    "                csp8 += 1\n",
    "            print(\"*\" , end = \"\")\n",
    "            \n",
    "    print()\n",
    "    i += 1"
   ]
  },
  {
   "cell_type": "code",
   "execution_count": null,
   "id": "e0d98164",
   "metadata": {},
   "outputs": [],
   "source": []
  },
  {
   "cell_type": "code",
   "execution_count": null,
   "id": "76ff37fc",
   "metadata": {},
   "outputs": [],
   "source": []
  },
  {
   "cell_type": "code",
   "execution_count": null,
   "id": "f9c05f93",
   "metadata": {},
   "outputs": [],
   "source": []
  },
  {
   "cell_type": "code",
   "execution_count": null,
   "id": "05d956cc",
   "metadata": {},
   "outputs": [],
   "source": []
  }
 ],
 "metadata": {
  "kernelspec": {
   "display_name": "Python 3 (ipykernel)",
   "language": "python",
   "name": "python3"
  },
  "language_info": {
   "codemirror_mode": {
    "name": "ipython",
    "version": 3
   },
   "file_extension": ".py",
   "mimetype": "text/x-python",
   "name": "python",
   "nbconvert_exporter": "python",
   "pygments_lexer": "ipython3",
   "version": "3.9.7"
  }
 },
 "nbformat": 4,
 "nbformat_minor": 5
}
