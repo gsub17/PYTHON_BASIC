{
 "cells": [
  {
   "cell_type": "code",
   "execution_count": null,
   "id": "012070be",
   "metadata": {},
   "outputs": [],
   "source": [
    "## print this pattern if i = 5\n",
    "1\n",
    "11\n",
    "202\n",
    "3003\n",
    "40004"
   ]
  },
  {
   "cell_type": "code",
   "execution_count": 2,
   "id": "c1cde95b",
   "metadata": {},
   "outputs": [
    {
     "name": "stdout",
     "output_type": "stream",
     "text": [
      "5\n",
      "1\n",
      "11\n",
      "202\n",
      "3003\n",
      "40004\n"
     ]
    }
   ],
   "source": [
    "x = int(input())\n",
    "i = 1\n",
    "print(i)\n",
    "\n",
    "while(i < x):\n",
    "    \n",
    "    if i == 1:\n",
    "        print(11 , end=\"\")\n",
    "        \n",
    "    else:\n",
    "        print(i , end=\"\")\n",
    "        \n",
    "        for t in range(1 , i , 1):\n",
    "            print(0 , end=\"\")\n",
    "            \n",
    "        print(i, end =\"\")\n",
    "        \n",
    "    print()\n",
    "    i +=1"
   ]
  },
  {
   "cell_type": "code",
   "execution_count": null,
   "id": "4b027631",
   "metadata": {},
   "outputs": [],
   "source": [
    "# print this pattern\n",
    "                       1 \n",
    "                     2 3 2\n",
    "                   3 4 5 4 3\n",
    "                 4 5 6 7 6 5 4"
   ]
  },
  {
   "cell_type": "code",
   "execution_count": 3,
   "id": "08a6f86b",
   "metadata": {},
   "outputs": [
    {
     "name": "stdout",
     "output_type": "stream",
     "text": [
      "4\n",
      "   1\n",
      "  232\n",
      " 34543\n",
      "4567654\n"
     ]
    }
   ],
   "source": [
    "x = int(input())\n",
    "nsp = x - 1\n",
    "i = 1\n",
    "\n",
    "while(i <= x):\n",
    "    csp = 1\n",
    "    while(csp <= nsp):\n",
    "        print(\" \" , end = \"\")\n",
    "        csp += 1\n",
    "        \n",
    "    p = i\n",
    "    for k in range(1 , i+1 ,1):\n",
    "        print(p , end =\"\")\n",
    "        p += 1\n",
    "        \n",
    "    p -= 2\n",
    "    for l in range(1 , i , 1):\n",
    "        print(p , end = \"\")\n",
    "        p -= 1\n",
    "        \n",
    "    nsp -= 1\n",
    "    print()\n",
    "    i += 1"
   ]
  },
  {
   "cell_type": "code",
   "execution_count": 6,
   "id": "6c8b5d16",
   "metadata": {},
   "outputs": [
    {
     "name": "stdout",
     "output_type": "stream",
     "text": [
      "4\n",
      " \t \t \t1\t\n",
      " \t \t2\t3\t2\t\n",
      " \t3\t4\t5\t4\t3\t\n",
      "4\t5\t6\t7\t6\t5\t4\t\n"
     ]
    }
   ],
   "source": [
    "x = int(input())\n",
    "nsp = x - 1\n",
    "i = 1\n",
    "\n",
    "while(i <= x):\n",
    "    csp = 1\n",
    "    while(csp <= nsp):\n",
    "        print(\" \" ,  end = \"\\t\" )   # \\t for tap space       1 \n",
    "                        2 1   1 2 \n",
    "                    3 2 1       1 2 3 \n",
    "                4 3 2 1           1 2 3 4 \n",
    "                    3 2 1       1 2 3 \n",
    "                        2 1   1 2 \n",
    "                            1 \n",
    "        csp += 1\n",
    "        \n",
    "    p = i\n",
    "    for k in range(1 , i+1 ,1):\n",
    "        print(p , end = \"\\t\")\n",
    "        p += 1\n",
    "        \n",
    "    p -= 2\n",
    "    for l in range(1 , i , 1):\n",
    "        print(p ,end = \"\\t\")\n",
    "        p -= 1\n",
    "        \n",
    "    nsp -= 1\n",
    "    print()\n",
    "    i += 1"
   ]
  },
  {
   "cell_type": "code",
   "execution_count": 15,
   "id": "8510cf87",
   "metadata": {},
   "outputs": [
    {
     "name": "stdout",
     "output_type": "stream",
     "text": [
      "5\n",
      "1\n",
      "2\t2\n",
      "3\t0\t3\n",
      "4\t0\t0\t4\n",
      "5\t0\t0\t0\t5\n"
     ]
    }
   ],
   "source": [
    "x = int(input())\n",
    "i = 1\n",
    "\n",
    "while(i <= x):\n",
    "    if i==1:\n",
    "        print(i , end =\"\")\n",
    "        \n",
    "    elif i == 2:\n",
    "        print(i , end=\"\\t\" )\n",
    "        print(i , end =\"\")\n",
    "    \n",
    "    else:\n",
    "        print(i , end=\"\\t\")\n",
    "        \n",
    "        for k in range ( 1 , i - 1 , 1):\n",
    "            print(0 , end=\"\\t\")\n",
    "            \n",
    "        print(i , end=\"\")\n",
    "        \n",
    "    print()\n",
    "    i += 1\n",
    "        "
   ]
  },
  {
   "cell_type": "code",
   "execution_count": null,
   "id": "d4520526",
   "metadata": {},
   "outputs": [],
   "source": [
    "                       1           1\n",
    "                       1 2       2 1  \n",
    "                       1 2 3   3 2 1\n",
    "                       1 2 3 4 3 2 1 "
   ]
  },
  {
   "cell_type": "code",
   "execution_count": 22,
   "id": "05396073",
   "metadata": {},
   "outputs": [
    {
     "name": "stdout",
     "output_type": "stream",
     "text": [
      "4\n",
      "1\t \t \t \t \t \t1\t\n",
      "1\t2\t \t \t \t2\t1\t\n",
      "1\t2\t3\t \t3\t2\t1\t\n",
      "1\t2\t3\t4\t3\t2\t1\t\n"
     ]
    }
   ],
   "source": [
    "x = int(input())\n",
    "i = 1\n",
    "nsp = x + 1\n",
    "nst = 1\n",
    "\n",
    "while( i <= x):\n",
    "    \n",
    "    cst  = 1\n",
    "    while(cst <= nst):\n",
    "        print(cst , end=\"\\t\")\n",
    "        cst += 1\n",
    "    \n",
    "    \n",
    "    csp = 1\n",
    "    while(csp <= nsp):\n",
    "        print(\" \" , end=\"\\t\")\n",
    "        csp += 1\n",
    "    \n",
    "    if i == x:\n",
    "        cst2 = i - 1\n",
    "        while(cst2 > 0):\n",
    "            print(cst2 , end=\"\\t\")\n",
    "            cst2 -= 1\n",
    "    else:\n",
    "        cst2 = cst - 1\n",
    "        while(cst2 > 0):\n",
    "            print(cst2 , end=\"\\t\")\n",
    "            cst2 -=1\n",
    "        \n",
    "    \n",
    "    \n",
    "    \n",
    "    i+=1\n",
    "    nst += 1\n",
    "    nsp -= 2\n",
    "    print()"
   ]
  },
  {
   "cell_type": "code",
   "execution_count": null,
   "id": "02e122e3",
   "metadata": {},
   "outputs": [],
   "source": [
    "                            1 \n",
    "                        2 1   1 2 \n",
    "                    3 2 1       1 2 3 \n",
    "                4 3 2 1           1 2 3 4 \n",
    "                    3 2 1       1 2 3 \n",
    "                        2 1   1 2 \n",
    "                            1 "
   ]
  },
  {
   "cell_type": "code",
   "execution_count": 24,
   "id": "b80ade53",
   "metadata": {},
   "outputs": [
    {
     "name": "stdout",
     "output_type": "stream",
     "text": [
      "7\n",
      "      1\n",
      "\n",
      "    21   -10\n",
      "  321     -101\n",
      "4321       -1012\n",
      "54321         -10123\n",
      "654321           -101234\n",
      "\n"
     ]
    }
   ],
   "source": [
    "x = int(input())\n",
    "nsp = x - 1\n",
    "i = 1\n",
    "nsp2 = 1\n",
    "\n",
    "while(i <= x):\n",
    "    \n",
    "    if(i == 1):\n",
    "        csp = 1\n",
    "        while(csp <= nsp):\n",
    "            print(\" \" , end=\"\")\n",
    "            csp += 1\n",
    "            \n",
    "        print(1)\n",
    "        \n",
    "    elif(i == x):\n",
    "        csp = 1\n",
    "        while(csp <= nsp):\n",
    "            print(\" \" , end=\"\")\n",
    "            csp += 1\n",
    "            \n",
    "    else:\n",
    "        csp = 1\n",
    "        while(csp <= nsp):\n",
    "            print(\" \" , end=\"\")\n",
    "            csp += 1\n",
    "            \n",
    "        num = i\n",
    "        for p in range(1 , i + 1 , 1):\n",
    "            print(num , end =\"\")\n",
    "            num -= 1\n",
    "            \n",
    "        csp2 = 1\n",
    "        while(csp2 <= nsp2):\n",
    "            print(\" \" , end = \"\")\n",
    "            csp2+=1\n",
    "            \n",
    "        num2 = num - 1\n",
    "        for k in range(1 , i+1,1):\n",
    "            print(num2 , end=\"\")\n",
    "            num2 += 1\n",
    "            \n",
    "        \n",
    "        \n",
    "    nsp2 += 2\n",
    "    nsp -= 2\n",
    "    i+=1\n",
    "    print()"
   ]
  },
  {
   "cell_type": "code",
   "execution_count": null,
   "id": "c22c9c64",
   "metadata": {},
   "outputs": [],
   "source": [
    "## pattern\n",
    "1 \n",
    "11\n",
    "111 \n",
    "1001 \n",
    "11111\n",
    "100001"
   ]
  },
  {
   "cell_type": "code",
   "execution_count": 1,
   "id": "bd5e3961",
   "metadata": {},
   "outputs": [
    {
     "name": "stdout",
     "output_type": "stream",
     "text": [
      "6\n",
      "1\n",
      "11\n",
      "111\n",
      "1001\n",
      "11111\n",
      "100001\n"
     ]
    }
   ],
   "source": [
    "x = int(input())\n",
    "\n",
    "i = 1\n",
    "\n",
    "while(i <= x):\n",
    "\n",
    "\tif i % 2 != 0:\n",
    "\t\tfor k in range( 1 , i + 1 , 1):\n",
    "\t\t\tprint(1 , end=\"\")\n",
    "\telif i == 2:\n",
    "\t\tprint(11 , end=\"\")\n",
    "\telse:\n",
    "\t\tprint(1 , end = \"\")\n",
    "\t\tt = i - 2\n",
    "\t\tfor l in range(1 , t + 1 , 1 ):\n",
    "\t\t\tprint(0 , end = \"\")\n",
    "\t\tprint(1 , end = \"\")\n",
    "\n",
    "\n",
    "\ti += 1\n",
    "\tprint()"
   ]
  },
  {
   "cell_type": "code",
   "execution_count": null,
   "id": "28129c3b",
   "metadata": {},
   "outputs": [],
   "source": [
    "## pattern\n",
    "1 2 3 4 5\n",
    "1 2 3 4 * \n",
    "1 2 3 * * *\n",
    "1 2 * * * * *\n",
    "1 * * * * * * *"
   ]
  },
  {
   "cell_type": "code",
   "execution_count": 5,
   "id": "fd5e4dbc",
   "metadata": {},
   "outputs": [
    {
     "ename": "IndentationError",
     "evalue": "unindent does not match any outer indentation level (<tokenize>, line 27)",
     "output_type": "error",
     "traceback": [
      "\u001b[1;36m  File \u001b[1;32m\"<tokenize>\"\u001b[1;36m, line \u001b[1;32m27\u001b[0m\n\u001b[1;33m    nsp -= 1\u001b[0m\n\u001b[1;37m    ^\u001b[0m\n\u001b[1;31mIndentationError\u001b[0m\u001b[1;31m:\u001b[0m unindent does not match any outer indentation level\n"
     ]
    }
   ],
   "source": [
    "x = int(input())\n",
    "nsp = 5\n",
    "nst = 0\n",
    "i = 1\n",
    "\n",
    "while(i <= x):\n",
    "\n",
    "\tif i == 1:\n",
    "         csp = 1\n",
    "         while(csp <= nsp):\n",
    "\t\t      print(csp , end=\"\")\n",
    "\t\t     csp += 1\n",
    "\t\t\t nst += 1\n",
    "\n",
    "\telse: \n",
    "\t\tcsp = 1\n",
    "\t\twhile(csp <= nsp):\n",
    "\t\t\tprint(csp , end=\"\")\n",
    "\t\t\tcsp += 1\t\n",
    "\t\n",
    "        cst = 1\n",
    "\t\twhile(cst <= nst):\n",
    "\t\t\tprint(cst , end = \"\")\n",
    "\t\t\tcst += 1 \n",
    "    \n",
    "\tnst += 2\n",
    "    nsp -= 1\n",
    "\ti += 1\n",
    "\tprint()"
   ]
  },
  {
   "cell_type": "code",
   "execution_count": 9,
   "id": "9ab0e57b",
   "metadata": {},
   "outputs": [
    {
     "name": "stdout",
     "output_type": "stream",
     "text": [
      "5\n",
      "12345\n",
      "1234*\n",
      "123***\n",
      "12*****\n",
      "1*******\n"
     ]
    }
   ],
   "source": [
    "x = int(input())\n",
    "nsp = x\n",
    "nst = 0\n",
    "i = 1\n",
    "\n",
    "while(i <= x):\n",
    "    \n",
    "    if i == 1:\n",
    "        csp = 1\n",
    "        while(csp <= nsp):\n",
    "            print(csp , end=\"\")\n",
    "            csp += 1\n",
    "            nst = -1\n",
    "    else:\n",
    "        csp = 1\n",
    "        while(csp <= nsp):\n",
    "            print(csp , end=\"\")\n",
    "            csp += 1\n",
    "        \n",
    "        cst = 1\n",
    "        while(cst <= nst):\n",
    "            print(\"*\" , end=\"\")\n",
    "            cst += 1\n",
    "    \n",
    "   \n",
    "\n",
    "    print()\n",
    "    nsp -= 1\n",
    "    nst += 2\n",
    "    i += 1\n",
    "    \n"
   ]
  },
  {
   "cell_type": "code",
   "execution_count": null,
   "id": "4419a215",
   "metadata": {},
   "outputs": [],
   "source": [
    " ##9. Print the below pattern: Satiya¶\n",
    "N = 7\n",
    "\n",
    "*     * * * * \n",
    "*     *\n",
    "*     *\n",
    "* * * * * * *\n",
    "      *     *\n",
    "      *     *\n",
    "* * * *     *"
   ]
  },
  {
   "cell_type": "code",
   "execution_count": 2,
   "id": "cce825b5",
   "metadata": {},
   "outputs": [
    {
     "name": "stdout",
     "output_type": "stream",
     "text": [
      "19\n",
      "*        **********\n",
      "*        *\n",
      "*        *\n",
      "*        *\n",
      "*        *\n",
      "*        *\n",
      "*        *\n",
      "*        *\n",
      "*        *\n",
      "*******************\n",
      "         *        *\n",
      "         *        *\n",
      "         *        *\n",
      "         *        *\n",
      "         *        *\n",
      "         *        *\n",
      "         *        *\n",
      "         *        *\n",
      "**********        *\n"
     ]
    }
   ],
   "source": [
    "x = int(input())\n",
    "x2 = x\n",
    "nsp = int(x / 2) - 1\n",
    "nsp2 = int(x/2)\n",
    "row = int(x/2) + 1\n",
    "\n",
    "i = 1\n",
    "while(i <= x):\n",
    "    \n",
    "    if i == int(x/2) + 1:                     # 4 \n",
    "        csp = 1\n",
    "        while(csp <= x2):\n",
    "            print(\"*\" , end=\"\")\n",
    "            csp += 1\n",
    "    elif i <= int(x/2):                         # 1 , 2 , 3\n",
    "        if i == 1:                               # 1\n",
    "            print(\"*\" , end=\"\")\n",
    "            csp2 = 1\n",
    "            while(csp2 <= nsp):\n",
    "                print(\" \" , end = \"\")\n",
    "                csp2 +=1\n",
    "            csp3 = 1\n",
    "            while(csp3 <= row):\n",
    "                print(\"*\" , end = \"\")\n",
    "                csp3 += 1\n",
    "        else:                                    # 2 , 3\n",
    "            print(\"*\" , end=\"\")\n",
    "            csp4 = 1\n",
    "            while(csp4 <= nsp):\n",
    "                print(\" \" , end = \"\")\n",
    "                csp4 += 1\n",
    "            print(\"*\" , end = \"\")\n",
    "    else:                                           # 5,6,7\n",
    "        if i == x2:\n",
    "            csp5 = 1\n",
    "            while(csp5 <= row):\n",
    "                print(\"*\" , end = \"\")\n",
    "                csp5 += 1\n",
    "            csp6 = 1\n",
    "            while(csp6 <= nsp):\n",
    "                print(\" \" , end = \"\")\n",
    "                csp6 +=1\n",
    "            print(\"*\" , end=\"\")\n",
    "        else:\n",
    "            csp7 = 1\n",
    "            while(csp7 <= nsp2):\n",
    "                print(\" \" , end = \"\")\n",
    "                csp7 += 1\n",
    "            print(\"*\" , end = \"\")\n",
    "            csp8 = 1\n",
    "            while(csp8 <= nsp):\n",
    "                print(\" \" , end = \"\")\n",
    "                csp8 += 1\n",
    "            print(\"*\" , end = \"\")\n",
    "            \n",
    "    print()\n",
    "    i += 1"
   ]
  },
  {
   "cell_type": "code",
   "execution_count": 4,
   "id": "e0d98164",
   "metadata": {},
   "outputs": [
    {
     "name": "stdout",
     "output_type": "stream",
     "text": [
      "[[ 0.  0.  5. ...  0.  0.  0.]\n",
      " [ 0.  0.  0. ... 10.  0.  0.]\n",
      " [ 0.  0.  0. ... 16.  9.  0.]\n",
      " ...\n",
      " [ 0.  0.  1. ...  6.  0.  0.]\n",
      " [ 0.  0.  2. ... 12.  0.  0.]\n",
      " [ 0.  0. 10. ... 12.  1.  0.]]\n",
      "[0 1 2 ... 8 9 8]\n",
      "-------------------------\n",
      "[[5.1 3.5 1.4 0.2]\n",
      " [4.9 3.  1.4 0.2]\n",
      " [4.7 3.2 1.3 0.2]\n",
      " [4.6 3.1 1.5 0.2]\n",
      " [5.  3.6 1.4 0.2]\n",
      " [5.4 3.9 1.7 0.4]\n",
      " [4.6 3.4 1.4 0.3]\n",
      " [5.  3.4 1.5 0.2]\n",
      " [4.4 2.9 1.4 0.2]\n",
      " [4.9 3.1 1.5 0.1]\n",
      " [5.4 3.7 1.5 0.2]\n",
      " [4.8 3.4 1.6 0.2]\n",
      " [4.8 3.  1.4 0.1]\n",
      " [4.3 3.  1.1 0.1]\n",
      " [5.8 4.  1.2 0.2]\n",
      " [5.7 4.4 1.5 0.4]\n",
      " [5.4 3.9 1.3 0.4]\n",
      " [5.1 3.5 1.4 0.3]\n",
      " [5.7 3.8 1.7 0.3]\n",
      " [5.1 3.8 1.5 0.3]\n",
      " [5.4 3.4 1.7 0.2]\n",
      " [5.1 3.7 1.5 0.4]\n",
      " [4.6 3.6 1.  0.2]\n",
      " [5.1 3.3 1.7 0.5]\n",
      " [4.8 3.4 1.9 0.2]\n",
      " [5.  3.  1.6 0.2]\n",
      " [5.  3.4 1.6 0.4]\n",
      " [5.2 3.5 1.5 0.2]\n",
      " [5.2 3.4 1.4 0.2]\n",
      " [4.7 3.2 1.6 0.2]\n",
      " [4.8 3.1 1.6 0.2]\n",
      " [5.4 3.4 1.5 0.4]\n",
      " [5.2 4.1 1.5 0.1]\n",
      " [5.5 4.2 1.4 0.2]\n",
      " [4.9 3.1 1.5 0.2]\n",
      " [5.  3.2 1.2 0.2]\n",
      " [5.5 3.5 1.3 0.2]\n",
      " [4.9 3.6 1.4 0.1]\n",
      " [4.4 3.  1.3 0.2]\n",
      " [5.1 3.4 1.5 0.2]\n",
      " [5.  3.5 1.3 0.3]\n",
      " [4.5 2.3 1.3 0.3]\n",
      " [4.4 3.2 1.3 0.2]\n",
      " [5.  3.5 1.6 0.6]\n",
      " [5.1 3.8 1.9 0.4]\n",
      " [4.8 3.  1.4 0.3]\n",
      " [5.1 3.8 1.6 0.2]\n",
      " [4.6 3.2 1.4 0.2]\n",
      " [5.3 3.7 1.5 0.2]\n",
      " [5.  3.3 1.4 0.2]\n",
      " [7.  3.2 4.7 1.4]\n",
      " [6.4 3.2 4.5 1.5]\n",
      " [6.9 3.1 4.9 1.5]\n",
      " [5.5 2.3 4.  1.3]\n",
      " [6.5 2.8 4.6 1.5]\n",
      " [5.7 2.8 4.5 1.3]\n",
      " [6.3 3.3 4.7 1.6]\n",
      " [4.9 2.4 3.3 1. ]\n",
      " [6.6 2.9 4.6 1.3]\n",
      " [5.2 2.7 3.9 1.4]\n",
      " [5.  2.  3.5 1. ]\n",
      " [5.9 3.  4.2 1.5]\n",
      " [6.  2.2 4.  1. ]\n",
      " [6.1 2.9 4.7 1.4]\n",
      " [5.6 2.9 3.6 1.3]\n",
      " [6.7 3.1 4.4 1.4]\n",
      " [5.6 3.  4.5 1.5]\n",
      " [5.8 2.7 4.1 1. ]\n",
      " [6.2 2.2 4.5 1.5]\n",
      " [5.6 2.5 3.9 1.1]\n",
      " [5.9 3.2 4.8 1.8]\n",
      " [6.1 2.8 4.  1.3]\n",
      " [6.3 2.5 4.9 1.5]\n",
      " [6.1 2.8 4.7 1.2]\n",
      " [6.4 2.9 4.3 1.3]\n",
      " [6.6 3.  4.4 1.4]\n",
      " [6.8 2.8 4.8 1.4]\n",
      " [6.7 3.  5.  1.7]\n",
      " [6.  2.9 4.5 1.5]\n",
      " [5.7 2.6 3.5 1. ]\n",
      " [5.5 2.4 3.8 1.1]\n",
      " [5.5 2.4 3.7 1. ]\n",
      " [5.8 2.7 3.9 1.2]\n",
      " [6.  2.7 5.1 1.6]\n",
      " [5.4 3.  4.5 1.5]\n",
      " [6.  3.4 4.5 1.6]\n",
      " [6.7 3.1 4.7 1.5]\n",
      " [6.3 2.3 4.4 1.3]\n",
      " [5.6 3.  4.1 1.3]\n",
      " [5.5 2.5 4.  1.3]\n",
      " [5.5 2.6 4.4 1.2]\n",
      " [6.1 3.  4.6 1.4]\n",
      " [5.8 2.6 4.  1.2]\n",
      " [5.  2.3 3.3 1. ]\n",
      " [5.6 2.7 4.2 1.3]\n",
      " [5.7 3.  4.2 1.2]\n",
      " [5.7 2.9 4.2 1.3]\n",
      " [6.2 2.9 4.3 1.3]\n",
      " [5.1 2.5 3.  1.1]\n",
      " [5.7 2.8 4.1 1.3]\n",
      " [6.3 3.3 6.  2.5]\n",
      " [5.8 2.7 5.1 1.9]\n",
      " [7.1 3.  5.9 2.1]\n",
      " [6.3 2.9 5.6 1.8]\n",
      " [6.5 3.  5.8 2.2]\n",
      " [7.6 3.  6.6 2.1]\n",
      " [4.9 2.5 4.5 1.7]\n",
      " [7.3 2.9 6.3 1.8]\n",
      " [6.7 2.5 5.8 1.8]\n",
      " [7.2 3.6 6.1 2.5]\n",
      " [6.5 3.2 5.1 2. ]\n",
      " [6.4 2.7 5.3 1.9]\n",
      " [6.8 3.  5.5 2.1]\n",
      " [5.7 2.5 5.  2. ]\n",
      " [5.8 2.8 5.1 2.4]\n",
      " [6.4 3.2 5.3 2.3]\n",
      " [6.5 3.  5.5 1.8]\n",
      " [7.7 3.8 6.7 2.2]\n",
      " [7.7 2.6 6.9 2.3]\n",
      " [6.  2.2 5.  1.5]\n",
      " [6.9 3.2 5.7 2.3]\n",
      " [5.6 2.8 4.9 2. ]\n",
      " [7.7 2.8 6.7 2. ]\n",
      " [6.3 2.7 4.9 1.8]\n",
      " [6.7 3.3 5.7 2.1]\n",
      " [7.2 3.2 6.  1.8]\n",
      " [6.2 2.8 4.8 1.8]\n",
      " [6.1 3.  4.9 1.8]\n",
      " [6.4 2.8 5.6 2.1]\n",
      " [7.2 3.  5.8 1.6]\n",
      " [7.4 2.8 6.1 1.9]\n",
      " [7.9 3.8 6.4 2. ]\n",
      " [6.4 2.8 5.6 2.2]\n",
      " [6.3 2.8 5.1 1.5]\n",
      " [6.1 2.6 5.6 1.4]\n",
      " [7.7 3.  6.1 2.3]\n",
      " [6.3 3.4 5.6 2.4]\n",
      " [6.4 3.1 5.5 1.8]\n",
      " [6.  3.  4.8 1.8]\n",
      " [6.9 3.1 5.4 2.1]\n",
      " [6.7 3.1 5.6 2.4]\n",
      " [6.9 3.1 5.1 2.3]\n",
      " [5.8 2.7 5.1 1.9]\n",
      " [6.8 3.2 5.9 2.3]\n",
      " [6.7 3.3 5.7 2.5]\n",
      " [6.7 3.  5.2 2.3]\n",
      " [6.3 2.5 5.  1.9]\n",
      " [6.5 3.  5.2 2. ]\n",
      " [6.2 3.4 5.4 2.3]\n",
      " [5.9 3.  5.1 1.8]]\n",
      "[0 0 0 0 0 0 0 0 0 0 0 0 0 0 0 0 0 0 0 0 0 0 0 0 0 0 0 0 0 0 0 0 0 0 0 0 0\n",
      " 0 0 0 0 0 0 0 0 0 0 0 0 0 1 1 1 1 1 1 1 1 1 1 1 1 1 1 1 1 1 1 1 1 1 1 1 1\n",
      " 1 1 1 1 1 1 1 1 1 1 1 1 1 1 1 1 1 1 1 1 1 1 1 1 1 1 2 2 2 2 2 2 2 2 2 2 2\n",
      " 2 2 2 2 2 2 2 2 2 2 2 2 2 2 2 2 2 2 2 2 2 2 2 2 2 2 2 2 2 2 2 2 2 2 2 2 2\n",
      " 2 2]\n"
     ]
    }
   ],
   "source": [
    "## college part --- 16.01.2022\n",
    "from sklearn import datasets\n",
    "iris = datasets.load_iris()\n",
    "digits = datasets.load_digits()\n",
    "print(digits.data)\n",
    "print(digits.target)\n",
    "print(\"-------------------------\")\n",
    "print(iris.data)\n",
    "print(iris.target)"
   ]
  },
  {
   "cell_type": "code",
   "execution_count": 23,
   "id": "76ff37fc",
   "metadata": {},
   "outputs": [
    {
     "name": "stdout",
     "output_type": "stream",
     "text": [
      "23\n",
      "29\n"
     ]
    },
    {
     "data": {
      "text/plain": [
       "52"
      ]
     },
     "execution_count": 23,
     "metadata": {},
     "output_type": "execute_result"
    }
   ],
   "source": [
    "l = []\n",
    "x = 2932\n",
    "\n",
    "while(x > 0):\n",
    "    \n",
    "    temp = x % 10\n",
    "    l.append(temp)\n",
    "    x = x // 10\n",
    "\n",
    "l.sort()\n",
    "x1 = str(l[1])\n",
    "x2 = str(l[2])\n",
    "\n",
    "num1 = int(x1+x2)\n",
    "print(num1)\n",
    "\n",
    "x1 = str(l[0])\n",
    "x2 = str(l[3])\n",
    "\n",
    "num2 = int(x1+x2)\n",
    "print(num2)\n",
    "\n",
    "num1+num2\n",
    "\n",
    "    \n",
    "\n",
    "    "
   ]
  },
  {
   "cell_type": "code",
   "execution_count": 24,
   "id": "f9c05f93",
   "metadata": {},
   "outputs": [
    {
     "data": {
      "text/plain": [
       "[3, 5, 6, 6, 9, 90]"
      ]
     },
     "execution_count": 24,
     "metadata": {},
     "output_type": "execute_result"
    }
   ],
   "source": [
    "l1 = [3 , 5 ,6]\n",
    "l2 = [6  , 9 , 90]\n",
    "l1 + l2"
   ]
  },
  {
   "cell_type": "code",
   "execution_count": null,
   "id": "05d956cc",
   "metadata": {},
   "outputs": [],
   "source": []
  },
  {
   "cell_type": "markdown",
   "id": "a099bd4e",
   "metadata": {},
   "source": [
    "### Practicing"
   ]
  },
  {
   "cell_type": "code",
   "execution_count": 1,
   "id": "bf18a04a",
   "metadata": {},
   "outputs": [],
   "source": [
    "def fun(a , *args):\n",
    "    print(a)\n",
    "    print(args)"
   ]
  },
  {
   "cell_type": "code",
   "execution_count": 2,
   "id": "406a8925",
   "metadata": {},
   "outputs": [
    {
     "name": "stdout",
     "output_type": "stream",
     "text": [
      "10\n",
      "(20, 40, 50)\n",
      "None\n"
     ]
    }
   ],
   "source": [
    "print(fun(10 , 20 , 40 ,50))"
   ]
  },
  {
   "cell_type": "code",
   "execution_count": 3,
   "id": "2c6ef396",
   "metadata": {},
   "outputs": [
    {
     "name": "stdout",
     "output_type": "stream",
     "text": [
      "3\n",
      "()\n",
      "None\n"
     ]
    }
   ],
   "source": [
    "print(fun(3))"
   ]
  },
  {
   "cell_type": "code",
   "execution_count": 4,
   "id": "6c130021",
   "metadata": {},
   "outputs": [],
   "source": [
    "def func(**kwargs):\n",
    "    print(kwargs)\n",
    "    print(kwargs['a'])\n",
    "    print(kwargs['b'])"
   ]
  },
  {
   "cell_type": "code",
   "execution_count": 5,
   "id": "d549da0a",
   "metadata": {},
   "outputs": [
    {
     "name": "stdout",
     "output_type": "stream",
     "text": [
      "{'a': 3, 'b': 0}\n",
      "3\n",
      "0\n",
      "None\n"
     ]
    }
   ],
   "source": [
    "print(func(a=3,b=0))"
   ]
  },
  {
   "cell_type": "code",
   "execution_count": null,
   "id": "c08802d9",
   "metadata": {},
   "outputs": [],
   "source": []
  },
  {
   "cell_type": "code",
   "execution_count": 2,
   "id": "bcbb4ca7",
   "metadata": {},
   "outputs": [],
   "source": [
    "class myclass:\n",
    "    \n",
    "    var = 20\n",
    "    \n",
    "    def func(self):\n",
    "        print(self.var)\n",
    "        \n",
    "## no. of attributes here are var , func"
   ]
  },
  {
   "cell_type": "code",
   "execution_count": 3,
   "id": "97517220",
   "metadata": {},
   "outputs": [],
   "source": [
    "a = myclass()"
   ]
  },
  {
   "cell_type": "code",
   "execution_count": 4,
   "id": "247f3fcf",
   "metadata": {},
   "outputs": [
    {
     "data": {
      "text/plain": [
       "__main__.myclass"
      ]
     },
     "execution_count": 4,
     "metadata": {},
     "output_type": "execute_result"
    }
   ],
   "source": [
    "type(a)"
   ]
  },
  {
   "cell_type": "code",
   "execution_count": 5,
   "id": "655d6ef5",
   "metadata": {},
   "outputs": [
    {
     "data": {
      "text/plain": [
       "20"
      ]
     },
     "execution_count": 5,
     "metadata": {},
     "output_type": "execute_result"
    }
   ],
   "source": [
    "a.var"
   ]
  },
  {
   "cell_type": "code",
   "execution_count": 6,
   "id": "68469f25",
   "metadata": {},
   "outputs": [
    {
     "name": "stdout",
     "output_type": "stream",
     "text": [
      "20\n"
     ]
    }
   ],
   "source": [
    "a.func()"
   ]
  },
  {
   "cell_type": "code",
   "execution_count": 7,
   "id": "efe51826",
   "metadata": {},
   "outputs": [],
   "source": [
    "class gandu:\n",
    "    \n",
    "    var = 90\n",
    "    \n",
    "    def func(ref): ## we can use any word in here apart from self\n",
    "        print(ref.var)"
   ]
  },
  {
   "cell_type": "code",
   "execution_count": 8,
   "id": "a82cdd2f",
   "metadata": {},
   "outputs": [],
   "source": [
    "a = gandu()"
   ]
  },
  {
   "cell_type": "code",
   "execution_count": 9,
   "id": "fd6aaa60",
   "metadata": {},
   "outputs": [
    {
     "name": "stdout",
     "output_type": "stream",
     "text": [
      "90\n"
     ]
    }
   ],
   "source": [
    "a.func()"
   ]
  },
  {
   "cell_type": "code",
   "execution_count": 10,
   "id": "0e3e8e6e",
   "metadata": {},
   "outputs": [],
   "source": [
    "class dog:\n",
    "    \n",
    "    def __init__(self,bread,age):\n",
    "        self.bread = bread\n",
    "        self.age = age\n",
    "        \n",
    "        "
   ]
  },
  {
   "cell_type": "code",
   "execution_count": 13,
   "id": "ce7d927b",
   "metadata": {},
   "outputs": [
    {
     "data": {
      "text/plain": [
       "23"
      ]
     },
     "execution_count": 13,
     "metadata": {},
     "output_type": "execute_result"
    }
   ],
   "source": [
    "d1 = dog('gandu',23)\n",
    "d1.age"
   ]
  },
  {
   "cell_type": "code",
   "execution_count": 14,
   "id": "3f51e0b8",
   "metadata": {},
   "outputs": [
    {
     "data": {
      "text/plain": [
       "'gandu'"
      ]
     },
     "execution_count": 14,
     "metadata": {},
     "output_type": "execute_result"
    }
   ],
   "source": [
    "d1.bread\n"
   ]
  },
  {
   "cell_type": "code",
   "execution_count": 15,
   "id": "d52a158c",
   "metadata": {},
   "outputs": [
    {
     "data": {
      "text/plain": [
       "<__main__.dog at 0x1df6d7e8790>"
      ]
     },
     "execution_count": 15,
     "metadata": {},
     "output_type": "execute_result"
    }
   ],
   "source": [
    "d1"
   ]
  },
  {
   "cell_type": "code",
   "execution_count": 16,
   "id": "fee8654f",
   "metadata": {},
   "outputs": [],
   "source": [
    "class dog:\n",
    "    \n",
    "    def __init__(self,name,age):\n",
    "        self.name = name\n",
    "        self.age = age\n",
    "        \n",
    "    def bark(self):\n",
    "        print(f\"{self.name} is barking\")"
   ]
  },
  {
   "cell_type": "code",
   "execution_count": 18,
   "id": "c09719ba",
   "metadata": {},
   "outputs": [
    {
     "data": {
      "text/plain": [
       "25"
      ]
     },
     "execution_count": 18,
     "metadata": {},
     "output_type": "execute_result"
    }
   ],
   "source": [
    "d1 = dog('luffy',25)\n",
    "d1.age"
   ]
  },
  {
   "cell_type": "code",
   "execution_count": 19,
   "id": "b0fd04f1",
   "metadata": {},
   "outputs": [
    {
     "data": {
      "text/plain": [
       "'luffy'"
      ]
     },
     "execution_count": 19,
     "metadata": {},
     "output_type": "execute_result"
    }
   ],
   "source": [
    "d1.name"
   ]
  },
  {
   "cell_type": "code",
   "execution_count": 20,
   "id": "25613ad2",
   "metadata": {},
   "outputs": [
    {
     "name": "stdout",
     "output_type": "stream",
     "text": [
      "luffy is barking\n"
     ]
    }
   ],
   "source": [
    "d1.bark()"
   ]
  },
  {
   "cell_type": "code",
   "execution_count": null,
   "id": "7e5bfb2c",
   "metadata": {},
   "outputs": [],
   "source": []
  },
  {
   "cell_type": "code",
   "execution_count": 1,
   "id": "788d328a",
   "metadata": {},
   "outputs": [],
   "source": [
    "class A:\n",
    "    \n",
    "    pram = 20\n",
    "    "
   ]
  },
  {
   "cell_type": "code",
   "execution_count": 7,
   "id": "be047f4e",
   "metadata": {},
   "outputs": [],
   "source": [
    "class B:\n",
    "    \n",
    "    __param = 200\n",
    "    \n",
    "    def __init__(self):\n",
    "        self.__param = 100\n",
    "    \n",
    "    def method(self):\n",
    "        \n",
    "    \n",
    "    "
   ]
  },
  {
   "cell_type": "code",
   "execution_count": 10,
   "id": "054fdcab",
   "metadata": {},
   "outputs": [
    {
     "ename": "AttributeError",
     "evalue": "'B' object has no attribute '__param'",
     "output_type": "error",
     "traceback": [
      "\u001b[1;31m---------------------------------------------------------------------------\u001b[0m",
      "\u001b[1;31mAttributeError\u001b[0m                            Traceback (most recent call last)",
      "\u001b[1;32mC:\\Users\\SUBHAJ~1\\AppData\\Local\\Temp/ipykernel_14592/3460154890.py\u001b[0m in \u001b[0;36m<module>\u001b[1;34m\u001b[0m\n\u001b[0;32m      1\u001b[0m \u001b[0mb2\u001b[0m \u001b[1;33m=\u001b[0m \u001b[0mB\u001b[0m\u001b[1;33m(\u001b[0m\u001b[1;33m)\u001b[0m\u001b[1;33m\u001b[0m\u001b[1;33m\u001b[0m\u001b[0m\n\u001b[1;32m----> 2\u001b[1;33m \u001b[0mb2\u001b[0m\u001b[1;33m.\u001b[0m\u001b[0m__param\u001b[0m\u001b[1;33m\u001b[0m\u001b[1;33m\u001b[0m\u001b[0m\n\u001b[0m",
      "\u001b[1;31mAttributeError\u001b[0m: 'B' object has no attribute '__param'"
     ]
    }
   ],
   "source": [
    "b2 = B()\n",
    "b2.__param"
   ]
  },
  {
   "cell_type": "code",
   "execution_count": 4,
   "id": "82513e01",
   "metadata": {},
   "outputs": [
    {
     "data": {
      "text/plain": [
       "20"
      ]
     },
     "execution_count": 4,
     "metadata": {},
     "output_type": "execute_result"
    }
   ],
   "source": [
    "a1 = A()\n",
    "a1.pram"
   ]
  },
  {
   "cell_type": "code",
   "execution_count": 5,
   "id": "c4c18a3b",
   "metadata": {},
   "outputs": [
    {
     "ename": "AttributeError",
     "evalue": "'B' object has no attribute '__param'",
     "output_type": "error",
     "traceback": [
      "\u001b[1;31m---------------------------------------------------------------------------\u001b[0m",
      "\u001b[1;31mAttributeError\u001b[0m                            Traceback (most recent call last)",
      "\u001b[1;32mC:\\Users\\SUBHAJ~1\\AppData\\Local\\Temp/ipykernel_14592/1827932410.py\u001b[0m in \u001b[0;36m<module>\u001b[1;34m\u001b[0m\n\u001b[0;32m      1\u001b[0m \u001b[0mb1\u001b[0m \u001b[1;33m=\u001b[0m \u001b[0mB\u001b[0m\u001b[1;33m(\u001b[0m\u001b[1;33m)\u001b[0m\u001b[1;33m\u001b[0m\u001b[1;33m\u001b[0m\u001b[0m\n\u001b[1;32m----> 2\u001b[1;33m \u001b[0mb1\u001b[0m\u001b[1;33m.\u001b[0m\u001b[0m__param\u001b[0m\u001b[1;33m\u001b[0m\u001b[1;33m\u001b[0m\u001b[0m\n\u001b[0m",
      "\u001b[1;31mAttributeError\u001b[0m: 'B' object has no attribute '__param'"
     ]
    }
   ],
   "source": [
    "b1 = B()\n",
    "b1.__param"
   ]
  },
  {
   "cell_type": "code",
   "execution_count": 27,
   "id": "83913d6b",
   "metadata": {},
   "outputs": [],
   "source": [
    "class car:\n",
    "    def __init__(self,car_id,car_name):\n",
    "        self.__car_id = car_id\n",
    "        self.car_name = car_name\n",
    "        \n",
    "    "
   ]
  },
  {
   "cell_type": "code",
   "execution_count": 29,
   "id": "7bffb5ea",
   "metadata": {},
   "outputs": [
    {
     "ename": "AttributeError",
     "evalue": "'car' object has no attribute 'get__car_id'",
     "output_type": "error",
     "traceback": [
      "\u001b[1;31m---------------------------------------------------------------------------\u001b[0m",
      "\u001b[1;31mAttributeError\u001b[0m                            Traceback (most recent call last)",
      "\u001b[1;32mC:\\Users\\SUBHAJ~1\\AppData\\Local\\Temp/ipykernel_14592/265093211.py\u001b[0m in \u001b[0;36m<module>\u001b[1;34m\u001b[0m\n\u001b[0;32m      1\u001b[0m \u001b[0mcar1\u001b[0m \u001b[1;33m=\u001b[0m \u001b[0mcar\u001b[0m\u001b[1;33m(\u001b[0m\u001b[1;36m123\u001b[0m\u001b[1;33m,\u001b[0m\u001b[1;34m'volvo'\u001b[0m\u001b[1;33m)\u001b[0m\u001b[1;33m\u001b[0m\u001b[1;33m\u001b[0m\u001b[0m\n\u001b[1;32m----> 2\u001b[1;33m \u001b[0mprint\u001b[0m\u001b[1;33m(\u001b[0m\u001b[0mcar1\u001b[0m\u001b[1;33m.\u001b[0m\u001b[0mget__car_id\u001b[0m\u001b[1;33m(\u001b[0m\u001b[1;33m)\u001b[0m\u001b[1;33m,\u001b[0m\u001b[0mcar1\u001b[0m\u001b[1;33m.\u001b[0m\u001b[0mcar_name\u001b[0m\u001b[1;33m)\u001b[0m\u001b[1;33m\u001b[0m\u001b[1;33m\u001b[0m\u001b[0m\n\u001b[0m",
      "\u001b[1;31mAttributeError\u001b[0m: 'car' object has no attribute 'get__car_id'"
     ]
    }
   ],
   "source": [
    "car1 = car(123,'volvo')\n",
    "print(car1.get__car_id(),car1.car_name)"
   ]
  },
  {
   "cell_type": "code",
   "execution_count": 21,
   "id": "fe4aad4d",
   "metadata": {},
   "outputs": [
    {
     "name": "stdout",
     "output_type": "stream",
     "text": [
      "123 volvo\n"
     ]
    }
   ],
   "source": [
    "car1 = car(123,'volvo')\n",
    "print(car1.get_car_id(),car1.car_name)"
   ]
  },
  {
   "cell_type": "code",
   "execution_count": 16,
   "id": "9fe72c54",
   "metadata": {},
   "outputs": [
    {
     "ename": "AttributeError",
     "evalue": "'car' object has no attribute 'car_id'",
     "output_type": "error",
     "traceback": [
      "\u001b[1;31m---------------------------------------------------------------------------\u001b[0m",
      "\u001b[1;31mAttributeError\u001b[0m                            Traceback (most recent call last)",
      "\u001b[1;32mC:\\Users\\SUBHAJ~1\\AppData\\Local\\Temp/ipykernel_14592/792098028.py\u001b[0m in \u001b[0;36m<module>\u001b[1;34m\u001b[0m\n\u001b[0;32m      1\u001b[0m \u001b[0mcar1\u001b[0m \u001b[1;33m=\u001b[0m \u001b[0mcar\u001b[0m\u001b[1;33m(\u001b[0m\u001b[1;36m123\u001b[0m\u001b[1;33m,\u001b[0m\u001b[1;34m'volvo'\u001b[0m\u001b[1;33m)\u001b[0m\u001b[1;33m\u001b[0m\u001b[1;33m\u001b[0m\u001b[0m\n\u001b[1;32m----> 2\u001b[1;33m \u001b[0mprint\u001b[0m\u001b[1;33m(\u001b[0m\u001b[0mcar1\u001b[0m\u001b[1;33m.\u001b[0m\u001b[0mcar_id\u001b[0m \u001b[1;33m,\u001b[0m \u001b[0mcar1\u001b[0m\u001b[1;33m.\u001b[0m\u001b[0mcar_name\u001b[0m\u001b[1;33m)\u001b[0m\u001b[1;33m\u001b[0m\u001b[1;33m\u001b[0m\u001b[0m\n\u001b[0m",
      "\u001b[1;31mAttributeError\u001b[0m: 'car' object has no attribute 'car_id'"
     ]
    }
   ],
   "source": [
    "car1 = car(123,'volvo')\n",
    "print(car1.car_id , car1.car_name)"
   ]
  },
  {
   "cell_type": "code",
   "execution_count": null,
   "id": "fb93d409",
   "metadata": {},
   "outputs": [],
   "source": []
  },
  {
   "cell_type": "code",
   "execution_count": 34,
   "id": "39ec75be",
   "metadata": {},
   "outputs": [],
   "source": [
    "def func1(st1):\n",
    "    stack1 = stack(len(st1))\n",
    "    result = \"\"\n",
    "    for ch in st1:\n",
    "        if(ch!='a' and ch!='e' and ch!='i' and ch!='o' and ch!='u'):\n",
    "            stack1.push(ch)\n",
    "        if ch=='#':\n",
    "            stack1.pop()\n",
    "            \n",
    "    while(not stack1.is_empty()):\n",
    "        result += stack1.pop()\n",
    "    print(result)\n",
    "        "
   ]
  },
  {
   "cell_type": "code",
   "execution_count": 35,
   "id": "59315f72",
   "metadata": {},
   "outputs": [
    {
     "ename": "NameError",
     "evalue": "name 'stack' is not defined",
     "output_type": "error",
     "traceback": [
      "\u001b[1;31m---------------------------------------------------------------------------\u001b[0m",
      "\u001b[1;31mNameError\u001b[0m                                 Traceback (most recent call last)",
      "\u001b[1;32mC:\\Users\\SUBHAJ~1\\AppData\\Local\\Temp/ipykernel_14592/1460518924.py\u001b[0m in \u001b[0;36m<module>\u001b[1;34m\u001b[0m\n\u001b[0;32m      1\u001b[0m \u001b[0mst\u001b[0m \u001b[1;33m=\u001b[0m \u001b[1;34m\"hi##jack\"\u001b[0m\u001b[1;33m\u001b[0m\u001b[1;33m\u001b[0m\u001b[0m\n\u001b[1;32m----> 2\u001b[1;33m \u001b[0mfunc1\u001b[0m\u001b[1;33m(\u001b[0m\u001b[0mst\u001b[0m\u001b[1;33m)\u001b[0m\u001b[1;33m\u001b[0m\u001b[1;33m\u001b[0m\u001b[0m\n\u001b[0m",
      "\u001b[1;32mC:\\Users\\SUBHAJ~1\\AppData\\Local\\Temp/ipykernel_14592/1876311213.py\u001b[0m in \u001b[0;36mfunc1\u001b[1;34m(st1)\u001b[0m\n\u001b[0;32m      1\u001b[0m \u001b[1;32mdef\u001b[0m \u001b[0mfunc1\u001b[0m\u001b[1;33m(\u001b[0m\u001b[0mst1\u001b[0m\u001b[1;33m)\u001b[0m\u001b[1;33m:\u001b[0m\u001b[1;33m\u001b[0m\u001b[1;33m\u001b[0m\u001b[0m\n\u001b[1;32m----> 2\u001b[1;33m     \u001b[0mstack1\u001b[0m \u001b[1;33m=\u001b[0m \u001b[0mstack\u001b[0m\u001b[1;33m(\u001b[0m\u001b[0mlen\u001b[0m\u001b[1;33m(\u001b[0m\u001b[0mst1\u001b[0m\u001b[1;33m)\u001b[0m\u001b[1;33m)\u001b[0m\u001b[1;33m\u001b[0m\u001b[1;33m\u001b[0m\u001b[0m\n\u001b[0m\u001b[0;32m      3\u001b[0m     \u001b[0mresult\u001b[0m \u001b[1;33m=\u001b[0m \u001b[1;34m\"\"\u001b[0m\u001b[1;33m\u001b[0m\u001b[1;33m\u001b[0m\u001b[0m\n\u001b[0;32m      4\u001b[0m     \u001b[1;32mfor\u001b[0m \u001b[0mch\u001b[0m \u001b[1;32min\u001b[0m \u001b[0mst1\u001b[0m\u001b[1;33m:\u001b[0m\u001b[1;33m\u001b[0m\u001b[1;33m\u001b[0m\u001b[0m\n\u001b[0;32m      5\u001b[0m         \u001b[1;32mif\u001b[0m\u001b[1;33m(\u001b[0m\u001b[0mch\u001b[0m\u001b[1;33m!=\u001b[0m\u001b[1;34m'a'\u001b[0m \u001b[1;32mand\u001b[0m \u001b[0mch\u001b[0m\u001b[1;33m!=\u001b[0m\u001b[1;34m'e'\u001b[0m \u001b[1;32mand\u001b[0m \u001b[0mch\u001b[0m\u001b[1;33m!=\u001b[0m\u001b[1;34m'i'\u001b[0m \u001b[1;32mand\u001b[0m \u001b[0mch\u001b[0m\u001b[1;33m!=\u001b[0m\u001b[1;34m'o'\u001b[0m \u001b[1;32mand\u001b[0m \u001b[0mch\u001b[0m\u001b[1;33m!=\u001b[0m\u001b[1;34m'u'\u001b[0m\u001b[1;33m)\u001b[0m\u001b[1;33m:\u001b[0m\u001b[1;33m\u001b[0m\u001b[1;33m\u001b[0m\u001b[0m\n",
      "\u001b[1;31mNameError\u001b[0m: name 'stack' is not defined"
     ]
    }
   ],
   "source": [
    "st = \"hi##jack\"\n",
    "func1(st)"
   ]
  },
  {
   "cell_type": "code",
   "execution_count": 1,
   "id": "62d9b223",
   "metadata": {},
   "outputs": [],
   "source": [
    "import matplotlib.pyplot as plt\n"
   ]
  },
  {
   "cell_type": "code",
   "execution_count": 3,
   "id": "b785e7c0",
   "metadata": {},
   "outputs": [],
   "source": [
    "\n",
    "def zoom_factory(ax,base_scale = 2.):\n",
    "    def zoom_fun(event):\n",
    "        # get the current x and y limits\n",
    "        cur_xlim = ax.get_xlim()\n",
    "        cur_ylim = ax.get_ylim()\n",
    "        cur_xrange = (cur_xlim[1] - cur_xlim[0])*.5\n",
    "        cur_yrange = (cur_ylim[1] - cur_ylim[0])*.5\n",
    "        xdata = event.xdata # get event x location\n",
    "        ydata = event.ydata # get event y location\n",
    "        if event.button == 'up':\n",
    "            # deal with zoom in\n",
    "            scale_factor = 1/base_scale\n",
    "        elif event.button == 'down':\n",
    "            # deal with zoom out\n",
    "            scale_factor = base_scale\n",
    "        else:\n",
    "            # deal with something that should never happen\n",
    "            scale_factor = 1\n",
    "            print(event.button)\n",
    "        # set new limits\n",
    "        ax.set_xlim([xdata - cur_xrange*scale_factor,\n",
    "                     xdata + cur_xrange*scale_factor])\n",
    "        ax.set_ylim([ydata - cur_yrange*scale_factor,\n",
    "                     ydata + cur_yrange*scale_factor])\n",
    "        plt.draw() # force re-draw\n",
    "\n",
    "    fig = ax.get_figure() # get the figure of interest\n",
    "    # attach the call back\n",
    "    fig.canvas.mpl_connect('scroll_event',zoom_fun)\n",
    "\n",
    "    #return the function\n",
    "    return zoom_fun"
   ]
  },
  {
   "cell_type": "code",
   "execution_count": 6,
   "id": "075651b6",
   "metadata": {},
   "outputs": [
    {
     "ename": "AttributeError",
     "evalue": "module 'matplotlib.pyplot' has no attribute 'get_figure'",
     "output_type": "error",
     "traceback": [
      "\u001b[1;31m---------------------------------------------------------------------------\u001b[0m",
      "\u001b[1;31mAttributeError\u001b[0m                            Traceback (most recent call last)",
      "\u001b[1;32mC:\\Users\\SUBHAJ~1\\AppData\\Local\\Temp/ipykernel_12868/2487002946.py\u001b[0m in \u001b[0;36m<module>\u001b[1;34m\u001b[0m\n\u001b[0;32m      1\u001b[0m \u001b[0mplt\u001b[0m\u001b[1;33m.\u001b[0m\u001b[0mplot\u001b[0m\u001b[1;33m(\u001b[0m\u001b[0mrange\u001b[0m\u001b[1;33m(\u001b[0m\u001b[1;36m10\u001b[0m\u001b[1;33m)\u001b[0m\u001b[1;33m)\u001b[0m\u001b[1;33m\u001b[0m\u001b[1;33m\u001b[0m\u001b[0m\n\u001b[0;32m      2\u001b[0m \u001b[0mscale\u001b[0m \u001b[1;33m=\u001b[0m \u001b[1;36m1.5\u001b[0m\u001b[1;33m\u001b[0m\u001b[1;33m\u001b[0m\u001b[0m\n\u001b[1;32m----> 3\u001b[1;33m \u001b[0mf\u001b[0m \u001b[1;33m=\u001b[0m \u001b[0mzoom_factory\u001b[0m\u001b[1;33m(\u001b[0m\u001b[0mplt\u001b[0m\u001b[1;33m,\u001b[0m\u001b[0mbase_scale\u001b[0m \u001b[1;33m=\u001b[0m \u001b[0mscale\u001b[0m\u001b[1;33m)\u001b[0m\u001b[1;33m\u001b[0m\u001b[1;33m\u001b[0m\u001b[0m\n\u001b[0m",
      "\u001b[1;32mC:\\Users\\SUBHAJ~1\\AppData\\Local\\Temp/ipykernel_12868/3347568433.py\u001b[0m in \u001b[0;36mzoom_factory\u001b[1;34m(ax, base_scale)\u001b[0m\n\u001b[0;32m     25\u001b[0m         \u001b[0mplt\u001b[0m\u001b[1;33m.\u001b[0m\u001b[0mdraw\u001b[0m\u001b[1;33m(\u001b[0m\u001b[1;33m)\u001b[0m \u001b[1;31m# force re-draw\u001b[0m\u001b[1;33m\u001b[0m\u001b[1;33m\u001b[0m\u001b[0m\n\u001b[0;32m     26\u001b[0m \u001b[1;33m\u001b[0m\u001b[0m\n\u001b[1;32m---> 27\u001b[1;33m     \u001b[0mfig\u001b[0m \u001b[1;33m=\u001b[0m \u001b[0max\u001b[0m\u001b[1;33m.\u001b[0m\u001b[0mget_figure\u001b[0m\u001b[1;33m(\u001b[0m\u001b[1;33m)\u001b[0m \u001b[1;31m# get the figure of interest\u001b[0m\u001b[1;33m\u001b[0m\u001b[1;33m\u001b[0m\u001b[0m\n\u001b[0m\u001b[0;32m     28\u001b[0m     \u001b[1;31m# attach the call back\u001b[0m\u001b[1;33m\u001b[0m\u001b[1;33m\u001b[0m\u001b[0m\n\u001b[0;32m     29\u001b[0m     \u001b[0mfig\u001b[0m\u001b[1;33m.\u001b[0m\u001b[0mcanvas\u001b[0m\u001b[1;33m.\u001b[0m\u001b[0mmpl_connect\u001b[0m\u001b[1;33m(\u001b[0m\u001b[1;34m'scroll_event'\u001b[0m\u001b[1;33m,\u001b[0m\u001b[0mzoom_fun\u001b[0m\u001b[1;33m)\u001b[0m\u001b[1;33m\u001b[0m\u001b[1;33m\u001b[0m\u001b[0m\n",
      "\u001b[1;31mAttributeError\u001b[0m: module 'matplotlib.pyplot' has no attribute 'get_figure'"
     ]
    },
    {
     "data": {
      "image/png": "[encoded data removed]",
      "text/plain": [
       "<Figure size 432x288 with 1 Axes>"
      ]
     },
     "metadata": {
      "needs_background": "light"
     },
     "output_type": "display_data"
    }
   ],
   "source": [
    " plt.plot(range(10))\n",
    " scale = 1.5\n",
    " f = zoom_factory(plt,base_scale = scale)"
   ]
  },
  {
   "cell_type": "code",
   "execution_count": 8,
   "id": "52d252c3",
   "metadata": {},
   "outputs": [
    {
     "data": {
      "image/png": "[encoded data removed]",
      "text/plain": [
       "<Figure size 432x288 with 1 Axes>"
      ]
     },
     "metadata": {
      "needs_background": "light"
     },
     "output_type": "display_data"
    }
   ],
   "source": [
    "from matplotlib.pyplot import figure, show\n",
    "import numpy\n",
    "\n",
    "class ZoomPan:\n",
    "    def __init__(self):\n",
    "        self.press = None\n",
    "        self.cur_xlim = None\n",
    "        self.cur_ylim = None\n",
    "        self.x0 = None\n",
    "        self.y0 = None\n",
    "        self.x1 = None\n",
    "        self.y1 = None\n",
    "        self.xpress = None\n",
    "        self.ypress = None\n",
    "\n",
    "\n",
    "    def zoom_factory(self, ax, base_scale = 2.):\n",
    "        def zoom(event):\n",
    "            cur_xlim = ax.get_xlim()\n",
    "            cur_ylim = ax.get_ylim()\n",
    "\n",
    "            xdata = event.xdata # get event x location\n",
    "            ydata = event.ydata # get event y location\n",
    "\n",
    "            if event.button == 'down':\n",
    "                # deal with zoom in\n",
    "                scale_factor = 1 / base_scale\n",
    "            elif event.button == 'up':\n",
    "                # deal with zoom out\n",
    "                scale_factor = base_scale\n",
    "            else:\n",
    "                # deal with something that should never happen\n",
    "                scale_factor = 1\n",
    "                print(event.button)\n",
    "\n",
    "            new_width = (cur_xlim[1] - cur_xlim[0]) * scale_factor\n",
    "            new_height = (cur_ylim[1] - cur_ylim[0]) * scale_factor\n",
    "\n",
    "            relx = (cur_xlim[1] - xdata)/(cur_xlim[1] - cur_xlim[0])\n",
    "            rely = (cur_ylim[1] - ydata)/(cur_ylim[1] - cur_ylim[0])\n",
    "\n",
    "            ax.set_xlim([xdata - new_width * (1-relx), xdata + new_width * (relx)])\n",
    "            ax.set_ylim([ydata - new_height * (1-rely), ydata + new_height * (rely)])\n",
    "            ax.figure.canvas.draw()\n",
    "\n",
    "        fig = ax.get_figure() # get the figure of interest\n",
    "        fig.canvas.mpl_connect('scroll_event', zoom)\n",
    "\n",
    "        return zoom\n",
    "\n",
    "    def pan_factory(self, ax):\n",
    "        def onPress(event):\n",
    "            if event.inaxes != ax: return\n",
    "            self.cur_xlim = ax.get_xlim()\n",
    "            self.cur_ylim = ax.get_ylim()\n",
    "            self.press = self.x0, self.y0, event.xdata, event.ydata\n",
    "            self.x0, self.y0, self.xpress, self.ypress = self.press\n",
    "\n",
    "        def onRelease(event):\n",
    "            self.press = None\n",
    "            ax.figure.canvas.draw()\n",
    "\n",
    "        def onMotion(event):\n",
    "            if self.press is None: return\n",
    "            if event.inaxes != ax: return\n",
    "            dx = event.xdata - self.xpress\n",
    "            dy = event.ydata - self.ypress\n",
    "            self.cur_xlim -= dx\n",
    "            self.cur_ylim -= dy\n",
    "            ax.set_xlim(self.cur_xlim)\n",
    "            ax.set_ylim(self.cur_ylim)\n",
    "\n",
    "            ax.figure.canvas.draw()\n",
    "\n",
    "        fig = ax.get_figure() # get the figure of interest\n",
    "\n",
    "        # attach the call back\n",
    "        fig.canvas.mpl_connect('button_press_event',onPress)\n",
    "        fig.canvas.mpl_connect('button_release_event',onRelease)\n",
    "        fig.canvas.mpl_connect('motion_notify_event',onMotion)\n",
    "\n",
    "        #return the function\n",
    "        return onMotion\n",
    "\n",
    "\n",
    "fig = figure()\n",
    "\n",
    "ax = fig.add_subplot(111, xlim=(0,1), ylim=(0,1), autoscale_on=False)\n",
    "\n",
    "ax.set_title('Click to zoom')\n",
    "x,y,s,c = numpy.random.rand(4,200)\n",
    "s *= 200\n",
    "\n",
    "ax.scatter(x,y,s,c)\n",
    "scale = 1.1\n",
    "zp = ZoomPan()\n",
    "figZoom = zp.zoom_factory(ax, base_scale = scale)\n",
    "figPan = zp.pan_factory(ax)\n",
    "show()"
   ]
  },
  {
   "cell_type": "code",
   "execution_count": 10,
   "id": "51384915",
   "metadata": {},
   "outputs": [],
   "source": [
    "from matplotlib.pyplot import figure, show\n",
    "import numpy\n",
    "\n",
    "class ZoomPan:\n",
    "    def __init__(self):\n",
    "        self.press = None\n",
    "        self.cur_xlim = None\n",
    "        self.cur_ylim = None\n",
    "        self.x0 = None\n",
    "        self.y0 = None\n",
    "        self.x1 = None\n",
    "        self.y1 = None\n",
    "        self.xpress = None\n",
    "        self.ypress = None\n",
    "        self.xzoom = True\n",
    "        self.yzoom = True\n",
    "        self.cidBP = None\n",
    "        self.cidBR = None\n",
    "        self.cidBM = None\n",
    "        self.cidKeyP = None\n",
    "        self.cidKeyR = None\n",
    "        self.cidScroll = None\n",
    "\n",
    "    def zoom_factory(self, ax, base_scale = 2.):\n",
    "        def zoom(event):\n",
    "            cur_xlim = ax.get_xlim()\n",
    "            cur_ylim = ax.get_ylim()\n",
    "\n",
    "            xdata = event.xdata # get event x location\n",
    "            ydata = event.ydata # get event y location\n",
    "            if(xdata is None):\n",
    "                return()\n",
    "            if(ydata is None):\n",
    "                return()\n",
    "\n",
    "            if event.button == 'down':\n",
    "                # deal with zoom in\n",
    "                scale_factor = 1 / base_scale\n",
    "            elif event.button == 'up':\n",
    "                # deal with zoom out\n",
    "                scale_factor = base_scale\n",
    "            else:\n",
    "                # deal with something that should never happen\n",
    "                scale_factor = 1\n",
    "                print(event.button)\n",
    "\n",
    "            new_width = (cur_xlim[1] - cur_xlim[0]) * scale_factor\n",
    "            new_height = (cur_ylim[1] - cur_ylim[0]) * scale_factor\n",
    "\n",
    "            relx = (cur_xlim[1] - xdata)/(cur_xlim[1] - cur_xlim[0])\n",
    "            rely = (cur_ylim[1] - ydata)/(cur_ylim[1] - cur_ylim[0])\n",
    "\n",
    "            if(self.xzoom):\n",
    "                ax.set_xlim([xdata - new_width * (1-relx), xdata + new_width * (relx)])\n",
    "            if(self.yzoom):\n",
    "                ax.set_ylim([ydata - new_height * (1-rely), ydata + new_height * (rely)])\n",
    "            ax.figure.canvas.draw()\n",
    "            ax.figure.canvas.flush_events()\n",
    "\n",
    "        def onKeyPress(event):\n",
    "            if event.key == 'x':\n",
    "                self.xzoom = True\n",
    "                self.yzoom = False\n",
    "            if event.key == 'y':\n",
    "                self.xzoom = False\n",
    "                self.yzoom = True\n",
    "\n",
    "        def onKeyRelease(event):\n",
    "            self.xzoom = True\n",
    "            self.yzoom = True\n",
    "\n",
    "        fig = ax.get_figure() # get the figure of interest\n",
    "\n",
    "        self.cidScroll = fig.canvas.mpl_connect('scroll_event', zoom)\n",
    "        self.cidKeyP = fig.canvas.mpl_connect('key_press_event',onKeyPress)\n",
    "        self.cidKeyR = fig.canvas.mpl_connect('key_release_event',onKeyRelease)\n",
    "\n",
    "        return zoom\n",
    "\n",
    "    def pan_factory(self, ax):\n",
    "        def onPress(event):\n",
    "            if event.inaxes != ax: return\n",
    "            self.cur_xlim = ax.get_xlim()\n",
    "            self.cur_ylim = ax.get_ylim()\n",
    "            self.press = self.x0, self.y0, event.xdata, event.ydata\n",
    "            self.x0, self.y0, self.xpress, self.ypress = self.press\n",
    "\n",
    "\n",
    "        def onRelease(event):\n",
    "            self.press = None\n",
    "            ax.figure.canvas.draw()\n",
    "\n",
    "        def onMotion(event):\n",
    "            if self.press is None: return\n",
    "            if event.inaxes != ax: return\n",
    "            dx = event.xdata - self.xpress\n",
    "            dy = event.ydata - self.ypress\n",
    "            self.cur_xlim -= dx\n",
    "            self.cur_ylim -= dy\n",
    "            ax.set_xlim(self.cur_xlim)\n",
    "            ax.set_ylim(self.cur_ylim)\n",
    "\n",
    "            ax.figure.canvas.draw()\n",
    "            ax.figure.canvas.flush_events()\n",
    "\n",
    "        fig = ax.get_figure() # get the figure of interest\n",
    "\n",
    "        self.cidBP = fig.canvas.mpl_connect('button_press_event',onPress)\n",
    "        self.cidBR = fig.canvas.mpl_connect('button_release_event',onRelease)\n",
    "        self.cidBM = fig.canvas.mpl_connect('motion_notify_event',onMotion)\n",
    "        # attach the call back\n",
    "\n",
    "        #return the function\n",
    "        return onMotion"
   ]
  },
  {
   "cell_type": "code",
   "execution_count": 11,
   "id": "10fb5cc5",
   "metadata": {},
   "outputs": [],
   "source": [
    "def mousewheel_move( event):\n",
    "    ax=event.inaxes\n",
    "    ax._pan_start = types.SimpleNamespace(\n",
    "            lim=ax.viewLim.frozen(),\n",
    "            trans=ax.transData.frozen(),\n",
    "            trans_inverse=ax.transData.inverted().frozen(),\n",
    "            bbox=ax.bbox.frozen(),\n",
    "            x=event.x,\n",
    "            y=event.y)\n",
    "    if event.button == 'up':\n",
    "        ax.drag_pan(3, event.key, event.x+10, event.y+10)\n",
    "    else: #event.button == 'down':\n",
    "        ax.drag_pan(3, event.key, event.x-10, event.y-10)\n",
    "    fig=ax.get_figure()\n",
    "    fig.canvas.draw_idle()"
   ]
  },
  {
   "cell_type": "code",
   "execution_count": 12,
   "id": "185675ed",
   "metadata": {},
   "outputs": [
    {
     "data": {
      "text/plain": [
       "9"
      ]
     },
     "execution_count": 12,
     "metadata": {},
     "output_type": "execute_result"
    }
   ],
   "source": [
    "fig.canvas.mpl_connect('scroll_event',mousewheel_move)"
   ]
  },
  {
   "cell_type": "code",
   "execution_count": null,
   "id": "c6f60d97",
   "metadata": {},
   "outputs": [],
   "source": []
  },
  {
   "cell_type": "code",
   "execution_count": null,
   "id": "8d031f48",
   "metadata": {},
   "outputs": [],
   "source": []
  },
  {
   "cell_type": "code",
   "execution_count": null,
   "id": "2272ebd8",
   "metadata": {},
   "outputs": [],
   "source": []
  }
 ],
 "metadata": {
  "kernelspec": {
   "display_name": "Python 3 (ipykernel)",
   "language": "python",
   "name": "python3"
  },
  "language_info": {
   "codemirror_mode": {
    "name": "ipython",
    "version": 3
   },
   "file_extension": ".py",
   "mimetype": "text/x-python",
   "name": "python",
   "nbconvert_exporter": "python",
   "pygments_lexer": "ipython3",
   "version": "3.9.7"
  }
 },
 "nbformat": 4,
 "nbformat_minor": 5
}
