{
 "cells": [
  {
   "cell_type": "code",
   "execution_count": 1,
   "id": "c4e69906",
   "metadata": {},
   "outputs": [
    {
     "name": "stdout",
     "output_type": "stream",
     "text": [
      "Collecting numpy"
     ]
    },
    {
     "name": "stderr",
     "output_type": "stream",
     "text": [
      "WARNING: You are using pip version 21.2.3; however, version 21.3.1 is available.\n",
      "You should consider upgrading via the 'C:\\Users\\Subhajit ghosh\\python.exe -m pip install --upgrade pip' command.\n"
     ]
    },
    {
     "name": "stdout",
     "output_type": "stream",
     "text": [
      "\n",
      "  Downloading numpy-1.21.4-cp39-cp39-win_amd64.whl (14.0 MB)\n",
      "Installing collected packages: numpy\n",
      "Successfully installed numpy-1.21.4\n"
     ]
    }
   ],
   "source": [
    "!pip install numpy\n"
   ]
  },
  {
   "cell_type": "code",
   "execution_count": 1,
   "id": "5b2575cd",
   "metadata": {},
   "outputs": [],
   "source": [
    "import numpy as np\n"
   ]
  },
  {
   "cell_type": "code",
   "execution_count": 5,
   "id": "2c3fad32",
   "metadata": {},
   "outputs": [
    {
     "name": "stdout",
     "output_type": "stream",
     "text": [
      "[1 3 4 5] <class 'numpy.ndarray'>\n",
      "[1 2 3 4] <class 'numpy.ndarray'>\n"
     ]
    }
   ],
   "source": [
    "l = [1 , 3 , 4 , 5]\n",
    "a = np.array(l)\n",
    "b = np.array([1 , 2 , 3 ,4])\n",
    "print(a , type(a))\n",
    "print(b , type(b))"
   ]
  },
  {
   "cell_type": "code",
   "execution_count": 2,
   "id": "06f5374b",
   "metadata": {},
   "outputs": [
    {
     "name": "stdout",
     "output_type": "stream",
     "text": [
      "[1, 2, 3, 4, 5, 6, 7, 8, 9]\n"
     ]
    }
   ],
   "source": [
    "l4 = [1 , 2 , 3 ,4 ,5 ,6 ,7 ,8 ,9]\n",
    "a = np.array(l4)\n",
    "print(l4)"
   ]
  },
  {
   "cell_type": "code",
   "execution_count": 4,
   "id": "e3e88d6a",
   "metadata": {},
   "outputs": [
    {
     "data": {
      "text/plain": [
       "array([[1, 2, 3],\n",
       "       [4, 5, 6],\n",
       "       [7, 8, 9]])"
      ]
     },
     "execution_count": 4,
     "metadata": {},
     "output_type": "execute_result"
    }
   ],
   "source": [
    "a.reshape(3,3)\n"
   ]
  },
  {
   "cell_type": "code",
   "execution_count": 7,
   "id": "22d86652",
   "metadata": {},
   "outputs": [
    {
     "name": "stdout",
     "output_type": "stream",
     "text": [
      "[2 5 7 9]\n",
      "[ 1  6 12 20]\n",
      "[0 1 1 1]\n",
      "[ 1  9 16 25]\n"
     ]
    }
   ],
   "source": [
    "print(a + b)\n",
    "print(a * b)\n",
    "print(a - b)\n",
    "print(a**2)"
   ]
  },
  {
   "cell_type": "code",
   "execution_count": 11,
   "id": "6dde8f5f",
   "metadata": {},
   "outputs": [
    {
     "name": "stdout",
     "output_type": "stream",
     "text": [
      "[[1 2 3]\n",
      " [3 5 6]] <class 'numpy.ndarray'>\n"
     ]
    }
   ],
   "source": [
    "l2 = [[1 , 2 ,3 ],[3 , 5 ,6]]\n",
    "a = np.array(l2)\n",
    "print(a , type(a))"
   ]
  },
  {
   "cell_type": "code",
   "execution_count": 12,
   "id": "cdd7286e",
   "metadata": {},
   "outputs": [
    {
     "name": "stdout",
     "output_type": "stream",
     "text": [
      "(2, 3)\n"
     ]
    }
   ],
   "source": [
    "print(a.shape)"
   ]
  },
  {
   "cell_type": "code",
   "execution_count": 13,
   "id": "be8f74a3",
   "metadata": {},
   "outputs": [
    {
     "data": {
      "text/plain": [
       "['T',\n",
       " '__abs__',\n",
       " '__add__',\n",
       " '__and__',\n",
       " '__array__',\n",
       " '__array_finalize__',\n",
       " '__array_function__',\n",
       " '__array_interface__',\n",
       " '__array_prepare__',\n",
       " '__array_priority__',\n",
       " '__array_struct__',\n",
       " '__array_ufunc__',\n",
       " '__array_wrap__',\n",
       " '__bool__',\n",
       " '__class__',\n",
       " '__complex__',\n",
       " '__contains__',\n",
       " '__copy__',\n",
       " '__deepcopy__',\n",
       " '__delattr__',\n",
       " '__delitem__',\n",
       " '__dir__',\n",
       " '__divmod__',\n",
       " '__doc__',\n",
       " '__eq__',\n",
       " '__float__',\n",
       " '__floordiv__',\n",
       " '__format__',\n",
       " '__ge__',\n",
       " '__getattribute__',\n",
       " '__getitem__',\n",
       " '__gt__',\n",
       " '__hash__',\n",
       " '__iadd__',\n",
       " '__iand__',\n",
       " '__ifloordiv__',\n",
       " '__ilshift__',\n",
       " '__imatmul__',\n",
       " '__imod__',\n",
       " '__imul__',\n",
       " '__index__',\n",
       " '__init__',\n",
       " '__init_subclass__',\n",
       " '__int__',\n",
       " '__invert__',\n",
       " '__ior__',\n",
       " '__ipow__',\n",
       " '__irshift__',\n",
       " '__isub__',\n",
       " '__iter__',\n",
       " '__itruediv__',\n",
       " '__ixor__',\n",
       " '__le__',\n",
       " '__len__',\n",
       " '__lshift__',\n",
       " '__lt__',\n",
       " '__matmul__',\n",
       " '__mod__',\n",
       " '__mul__',\n",
       " '__ne__',\n",
       " '__neg__',\n",
       " '__new__',\n",
       " '__or__',\n",
       " '__pos__',\n",
       " '__pow__',\n",
       " '__radd__',\n",
       " '__rand__',\n",
       " '__rdivmod__',\n",
       " '__reduce__',\n",
       " '__reduce_ex__',\n",
       " '__repr__',\n",
       " '__rfloordiv__',\n",
       " '__rlshift__',\n",
       " '__rmatmul__',\n",
       " '__rmod__',\n",
       " '__rmul__',\n",
       " '__ror__',\n",
       " '__rpow__',\n",
       " '__rrshift__',\n",
       " '__rshift__',\n",
       " '__rsub__',\n",
       " '__rtruediv__',\n",
       " '__rxor__',\n",
       " '__setattr__',\n",
       " '__setitem__',\n",
       " '__setstate__',\n",
       " '__sizeof__',\n",
       " '__str__',\n",
       " '__sub__',\n",
       " '__subclasshook__',\n",
       " '__truediv__',\n",
       " '__xor__',\n",
       " 'all',\n",
       " 'any',\n",
       " 'argmax',\n",
       " 'argmin',\n",
       " 'argpartition',\n",
       " 'argsort',\n",
       " 'astype',\n",
       " 'base',\n",
       " 'byteswap',\n",
       " 'choose',\n",
       " 'clip',\n",
       " 'compress',\n",
       " 'conj',\n",
       " 'conjugate',\n",
       " 'copy',\n",
       " 'ctypes',\n",
       " 'cumprod',\n",
       " 'cumsum',\n",
       " 'data',\n",
       " 'diagonal',\n",
       " 'dot',\n",
       " 'dtype',\n",
       " 'dump',\n",
       " 'dumps',\n",
       " 'fill',\n",
       " 'flags',\n",
       " 'flat',\n",
       " 'flatten',\n",
       " 'getfield',\n",
       " 'imag',\n",
       " 'item',\n",
       " 'itemset',\n",
       " 'itemsize',\n",
       " 'max',\n",
       " 'mean',\n",
       " 'min',\n",
       " 'nbytes',\n",
       " 'ndim',\n",
       " 'newbyteorder',\n",
       " 'nonzero',\n",
       " 'partition',\n",
       " 'prod',\n",
       " 'ptp',\n",
       " 'put',\n",
       " 'ravel',\n",
       " 'real',\n",
       " 'repeat',\n",
       " 'reshape',\n",
       " 'resize',\n",
       " 'round',\n",
       " 'searchsorted',\n",
       " 'setfield',\n",
       " 'setflags',\n",
       " 'shape',\n",
       " 'size',\n",
       " 'sort',\n",
       " 'squeeze',\n",
       " 'std',\n",
       " 'strides',\n",
       " 'sum',\n",
       " 'swapaxes',\n",
       " 'take',\n",
       " 'tobytes',\n",
       " 'tofile',\n",
       " 'tolist',\n",
       " 'tostring',\n",
       " 'trace',\n",
       " 'transpose',\n",
       " 'var',\n",
       " 'view']"
      ]
     },
     "execution_count": 13,
     "metadata": {},
     "output_type": "execute_result"
    }
   ],
   "source": [
    "dir(a)"
   ]
  },
  {
   "cell_type": "code",
   "execution_count": 15,
   "id": "84b66313",
   "metadata": {},
   "outputs": [
    {
     "data": {
      "text/plain": [
       "2"
      ]
     },
     "execution_count": 15,
     "metadata": {},
     "output_type": "execute_result"
    }
   ],
   "source": [
    "a.ndim"
   ]
  },
  {
   "cell_type": "code",
   "execution_count": 16,
   "id": "e84fd84b",
   "metadata": {},
   "outputs": [
    {
     "name": "stdout",
     "output_type": "stream",
     "text": [
      "[1 2 3 4]\n"
     ]
    }
   ],
   "source": [
    "b = np.array([1 , 2 , 3 , 4][1 , 5 , 6 , 7])\n",
    "print(b)"
   ]
  },
  {
   "cell_type": "code",
   "execution_count": 18,
   "id": "0db2fb2a",
   "metadata": {},
   "outputs": [
    {
     "name": "stdout",
     "output_type": "stream",
     "text": [
      "(4,) 1\n"
     ]
    }
   ],
   "source": [
    "print(b.shape , b.ndim)"
   ]
  },
  {
   "cell_type": "code",
   "execution_count": 19,
   "id": "0bc94153",
   "metadata": {},
   "outputs": [
    {
     "name": "stdout",
     "output_type": "stream",
     "text": [
      "[1 2 3 4] 1\n"
     ]
    }
   ],
   "source": [
    "b.reshape(1 , 4)\n",
    "print(b , b.ndim)"
   ]
  },
  {
   "cell_type": "code",
   "execution_count": 20,
   "id": "95a04ded",
   "metadata": {},
   "outputs": [
    {
     "name": "stdout",
     "output_type": "stream",
     "text": [
      "[[[1. 1. 1. 1. 1.]\n",
      "  [1. 1. 1. 1. 1.]\n",
      "  [1. 1. 1. 1. 1.]\n",
      "  [1. 1. 1. 1. 1.]]\n",
      "\n",
      " [[1. 1. 1. 1. 1.]\n",
      "  [1. 1. 1. 1. 1.]\n",
      "  [1. 1. 1. 1. 1.]\n",
      "  [1. 1. 1. 1. 1.]]]\n"
     ]
    }
   ],
   "source": [
    "a = np.ones((2 , 4 , 5))\n",
    "print(a)"
   ]
  },
  {
   "cell_type": "code",
   "execution_count": 21,
   "id": "b5a2e0d0",
   "metadata": {},
   "outputs": [
    {
     "data": {
      "text/plain": [
       "array([[2., 2., 2., 2., 2.],\n",
       "       [2., 2., 2., 2., 2.],\n",
       "       [2., 2., 2., 2., 2.],\n",
       "       [2., 2., 2., 2., 2.]])"
      ]
     },
     "execution_count": 21,
     "metadata": {},
     "output_type": "execute_result"
    }
   ],
   "source": [
    "a.sum(0)"
   ]
  },
  {
   "cell_type": "code",
   "execution_count": 23,
   "id": "a2ab6bce",
   "metadata": {},
   "outputs": [
    {
     "name": "stdout",
     "output_type": "stream",
     "text": [
      "[[[1. 1. 1. 1. 1.]\n",
      "  [1. 1. 1. 1. 1.]\n",
      "  [1. 1. 1. 1. 1.]\n",
      "  [1. 1. 1. 1. 1.]]\n",
      "\n",
      " [[1. 1. 1. 1. 1.]\n",
      "  [1. 1. 1. 1. 1.]\n",
      "  [1. 1. 1. 1. 1.]\n",
      "  [1. 1. 1. 1. 1.]]]\n"
     ]
    }
   ],
   "source": [
    "a = np.ones((2 , 4 , 5))\n",
    "print(a)"
   ]
  },
  {
   "cell_type": "code",
   "execution_count": null,
   "id": "93b8fbc1",
   "metadata": {},
   "outputs": [],
   "source": []
  },
  {
   "cell_type": "code",
   "execution_count": 24,
   "id": "5f36d698",
   "metadata": {},
   "outputs": [
    {
     "data": {
      "text/plain": [
       "array([[5., 5., 5., 5.],\n",
       "       [5., 5., 5., 5.]])"
      ]
     },
     "execution_count": 24,
     "metadata": {},
     "output_type": "execute_result"
    }
   ],
   "source": [
    "a.sum(2)"
   ]
  },
  {
   "cell_type": "code",
   "execution_count": 25,
   "id": "ed67899f",
   "metadata": {},
   "outputs": [
    {
     "name": "stdout",
     "output_type": "stream",
     "text": [
      "[[[ 1  2  3  4  5]\n",
      "  [ 6  7  8  9 10]\n",
      "  [11 12 13 14 15]\n",
      "  [16 17 18 19 20]\n",
      "  [21 22 23 24 25]]\n",
      "\n",
      " [[26 27 28 29 30]\n",
      "  [31 32 33 34 35]\n",
      "  [36 37 38 39 40]\n",
      "  [41 42 43 44 45]\n",
      "  [46 47 48 49 50]]]\n"
     ]
    }
   ],
   "source": [
    "a = np.arange(1,51).reshape(2 , 5 ,-1)\n",
    "print(a)"
   ]
  },
  {
   "cell_type": "markdown",
   "id": "91e7c378",
   "metadata": {},
   "source": [
    "## Array Creation and attributes\n",
    "creating array from a sequence: 1d, 2d\n",
    "arithmetic operations on np array\n",
    "num of dim, shape, size, dtype, itemsize"
   ]
  },
  {
   "cell_type": "code",
   "execution_count": 2,
   "id": "d3b26ba2",
   "metadata": {},
   "outputs": [],
   "source": [
    "import numpy as np"
   ]
  },
  {
   "cell_type": "code",
   "execution_count": 3,
   "id": "94531f6b",
   "metadata": {},
   "outputs": [],
   "source": [
    "l = [1 , 2 , 3 ,4]\n",
    "a = np.array(l)\n",
    "b = np.array([7 , 8 , 9 , 10])"
   ]
  },
  {
   "cell_type": "code",
   "execution_count": 4,
   "id": "4738c46e",
   "metadata": {},
   "outputs": [
    {
     "name": "stdout",
     "output_type": "stream",
     "text": [
      "[1 2 3 4] [ 7  8  9 10]\n"
     ]
    }
   ],
   "source": [
    "print(a , b)"
   ]
  },
  {
   "cell_type": "code",
   "execution_count": 5,
   "id": "414b2907",
   "metadata": {},
   "outputs": [
    {
     "name": "stdout",
     "output_type": "stream",
     "text": [
      "<class 'numpy.ndarray'>\n"
     ]
    }
   ],
   "source": [
    "print(type(a))"
   ]
  },
  {
   "cell_type": "code",
   "execution_count": 6,
   "id": "70ef47f7",
   "metadata": {},
   "outputs": [
    {
     "name": "stdout",
     "output_type": "stream",
     "text": [
      "<class 'numpy.int32'>\n"
     ]
    }
   ],
   "source": [
    "print(type(a[0]))"
   ]
  },
  {
   "cell_type": "code",
   "execution_count": 7,
   "id": "5aa49100",
   "metadata": {},
   "outputs": [
    {
     "name": "stdout",
     "output_type": "stream",
     "text": [
      "[ 8 10 12 14]\n"
     ]
    }
   ],
   "source": [
    "print(a+b)"
   ]
  },
  {
   "cell_type": "code",
   "execution_count": 11,
   "id": "711b007b",
   "metadata": {},
   "outputs": [],
   "source": [
    "l2 = [[2 , 4 ,5 ,6] , [5 , 1, 4 ,5]]"
   ]
  },
  {
   "cell_type": "code",
   "execution_count": 37,
   "id": "31c2b7f0",
   "metadata": {},
   "outputs": [
    {
     "name": "stdout",
     "output_type": "stream",
     "text": [
      "[[2 4 5 6]\n",
      " [5 1 4 5]]\n"
     ]
    }
   ],
   "source": [
    "a = np.array(l2)\n",
    "print(a)"
   ]
  },
  {
   "cell_type": "code",
   "execution_count": 38,
   "id": "9b35909e",
   "metadata": {},
   "outputs": [
    {
     "name": "stdout",
     "output_type": "stream",
     "text": [
      "(2, 4)\n",
      "4\n"
     ]
    }
   ],
   "source": [
    "print(a.shape)\n",
    "print(a.itemsize)"
   ]
  },
  {
   "cell_type": "code",
   "execution_count": 16,
   "id": "8ff8ef19",
   "metadata": {},
   "outputs": [
    {
     "name": "stdout",
     "output_type": "stream",
     "text": [
      "2\n"
     ]
    }
   ],
   "source": [
    "print(a.ndim)"
   ]
  },
  {
   "cell_type": "code",
   "execution_count": 18,
   "id": "fdff51fb",
   "metadata": {},
   "outputs": [
    {
     "name": "stdout",
     "output_type": "stream",
     "text": [
      "[1 4 5 6] 1\n"
     ]
    }
   ],
   "source": [
    "l3 = [1 , 4 ,5 ,6]\n",
    "a = np.array(l3)\n",
    "print(a , a.ndim)"
   ]
  },
  {
   "cell_type": "code",
   "execution_count": 20,
   "id": "edca6ce5",
   "metadata": {},
   "outputs": [
    {
     "name": "stdout",
     "output_type": "stream",
     "text": [
      "(4,) 1\n"
     ]
    }
   ],
   "source": [
    "print(a.shape , a.ndim)"
   ]
  },
  {
   "cell_type": "code",
   "execution_count": 22,
   "id": "52547f20",
   "metadata": {},
   "outputs": [
    {
     "data": {
      "text/plain": [
       "(2, 4)"
      ]
     },
     "execution_count": 22,
     "metadata": {},
     "output_type": "execute_result"
    }
   ],
   "source": [
    "l4 = [[2 , 4 ,5 ,6],[6 , 4, 6 ,3]]\n",
    "a = np.array(l4)\n",
    "a.shape"
   ]
  },
  {
   "cell_type": "code",
   "execution_count": 23,
   "id": "4370ce1d",
   "metadata": {},
   "outputs": [
    {
     "data": {
      "text/plain": [
       "array([[2],\n",
       "       [4],\n",
       "       [5],\n",
       "       [6],\n",
       "       [6],\n",
       "       [4],\n",
       "       [6],\n",
       "       [3]])"
      ]
     },
     "execution_count": 23,
     "metadata": {},
     "output_type": "execute_result"
    }
   ],
   "source": [
    "a.reshape(8 , 1)"
   ]
  },
  {
   "cell_type": "code",
   "execution_count": 24,
   "id": "594a4ed2",
   "metadata": {},
   "outputs": [
    {
     "data": {
      "text/plain": [
       "array([[2, 4],\n",
       "       [5, 6],\n",
       "       [6, 4],\n",
       "       [6, 3]])"
      ]
     },
     "execution_count": 24,
     "metadata": {},
     "output_type": "execute_result"
    }
   ],
   "source": [
    "a.reshape(4 , 2)"
   ]
  },
  {
   "cell_type": "code",
   "execution_count": 25,
   "id": "d1ec5060",
   "metadata": {},
   "outputs": [
    {
     "name": "stdout",
     "output_type": "stream",
     "text": [
      "[[2 4 5 6]\n",
      " [6 4 6 3]]\n"
     ]
    }
   ],
   "source": [
    "print(a)"
   ]
  },
  {
   "cell_type": "code",
   "execution_count": 31,
   "id": "4e6dd99c",
   "metadata": {},
   "outputs": [
    {
     "name": "stdout",
     "output_type": "stream",
     "text": [
      "<class 'numpy.ndarray'>\n"
     ]
    }
   ],
   "source": [
    "print(type(a[0]))"
   ]
  },
  {
   "cell_type": "code",
   "execution_count": 32,
   "id": "d1f1e1e8",
   "metadata": {},
   "outputs": [
    {
     "name": "stdout",
     "output_type": "stream",
     "text": [
      "<class 'numpy.int32'>\n"
     ]
    }
   ],
   "source": [
    "print(type(a[0][1]))"
   ]
  },
  {
   "cell_type": "code",
   "execution_count": 34,
   "id": "3cc7d203",
   "metadata": {},
   "outputs": [],
   "source": [
    "b = np.float32"
   ]
  },
  {
   "cell_type": "code",
   "execution_count": 35,
   "id": "9ef45fc3",
   "metadata": {},
   "outputs": [
    {
     "data": {
      "text/plain": [
       "type"
      ]
     },
     "execution_count": 35,
     "metadata": {},
     "output_type": "execute_result"
    }
   ],
   "source": [
    "type(b)"
   ]
  },
  {
   "cell_type": "code",
   "execution_count": 36,
   "id": "3ebeaa4e",
   "metadata": {},
   "outputs": [
    {
     "data": {
      "text/plain": [
       "4"
      ]
     },
     "execution_count": 36,
     "metadata": {},
     "output_type": "execute_result"
    }
   ],
   "source": [
    "a.itemsize"
   ]
  },
  {
   "cell_type": "markdown",
   "id": "a5e9ee89",
   "metadata": {},
   "source": [
    "## creating fixed size array\n",
    "- zeroes \n",
    "- one\n",
    "-empty"
   ]
  },
  {
   "cell_type": "code",
   "execution_count": 40,
   "id": "86ac81c4",
   "metadata": {},
   "outputs": [
    {
     "name": "stdout",
     "output_type": "stream",
     "text": [
      "[[1 1 1 1 1]\n",
      " [1 1 1 1 1]]\n"
     ]
    }
   ],
   "source": [
    "a = np.ones((2,5) , dtype = np.int32)\n",
    "print(a)"
   ]
  },
  {
   "cell_type": "code",
   "execution_count": 43,
   "id": "2c53ef0e",
   "metadata": {},
   "outputs": [
    {
     "data": {
      "text/plain": [
       "numpy.ndarray"
      ]
     },
     "execution_count": 43,
     "metadata": {},
     "output_type": "execute_result"
    }
   ],
   "source": [
    "type(a)"
   ]
  },
  {
   "cell_type": "code",
   "execution_count": 48,
   "id": "4dfd518b",
   "metadata": {},
   "outputs": [
    {
     "name": "stdout",
     "output_type": "stream",
     "text": [
      "int32\n"
     ]
    }
   ],
   "source": [
    "print(a.dtype)"
   ]
  },
  {
   "cell_type": "code",
   "execution_count": 51,
   "id": "935df364",
   "metadata": {},
   "outputs": [
    {
     "name": "stdout",
     "output_type": "stream",
     "text": [
      "[[0. 0. 0. 0.]\n",
      " [0. 0. 0. 0.]\n",
      " [0. 0. 0. 0.]]\n",
      "float32\n"
     ]
    }
   ],
   "source": [
    "b = np.zeros((3,4) , dtype = np.float32)\n",
    "print(b)\n",
    "print(b.dtype)"
   ]
  },
  {
   "cell_type": "code",
   "execution_count": 52,
   "id": "d75af00e",
   "metadata": {},
   "outputs": [
    {
     "name": "stdout",
     "output_type": "stream",
     "text": [
      "[[[0 0 0 0 0 0]\n",
      "  [0 0 0 0 0 0]\n",
      "  [0 0 0 0 0 0]\n",
      "  [0 0 0 0 0 0]\n",
      "  [0 0 0 0 0 0]]\n",
      "\n",
      " [[0 0 0 0 0 0]\n",
      "  [0 0 0 0 0 0]\n",
      "  [0 0 0 0 0 0]\n",
      "  [0 0 0 0 0 0]\n",
      "  [0 0 0 0 0 0]]]\n",
      "int32\n"
     ]
    }
   ],
   "source": [
    "c = np.zeros((2 , 5 ,6) , dtype = np.int32)\n",
    "print(c)\n",
    "print(c.dtype)"
   ]
  },
  {
   "cell_type": "code",
   "execution_count": 53,
   "id": "f6f2b6f5",
   "metadata": {},
   "outputs": [
    {
     "name": "stdout",
     "output_type": "stream",
     "text": [
      "[[[0 0 0 0 0 0]\n",
      "  [0 0 0 0 0 0]\n",
      "  [0 0 0 0 0 0]\n",
      "  [0 0 0 0 0 0]\n",
      "  [0 0 0 0 0 0]]\n",
      "\n",
      " [[0 0 0 0 0 0]\n",
      "  [0 0 0 0 0 0]\n",
      "  [0 0 0 0 0 0]\n",
      "  [0 0 0 0 0 0]\n",
      "  [0 0 0 0 0 0]]]\n"
     ]
    }
   ],
   "source": [
    "d = np.empty((5 , 6))\n",
    "print(c)"
   ]
  },
  {
   "cell_type": "markdown",
   "id": "2cd9a1aa",
   "metadata": {},
   "source": [
    "## Creating sequences of numbers\n",
    " - arange\n",
    "- linspace"
   ]
  },
  {
   "cell_type": "code",
   "execution_count": 59,
   "id": "73d54340",
   "metadata": {},
   "outputs": [],
   "source": [
    "a = np.arange?\n"
   ]
  },
  {
   "cell_type": "code",
   "execution_count": 61,
   "id": "8428c32e",
   "metadata": {},
   "outputs": [
    {
     "name": "stdout",
     "output_type": "stream",
     "text": [
      "[100  99  98  97  96  95  94  93  92  91  90  89  88  87  86  85  84  83\n",
      "  82  81  80  79  78  77  76  75  74  73  72  71  70  69  68  67  66  65\n",
      "  64  63  62  61  60  59  58  57  56  55  54  53  52  51  50  49  48  47\n",
      "  46  45  44  43  42  41  40  39  38  37  36  35  34  33  32  31  30  29\n",
      "  28  27  26  25  24  23  22  21  20  19  18  17  16  15  14  13  12  11\n",
      "  10   9   8   7   6   5   4   3   2]\n"
     ]
    }
   ],
   "source": [
    "a = np.arange(100 , 1 , -1)\n",
    "print(a)"
   ]
  },
  {
   "cell_type": "code",
   "execution_count": 62,
   "id": "644e4416",
   "metadata": {},
   "outputs": [
    {
     "data": {
      "text/plain": [
       "array([50, 48, 46, 44, 42, 40, 38, 36, 34, 32, 30, 28, 26, 24, 22, 20, 18,\n",
       "       16, 14, 12, 10,  8,  6])"
      ]
     },
     "execution_count": 62,
     "metadata": {},
     "output_type": "execute_result"
    }
   ],
   "source": [
    "b = np.arange(50 , 4 , -2)\n",
    "b"
   ]
  },
  {
   "cell_type": "code",
   "execution_count": 67,
   "id": "a78fb196",
   "metadata": {},
   "outputs": [
    {
     "name": "stdout",
     "output_type": "stream",
     "text": [
      "[[[100  99  98  97  96  95  94  93  92  91  90  89  88  87  86  85]\n",
      "  [ 84  83  82  81  80  79  78  77  76  75  74  73  72  71  70  69]]\n",
      "\n",
      " [[ 68  67  66  65  64  63  62  61  60  59  58  57  56  55  54  53]\n",
      "  [ 52  51  50  49  48  47  46  45  44  43  42  41  40  39  38  37]]\n",
      "\n",
      " [[ 36  35  34  33  32  31  30  29  28  27  26  25  24  23  22  21]\n",
      "  [ 20  19  18  17  16  15  14  13  12  11  10   9   8   7   6   5]]]\n"
     ]
    }
   ],
   "source": [
    "c = np.arange(100 , 4 ,-1).reshape(3 , 2  , -1)\n",
    "print(c)"
   ]
  },
  {
   "cell_type": "code",
   "execution_count": 70,
   "id": "670cf834",
   "metadata": {},
   "outputs": [
    {
     "name": "stdout",
     "output_type": "stream",
     "text": [
      "[ 1  2  3  4  5  6  7  8  9 10 11 12 13 14 15 16 17 18 19 20]\n"
     ]
    }
   ],
   "source": [
    "d = np.arange(1 , 21 , 1)\n",
    "print(d)"
   ]
  },
  {
   "cell_type": "code",
   "execution_count": 74,
   "id": "38d86821",
   "metadata": {},
   "outputs": [
    {
     "data": {
      "text/plain": [
       "array([[ 1,  2,  3,  4,  5],\n",
       "       [ 6,  7,  8,  9, 10],\n",
       "       [11, 12, 13, 14, 15],\n",
       "       [16, 17, 18, 19, 20]])"
      ]
     },
     "execution_count": 74,
     "metadata": {},
     "output_type": "execute_result"
    }
   ],
   "source": [
    "d.reshape(4 , -1)"
   ]
  },
  {
   "cell_type": "code",
   "execution_count": 76,
   "id": "af943c01",
   "metadata": {},
   "outputs": [
    {
     "name": "stdout",
     "output_type": "stream",
     "text": [
      "[[0 1 2 3]\n",
      " [4 5 6 7]]\n"
     ]
    }
   ],
   "source": [
    "a = np.arange(8).reshape(2,-1)\n",
    "print(a)"
   ]
  },
  {
   "cell_type": "code",
   "execution_count": 78,
   "id": "36ee4d71",
   "metadata": {},
   "outputs": [],
   "source": [
    "b = np.linspace?"
   ]
  },
  {
   "cell_type": "code",
   "execution_count": null,
   "id": "b24fd2c5",
   "metadata": {},
   "outputs": [],
   "source": [
    "b = np.linspace"
   ]
  },
  {
   "cell_type": "code",
   "execution_count": 79,
   "id": "329dbc16",
   "metadata": {},
   "outputs": [
    {
     "name": "stdout",
     "output_type": "stream",
     "text": [
      "[ 2.          2.48484848  2.96969697  3.45454545  3.93939394  4.42424242\n",
      "  4.90909091  5.39393939  5.87878788  6.36363636  6.84848485  7.33333333\n",
      "  7.81818182  8.3030303   8.78787879  9.27272727  9.75757576 10.24242424\n",
      " 10.72727273 11.21212121 11.6969697  12.18181818 12.66666667 13.15151515\n",
      " 13.63636364 14.12121212 14.60606061 15.09090909 15.57575758 16.06060606\n",
      " 16.54545455 17.03030303 17.51515152 18.         18.48484848 18.96969697\n",
      " 19.45454545 19.93939394 20.42424242 20.90909091 21.39393939 21.87878788\n",
      " 22.36363636 22.84848485 23.33333333 23.81818182 24.3030303  24.78787879\n",
      " 25.27272727 25.75757576 26.24242424 26.72727273 27.21212121 27.6969697\n",
      " 28.18181818 28.66666667 29.15151515 29.63636364 30.12121212 30.60606061\n",
      " 31.09090909 31.57575758 32.06060606 32.54545455 33.03030303 33.51515152\n",
      " 34.         34.48484848 34.96969697 35.45454545 35.93939394 36.42424242\n",
      " 36.90909091 37.39393939 37.87878788 38.36363636 38.84848485 39.33333333\n",
      " 39.81818182 40.3030303  40.78787879 41.27272727 41.75757576 42.24242424\n",
      " 42.72727273 43.21212121 43.6969697  44.18181818 44.66666667 45.15151515\n",
      " 45.63636364 46.12121212 46.60606061 47.09090909 47.57575758 48.06060606\n",
      " 48.54545455 49.03030303 49.51515152 50.        ]\n"
     ]
    }
   ],
   "source": [
    "a = np.linspace(2,50, 100)\n",
    "print(a)"
   ]
  },
  {
   "cell_type": "code",
   "execution_count": 81,
   "id": "048276f2",
   "metadata": {},
   "outputs": [
    {
     "data": {
      "text/plain": [
       "0.48484848484848486"
      ]
     },
     "execution_count": 81,
     "metadata": {},
     "output_type": "execute_result"
    }
   ],
   "source": [
    "(50 - 2 )/ 99"
   ]
  },
  {
   "cell_type": "code",
   "execution_count": 82,
   "id": "6fd120cb",
   "metadata": {},
   "outputs": [
    {
     "name": "stdout",
     "output_type": "stream",
     "text": [
      "[-50.         -49.51515152 -49.03030303 -48.54545455 -48.06060606\n",
      " -47.57575758 -47.09090909 -46.60606061 -46.12121212 -45.63636364\n",
      " -45.15151515 -44.66666667 -44.18181818 -43.6969697  -43.21212121\n",
      " -42.72727273 -42.24242424 -41.75757576 -41.27272727 -40.78787879\n",
      " -40.3030303  -39.81818182 -39.33333333 -38.84848485 -38.36363636\n",
      " -37.87878788 -37.39393939 -36.90909091 -36.42424242 -35.93939394\n",
      " -35.45454545 -34.96969697 -34.48484848 -34.         -33.51515152\n",
      " -33.03030303 -32.54545455 -32.06060606 -31.57575758 -31.09090909\n",
      " -30.60606061 -30.12121212 -29.63636364 -29.15151515 -28.66666667\n",
      " -28.18181818 -27.6969697  -27.21212121 -26.72727273 -26.24242424\n",
      " -25.75757576 -25.27272727 -24.78787879 -24.3030303  -23.81818182\n",
      " -23.33333333 -22.84848485 -22.36363636 -21.87878788 -21.39393939\n",
      " -20.90909091 -20.42424242 -19.93939394 -19.45454545 -18.96969697\n",
      " -18.48484848 -18.         -17.51515152 -17.03030303 -16.54545455\n",
      " -16.06060606 -15.57575758 -15.09090909 -14.60606061 -14.12121212\n",
      " -13.63636364 -13.15151515 -12.66666667 -12.18181818 -11.6969697\n",
      " -11.21212121 -10.72727273 -10.24242424  -9.75757576  -9.27272727\n",
      "  -8.78787879  -8.3030303   -7.81818182  -7.33333333  -6.84848485\n",
      "  -6.36363636  -5.87878788  -5.39393939  -4.90909091  -4.42424242\n",
      "  -3.93939394  -3.45454545  -2.96969697  -2.48484848  -2.        ]\n"
     ]
    }
   ],
   "source": [
    "b = np.linspace(-50 , -2 , 100)\n",
    "print(b)"
   ]
  },
  {
   "cell_type": "code",
   "execution_count": 86,
   "id": "8855ef7e",
   "metadata": {},
   "outputs": [
    {
     "data": {
      "text/plain": [
       "0.48484848484848486"
      ]
     },
     "execution_count": 86,
     "metadata": {},
     "output_type": "execute_result"
    }
   ],
   "source": [
    "(-2 + 50) / 99"
   ]
  },
  {
   "cell_type": "code",
   "execution_count": 87,
   "id": "1dc0f82d",
   "metadata": {},
   "outputs": [
    {
     "data": {
      "text/plain": [
       "-0.4848484799999966"
      ]
     },
     "execution_count": 87,
     "metadata": {},
     "output_type": "execute_result"
    }
   ],
   "source": [
    "49.51515152 - 50\n"
   ]
  },
  {
   "cell_type": "markdown",
   "id": "866058f3",
   "metadata": {},
   "source": [
    "## Basic Operations\n",
    "- element-wise arithmatic and comparison operation with scaler and arrays\n",
    "- matrix multiplication\n",
    "- +=, -=, *= etc. changes value inplace\n",
    "- Resulting matrix has a more general/ precise dtype"
   ]
  },
  {
   "cell_type": "code",
   "execution_count": 22,
   "id": "a0c316d8",
   "metadata": {},
   "outputs": [
    {
     "name": "stdout",
     "output_type": "stream",
     "text": [
      "[ 3  4  5  6  7  8  9 10 11 12 13 14 15 16 17 18 19 20]\n"
     ]
    },
    {
     "data": {
      "text/plain": [
       "array([ True,  True,  True,  True,  True,  True,  True, False, False,\n",
       "       False, False, False, False, False, False, False, False, False])"
      ]
     },
     "execution_count": 22,
     "metadata": {},
     "output_type": "execute_result"
    }
   ],
   "source": [
    "a = np.arange(3, 21)\n",
    "print(a)\n",
    "a < 10"
   ]
  },
  {
   "cell_type": "code",
   "execution_count": 12,
   "id": "0356040a",
   "metadata": {},
   "outputs": [
    {
     "name": "stdout",
     "output_type": "stream",
     "text": [
      "[ 3.          3.89473684  4.78947368  5.68421053  6.57894737  7.47368421\n",
      "  8.36842105  9.26315789 10.15789474 11.05263158 11.94736842 12.84210526\n",
      " 13.73684211 14.63157895 15.52631579 16.42105263 17.31578947 18.21052632\n",
      " 19.10526316 20.        ]\n"
     ]
    },
    {
     "data": {
      "text/plain": [
       "array([ True,  True,  True,  True,  True,  True,  True,  True, False,\n",
       "       False, False, False, False, False, False, False, False, False,\n",
       "       False, False])"
      ]
     },
     "execution_count": 12,
     "metadata": {},
     "output_type": "execute_result"
    }
   ],
   "source": [
    "b = np.linspace(3,20,20)\n",
    "print(b)\n",
    "b < 10"
   ]
  },
  {
   "cell_type": "code",
   "execution_count": 29,
   "id": "b51e5f2d",
   "metadata": {},
   "outputs": [
    {
     "name": "stdout",
     "output_type": "stream",
     "text": [
      "[ 1  2  3  4  5  6  7  8  9 10 11 12 13 14 15 16 17 18 19 20]\n"
     ]
    },
    {
     "data": {
      "text/plain": [
       "array([ True,  True,  True,  True,  True,  True,  True,  True,  True,\n",
       "       False, False, False, False, False, False, False, False, False,\n",
       "       False, False])"
      ]
     },
     "execution_count": 29,
     "metadata": {},
     "output_type": "execute_result"
    }
   ],
   "source": [
    "a = np.arange(1, 21)\n",
    "print(a)\n",
    "a < 10"
   ]
  },
  {
   "cell_type": "code",
   "execution_count": 30,
   "id": "dfc50e1d",
   "metadata": {},
   "outputs": [
    {
     "name": "stdout",
     "output_type": "stream",
     "text": [
      "[11 12 13 14 15 16 17 18 19 20 21 22 23 24 25 26 27 28 29 30]\n"
     ]
    }
   ],
   "source": [
    "c = np.arange(11,31)\n",
    "print(c)"
   ]
  },
  {
   "cell_type": "code",
   "execution_count": 23,
   "id": "a58337a9",
   "metadata": {},
   "outputs": [
    {
     "data": {
      "text/plain": [
       "array([  3,   8,  15,  24,  35,  48,  63,  80,  99, 120, 143, 168, 195,\n",
       "       224, 255, 288, 323, 360])"
      ]
     },
     "execution_count": 23,
     "metadata": {},
     "output_type": "execute_result"
    }
   ],
   "source": [
    "c*a"
   ]
  },
  {
   "cell_type": "code",
   "execution_count": 31,
   "id": "6632b713",
   "metadata": {},
   "outputs": [
    {
     "data": {
      "text/plain": [
       "array([[ 188.15789474,  201.57894737,  215.        ,  228.42105263],\n",
       "       [ 442.10526316,  477.89473684,  513.68421053,  549.47368421],\n",
       "       [ 696.05263158,  754.21052632,  812.36842105,  870.52631579],\n",
       "       [ 950.        , 1030.52631579, 1111.05263158, 1191.57894737]])"
      ]
     },
     "execution_count": 31,
     "metadata": {},
     "output_type": "execute_result"
    }
   ],
   "source": [
    "a = a.reshape(4,5)\n",
    "b = b.reshape(5,4)\n",
    "a@b"
   ]
  },
  {
   "cell_type": "code",
   "execution_count": 32,
   "id": "9895fa83",
   "metadata": {},
   "outputs": [
    {
     "data": {
      "text/plain": [
       "array([[ 1,  2,  3,  4,  5],\n",
       "       [ 6,  7,  8,  9, 10],\n",
       "       [11, 12, 13, 14, 15],\n",
       "       [16, 17, 18, 19, 20]])"
      ]
     },
     "execution_count": 32,
     "metadata": {},
     "output_type": "execute_result"
    }
   ],
   "source": [
    "a\n"
   ]
  },
  {
   "cell_type": "code",
   "execution_count": 39,
   "id": "4a6432d7",
   "metadata": {},
   "outputs": [
    {
     "name": "stdout",
     "output_type": "stream",
     "text": [
      "[[ 7  8  9 10 11]\n",
      " [12 13 14 15 16]\n",
      " [17 18 19 20 21]\n",
      " [22 23 24 25 26]]\n"
     ]
    }
   ],
   "source": [
    "a += 1\n",
    "print(a)"
   ]
  },
  {
   "cell_type": "markdown",
   "id": "c9ed21d1",
   "metadata": {},
   "source": [
    "## Unary Operations\n",
    "- sum , min , max"
   ]
  },
  {
   "cell_type": "code",
   "execution_count": 6,
   "id": "bb692868",
   "metadata": {},
   "outputs": [
    {
     "name": "stdout",
     "output_type": "stream",
     "text": [
      "[[1 2 3]\n",
      " [4 5 6]\n",
      " [7 8 9]] [[1 2 3]\n",
      " [4 5 6]\n",
      " [7 8 9]]\n"
     ]
    }
   ],
   "source": [
    "a = np.arange(1 , 10 , dtype = np.int32 ).reshape(3,-1)\n",
    "b = np.arange(1 , 10 , dtype = np.int64).reshape(3,-1)\n",
    "print(a , b)"
   ]
  },
  {
   "cell_type": "code",
   "execution_count": 7,
   "id": "08839018",
   "metadata": {},
   "outputs": [
    {
     "name": "stdout",
     "output_type": "stream",
     "text": [
      "[[1 2 3]\n",
      " [4 5 6]\n",
      " [7 8 9]] \n",
      " [[1 2 3]\n",
      " [4 5 6]\n",
      " [7 8 9]]\n"
     ]
    }
   ],
   "source": [
    "print(a , \"\\n\" , b)"
   ]
  },
  {
   "cell_type": "code",
   "execution_count": 8,
   "id": "80d5d8df",
   "metadata": {},
   "outputs": [
    {
     "name": "stdout",
     "output_type": "stream",
     "text": [
      "[[1 2 3]\n",
      " [4 5 6]\n",
      " [7 8 9]]\n"
     ]
    }
   ],
   "source": [
    "print(a)"
   ]
  },
  {
   "cell_type": "code",
   "execution_count": 9,
   "id": "89c5a985",
   "metadata": {},
   "outputs": [],
   "source": [
    "np.sum?"
   ]
  },
  {
   "cell_type": "code",
   "execution_count": 10,
   "id": "250ca630",
   "metadata": {},
   "outputs": [
    {
     "data": {
      "text/plain": [
       "45"
      ]
     },
     "execution_count": 10,
     "metadata": {},
     "output_type": "execute_result"
    }
   ],
   "source": [
    "np.sum(a)"
   ]
  },
  {
   "cell_type": "code",
   "execution_count": 11,
   "id": "abec9543",
   "metadata": {},
   "outputs": [
    {
     "data": {
      "text/plain": [
       "array([12, 15, 18])"
      ]
     },
     "execution_count": 11,
     "metadata": {},
     "output_type": "execute_result"
    }
   ],
   "source": [
    "np.sum(a , axis = 0)"
   ]
  },
  {
   "cell_type": "code",
   "execution_count": 12,
   "id": "78c497ab",
   "metadata": {},
   "outputs": [
    {
     "data": {
      "text/plain": [
       "array([ 6, 15, 24])"
      ]
     },
     "execution_count": 12,
     "metadata": {},
     "output_type": "execute_result"
    }
   ],
   "source": [
    "np.sum(a , axis = 1)"
   ]
  },
  {
   "cell_type": "code",
   "execution_count": 13,
   "id": "e1521155",
   "metadata": {},
   "outputs": [
    {
     "data": {
      "text/plain": [
       "9"
      ]
     },
     "execution_count": 13,
     "metadata": {},
     "output_type": "execute_result"
    }
   ],
   "source": [
    "a.max()"
   ]
  },
  {
   "cell_type": "code",
   "execution_count": 14,
   "id": "e496a36e",
   "metadata": {},
   "outputs": [
    {
     "name": "stdout",
     "output_type": "stream",
     "text": [
      "[[1 2 3]\n",
      " [4 5 6]\n",
      " [7 8 9]]\n"
     ]
    }
   ],
   "source": [
    "print(a)"
   ]
  },
  {
   "cell_type": "code",
   "execution_count": 15,
   "id": "0c9068ae",
   "metadata": {},
   "outputs": [
    {
     "data": {
      "text/plain": [
       "array([7, 8, 9])"
      ]
     },
     "execution_count": 15,
     "metadata": {},
     "output_type": "execute_result"
    }
   ],
   "source": [
    "a.max(0)"
   ]
  },
  {
   "cell_type": "code",
   "execution_count": 16,
   "id": "7a2e5d8b",
   "metadata": {},
   "outputs": [
    {
     "data": {
      "text/plain": [
       "array([1, 2, 3])"
      ]
     },
     "execution_count": 16,
     "metadata": {},
     "output_type": "execute_result"
    }
   ],
   "source": [
    "a.min(0)"
   ]
  },
  {
   "cell_type": "code",
   "execution_count": 22,
   "id": "005cd94f",
   "metadata": {},
   "outputs": [
    {
     "name": "stdout",
     "output_type": "stream",
     "text": [
      "[[[1 1 1 1 1]\n",
      "  [1 1 1 1 1]\n",
      "  [1 1 1 1 1]\n",
      "  [1 1 1 1 1]]\n",
      "\n",
      " [[1 1 1 1 1]\n",
      "  [1 1 1 1 1]\n",
      "  [1 1 1 1 1]\n",
      "  [1 1 1 1 1]]]\n"
     ]
    }
   ],
   "source": [
    "c = np.ones((2 , 4,5) , dtype = np.int32)\n",
    "print(c)"
   ]
  },
  {
   "cell_type": "code",
   "execution_count": 24,
   "id": "b411e72a",
   "metadata": {},
   "outputs": [
    {
     "data": {
      "text/plain": [
       "array([[2, 2, 2, 2, 2],\n",
       "       [2, 2, 2, 2, 2],\n",
       "       [2, 2, 2, 2, 2],\n",
       "       [2, 2, 2, 2, 2]])"
      ]
     },
     "execution_count": 24,
     "metadata": {},
     "output_type": "execute_result"
    }
   ],
   "source": [
    "c.sum(0)"
   ]
  },
  {
   "cell_type": "code",
   "execution_count": 25,
   "id": "73f62bde",
   "metadata": {},
   "outputs": [
    {
     "data": {
      "text/plain": [
       "array([[4, 4, 4, 4, 4],\n",
       "       [4, 4, 4, 4, 4]])"
      ]
     },
     "execution_count": 25,
     "metadata": {},
     "output_type": "execute_result"
    }
   ],
   "source": [
    "c.sum(1)"
   ]
  },
  {
   "cell_type": "markdown",
   "id": "b57c61ce",
   "metadata": {},
   "source": [
    "## Array indexing, slicing\n",
    "- similar to list slicing\n",
    "- slice is considered complete for missing slices, when fewer indices provided"
   ]
  },
  {
   "cell_type": "code",
   "execution_count": 29,
   "id": "782ffc36",
   "metadata": {},
   "outputs": [
    {
     "name": "stdout",
     "output_type": "stream",
     "text": [
      "[[ 1  2  3  4  5]\n",
      " [ 6  7  8  9 10]\n",
      " [11 12 13 14 15]\n",
      " [16 17 18 19 20]]\n"
     ]
    }
   ],
   "source": [
    "a = np.arange(1,21).reshape(4,5)\n",
    "print(a)"
   ]
  },
  {
   "cell_type": "code",
   "execution_count": 30,
   "id": "444d9bfb",
   "metadata": {},
   "outputs": [
    {
     "name": "stdout",
     "output_type": "stream",
     "text": [
      "[[[ 1  2  3  4  5]\n",
      "  [ 6  7  8  9 10]\n",
      "  [11 12 13 14 15]\n",
      "  [16 17 18 19 20]\n",
      "  [21 22 23 24 25]]\n",
      "\n",
      " [[26 27 28 29 30]\n",
      "  [31 32 33 34 35]\n",
      "  [36 37 38 39 40]\n",
      "  [41 42 43 44 45]\n",
      "  [46 47 48 49 50]]]\n"
     ]
    }
   ],
   "source": [
    " a = np.arange(1,51).reshape(2,5,-1)\n",
    "print(a)"
   ]
  },
  {
   "cell_type": "code",
   "execution_count": 31,
   "id": "ad0a872a",
   "metadata": {},
   "outputs": [
    {
     "data": {
      "text/plain": [
       "array([[ 1,  2,  3,  4,  5],\n",
       "       [ 6,  7,  8,  9, 10],\n",
       "       [11, 12, 13, 14, 15],\n",
       "       [16, 17, 18, 19, 20],\n",
       "       [21, 22, 23, 24, 25]])"
      ]
     },
     "execution_count": 31,
     "metadata": {},
     "output_type": "execute_result"
    }
   ],
   "source": [
    "a[0]"
   ]
  },
  {
   "cell_type": "code",
   "execution_count": 32,
   "id": "c49cacc5",
   "metadata": {},
   "outputs": [
    {
     "data": {
      "text/plain": [
       "array([[26, 27, 28, 29, 30],\n",
       "       [31, 32, 33, 34, 35],\n",
       "       [36, 37, 38, 39, 40],\n",
       "       [41, 42, 43, 44, 45],\n",
       "       [46, 47, 48, 49, 50]])"
      ]
     },
     "execution_count": 32,
     "metadata": {},
     "output_type": "execute_result"
    }
   ],
   "source": [
    "a[1]"
   ]
  },
  {
   "cell_type": "code",
   "execution_count": 33,
   "id": "e5640e13",
   "metadata": {},
   "outputs": [
    {
     "data": {
      "text/plain": [
       "array([[41, 42, 43, 44, 45],\n",
       "       [46, 47, 48, 49, 50]])"
      ]
     },
     "execution_count": 33,
     "metadata": {},
     "output_type": "execute_result"
    }
   ],
   "source": [
    "a[1 ,3:]"
   ]
  },
  {
   "cell_type": "markdown",
   "id": "b07963e4",
   "metadata": {},
   "source": [
    "## Stacking of arrays\n",
    "- hstack , vstack , concatenate"
   ]
  },
  {
   "cell_type": "code",
   "execution_count": 34,
   "id": "b4c8668b",
   "metadata": {},
   "outputs": [
    {
     "name": "stdout",
     "output_type": "stream",
     "text": [
      "[[1 2 3]\n",
      " [4 5 6]] \n",
      " [[0 1 2]\n",
      " [3 4 5]]\n"
     ]
    }
   ],
   "source": [
    "a = np.arange(1 , 7).reshape(2,3)\n",
    "b = np.arange(0,6).reshape(2,3)\n",
    "print(a , \"\\n\" , b)"
   ]
  },
  {
   "cell_type": "code",
   "execution_count": 35,
   "id": "793211b3",
   "metadata": {},
   "outputs": [],
   "source": [
    "np.hstack?"
   ]
  },
  {
   "cell_type": "code",
   "execution_count": 36,
   "id": "c2325a6b",
   "metadata": {},
   "outputs": [
    {
     "data": {
      "text/plain": [
       "array([[1, 2, 3, 0, 1, 2],\n",
       "       [4, 5, 6, 3, 4, 5]])"
      ]
     },
     "execution_count": 36,
     "metadata": {},
     "output_type": "execute_result"
    }
   ],
   "source": [
    "np.hstack([a,b])"
   ]
  },
  {
   "cell_type": "code",
   "execution_count": 37,
   "id": "e84ade62",
   "metadata": {},
   "outputs": [
    {
     "data": {
      "text/plain": [
       "array([[1, 2, 3],\n",
       "       [4, 5, 6],\n",
       "       [0, 1, 2],\n",
       "       [3, 4, 5]])"
      ]
     },
     "execution_count": 37,
     "metadata": {},
     "output_type": "execute_result"
    }
   ],
   "source": [
    "np.vstack([a,b])"
   ]
  },
  {
   "cell_type": "code",
   "execution_count": 38,
   "id": "ad87bab2",
   "metadata": {},
   "outputs": [
    {
     "data": {
      "text/plain": [
       "array([[0, 1, 2],\n",
       "       [3, 4, 5]])"
      ]
     },
     "execution_count": 38,
     "metadata": {},
     "output_type": "execute_result"
    }
   ],
   "source": [
    "b"
   ]
  },
  {
   "cell_type": "code",
   "execution_count": 39,
   "id": "472b0d36",
   "metadata": {},
   "outputs": [
    {
     "data": {
      "text/plain": [
       "array([[0, 3],\n",
       "       [1, 4],\n",
       "       [2, 5]])"
      ]
     },
     "execution_count": 39,
     "metadata": {},
     "output_type": "execute_result"
    }
   ],
   "source": [
    "b.T"
   ]
  },
  {
   "cell_type": "code",
   "execution_count": 40,
   "id": "a7bebc5c",
   "metadata": {},
   "outputs": [
    {
     "data": {
      "text/plain": [
       "(array([[1, 2, 3],\n",
       "        [4, 5, 6]]),\n",
       " array([[0, 1, 2],\n",
       "        [3, 4, 5]]))"
      ]
     },
     "execution_count": 40,
     "metadata": {},
     "output_type": "execute_result"
    }
   ],
   "source": [
    "a , b"
   ]
  },
  {
   "cell_type": "code",
   "execution_count": 41,
   "id": "135d886d",
   "metadata": {},
   "outputs": [
    {
     "data": {
      "text/plain": [
       "array([[1, 2, 3],\n",
       "       [4, 5, 6],\n",
       "       [0, 1, 2],\n",
       "       [3, 4, 5]])"
      ]
     },
     "execution_count": 41,
     "metadata": {},
     "output_type": "execute_result"
    }
   ],
   "source": [
    "np.concatenate([a,b])"
   ]
  },
  {
   "cell_type": "code",
   "execution_count": 42,
   "id": "b551384d",
   "metadata": {},
   "outputs": [
    {
     "data": {
      "text/plain": [
       "array([[1, 2, 3],\n",
       "       [4, 5, 6],\n",
       "       [0, 1, 2],\n",
       "       [3, 4, 5]])"
      ]
     },
     "execution_count": 42,
     "metadata": {},
     "output_type": "execute_result"
    }
   ],
   "source": [
    "np.concatenate([a,b] , axis=0)"
   ]
  },
  {
   "cell_type": "code",
   "execution_count": 43,
   "id": "ab5f198a",
   "metadata": {},
   "outputs": [
    {
     "data": {
      "text/plain": [
       "array([[1, 2, 3, 0, 1, 2],\n",
       "       [4, 5, 6, 3, 4, 5]])"
      ]
     },
     "execution_count": 43,
     "metadata": {},
     "output_type": "execute_result"
    }
   ],
   "source": [
    "np.concatenate([a,b] , axis=1)"
   ]
  },
  {
   "cell_type": "markdown",
   "id": "f6a237a6",
   "metadata": {},
   "source": [
    "### Making copies\n",
    "- shallow copy\n",
    "- deep copy"
   ]
  },
  {
   "cell_type": "code",
   "execution_count": 46,
   "id": "8b59573c",
   "metadata": {},
   "outputs": [
    {
     "name": "stdout",
     "output_type": "stream",
     "text": [
      "[[1 2 3]\n",
      " [4 5 6]]\n"
     ]
    }
   ],
   "source": [
    "a = np.arange(1,7).reshape(2,3)\n",
    "print(a)"
   ]
  },
  {
   "cell_type": "code",
   "execution_count": 47,
   "id": "1e4ffa41",
   "metadata": {},
   "outputs": [
    {
     "name": "stdout",
     "output_type": "stream",
     "text": [
      "[[2 2 2]\n",
      " [4 5 6]]\n"
     ]
    }
   ],
   "source": [
    "b = a         # we created a shallow copy of a , we haven't create new array assignment\n",
    "b[0] = 2\n",
    "print(b)"
   ]
  },
  {
   "cell_type": "code",
   "execution_count": 48,
   "id": "5b45cd3d",
   "metadata": {},
   "outputs": [
    {
     "name": "stdout",
     "output_type": "stream",
     "text": [
      "[[2 2 2]\n",
      " [4 5 6]]\n"
     ]
    }
   ],
   "source": [
    "print(a)"
   ]
  },
  {
   "cell_type": "code",
   "execution_count": 49,
   "id": "4beba4ea",
   "metadata": {},
   "outputs": [
    {
     "data": {
      "text/plain": [
       "array([[2, 2, 2],\n",
       "       [4, 5, 6]])"
      ]
     },
     "execution_count": 49,
     "metadata": {},
     "output_type": "execute_result"
    }
   ],
   "source": [
    "a"
   ]
  },
  {
   "cell_type": "code",
   "execution_count": 50,
   "id": "9e79471e",
   "metadata": {},
   "outputs": [],
   "source": [
    "c = a[1]"
   ]
  },
  {
   "cell_type": "code",
   "execution_count": 51,
   "id": "0a7e035d",
   "metadata": {},
   "outputs": [
    {
     "data": {
      "text/plain": [
       "array([4, 5, 6])"
      ]
     },
     "execution_count": 51,
     "metadata": {},
     "output_type": "execute_result"
    }
   ],
   "source": [
    "c"
   ]
  },
  {
   "cell_type": "code",
   "execution_count": 53,
   "id": "4775b552",
   "metadata": {},
   "outputs": [
    {
     "data": {
      "text/plain": [
       "array([4, 0, 0])"
      ]
     },
     "execution_count": 53,
     "metadata": {},
     "output_type": "execute_result"
    }
   ],
   "source": [
    "c[1:] = 0\n",
    "c"
   ]
  },
  {
   "cell_type": "code",
   "execution_count": 54,
   "id": "97dc04e2",
   "metadata": {},
   "outputs": [
    {
     "data": {
      "text/plain": [
       "array([[2, 2, 2],\n",
       "       [4, 0, 0]])"
      ]
     },
     "execution_count": 54,
     "metadata": {},
     "output_type": "execute_result"
    }
   ],
   "source": [
    "a"
   ]
  },
  {
   "cell_type": "code",
   "execution_count": 57,
   "id": "120b9cbc",
   "metadata": {},
   "outputs": [
    {
     "data": {
      "text/plain": [
       "array([[3, 4, 5],\n",
       "       [6, 7, 8]])"
      ]
     },
     "execution_count": 57,
     "metadata": {},
     "output_type": "execute_result"
    }
   ],
   "source": [
    "t = np.arange(3,9).reshape(2,3)\n",
    "t"
   ]
  },
  {
   "cell_type": "code",
   "execution_count": 66,
   "id": "4a6ecefc",
   "metadata": {},
   "outputs": [
    {
     "data": {
      "text/plain": [
       "array([[3, 4, 5],\n",
       "       [4, 4, 5]])"
      ]
     },
     "execution_count": 66,
     "metadata": {},
     "output_type": "execute_result"
    }
   ],
   "source": [
    "t[1 , :2 ] = 4\n",
    "t"
   ]
  },
  {
   "cell_type": "code",
   "execution_count": 70,
   "id": "214d9149",
   "metadata": {},
   "outputs": [
    {
     "data": {
      "text/plain": [
       "array([[3, 4, 5],\n",
       "       [6, 8, 9]])"
      ]
     },
     "execution_count": 70,
     "metadata": {},
     "output_type": "execute_result"
    }
   ],
   "source": [
    "t[1 , 2:] = 9\n",
    "t"
   ]
  },
  {
   "cell_type": "code",
   "execution_count": 71,
   "id": "16d85559",
   "metadata": {},
   "outputs": [],
   "source": [
    "p = a.copy()  # deep copy"
   ]
  },
  {
   "cell_type": "code",
   "execution_count": 73,
   "id": "b7709f73",
   "metadata": {},
   "outputs": [
    {
     "name": "stdout",
     "output_type": "stream",
     "text": [
      "[[2 2 2]\n",
      " [4 0 0]] \n",
      " [[2 2 2]\n",
      " [4 0 0]]\n"
     ]
    }
   ],
   "source": [
    "print(a , \"\\n\" , p)"
   ]
  },
  {
   "cell_type": "code",
   "execution_count": 79,
   "id": "f3d22b7d",
   "metadata": {},
   "outputs": [],
   "source": [
    "p[1] = 3"
   ]
  },
  {
   "cell_type": "code",
   "execution_count": 80,
   "id": "f3b5ef48",
   "metadata": {},
   "outputs": [
    {
     "name": "stdout",
     "output_type": "stream",
     "text": [
      "[[2 2 2]\n",
      " [3 3 3]] \n",
      " [[2 2 2]\n",
      " [3 3 3]]\n"
     ]
    }
   ],
   "source": [
    "print(a , \"\\n\" , p)\n"
   ]
  },
  {
   "cell_type": "markdown",
   "id": "7ae2ca7b",
   "metadata": {},
   "source": [
    "## Array indexing through integer and boolean arrays"
   ]
  },
  {
   "cell_type": "code",
   "execution_count": 4,
   "id": "3968bfe8",
   "metadata": {},
   "outputs": [
    {
     "name": "stdout",
     "output_type": "stream",
     "text": [
      "[[  1   2   3   4   5]\n",
      " [  6   7   8   9  10]\n",
      " [ 11  12  13  14  15]\n",
      " [ 16  17  18  19  20]\n",
      " [ 21  22  23  24  25]\n",
      " [ 26  27  28  29  30]\n",
      " [ 31  32  33  34  35]\n",
      " [ 36  37  38  39  40]\n",
      " [ 41  42  43  44  45]\n",
      " [ 46  47  48  49  50]\n",
      " [ 51  52  53  54  55]\n",
      " [ 56  57  58  59  60]\n",
      " [ 61  62  63  64  65]\n",
      " [ 66  67  68  69  70]\n",
      " [ 71  72  73  74  75]\n",
      " [ 76  77  78  79  80]\n",
      " [ 81  82  83  84  85]\n",
      " [ 86  87  88  89  90]\n",
      " [ 91  92  93  94  95]\n",
      " [ 96  97  98  99 100]]\n",
      "(20, 5)\n"
     ]
    }
   ],
   "source": [
    "a = np.arange(1,101).reshape(20,-1)\n",
    "print(a)\n",
    "print(a.shape)"
   ]
  },
  {
   "cell_type": "code",
   "execution_count": 5,
   "id": "fec477a4",
   "metadata": {},
   "outputs": [
    {
     "data": {
      "text/plain": [
       "array([[ 6,  7,  8,  9, 10],\n",
       "       [21, 22, 23, 24, 25],\n",
       "       [26, 27, 28, 29, 30],\n",
       "       [46, 47, 48, 49, 50]])"
      ]
     },
     "execution_count": 5,
     "metadata": {},
     "output_type": "execute_result"
    }
   ],
   "source": [
    "idx = [1 , 4 ,5, 9] # integer based indexing , array subsetting\n",
    "a[idx]"
   ]
  },
  {
   "cell_type": "code",
   "execution_count": 6,
   "id": "ea89fe4c",
   "metadata": {},
   "outputs": [
    {
     "data": {
      "text/plain": [
       "array([[41, 42, 43, 44, 45],\n",
       "       [46, 47, 48, 49, 50]])"
      ]
     },
     "execution_count": 6,
     "metadata": {},
     "output_type": "execute_result"
    }
   ],
   "source": [
    "rt = [8 , 9]\n",
    "a[rt]"
   ]
  },
  {
   "cell_type": "code",
   "execution_count": 14,
   "id": "63a211b0",
   "metadata": {},
   "outputs": [
    {
     "data": {
      "text/plain": [
       "array([ 1,  6, 11, 16, 21, 26, 31, 36, 41, 46, 51, 56, 61, 66, 71, 76, 81,\n",
       "       86, 91, 96])"
      ]
     },
     "execution_count": 14,
     "metadata": {},
     "output_type": "execute_result"
    }
   ],
   "source": [
    "a[:,0]"
   ]
  },
  {
   "cell_type": "code",
   "execution_count": null,
   "id": "6fcf9196",
   "metadata": {},
   "outputs": [],
   "source": []
  },
  {
   "cell_type": "code",
   "execution_count": 52,
   "id": "915b1d91",
   "metadata": {},
   "outputs": [
    {
     "data": {
      "text/plain": [
       "array([[  1,   2,   3,   4,   5],\n",
       "       [  6,   7,   8,   9,  10],\n",
       "       [ 11,  12,  13,  14,  15],\n",
       "       [ 16,  17,  18,  19,  20],\n",
       "       [ 21,  22,  23,  24,  25],\n",
       "       [ 26,  27,  28,  29,  30],\n",
       "       [ 31,  32,  33,  34,  35],\n",
       "       [ 36,  37,  38,  39,  40],\n",
       "       [ 41,  42,  43,  44,  45],\n",
       "       [ 46,  47,  48,  49,  50],\n",
       "       [ 51,  52,  53,  54,  55],\n",
       "       [ 56,  57,  58,  59,  60],\n",
       "       [ 61,  62,  63,  64,  65],\n",
       "       [ 66,  67,  68,  69,  70],\n",
       "       [ 71,  72,  73,  74,  75],\n",
       "       [ 76,  77,  78,  79,  80],\n",
       "       [ 81,  82,  83,  84,  85],\n",
       "       [ 86,  87,  88,  89,  90],\n",
       "       [ 91,  92,  93,  94,  95],\n",
       "       [ 96,  97,  98,  99, 100]])"
      ]
     },
     "execution_count": 52,
     "metadata": {},
     "output_type": "execute_result"
    }
   ],
   "source": [
    "a"
   ]
  },
  {
   "cell_type": "code",
   "execution_count": 55,
   "id": "ccc871a2",
   "metadata": {},
   "outputs": [
    {
     "data": {
      "text/plain": [
       "array([False, False, False, False, False, False, False, False, False,\n",
       "       False,  True,  True,  True,  True,  True,  True,  True,  True,\n",
       "        True,  True])"
      ]
     },
     "execution_count": 55,
     "metadata": {},
     "output_type": "execute_result"
    }
   ],
   "source": [
    "a[:,1]>51"
   ]
  },
  {
   "cell_type": "code",
   "execution_count": 17,
   "id": "253f06f8",
   "metadata": {},
   "outputs": [
    {
     "name": "stdout",
     "output_type": "stream",
     "text": [
      "[False False False False False False False False  True  True  True  True\n",
      "  True  True  True  True  True  True  True  True] (20,)\n"
     ]
    }
   ],
   "source": [
    "boolean_idx = a[:,0]>40\n",
    "print(boolean_idx , boolean_idx.shape)"
   ]
  },
  {
   "cell_type": "code",
   "execution_count": 18,
   "id": "902219c2",
   "metadata": {},
   "outputs": [
    {
     "data": {
      "text/plain": [
       "array([[ 41,  42,  43,  44,  45],\n",
       "       [ 46,  47,  48,  49,  50],\n",
       "       [ 51,  52,  53,  54,  55],\n",
       "       [ 56,  57,  58,  59,  60],\n",
       "       [ 61,  62,  63,  64,  65],\n",
       "       [ 66,  67,  68,  69,  70],\n",
       "       [ 71,  72,  73,  74,  75],\n",
       "       [ 76,  77,  78,  79,  80],\n",
       "       [ 81,  82,  83,  84,  85],\n",
       "       [ 86,  87,  88,  89,  90],\n",
       "       [ 91,  92,  93,  94,  95],\n",
       "       [ 96,  97,  98,  99, 100]])"
      ]
     },
     "execution_count": 18,
     "metadata": {},
     "output_type": "execute_result"
    }
   ],
   "source": [
    "a[boolean_idx]  # boolean array based subsetting"
   ]
  },
  {
   "cell_type": "markdown",
   "id": "71403776",
   "metadata": {},
   "source": [
    "### Generate data"
   ]
  },
  {
   "cell_type": "code",
   "execution_count": 22,
   "id": "ae88480c",
   "metadata": {},
   "outputs": [
    {
     "data": {
      "text/plain": [
       "array([[ 2,  3],\n",
       "       [ 7,  8],\n",
       "       [12, 13],\n",
       "       [17, 18],\n",
       "       [22, 23],\n",
       "       [27, 28],\n",
       "       [32, 33],\n",
       "       [37, 38],\n",
       "       [42, 43],\n",
       "       [47, 48],\n",
       "       [52, 53],\n",
       "       [57, 58],\n",
       "       [62, 63],\n",
       "       [67, 68],\n",
       "       [72, 73],\n",
       "       [77, 78],\n",
       "       [82, 83],\n",
       "       [87, 88],\n",
       "       [92, 93],\n",
       "       [97, 98]])"
      ]
     },
     "execution_count": 22,
     "metadata": {},
     "output_type": "execute_result"
    }
   ],
   "source": [
    "a[: , 1:3]"
   ]
  },
  {
   "cell_type": "code",
   "execution_count": 41,
   "id": "c80dd5d0",
   "metadata": {},
   "outputs": [
    {
     "name": "stdout",
     "output_type": "stream",
     "text": [
      "[[ 3  4]\n",
      " [ 8  9]\n",
      " [13 14]\n",
      " [18 19]\n",
      " [23 24]\n",
      " [28 29]\n",
      " [33 34]\n",
      " [38 39]\n",
      " [43 44]\n",
      " [48 49]\n",
      " [53 54]\n",
      " [58 59]\n",
      " [63 64]\n",
      " [68 69]\n",
      " [73 74]\n",
      " [78 79]\n",
      " [83 84]\n",
      " [88 89]\n",
      " [93 94]\n",
      " [98 99]]\n"
     ]
    }
   ],
   "source": [
    "p = a[: , 2:4] \n",
    "print(p)"
   ]
  },
  {
   "cell_type": "code",
   "execution_count": 42,
   "id": "35435546",
   "metadata": {},
   "outputs": [
    {
     "name": "stdout",
     "output_type": "stream",
     "text": [
      "[False False False False False False False False False False False False\n",
      "  True  True  True  True  True  True  True  True]\n"
     ]
    }
   ],
   "source": [
    "bool_idx = a[:,2] >  60\n",
    "print(bool_idx)"
   ]
  },
  {
   "cell_type": "code",
   "execution_count": 43,
   "id": "4e33ccaa",
   "metadata": {},
   "outputs": [
    {
     "data": {
      "text/plain": [
       "array([[63, 64],\n",
       "       [68, 69],\n",
       "       [73, 74],\n",
       "       [78, 79],\n",
       "       [83, 84],\n",
       "       [88, 89],\n",
       "       [93, 94],\n",
       "       [98, 99]])"
      ]
     },
     "execution_count": 43,
     "metadata": {},
     "output_type": "execute_result"
    }
   ],
   "source": [
    "a[bool_idx, 2:4]"
   ]
  },
  {
   "cell_type": "code",
   "execution_count": 46,
   "id": "9500508e",
   "metadata": {},
   "outputs": [
    {
     "data": {
      "text/plain": [
       "array([[ 63,  64,  65],\n",
       "       [ 68,  69,  70],\n",
       "       [ 73,  74,  75],\n",
       "       [ 78,  79,  80],\n",
       "       [ 83,  84,  85],\n",
       "       [ 88,  89,  90],\n",
       "       [ 93,  94,  95],\n",
       "       [ 98,  99, 100]])"
      ]
     },
     "execution_count": 46,
     "metadata": {},
     "output_type": "execute_result"
    }
   ],
   "source": [
    "a[bool_idx , 2:]"
   ]
  },
  {
   "cell_type": "code",
   "execution_count": null,
   "id": "70930c98",
   "metadata": {
    "collapsed": true
   },
   "outputs": [],
   "source": []
  },
  {
   "cell_type": "code",
   "execution_count": null,
   "id": "b9fee81e",
   "metadata": {},
   "outputs": [],
   "source": []
  },
  {
   "cell_type": "markdown",
   "id": "ad9b19b4",
   "metadata": {},
   "source": [
    "## generate data "
   ]
  },
  {
   "cell_type": "code",
   "execution_count": 50,
   "id": "fb02a380",
   "metadata": {},
   "outputs": [
    {
     "data": {
      "text/plain": [
       "5"
      ]
     },
     "execution_count": 50,
     "metadata": {},
     "output_type": "execute_result"
    }
   ],
   "source": [
    "np.random.randint(1 , 8)    # generate random value"
   ]
  },
  {
   "cell_type": "code",
   "execution_count": 51,
   "id": "c61f806d",
   "metadata": {},
   "outputs": [
    {
     "data": {
      "text/plain": [
       "array([4, 5, 1, 2])"
      ]
     },
     "execution_count": 51,
     "metadata": {},
     "output_type": "execute_result"
    }
   ],
   "source": [
    "np.random.randint(1 , 8 , 4)"
   ]
  },
  {
   "cell_type": "markdown",
   "id": "e784123a",
   "metadata": {},
   "source": [
    "## shuffle data"
   ]
  },
  {
   "cell_type": "code",
   "execution_count": 59,
   "id": "9a2ee2b9",
   "metadata": {},
   "outputs": [
    {
     "name": "stdout",
     "output_type": "stream",
     "text": [
      "[ 0  1  2  3  4  5  6  7  8  9 10 11 12 13 14 15 16 17 18 19 20]\n"
     ]
    }
   ],
   "source": [
    "idx = np.arange(0, 21)\n",
    "print(idx)"
   ]
  },
  {
   "cell_type": "code",
   "execution_count": 60,
   "id": "33b9723f",
   "metadata": {},
   "outputs": [
    {
     "name": "stdout",
     "output_type": "stream",
     "text": [
      "[11 10 16 12 19  5 18  6  9  2  1  4 13  8 17 20 14 15  3  0  7]\n"
     ]
    }
   ],
   "source": [
    "np.random.shuffle(idx)\n",
    "print(idx)"
   ]
  },
  {
   "cell_type": "code",
   "execution_count": 61,
   "id": "97be06ec",
   "metadata": {},
   "outputs": [
    {
     "data": {
      "text/plain": [
       "array([[  1,   2,   3,   4,   5],\n",
       "       [  6,   7,   8,   9,  10],\n",
       "       [ 11,  12,  13,  14,  15],\n",
       "       [ 16,  17,  18,  19,  20],\n",
       "       [ 21,  22,  23,  24,  25],\n",
       "       [ 26,  27,  28,  29,  30],\n",
       "       [ 31,  32,  33,  34,  35],\n",
       "       [ 36,  37,  38,  39,  40],\n",
       "       [ 41,  42,  43,  44,  45],\n",
       "       [ 46,  47,  48,  49,  50],\n",
       "       [ 51,  52,  53,  54,  55],\n",
       "       [ 56,  57,  58,  59,  60],\n",
       "       [ 61,  62,  63,  64,  65],\n",
       "       [ 66,  67,  68,  69,  70],\n",
       "       [ 71,  72,  73,  74,  75],\n",
       "       [ 76,  77,  78,  79,  80],\n",
       "       [ 81,  82,  83,  84,  85],\n",
       "       [ 86,  87,  88,  89,  90],\n",
       "       [ 91,  92,  93,  94,  95],\n",
       "       [ 96,  97,  98,  99, 100]])"
      ]
     },
     "execution_count": 61,
     "metadata": {},
     "output_type": "execute_result"
    }
   ],
   "source": [
    "a"
   ]
  },
  {
   "cell_type": "code",
   "execution_count": null,
   "id": "82192bc8",
   "metadata": {},
   "outputs": [],
   "source": []
  },
  {
   "cell_type": "code",
   "execution_count": null,
   "id": "ba646345",
   "metadata": {},
   "outputs": [],
   "source": []
  },
  {
   "cell_type": "code",
   "execution_count": null,
   "id": "9f01159b",
   "metadata": {},
   "outputs": [],
   "source": []
  },
  {
   "cell_type": "code",
   "execution_count": null,
   "id": "4d0df7e6",
   "metadata": {},
   "outputs": [],
   "source": []
  },
  {
   "cell_type": "code",
   "execution_count": null,
   "id": "018866ca",
   "metadata": {},
   "outputs": [],
   "source": []
  }
 ],
 "metadata": {
  "kernelspec": {
   "display_name": "Python 3 (ipykernel)",
   "language": "python",
   "name": "python3"
  },
  "language_info": {
   "codemirror_mode": {
    "name": "ipython",
    "version": 3
   },
   "file_extension": ".py",
   "mimetype": "text/x-python",
   "name": "python",
   "nbconvert_exporter": "python",
   "pygments_lexer": "ipython3",
   "version": "3.9.7"
  }
 },
 "nbformat": 4,
 "nbformat_minor": 5
}
