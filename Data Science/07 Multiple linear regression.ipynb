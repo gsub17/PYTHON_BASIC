{
 "cells": [
  {
   "cell_type": "code",
   "execution_count": 63,
   "id": "ab2e0cb4",
   "metadata": {},
   "outputs": [],
   "source": [
    "import numpy as np\n",
    "import matplotlib.pyplot as plt"
   ]
  },
  {
   "cell_type": "code",
   "execution_count": 64,
   "id": "e864fef1",
   "metadata": {},
   "outputs": [],
   "source": [
    "from sklearn.datasets import make_regression"
   ]
  },
  {
   "cell_type": "markdown",
   "id": "a3500fdc",
   "metadata": {},
   "source": [
    "## generating data\n",
    "- here we gona have 2d data means two features "
   ]
  },
  {
   "cell_type": "code",
   "execution_count": 4,
   "id": "1e283cd7",
   "metadata": {},
   "outputs": [],
   "source": [
    "make_regression?"
   ]
  },
  {
   "cell_type": "code",
   "execution_count": 77,
   "id": "54bf1db1",
   "metadata": {},
   "outputs": [],
   "source": [
    "X , y , coef = make_regression(\n",
    "    n_samples=100,\n",
    "    n_features=1,\n",
    "    bias=10,\n",
    "    noise=10,\n",
    "    coef=True,\n",
    ")"
   ]
  },
  {
   "cell_type": "code",
   "execution_count": 78,
   "id": "390a6669",
   "metadata": {},
   "outputs": [
    {
     "name": "stdout",
     "output_type": "stream",
     "text": [
      "(100, 1) (100,)\n",
      "35.81461996672819\n"
     ]
    }
   ],
   "source": [
    "print(X.shape , y.shape)\n",
    "print(coef)"
   ]
  },
  {
   "cell_type": "code",
   "execution_count": 79,
   "id": "c998dedb",
   "metadata": {},
   "outputs": [
    {
     "data": {
      "image/png": "[encoded data removed]",
      "text/plain": [
       "<Figure size 432x288 with 1 Axes>"
      ]
     },
     "metadata": {
      "needs_background": "light"
     },
     "output_type": "display_data"
    }
   ],
   "source": [
    "plt.scatter(X , y , c = \"blue\")\n",
    "#plt.scatter(0,10,c=\"yellow\")\n",
    "plt.show()"
   ]
  },
  {
   "cell_type": "code",
   "execution_count": 80,
   "id": "d5741fe4",
   "metadata": {},
   "outputs": [],
   "source": [
    "def train(X , y):\n",
    "    X = X.copy()\n",
    "    ones_column = np.ones((len(X) , 1))\n",
    "    X = np.concatenate([ones_column , X] , axis = 1 ) ############################################################concatenate\n",
    "    W = np.linalg.inv(X.T.dot(X)).dot(X.T).dot(y)##################################3 .dot gives matrix multiplication\n",
    "    return W"
   ]
  },
  {
   "cell_type": "code",
   "execution_count": 81,
   "id": "c7e63e58",
   "metadata": {},
   "outputs": [
    {
     "name": "stdout",
     "output_type": "stream",
     "text": [
      "[ 9.09345276 34.97758314]\n"
     ]
    }
   ],
   "source": [
    "W = train(X , y)\n",
    "print(W)        ###### 9 is the value of bias , and the value of bias we set above was 10 \n",
    "######## 34 is the value of coefficient ,  and the value of coeff we set above was 79."
   ]
  },
  {
   "cell_type": "code",
   "execution_count": null,
   "id": "a01e810d",
   "metadata": {},
   "outputs": [],
   "source": [
    "## we get the y = mx + c \n",
    "m = 34 i.e slope and c = 9 intercept"
   ]
  },
  {
   "cell_type": "code",
   "execution_count": 85,
   "id": "80bf53c1",
   "metadata": {},
   "outputs": [],
   "source": [
    "c , m = W"
   ]
  },
  {
   "cell_type": "code",
   "execution_count": 87,
   "id": "642fb2a1",
   "metadata": {},
   "outputs": [],
   "source": [
    "x = np.linspace(X.min() , X.max() , 100)\n",
    "y_hat = m*x + c                      ############### we get out y_hat"
   ]
  },
  {
   "cell_type": "code",
   "execution_count": 89,
   "id": "3cdbd05c",
   "metadata": {},
   "outputs": [
    {
     "data": {
      "image/png": "[encoded data removed]",
      "text/plain": [
       "<Figure size 432x288 with 1 Axes>"
      ]
     },
     "metadata": {
      "needs_background": "light"
     },
     "output_type": "display_data"
    }
   ],
   "source": [
    "plt.scatter(X , y , c = \"blue\" , label = \"data\")\n",
    "plt.plot(x , y_hat , c = \"black\" , label = \"prediction\")\n",
    "plt.legend()\n",
    "plt.show()"
   ]
  },
  {
   "cell_type": "code",
   "execution_count": 53,
   "id": "3bfd4cd4",
   "metadata": {},
   "outputs": [
    {
     "data": {
      "text/plain": [
       "8.620390987738805"
      ]
     },
     "execution_count": 53,
     "metadata": {},
     "output_type": "execute_result"
    }
   ],
   "source": [
    "W[0]"
   ]
  },
  {
   "cell_type": "code",
   "execution_count": null,
   "id": "7067b4c3",
   "metadata": {},
   "outputs": [],
   "source": []
  },
  {
   "cell_type": "code",
   "execution_count": null,
   "id": "8bd83724",
   "metadata": {},
   "outputs": [],
   "source": []
  },
  {
   "cell_type": "code",
   "execution_count": null,
   "id": "4c97f2cc",
   "metadata": {},
   "outputs": [],
   "source": []
  },
  {
   "cell_type": "code",
   "execution_count": 43,
   "id": "8aa463a0",
   "metadata": {},
   "outputs": [
    {
     "data": {
      "text/plain": [
       "(100, 1)"
      ]
     },
     "execution_count": 43,
     "metadata": {},
     "output_type": "execute_result"
    }
   ],
   "source": [
    "X.shape"
   ]
  },
  {
   "cell_type": "code",
   "execution_count": 44,
   "id": "01d5ba41",
   "metadata": {},
   "outputs": [
    {
     "data": {
      "text/plain": [
       "(1, 100)"
      ]
     },
     "execution_count": 44,
     "metadata": {},
     "output_type": "execute_result"
    }
   ],
   "source": [
    "X.T.shape ###################################### transpose function"
   ]
  },
  {
   "cell_type": "code",
   "execution_count": 32,
   "id": "5cd768fe",
   "metadata": {},
   "outputs": [
    {
     "data": {
      "text/plain": [
       "(100, 1)"
      ]
     },
     "execution_count": 32,
     "metadata": {},
     "output_type": "execute_result"
    }
   ],
   "source": [
    "ones_column = np.ones((len(X) , 1))\n",
    "ones_column.shape"
   ]
  },
  {
   "cell_type": "code",
   "execution_count": 38,
   "id": "77edd557",
   "metadata": {},
   "outputs": [
    {
     "data": {
      "text/plain": [
       "array([[ 1.        , -0.08620658],\n",
       "       [ 1.        , -0.44677806],\n",
       "       [ 1.        ,  0.04036292],\n",
       "       [ 1.        ,  0.86326165],\n",
       "       [ 1.        , -1.00244615],\n",
       "       [ 1.        , -0.85546981],\n",
       "       [ 1.        , -1.52189544],\n",
       "       [ 1.        ,  0.55996228],\n",
       "       [ 1.        ,  2.56613046],\n",
       "       [ 1.        , -0.49528985],\n",
       "       [ 1.        , -0.55910397],\n",
       "       [ 1.        ,  1.50629258],\n",
       "       [ 1.        , -2.39018338],\n",
       "       [ 1.        , -1.64798118],\n",
       "       [ 1.        ,  0.13326913],\n",
       "       [ 1.        , -0.55015048],\n",
       "       [ 1.        , -0.21451122],\n",
       "       [ 1.        , -0.919278  ],\n",
       "       [ 1.        , -0.25283915],\n",
       "       [ 1.        ,  1.14725505],\n",
       "       [ 1.        ,  1.0626677 ],\n",
       "       [ 1.        , -0.45756815],\n",
       "       [ 1.        ,  0.36459937],\n",
       "       [ 1.        ,  1.23730163],\n",
       "       [ 1.        , -0.34474217],\n",
       "       [ 1.        , -1.72865219],\n",
       "       [ 1.        ,  1.38752509],\n",
       "       [ 1.        ,  0.04294179],\n",
       "       [ 1.        , -0.38689825],\n",
       "       [ 1.        ,  0.21851729],\n",
       "       [ 1.        , -0.41217834],\n",
       "       [ 1.        , -0.30848431],\n",
       "       [ 1.        , -0.3208695 ],\n",
       "       [ 1.        , -2.00923376],\n",
       "       [ 1.        , -0.69814047],\n",
       "       [ 1.        ,  0.05289937],\n",
       "       [ 1.        ,  0.00657831],\n",
       "       [ 1.        , -0.48407738],\n",
       "       [ 1.        , -1.67161579],\n",
       "       [ 1.        ,  0.10673343],\n",
       "       [ 1.        , -0.31395484],\n",
       "       [ 1.        ,  1.40118044],\n",
       "       [ 1.        , -2.82750778],\n",
       "       [ 1.        , -0.81640201],\n",
       "       [ 1.        , -0.27625717],\n",
       "       [ 1.        , -1.00589445],\n",
       "       [ 1.        , -0.3202537 ],\n",
       "       [ 1.        ,  0.04564522],\n",
       "       [ 1.        ,  0.45412995],\n",
       "       [ 1.        , -0.78034939],\n",
       "       [ 1.        , -0.64665419],\n",
       "       [ 1.        ,  0.53382459],\n",
       "       [ 1.        , -0.40554442],\n",
       "       [ 1.        , -0.66831904],\n",
       "       [ 1.        , -1.32969438],\n",
       "       [ 1.        ,  0.31128948],\n",
       "       [ 1.        , -0.97362097],\n",
       "       [ 1.        ,  0.30053644],\n",
       "       [ 1.        ,  1.74799102],\n",
       "       [ 1.        , -0.53572515],\n",
       "       [ 1.        ,  0.14556122],\n",
       "       [ 1.        , -1.13051472],\n",
       "       [ 1.        ,  1.00441528],\n",
       "       [ 1.        ,  0.23889341],\n",
       "       [ 1.        , -0.71520017],\n",
       "       [ 1.        , -0.93218886],\n",
       "       [ 1.        , -0.29725949],\n",
       "       [ 1.        ,  0.57798028],\n",
       "       [ 1.        ,  0.1321133 ],\n",
       "       [ 1.        ,  1.39519211],\n",
       "       [ 1.        ,  0.52440069],\n",
       "       [ 1.        ,  1.11975473],\n",
       "       [ 1.        , -1.32095249],\n",
       "       [ 1.        ,  1.16157134],\n",
       "       [ 1.        ,  1.09343873],\n",
       "       [ 1.        , -1.54027615],\n",
       "       [ 1.        ,  0.15469461],\n",
       "       [ 1.        ,  0.83665744],\n",
       "       [ 1.        , -0.97278581],\n",
       "       [ 1.        ,  0.66526158],\n",
       "       [ 1.        , -1.19750486],\n",
       "       [ 1.        , -1.68476331],\n",
       "       [ 1.        , -0.9632066 ],\n",
       "       [ 1.        , -0.01163622],\n",
       "       [ 1.        , -2.14234242],\n",
       "       [ 1.        ,  0.0378569 ],\n",
       "       [ 1.        , -0.05265236],\n",
       "       [ 1.        ,  1.74840298],\n",
       "       [ 1.        ,  0.59052528],\n",
       "       [ 1.        , -0.67387016],\n",
       "       [ 1.        , -0.66166071],\n",
       "       [ 1.        , -0.92508635],\n",
       "       [ 1.        ,  2.06847102],\n",
       "       [ 1.        , -0.68922998],\n",
       "       [ 1.        , -0.57655782],\n",
       "       [ 1.        , -1.77824202],\n",
       "       [ 1.        , -2.09843282],\n",
       "       [ 1.        ,  0.50248831],\n",
       "       [ 1.        , -0.51009338],\n",
       "       [ 1.        ,  0.63612043]])"
      ]
     },
     "execution_count": 38,
     "metadata": {},
     "output_type": "execute_result"
    }
   ],
   "source": [
    "np.concatenate([ones_column , X] , axis = 1 )"
   ]
  },
  {
   "cell_type": "code",
   "execution_count": 36,
   "id": "943d9c8b",
   "metadata": {},
   "outputs": [
    {
     "data": {
      "text/plain": [
       "array([[1., 2.],\n",
       "       [1., 2.],\n",
       "       [1., 2.],\n",
       "       [1., 2.],\n",
       "       [1., 2.],\n",
       "       [1., 2.],\n",
       "       [1., 2.],\n",
       "       [1., 2.],\n",
       "       [1., 2.],\n",
       "       [1., 2.],\n",
       "       [1., 2.],\n",
       "       [1., 2.],\n",
       "       [1., 2.],\n",
       "       [1., 2.],\n",
       "       [1., 2.],\n",
       "       [1., 2.],\n",
       "       [1., 2.],\n",
       "       [1., 2.],\n",
       "       [1., 2.],\n",
       "       [1., 2.],\n",
       "       [1., 2.],\n",
       "       [1., 2.],\n",
       "       [1., 2.],\n",
       "       [1., 2.],\n",
       "       [1., 2.],\n",
       "       [1., 2.],\n",
       "       [1., 2.],\n",
       "       [1., 2.],\n",
       "       [1., 2.],\n",
       "       [1., 2.],\n",
       "       [1., 2.],\n",
       "       [1., 2.],\n",
       "       [1., 2.],\n",
       "       [1., 2.],\n",
       "       [1., 2.],\n",
       "       [1., 2.],\n",
       "       [1., 2.],\n",
       "       [1., 2.],\n",
       "       [1., 2.],\n",
       "       [1., 2.],\n",
       "       [1., 2.],\n",
       "       [1., 2.],\n",
       "       [1., 2.],\n",
       "       [1., 2.],\n",
       "       [1., 2.],\n",
       "       [1., 2.],\n",
       "       [1., 2.],\n",
       "       [1., 2.],\n",
       "       [1., 2.],\n",
       "       [1., 2.],\n",
       "       [1., 2.],\n",
       "       [1., 2.],\n",
       "       [1., 2.],\n",
       "       [1., 2.],\n",
       "       [1., 2.],\n",
       "       [1., 2.],\n",
       "       [1., 2.],\n",
       "       [1., 2.],\n",
       "       [1., 2.],\n",
       "       [1., 2.],\n",
       "       [1., 2.],\n",
       "       [1., 2.],\n",
       "       [1., 2.],\n",
       "       [1., 2.],\n",
       "       [1., 2.],\n",
       "       [1., 2.],\n",
       "       [1., 2.],\n",
       "       [1., 2.],\n",
       "       [1., 2.],\n",
       "       [1., 2.],\n",
       "       [1., 2.],\n",
       "       [1., 2.],\n",
       "       [1., 2.],\n",
       "       [1., 2.],\n",
       "       [1., 2.],\n",
       "       [1., 2.],\n",
       "       [1., 2.],\n",
       "       [1., 2.],\n",
       "       [1., 2.],\n",
       "       [1., 2.],\n",
       "       [1., 2.],\n",
       "       [1., 2.],\n",
       "       [1., 2.],\n",
       "       [1., 2.],\n",
       "       [1., 2.],\n",
       "       [1., 2.],\n",
       "       [1., 2.],\n",
       "       [1., 2.],\n",
       "       [1., 2.],\n",
       "       [1., 2.],\n",
       "       [1., 2.],\n",
       "       [1., 2.],\n",
       "       [1., 2.],\n",
       "       [1., 2.],\n",
       "       [1., 2.],\n",
       "       [1., 2.],\n",
       "       [1., 2.],\n",
       "       [1., 2.],\n",
       "       [1., 2.],\n",
       "       [1., 2.]])"
      ]
     },
     "execution_count": 36,
     "metadata": {},
     "output_type": "execute_result"
    }
   ],
   "source": [
    "two_column = 2*np.ones((len(X) , 1))\n",
    "np.concatenate([ones_column , two_column] , axis = 1 )\n"
   ]
  },
  {
   "cell_type": "code",
   "execution_count": null,
   "id": "6761aed8",
   "metadata": {},
   "outputs": [],
   "source": []
  },
  {
   "cell_type": "code",
   "execution_count": 25,
   "id": "f6dc6e12",
   "metadata": {},
   "outputs": [
    {
     "data": {
      "text/plain": [
       "(100,)"
      ]
     },
     "execution_count": 25,
     "metadata": {},
     "output_type": "execute_result"
    }
   ],
   "source": [
    "X[:,0].shape"
   ]
  },
  {
   "cell_type": "code",
   "execution_count": 39,
   "id": "89a6dc67",
   "metadata": {},
   "outputs": [],
   "source": [
    "np.linalg.inv?"
   ]
  },
  {
   "cell_type": "code",
   "execution_count": null,
   "id": "0949646d",
   "metadata": {},
   "outputs": [],
   "source": []
  },
  {
   "cell_type": "code",
   "execution_count": null,
   "id": "67f862b2",
   "metadata": {},
   "outputs": [],
   "source": []
  },
  {
   "cell_type": "code",
   "execution_count": null,
   "id": "055a6369",
   "metadata": {},
   "outputs": [],
   "source": []
  },
  {
   "cell_type": "code",
   "execution_count": null,
   "id": "31a07f25",
   "metadata": {},
   "outputs": [],
   "source": []
  },
  {
   "cell_type": "code",
   "execution_count": null,
   "id": "55be487e",
   "metadata": {},
   "outputs": [],
   "source": []
  }
 ],
 "metadata": {
  "kernelspec": {
   "display_name": "Python 3 (ipykernel)",
   "language": "python",
   "name": "python3"
  },
  "language_info": {
   "codemirror_mode": {
    "name": "ipython",
    "version": 3
   },
   "file_extension": ".py",
   "mimetype": "text/x-python",
   "name": "python",
   "nbconvert_exporter": "python",
   "pygments_lexer": "ipython3",
   "version": "3.9.7"
  }
 },
 "nbformat": 4,
 "nbformat_minor": 5
}
