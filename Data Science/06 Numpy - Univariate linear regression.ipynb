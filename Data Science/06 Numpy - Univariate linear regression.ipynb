{
 "cells": [
  {
   "cell_type": "markdown",
   "id": "4a58cbb3",
   "metadata": {},
   "source": [
    "## Univariate linear Regression"
   ]
  },
  {
   "cell_type": "code",
   "execution_count": 1,
   "id": "cb371ba1",
   "metadata": {},
   "outputs": [],
   "source": [
    "import numpy as np"
   ]
  },
  {
   "cell_type": "code",
   "execution_count": 2,
   "id": "06b9efac",
   "metadata": {},
   "outputs": [],
   "source": [
    "import matplotlib.pyplot as plt"
   ]
  },
  {
   "cell_type": "code",
   "execution_count": 3,
   "id": "76e62926",
   "metadata": {},
   "outputs": [],
   "source": [
    "X = np.load(\"E:\\PYTHON_BASIC\\Data Science\\KNN\\Regression\\X_data.npy\")  # absolute address - remember first letter of the address should be capital as Regression R should be capital\n",
    "y = np.load(\"E:\\PYTHON_BASIC\\Data Science\\KNN\\Regression\\Y_data.npy\")"
   ]
  },
  {
   "cell_type": "code",
   "execution_count": 4,
   "id": "75f32255",
   "metadata": {},
   "outputs": [
    {
     "data": {
      "image/png": "[encoded data removed]",
      "text/plain": [
       "<Figure size 432x288 with 1 Axes>"
      ]
     },
     "metadata": {
      "needs_background": "light"
     },
     "output_type": "display_data"
    }
   ],
   "source": [
    "plt.scatter(X , y , c = \"blue\")\n",
    "plt.xlabel(\"Feature\")\n",
    "plt.ylabel(\"label\")\n",
    "plt.show()"
   ]
  },
  {
   "cell_type": "markdown",
   "id": "fe1195f7",
   "metadata": {},
   "source": [
    "## Optimal Parameters"
   ]
  },
  {
   "cell_type": "code",
   "execution_count": 5,
   "id": "288a27be",
   "metadata": {},
   "outputs": [
    {
     "name": "stdout",
     "output_type": "stream",
     "text": [
      "32.324530910798146 0.025579135963077704\n"
     ]
    }
   ],
   "source": [
    "m = ((X[:,0]*y).mean() - X[:,0].mean()*y.mean())/((X[:,0]**2).mean() - (X[:,0].mean())**2)\n",
    "c = y.mean() - m*X[:,0].mean()\n",
    "print(m,c)"
   ]
  },
  {
   "cell_type": "code",
   "execution_count": 6,
   "id": "5b2471bd",
   "metadata": {},
   "outputs": [
    {
     "data": {
      "text/plain": [
       "((50, 1), (50,))"
      ]
     },
     "execution_count": 6,
     "metadata": {},
     "output_type": "execute_result"
    }
   ],
   "source": [
    "X.shape , y.shape"
   ]
  },
  {
   "cell_type": "code",
   "execution_count": 7,
   "id": "ec25fb3e",
   "metadata": {},
   "outputs": [
    {
     "data": {
      "text/plain": [
       "((50,), (50,))"
      ]
     },
     "execution_count": 7,
     "metadata": {},
     "output_type": "execute_result"
    }
   ],
   "source": [
    "X[: , 0].shape , y.shape"
   ]
  },
  {
   "cell_type": "markdown",
   "id": "6dae957f",
   "metadata": {},
   "source": [
    "## Plot the prediction line"
   ]
  },
  {
   "cell_type": "code",
   "execution_count": 11,
   "id": "1d57fe3a",
   "metadata": {},
   "outputs": [
    {
     "name": "stdout",
     "output_type": "stream",
     "text": [
      "[-2.22266168 -2.17764428 -2.13262687 -2.08760946 -2.04259206 -1.99757465\n",
      " -1.95255724 -1.90753984 -1.86252243 -1.81750502 -1.77248762 -1.72747021\n",
      " -1.6824528  -1.6374354  -1.59241799 -1.54740058 -1.50238317 -1.45736577\n",
      " -1.41234836 -1.36733095 -1.32231355 -1.27729614 -1.23227873 -1.18726133\n",
      " -1.14224392 -1.09722651 -1.05220911 -1.0071917  -0.96217429 -0.91715689\n",
      " -0.87213948 -0.82712207 -0.78210467 -0.73708726 -0.69206985 -0.64705245\n",
      " -0.60203504 -0.55701763 -0.51200023 -0.46698282 -0.42196541 -0.37694801\n",
      " -0.3319306  -0.28691319 -0.24189579 -0.19687838 -0.15186097 -0.10684356\n",
      " -0.06182616 -0.01680875  0.02820866  0.07322606  0.11824347  0.16326088\n",
      "  0.20827828  0.25329569  0.2983131   0.3433305   0.38834791  0.43336532\n",
      "  0.47838272  0.52340013  0.56841754  0.61343494  0.65845235  0.70346976\n",
      "  0.74848716  0.79350457  0.83852198  0.88353938  0.92855679  0.9735742\n",
      "  1.0185916   1.06360901  1.10862642  1.15364382  1.19866123  1.24367864\n",
      "  1.28869604  1.33371345  1.37873086  1.42374827  1.46876567  1.51378308\n",
      "  1.55880049  1.60381789  1.6488353   1.69385271  1.73887011  1.78388752\n",
      "  1.82890493  1.87392233  1.91893974  1.96395715  2.00897455  2.05399196\n",
      "  2.09900937  2.14402677  2.18904418  2.23406159]\n",
      "(100,)\n"
     ]
    }
   ],
   "source": [
    "x = np.linspace(X[:,0].min() , X[:,0].max() , 100)\n",
    "print(x)\n",
    "print(x.shape)"
   ]
  },
  {
   "cell_type": "code",
   "execution_count": 13,
   "id": "1447f969",
   "metadata": {},
   "outputs": [
    {
     "name": "stdout",
     "output_type": "stream",
     "text": [
      "[-71.82091714 -70.36575059 -68.91058403 -67.45541747 -66.00025092\n",
      " -64.54508436 -63.0899178  -61.63475125 -60.17958469 -58.72441813\n",
      " -57.26925158 -55.81408502 -54.35891846 -52.90375191 -51.44858535\n",
      " -49.99341879 -48.53825224 -47.08308568 -45.62791912 -44.17275257\n",
      " -42.71758601 -41.26241945 -39.8072529  -38.35208634 -36.89691978\n",
      " -35.44175323 -33.98658667 -32.53142011 -31.07625356 -29.621087\n",
      " -28.16592044 -26.71075389 -25.25558733 -23.80042078 -22.34525422\n",
      " -20.89008766 -19.43492111 -17.97975455 -16.52458799 -15.06942144\n",
      " -13.61425488 -12.15908832 -10.70392177  -9.24875521  -7.79358865\n",
      "  -6.3384221   -4.88325554  -3.42808898  -1.97292243  -0.51775587\n",
      "   0.93741069   2.39257724   3.8477438    5.30291036   6.75807691\n",
      "   8.21324347   9.66841003  11.12357658  12.57874314  14.0339097\n",
      "  15.48907625  16.94424281  18.39940937  19.85457592  21.30974248\n",
      "  22.76490904  24.22007559  25.67524215  27.13040871  28.58557526\n",
      "  30.04074182  31.49590838  32.95107493  34.40624149  35.86140805\n",
      "  37.3165746   38.77174116  40.22690772  41.68207427  43.13724083\n",
      "  44.59240739  46.04757394  47.5027405   48.95790706  50.41307361\n",
      "  51.86824017  53.32340673  54.77857328  56.23373984  57.68890639\n",
      "  59.14407295  60.59923951  62.05440606  63.50957262  64.96473918\n",
      "  66.41990573  67.87507229  69.33023885  70.7854054   72.24057196]\n",
      "(100,)\n"
     ]
    }
   ],
   "source": [
    "y_hat = m*x + c\n",
    "print(y_hat)\n",
    "print(y_hat.shape)"
   ]
  },
  {
   "cell_type": "code",
   "execution_count": 22,
   "id": "56adca1d",
   "metadata": {},
   "outputs": [
    {
     "data": {
      "image/png": "[encoded data removed]",
      "text/plain": [
       "<Figure size 432x288 with 1 Axes>"
      ]
     },
     "metadata": {
      "needs_background": "light"
     },
     "output_type": "display_data"
    }
   ],
   "source": [
    "plt.scatter(X , y , c = \"blue\" , label = \"training points\")\n",
    "plt.plot(x , y_hat , c = \"red\" , label = \"best fit line\")\n",
    "plt.legend()\n",
    "plt.xlabel(\"features\")\n",
    "plt.ylabel(\"label\")\n",
    "plt.show()"
   ]
  },
  {
   "cell_type": "code",
   "execution_count": null,
   "id": "f748e070",
   "metadata": {},
   "outputs": [],
   "source": []
  },
  {
   "cell_type": "code",
   "execution_count": null,
   "id": "48a0b2bc",
   "metadata": {},
   "outputs": [],
   "source": []
  },
  {
   "cell_type": "code",
   "execution_count": null,
   "id": "c3964392",
   "metadata": {},
   "outputs": [],
   "source": []
  },
  {
   "cell_type": "code",
   "execution_count": null,
   "id": "e5a390e7",
   "metadata": {},
   "outputs": [],
   "source": []
  },
  {
   "cell_type": "code",
   "execution_count": null,
   "id": "3885e0a5",
   "metadata": {},
   "outputs": [],
   "source": []
  }
 ],
 "metadata": {
  "kernelspec": {
   "display_name": "Python 3 (ipykernel)",
   "language": "python",
   "name": "python3"
  },
  "language_info": {
   "codemirror_mode": {
    "name": "ipython",
    "version": 3
   },
   "file_extension": ".py",
   "mimetype": "text/x-python",
   "name": "python",
   "nbconvert_exporter": "python",
   "pygments_lexer": "ipython3",
   "version": "3.9.7"
  }
 },
 "nbformat": 4,
 "nbformat_minor": 5
}
