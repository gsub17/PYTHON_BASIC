{
 "cells": [
  {
   "cell_type": "markdown",
   "id": "4a58cbb3",
   "metadata": {},
   "source": [
    "## Univariate linear Regression"
   ]
  },
  {
   "cell_type": "code",
   "execution_count": 1,
   "id": "cb371ba1",
   "metadata": {},
   "outputs": [],
   "source": [
    "import numpy as np"
   ]
  },
  {
   "cell_type": "code",
   "execution_count": 2,
   "id": "06b9efac",
   "metadata": {},
   "outputs": [],
   "source": [
    "import matplotlib.pyplot as plt"
   ]
  },
  {
   "cell_type": "code",
   "execution_count": 3,
   "id": "76e62926",
   "metadata": {},
   "outputs": [],
   "source": [
    "X = np.load(\"E:\\PYTHON_BASIC\\Data Science\\KNN\\Regression\\X_data.npy\")  # absolute address - remember first letter of the address should be capital as Regression R should be capital\n",
    "y = np.load(\"E:\\PYTHON_BASIC\\Data Science\\KNN\\Regression\\Y_data.npy\")"
   ]
  },
  {
   "cell_type": "code",
   "execution_count": 4,
   "id": "75f32255",
   "metadata": {},
   "outputs": [
    {
     "data": {
      "image/png": "[encoded data removed]",
      "text/plain": [
       "<Figure size 432x288 with 1 Axes>"
      ]
     },
     "metadata": {
      "needs_background": "light"
     },
     "output_type": "display_data"
    }
   ],
   "source": [
    "plt.scatter(X , y , c = \"blue\")\n",
    "plt.xlabel(\"Feature\")\n",
    "plt.ylabel(\"label\")\n",
    "plt.show()"
   ]
  },
  {
   "cell_type": "markdown",
   "id": "fe1195f7",
   "metadata": {},
   "source": [
    "## Optimal Parameters"
   ]
  },
  {
   "cell_type": "code",
   "execution_count": 16,
   "id": "288a27be",
   "metadata": {},
   "outputs": [
    {
     "name": "stdout",
     "output_type": "stream",
     "text": [
      "32.324530910798146 0.025579135963077704\n"
     ]
    }
   ],
   "source": [
    "m = ((X[:,0]*y).mean() - X[:,0].mean()*y.mean())/((X[:,0]**2).mean() - (X[:,0].mean())**2)\n",
    "c = y.mean() - m*X[:,0].mean()\n",
    "print(m,c)"
   ]
  },
  {
   "cell_type": "code",
   "execution_count": 5,
   "id": "5b2471bd",
   "metadata": {},
   "outputs": [
    {
     "data": {
      "text/plain": [
       "((50, 1), (50,))"
      ]
     },
     "execution_count": 5,
     "metadata": {},
     "output_type": "execute_result"
    }
   ],
   "source": [
    "X.shape , y.shape"
   ]
  },
  {
   "cell_type": "code",
   "execution_count": 7,
   "id": "ec25fb3e",
   "metadata": {},
   "outputs": [
    {
     "data": {
      "text/plain": [
       "((50,), (50,))"
      ]
     },
     "execution_count": 7,
     "metadata": {},
     "output_type": "execute_result"
    }
   ],
   "source": [
    "X[: , 0].shape , y.shape"
   ]
  },
  {
   "cell_type": "markdown",
   "id": "6dae957f",
   "metadata": {},
   "source": [
    "## Plot the prediction line"
   ]
  },
  {
   "cell_type": "code",
   "execution_count": null,
   "id": "1d57fe3a",
   "metadata": {},
   "outputs": [],
   "source": []
  }
 ],
 "metadata": {
  "kernelspec": {
   "display_name": "Python 3 (ipykernel)",
   "language": "python",
   "name": "python3"
  },
  "language_info": {
   "codemirror_mode": {
    "name": "ipython",
    "version": 3
   },
   "file_extension": ".py",
   "mimetype": "text/x-python",
   "name": "python",
   "nbconvert_exporter": "python",
   "pygments_lexer": "ipython3",
   "version": "3.9.7"
  }
 },
 "nbformat": 4,
 "nbformat_minor": 5
}
