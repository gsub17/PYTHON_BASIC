{
 "cells": [
  {
   "cell_type": "code",
   "execution_count": 1,
   "id": "5861bc2f",
   "metadata": {},
   "outputs": [],
   "source": [
    "from sklearn.datasets import make_regression"
   ]
  },
  {
   "cell_type": "code",
   "execution_count": 2,
   "id": "fc06008d",
   "metadata": {},
   "outputs": [],
   "source": [
    "import numpy as np\n",
    "import matplotlib.pyplot as plt"
   ]
  },
  {
   "cell_type": "code",
   "execution_count": 2,
   "id": "f713b249",
   "metadata": {},
   "outputs": [],
   "source": [
    "make_regression?"
   ]
  },
  {
   "cell_type": "code",
   "execution_count": 37,
   "id": "27df4027",
   "metadata": {},
   "outputs": [
    {
     "name": "stdout",
     "output_type": "stream",
     "text": [
      "(100, 1) (100,)\n"
     ]
    }
   ],
   "source": [
    "X , y,coef = make_regression(\n",
    "    n_samples=100,\n",
    "    n_features=1,\n",
    "    bias=3,\n",
    "    noise=5,\n",
    "    coef=True,\n",
    "    random_state=10,       ## random state to reproduce the state\n",
    ")\n",
    "print(X.shape , y.shape)"
   ]
  },
  {
   "cell_type": "code",
   "execution_count": null,
   "id": "2da12d5e",
   "metadata": {},
   "outputs": [],
   "source": [
    "#### broadcasting means - the smaller dimension array is broadcasted into bigger one"
   ]
  },
  {
   "cell_type": "code",
   "execution_count": 38,
   "id": "fa93aa6e",
   "metadata": {},
   "outputs": [
    {
     "name": "stdout",
     "output_type": "stream",
     "text": [
      "(100, 1)\n"
     ]
    }
   ],
   "source": [
    "# to avoid broadcasting we are reshaping y shape\n",
    "y = y.reshape(-1 , 1)\n",
    "print(y.shape)"
   ]
  },
  {
   "cell_type": "code",
   "execution_count": 39,
   "id": "24162d44",
   "metadata": {},
   "outputs": [
    {
     "data": {
      "image/png": "[encoded data removed]",
      "text/plain": [
       "<Figure size 432x288 with 1 Axes>"
      ]
     },
     "metadata": {
      "needs_background": "light"
     },
     "output_type": "display_data"
    }
   ],
   "source": [
    "plt.scatter(X, y)\n",
    "plt.xlabel(\"X\")\n",
    "plt.ylabel(\"y\")\n",
    "plt.show()"
   ]
  },
  {
   "cell_type": "code",
   "execution_count": 40,
   "id": "7a8eda60",
   "metadata": {},
   "outputs": [
    {
     "ename": "SyntaxError",
     "evalue": "invalid syntax (Temp/ipykernel_10088/565556669.py, line 2)",
     "output_type": "error",
     "traceback": [
      "\u001b[1;36m  File \u001b[1;32m\"C:\\Users\\SUBHAJ~1\\AppData\\Local\\Temp/ipykernel_10088/565556669.py\"\u001b[1;36m, line \u001b[1;32m2\u001b[0m\n\u001b[1;33m    def(X , y , M,C):                         # y - true value , M - is an array of\u001b[0m\n\u001b[1;37m       ^\u001b[0m\n\u001b[1;31mSyntaxError\u001b[0m\u001b[1;31m:\u001b[0m invalid syntax\n"
     ]
    }
   ],
   "source": [
    "## function to compute loss\n",
    "def(X , y , M,C):                         # y - true value , M - is an array of \n",
    "    "
   ]
  },
  {
   "cell_type": "code",
   "execution_count": 41,
   "id": "aa6ebef8",
   "metadata": {},
   "outputs": [
    {
     "name": "stdout",
     "output_type": "stream",
     "text": [
      "(6,) (6,)\n",
      "(6, 6) (6, 6)\n",
      "[[0.  1.2 2.4 3.6 4.8 6. ]\n",
      " [0.  1.2 2.4 3.6 4.8 6. ]\n",
      " [0.  1.2 2.4 3.6 4.8 6. ]\n",
      " [0.  1.2 2.4 3.6 4.8 6. ]\n",
      " [0.  1.2 2.4 3.6 4.8 6. ]\n",
      " [0.  1.2 2.4 3.6 4.8 6. ]]\n",
      "================================\n",
      "[[0.  0.  0.  0.  0.  0. ]\n",
      " [1.2 1.2 1.2 1.2 1.2 1.2]\n",
      " [2.4 2.4 2.4 2.4 2.4 2.4]\n",
      " [3.6 3.6 3.6 3.6 3.6 3.6]\n",
      " [4.8 4.8 4.8 4.8 4.8 4.8]\n",
      " [6.  6.  6.  6.  6.  6. ]]\n",
      "(36,) (36,)\n"
     ]
    }
   ],
   "source": [
    "## generating point of M , C\n",
    "M = np.linspace(0 , 6 , 6)\n",
    "C = np.linspace(0 , 6 ,6)\n",
    "print(M.shape , C.shape)\n",
    "\n",
    "M , C = np.meshgrid(M,C)\n",
    "print(M.shape , C.shape)\n",
    "print(M)                                     # it will broadcast rowwise\n",
    "print(\"================================\")\n",
    "print(C)                                      # it will broadcast col-wise\n",
    "\n",
    "M , C = M.reshape(-1,),C.reshape(-1,)     # we are trying to make 1D shape\n",
    "print(M.shape , C.shape)\n"
   ]
  },
  {
   "cell_type": "code",
   "execution_count": 47,
   "id": "92cf40f7",
   "metadata": {},
   "outputs": [
    {
     "name": "stdout",
     "output_type": "stream",
     "text": [
      "(2, 1)\n",
      "(2, 1)\n"
     ]
    }
   ],
   "source": [
    "X = X[:2]\n",
    "print(X.shape)\n",
    "y = y[:2]\n",
    "print(y.shape)"
   ]
  },
  {
   "cell_type": "markdown",
   "id": "eece268d",
   "metadata": {},
   "source": [
    "### residual  = y - y_hat"
   ]
  },
  {
   "cell_type": "code",
   "execution_count": null,
   "id": "ce521663",
   "metadata": {},
   "outputs": [],
   "source": []
  },
  {
   "cell_type": "code",
   "execution_count": 48,
   "id": "0f8a7ff2",
   "metadata": {},
   "outputs": [
    {
     "name": "stdout",
     "output_type": "stream",
     "text": [
      "(36,) (2, 1)\n",
      "[0.  1.2 2.4 3.6 4.8 6.  0.  1.2 2.4 3.6 4.8 6.  0.  1.2 2.4 3.6 4.8 6.\n",
      " 0.  1.2 2.4 3.6 4.8 6.  0.  1.2 2.4 3.6 4.8 6.  0.  1.2 2.4 3.6 4.8 6. ]\n",
      "             \n",
      "[[-1.13660221]\n",
      " [-1.41855603]]\n",
      "             \n",
      "(2, 36)\n",
      "[[-0.         -1.36392265 -2.72784531 -4.09176796 -5.45569062 -6.81961327\n",
      "  -0.         -1.36392265 -2.72784531 -4.09176796 -5.45569062 -6.81961327\n",
      "  -0.         -1.36392265 -2.72784531 -4.09176796 -5.45569062 -6.81961327\n",
      "  -0.         -1.36392265 -2.72784531 -4.09176796 -5.45569062 -6.81961327\n",
      "  -0.         -1.36392265 -2.72784531 -4.09176796 -5.45569062 -6.81961327\n",
      "  -0.         -1.36392265 -2.72784531 -4.09176796 -5.45569062 -6.81961327]\n",
      " [-0.         -1.70226724 -3.40453447 -5.10680171 -6.80906894 -8.51133618\n",
      "  -0.         -1.70226724 -3.40453447 -5.10680171 -6.80906894 -8.51133618\n",
      "  -0.         -1.70226724 -3.40453447 -5.10680171 -6.80906894 -8.51133618\n",
      "  -0.         -1.70226724 -3.40453447 -5.10680171 -6.80906894 -8.51133618\n",
      "  -0.         -1.70226724 -3.40453447 -5.10680171 -6.80906894 -8.51133618\n",
      "  -0.         -1.70226724 -3.40453447 -5.10680171 -6.80906894 -8.51133618]]\n"
     ]
    }
   ],
   "source": [
    "#we are printing M*X - C\n",
    "print(M.shape , X.shape)\n",
    "print(M)\n",
    "print(\"             \")\n",
    "print(X)\n",
    "print(\"             \")\n",
    "print((M*X).shape)\n",
    "print(M*X)\n",
    "y_hat = M*X + C"
   ]
  },
  {
   "cell_type": "code",
   "execution_count": null,
   "id": "7738651d",
   "metadata": {},
   "outputs": [],
   "source": []
  },
  {
   "cell_type": "code",
   "execution_count": 51,
   "id": "bd574a32",
   "metadata": {},
   "outputs": [
    {
     "name": "stdout",
     "output_type": "stream",
     "text": [
      "(2, 1) (2, 1) (36,) (36,)\n",
      "[0.  1.2 2.4 3.6 4.8 6.  0.  1.2 2.4 3.6 4.8 6.  0.  1.2 2.4 3.6 4.8 6.\n",
      " 0.  1.2 2.4 3.6 4.8 6.  0.  1.2 2.4 3.6 4.8 6.  0.  1.2 2.4 3.6 4.8 6. ]\n",
      "==============================\n",
      "[[-1.13660221]\n",
      " [-1.41855603]]\n",
      "==============================\n",
      "[[-0.         -1.36392265 -2.72784531 -4.09176796 -5.45569062 -6.81961327\n",
      "  -0.         -1.36392265 -2.72784531 -4.09176796 -5.45569062 -6.81961327\n",
      "  -0.         -1.36392265 -2.72784531 -4.09176796 -5.45569062 -6.81961327\n",
      "  -0.         -1.36392265 -2.72784531 -4.09176796 -5.45569062 -6.81961327\n",
      "  -0.         -1.36392265 -2.72784531 -4.09176796 -5.45569062 -6.81961327\n",
      "  -0.         -1.36392265 -2.72784531 -4.09176796 -5.45569062 -6.81961327]\n",
      " [-0.         -1.70226724 -3.40453447 -5.10680171 -6.80906894 -8.51133618\n",
      "  -0.         -1.70226724 -3.40453447 -5.10680171 -6.80906894 -8.51133618\n",
      "  -0.         -1.70226724 -3.40453447 -5.10680171 -6.80906894 -8.51133618\n",
      "  -0.         -1.70226724 -3.40453447 -5.10680171 -6.80906894 -8.51133618\n",
      "  -0.         -1.70226724 -3.40453447 -5.10680171 -6.80906894 -8.51133618\n",
      "  -0.         -1.70226724 -3.40453447 -5.10680171 -6.80906894 -8.51133618]]\n",
      "==============================\n",
      "[[ 0.         -1.36392265 -2.72784531 -4.09176796 -5.45569062 -6.81961327\n",
      "   1.2        -0.16392265 -1.52784531 -2.89176796 -4.25569062 -5.61961327\n",
      "   2.4         1.03607735 -0.32784531 -1.69176796 -3.05569062 -4.41961327\n",
      "   3.6         2.23607735  0.87215469 -0.49176796 -1.85569062 -3.21961327\n",
      "   4.8         3.43607735  2.07215469  0.70823204 -0.65569062 -2.01961327\n",
      "   6.          4.63607735  3.27215469  1.90823204  0.54430938 -0.81961327]\n",
      " [ 0.         -1.70226724 -3.40453447 -5.10680171 -6.80906894 -8.51133618\n",
      "   1.2        -0.50226724 -2.20453447 -3.90680171 -5.60906894 -7.31133618\n",
      "   2.4         0.69773276 -1.00453447 -2.70680171 -4.40906894 -6.11133618\n",
      "   3.6         1.89773276  0.19546553 -1.50680171 -3.20906894 -4.91133618\n",
      "   4.8         3.09773276  1.39546553 -0.30680171 -2.00906894 -3.71133618\n",
      "   6.          4.29773276  2.59546553  0.89319829 -0.80906894 -2.51133618]]\n",
      "==============================\n",
      "[[-27.58162329 -26.21770063 -24.85377798 -23.48985532 -22.12593267\n",
      "  -20.76201001 -28.78162329 -27.41770063 -26.05377798 -24.68985532\n",
      "  -23.32593267 -21.96201001 -29.98162329 -28.61770063 -27.25377798\n",
      "  -25.88985532 -24.52593267 -23.16201001 -31.18162329 -29.81770063\n",
      "  -28.45377798 -27.08985532 -25.72593267 -24.36201001 -32.38162329\n",
      "  -31.01770063 -29.65377798 -28.28985532 -26.92593267 -25.56201001\n",
      "  -33.58162329 -32.21770063 -30.85377798 -29.48985532 -28.12593267\n",
      "  -26.76201001]\n",
      " [-38.48474238 -36.78247514 -35.08020791 -33.37794067 -31.67567344\n",
      "  -29.9734062  -39.68474238 -37.98247514 -36.28020791 -34.57794067\n",
      "  -32.87567344 -31.1734062  -40.88474238 -39.18247514 -37.48020791\n",
      "  -35.77794067 -34.07567344 -32.3734062  -42.08474238 -40.38247514\n",
      "  -38.68020791 -36.97794067 -35.27567344 -33.5734062  -43.28474238\n",
      "  -41.58247514 -39.88020791 -38.17794067 -36.47567344 -34.7734062\n",
      "  -44.48474238 -42.78247514 -41.08020791 -39.37794067 -37.67567344\n",
      "  -35.9734062 ]]\n",
      "==============================\n",
      "[[-27.58162329]\n",
      " [-38.48474238]]\n",
      "[array([[-27.58162329],\n",
      "       [-38.48474238]]), array([[-26.21770063],\n",
      "       [-36.78247514]]), array([[-24.85377798],\n",
      "       [-35.08020791]]), array([[-23.48985532],\n",
      "       [-33.37794067]]), array([[-22.12593267],\n",
      "       [-31.67567344]]), array([[-20.76201001],\n",
      "       [-29.9734062 ]]), array([[-26.38162329],\n",
      "       [-37.28474238]]), array([[-25.01770063],\n",
      "       [-35.58247514]]), array([[-23.65377798],\n",
      "       [-33.88020791]]), array([[-22.28985532],\n",
      "       [-32.17794067]]), array([[-20.92593267],\n",
      "       [-30.47567344]]), array([[-19.56201001],\n",
      "       [-28.7734062 ]]), array([[-25.18162329],\n",
      "       [-36.08474238]]), array([[-23.81770063],\n",
      "       [-34.38247514]]), array([[-22.45377798],\n",
      "       [-32.68020791]]), array([[-21.08985532],\n",
      "       [-30.97794067]]), array([[-19.72593267],\n",
      "       [-29.27567344]]), array([[-18.36201001],\n",
      "       [-27.5734062 ]]), array([[-23.98162329],\n",
      "       [-34.88474238]]), array([[-22.61770063],\n",
      "       [-33.18247514]]), array([[-21.25377798],\n",
      "       [-31.48020791]]), array([[-19.88985532],\n",
      "       [-29.77794067]]), array([[-18.52593267],\n",
      "       [-28.07567344]]), array([[-17.16201001],\n",
      "       [-26.3734062 ]]), array([[-22.78162329],\n",
      "       [-33.68474238]]), array([[-21.41770063],\n",
      "       [-31.98247514]]), array([[-20.05377798],\n",
      "       [-30.28020791]]), array([[-18.68985532],\n",
      "       [-28.57794067]]), array([[-17.32593267],\n",
      "       [-26.87567344]]), array([[-15.96201001],\n",
      "       [-25.1734062 ]]), array([[-21.58162329],\n",
      "       [-32.48474238]]), array([[-20.21770063],\n",
      "       [-30.78247514]]), array([[-18.85377798],\n",
      "       [-29.08020791]]), array([[-17.48985532],\n",
      "       [-27.37794067]]), array([[-16.12593267],\n",
      "       [-25.67567344]]), array([[-14.76201001],\n",
      "       [-23.9734062 ]])]\n"
     ]
    }
   ],
   "source": [
    "print(y.shape , X.shape , M.shape , C.shape)\n",
    "print(M)\n",
    "print(\"==============================\")\n",
    "print(X)\n",
    "print(\"==============================\")\n",
    "print(M*X)\n",
    "print(\"==============================\")\n",
    "print(M*X + C)\n",
    "print(\"==============================\")\n",
    "print(y - (M*X + C))\n",
    "\n",
    "\n",
    "residual = []\n",
    "for m,c in zip(M,C):\n",
    "    r =y - m*X + c         # x1 is computed for each value of M and we get a single value for X1 \n",
    "    residual.append(r)\n",
    "print(\"==============================\")  # x2 is computed for each value of M and C , we get a single value\n",
    "print(residual[0])\n",
    "print(residual)"
   ]
  },
  {
   "cell_type": "code",
   "execution_count": 52,
   "id": "df16968f",
   "metadata": {},
   "outputs": [
    {
     "name": "stdout",
     "output_type": "stream",
     "text": [
      "36 [-27.58162329 -38.48474238]\n"
     ]
    }
   ],
   "source": [
    "residual = []\n",
    "for m,c in zip(M,C):\n",
    "    r = (y - m*X + c).reshape(-1,)     # to convert it into row vector     \n",
    "    residual.append(r)\n",
    "print(len(residual) , residual[0])"
   ]
  },
  {
   "cell_type": "code",
   "execution_count": 53,
   "id": "1c78cf1b",
   "metadata": {},
   "outputs": [
    {
     "name": "stdout",
     "output_type": "stream",
     "text": [
      "(36, 2)\n"
     ]
    }
   ],
   "source": [
    "residual = np.array(residual)\n",
    "print(residual.shape)                    ## we are making shape according to m shape \n",
    "# each element contain - m1*x1 + c1 , m1*x2 + c1\n",
    "#                        m2*x1 + c2 , m2*x2 + c2"
   ]
  },
  {
   "cell_type": "code",
   "execution_count": 54,
   "id": "d54fbdba",
   "metadata": {},
   "outputs": [],
   "source": [
    "residual = residual**2 "
   ]
  },
  {
   "cell_type": "code",
   "execution_count": 55,
   "id": "f054d347",
   "metadata": {},
   "outputs": [
    {
     "data": {
      "text/plain": [
       "array([[ 760.74594306, 1481.075396  ],\n",
       "       [ 687.36782639, 1352.95047774],\n",
       "       [ 617.71027974, 1230.62098695],\n",
       "       [ 551.77330309, 1114.08692365],\n",
       "       [ 489.55689646, 1003.34828782],\n",
       "       [ 431.06105984,  898.40507947],\n",
       "       [ 695.99004718, 1390.15201429],\n",
       "       [ 625.88534488, 1266.11253739],\n",
       "       [ 559.50121259, 1147.86848797],\n",
       "       [ 496.83765032, 1035.41986603],\n",
       "       [ 437.89465806,  928.76667157],\n",
       "       [ 382.67223581,  827.90890458],\n",
       "       [ 634.11415129, 1302.10863258],\n",
       "       [ 567.28286336, 1182.15459705],\n",
       "       [ 504.17214545, 1067.99598899],\n",
       "       [ 444.78199754,  959.63280841],\n",
       "       [ 389.11241965,  857.06505531],\n",
       "       [ 337.16341177,  760.29272969],\n",
       "       [ 575.11825541, 1216.94525087],\n",
       "       [ 511.56038185, 1101.0766567 ],\n",
       "       [ 451.7230783 ,  991.00349001],\n",
       "       [ 395.60634477,  886.72575079],\n",
       "       [ 343.21018125,  788.24343906],\n",
       "       [ 294.53458774,  695.5565548 ],\n",
       "       [ 519.00235952, 1134.66186916],\n",
       "       [ 458.71790033, 1022.87871635],\n",
       "       [ 402.15401115,  916.89099103],\n",
       "       [ 349.31069199,  816.69869317],\n",
       "       [ 300.18794284,  722.3018228 ],\n",
       "       [ 254.7857637 ,  633.70037991],\n",
       "       [ 465.76646364, 1055.25848745],\n",
       "       [ 408.75541882,  947.56077601],\n",
       "       [ 355.46494401,  845.65849204],\n",
       "       [ 305.89503922,  749.55163556],\n",
       "       [ 260.04570444,  659.24020655],\n",
       "       [ 217.91693967,  574.72420502]])"
      ]
     },
     "execution_count": 55,
     "metadata": {},
     "output_type": "execute_result"
    }
   ],
   "source": [
    "residual # square value of residual"
   ]
  },
  {
   "cell_type": "code",
   "execution_count": 57,
   "id": "9008a1fa",
   "metadata": {},
   "outputs": [
    {
     "data": {
      "text/plain": [
       "(36,)"
      ]
     },
     "execution_count": 57,
     "metadata": {},
     "output_type": "execute_result"
    }
   ],
   "source": [
    "J  = residual.sum(1).shape"
   ]
  },
  {
   "cell_type": "raw",
   "id": "2e04cd6f",
   "metadata": {},
   "source": [
    "residual  # each element in residual contain value of m1 the second element contain m2\n"
   ]
  },
  {
   "cell_type": "code",
   "execution_count": null,
   "id": "0dabd06d",
   "metadata": {},
   "outputs": [],
   "source": []
  },
  {
   "cell_type": "code",
   "execution_count": 35,
   "id": "d799cb3b",
   "metadata": {},
   "outputs": [
    {
     "name": "stdout",
     "output_type": "stream",
     "text": [
      "(36,) (2, 1)\n"
     ]
    },
    {
     "data": {
      "text/plain": [
       "(2, 36)"
      ]
     },
     "execution_count": 35,
     "metadata": {},
     "output_type": "execute_result"
    }
   ],
   "source": [
    "# we need to compute y - (m*x + c)\n",
    "print(M.shape , X.shape)\n",
    "(M*X).shape"
   ]
  },
  {
   "cell_type": "code",
   "execution_count": 36,
   "id": "999117a0",
   "metadata": {},
   "outputs": [
    {
     "data": {
      "text/plain": [
       "array([[1.],\n",
       "       [1.]])"
      ]
     },
     "execution_count": 36,
     "metadata": {},
     "output_type": "execute_result"
    }
   ],
   "source": [
    "2*np.ones((2,1)) - np.ones((1,1))\n"
   ]
  },
  {
   "cell_type": "code",
   "execution_count": 46,
   "id": "ed14f2b4",
   "metadata": {},
   "outputs": [],
   "source": [
    "np.ones?"
   ]
  },
  {
   "cell_type": "code",
   "execution_count": null,
   "id": "912e94db",
   "metadata": {},
   "outputs": [],
   "source": []
  },
  {
   "cell_type": "code",
   "execution_count": null,
   "id": "4d876a6f",
   "metadata": {},
   "outputs": [],
   "source": []
  },
  {
   "cell_type": "code",
   "execution_count": null,
   "id": "4b6e0d98",
   "metadata": {},
   "outputs": [],
   "source": []
  },
  {
   "cell_type": "code",
   "execution_count": null,
   "id": "da612051",
   "metadata": {},
   "outputs": [],
   "source": []
  },
  {
   "cell_type": "code",
   "execution_count": null,
   "id": "fdc3b1bb",
   "metadata": {},
   "outputs": [],
   "source": []
  },
  {
   "cell_type": "code",
   "execution_count": 24,
   "id": "3782ec9c",
   "metadata": {},
   "outputs": [
    {
     "name": "stdout",
     "output_type": "stream",
     "text": [
      "(4,) (5,)\n",
      "==============================\n",
      "[0. 2. 4. 6.]\n",
      "==============================\n",
      "[10.  22.5 35.  47.5 60. ]\n",
      "(5, 4) (5, 4)\n",
      "==============================\n",
      "[[0. 2. 4. 6.]\n",
      " [0. 2. 4. 6.]\n",
      " [0. 2. 4. 6.]\n",
      " [0. 2. 4. 6.]\n",
      " [0. 2. 4. 6.]]\n",
      "==============================\n",
      "[[10.  10.  10.  10. ]\n",
      " [22.5 22.5 22.5 22.5]\n",
      " [35.  35.  35.  35. ]\n",
      " [47.5 47.5 47.5 47.5]\n",
      " [60.  60.  60.  60. ]]\n"
     ]
    }
   ],
   "source": [
    "## It show how meshgrid works\n",
    "\n",
    "n1 = np.linspace(0 , 6 , 4)\n",
    "n2 = np.linspace(10 , 60 , 5)\n",
    "print(n1.shape , n2.shape)\n",
    "\n",
    "print(\"==============================\")\n",
    "print(n1)\n",
    "print(\"==============================\")\n",
    "print(n2)\n",
    "\n",
    "n1 , n2 = np.meshgrid(n1 , n2)\n",
    "print(n1.shape , n2.shape)\n",
    "\n",
    "print(\"==============================\")\n",
    "print(n1)                                   \n",
    "print(\"==============================\")\n",
    "print(n2)"
   ]
  },
  {
   "cell_type": "code",
   "execution_count": null,
   "id": "3e9f76a5",
   "metadata": {},
   "outputs": [],
   "source": []
  },
  {
   "cell_type": "code",
   "execution_count": 59,
   "id": "997fe6da",
   "metadata": {},
   "outputs": [
    {
     "name": "stdout",
     "output_type": "stream",
     "text": [
      "(100, 1) (100,)\n"
     ]
    }
   ],
   "source": [
    "X , y,coef = make_regression(\n",
    "    n_samples=100,\n",
    "    n_features=1,\n",
    "    bias=3,\n",
    "    noise=5,\n",
    "    coef=True,\n",
    "    random_state=10,       ## random state to reproduce the state\n",
    ")\n",
    "print(X.shape , y.shape)\n"
   ]
  },
  {
   "cell_type": "code",
   "execution_count": 60,
   "id": "6df5960a",
   "metadata": {},
   "outputs": [
    {
     "name": "stdout",
     "output_type": "stream",
     "text": [
      "(10000, 1) (10000, 1)\n"
     ]
    }
   ],
   "source": [
    "## generating point of M , C\n",
    "M = np.linspace(-50 , 50 , 100)\n",
    "C = np.linspace(-50 , 50 ,100)\n",
    "#print(M.shape , C.shape)\n",
    "\n",
    "M , C = np.meshgrid(M,C)\n",
    "#print(M.shape , C.shape)\n",
    "#print(M)                                     # it will broadcast rowwise\n",
    "#print(\"================================\")\n",
    "#print(C)                                      # it will broadcast col-wise\n",
    "\n",
    "M , C = M.reshape(-1,1),C.reshape(-1,1)     # we are trying to make 1D shape\n",
    "print(M.shape , C.shape)\n"
   ]
  },
  {
   "cell_type": "code",
   "execution_count": 84,
   "id": "0c908e94",
   "metadata": {},
   "outputs": [],
   "source": [
    "def loss(X , y , M , C):\n",
    "    yhat = (M*X.reshape(-1,)) + C\n",
    "    print(y.shape)\n",
    "    print(yhat.shape)\n",
    "    residual_sq = (y- yhat)**2\n",
    "    J = residual_sq.sum(1)\n",
    "    return J\n",
    "    \n",
    "    \n",
    "    \n",
    "    "
   ]
  },
  {
   "cell_type": "code",
   "execution_count": 69,
   "id": "4a350c61",
   "metadata": {},
   "outputs": [
    {
     "data": {
      "text/plain": [
       "(10000, 100)"
      ]
     },
     "execution_count": 69,
     "metadata": {},
     "output_type": "execute_result"
    }
   ],
   "source": [
    "(y- yhat).shape"
   ]
  },
  {
   "cell_type": "code",
   "execution_count": 67,
   "id": "7ed9239c",
   "metadata": {},
   "outputs": [
    {
     "name": "stdout",
     "output_type": "stream",
     "text": [
      "(10000, 100)\n",
      "(100,)\n"
     ]
    }
   ],
   "source": [
    "yhat = (M*X.reshape(-1,)) + C\n",
    "print(yhat.shape)\n",
    "print(y.shape)"
   ]
  },
  {
   "cell_type": "code",
   "execution_count": 62,
   "id": "3047dd61",
   "metadata": {},
   "outputs": [
    {
     "data": {
      "text/plain": [
       "(10000, 100)"
      ]
     },
     "execution_count": 62,
     "metadata": {},
     "output_type": "execute_result"
    }
   ],
   "source": [
    "(M*X.reshape(-1,)).shape"
   ]
  },
  {
   "cell_type": "code",
   "execution_count": 85,
   "id": "dad77ce8",
   "metadata": {},
   "outputs": [
    {
     "name": "stdout",
     "output_type": "stream",
     "text": [
      "(100,)\n",
      "(10000, 100)\n",
      "(10000,)\n"
     ]
    }
   ],
   "source": [
    "J = loss(X , y , M , C)\n",
    "print(J.shape)"
   ]
  },
  {
   "cell_type": "code",
   "execution_count": 79,
   "id": "ba2a56ca",
   "metadata": {},
   "outputs": [
    {
     "data": {
      "image/png": "[encoded data removed]",
      "text/plain": [
       "<Figure size 504x504 with 1 Axes>"
      ]
     },
     "metadata": {
      "needs_background": "light"
     },
     "output_type": "display_data"
    }
   ],
   "source": [
    "plt.figure(figsize=(7,7))\n",
    "ax = plt.axes(projection='3d')\n",
    "ax.scatter(M , C ,J , c = J , cmap = plt.cm.coolwarm)\n",
    "ax.set_xlabel(\"M \")\n",
    "ax.set_ylabel(\"C \")\n",
    "plt.show()\n"
   ]
  },
  {
   "cell_type": "code",
   "execution_count": null,
   "id": "d5e685e5",
   "metadata": {},
   "outputs": [],
   "source": []
  },
  {
   "cell_type": "code",
   "execution_count": null,
   "id": "77012406",
   "metadata": {},
   "outputs": [],
   "source": []
  },
  {
   "cell_type": "code",
   "execution_count": null,
   "id": "f33f39bf",
   "metadata": {},
   "outputs": [],
   "source": []
  }
 ],
 "metadata": {
  "kernelspec": {
   "display_name": "Python 3 (ipykernel)",
   "language": "python",
   "name": "python3"
  },
  "language_info": {
   "codemirror_mode": {
    "name": "ipython",
    "version": 3
   },
   "file_extension": ".py",
   "mimetype": "text/x-python",
   "name": "python",
   "nbconvert_exporter": "python",
   "pygments_lexer": "ipython3",
   "version": "3.9.7"
  }
 },
 "nbformat": 4,
 "nbformat_minor": 5
}
