{
 "cells": [
  {
   "cell_type": "code",
   "execution_count": 1,
   "id": "ba7b4ee5",
   "metadata": {},
   "outputs": [],
   "source": [
    "import numpy as np                    ## numpy lib is used for computataional purpose\n",
    "import matplotlib.pyplot as plt       ## matplotlib is used for visualization purpose\n"
   ]
  },
  {
   "cell_type": "code",
   "execution_count": 2,
   "id": "8a998ad4",
   "metadata": {},
   "outputs": [],
   "source": [
    "X = np.load(\"E:\\PYTHON_BASIC\\Data Science\\KNN\\Regression\\X_data.npy\")  # absolute address - remember first letter of the address should be capital as Regression R should be capital\n",
    "y = np.load(\"E:\\PYTHON_BASIC\\Data Science\\KNN\\Regression\\Y_data.npy\")"
   ]
  },
  {
   "cell_type": "code",
   "execution_count": 3,
   "id": "f60cba4e",
   "metadata": {},
   "outputs": [
    {
     "name": "stdout",
     "output_type": "stream",
     "text": [
      "(50, 1) (50,)\n"
     ]
    }
   ],
   "source": [
    "print(X.shape , y.shape)"
   ]
  },
  {
   "cell_type": "code",
   "execution_count": 4,
   "id": "a058e644",
   "metadata": {},
   "outputs": [
    {
     "data": {
      "image/png": "[encoded data removed]",
      "text/plain": [
       "<Figure size 432x288 with 1 Axes>"
      ]
     },
     "metadata": {
      "needs_background": "light"
     },
     "output_type": "display_data"
    }
   ],
   "source": [
    "plt.scatter(X , y , c=\"blue\")\n",
    "plt.xlabel(\"Feature\")\n",
    "plt.ylabel(\"label / output\")\n",
    "plt.title(\"label vs feature\")\n",
    "plt.show()"
   ]
  },
  {
   "cell_type": "code",
   "execution_count": 7,
   "id": "659b40ed",
   "metadata": {},
   "outputs": [],
   "source": [
    "class KNNregressor:\n",
    "    \n",
    "    def __init(self , k = 3):\n",
    "        self.k = k\n",
    "        \n",
    "    def fit(self , Xtrain , ytrain):\n",
    "        self.xtrain = Xtrain\n",
    "        self.ytrain = ytrain\n",
    "        \n",
    "    def predict(self , Xtest_point):\n",
    "        prediction = np.empty(len(Xtest_point))\n",
    "        idx = []\n",
    "        for i in range(Xtest_point.shape[0]): ## equivalent len(Xtest_point)\n",
    "            distance = np.linalg.norm(Xtest_point[i] - self.xtrain, ord=2, axis=1) \n",
    "           # distance = np.linalg.norm(Xtest_point(i) - self.xtrain , ord = 2 , axis = 1) ## ord = 2 for eucliden distance\n",
    "            knn_idx = np.argsort(distance)[3]\n",
    "            idx.append(knn_idx)\n",
    "            prediction[i] = self.ytrain[idx].mean()\n",
    "        return prediction , idx\n"
   ]
  },
  {
   "cell_type": "code",
   "execution_count": 28,
   "id": "30c85941",
   "metadata": {},
   "outputs": [
    {
     "name": "stdout",
     "output_type": "stream",
     "text": [
      "[[0.45]]\n",
      "[26.67676961] [48]\n"
     ]
    }
   ],
   "source": [
    "model = KNNregressor()\n",
    "model.fit(X, y)\n",
    "test_point = np.array([[0.45]])\n",
    "print(test_point)\n",
    "pred, knn_idx = model.predict(test_point)\n",
    "print(pred, knn_idx)"
   ]
  },
  {
   "cell_type": "code",
   "execution_count": 47,
   "id": "0c176059",
   "metadata": {},
   "outputs": [],
   "source": [
    "class KNNregressor2:\n",
    "    \n",
    "    def __init(self , k=3):\n",
    "        self.k = k\n",
    "        \n",
    "    def fit(self , X , y):\n",
    "        self.xtrain = X\n",
    "        self.ytrain = y\n",
    "        \n",
    "    def predict(self , Xtest):\n",
    "        \n",
    "        predicted = np.empty((len(Xtest)))\n",
    "        idx = []\n",
    "        for i in range(len(Xtest)):\n",
    "            dist = np.linalg.norm(Xtest[i] - self.xtrain , ord = 2 , axis = 1)\n",
    "            knn = np.argsort(dist)[:3]\n",
    "            idx.append(knn)\n",
    "            predicted[i] = self.ytrain[idx].mean()\n",
    "        return predicted , knn"
   ]
  },
  {
   "cell_type": "code",
   "execution_count": 48,
   "id": "3051c7cc",
   "metadata": {},
   "outputs": [
    {
     "name": "stdout",
     "output_type": "stream",
     "text": [
      "[[0.45]]\n",
      "[22.41368721] [34 43 14]\n"
     ]
    },
    {
     "name": "stderr",
     "output_type": "stream",
     "text": [
      "C:\\Users\\SUBHAJ~1\\AppData\\Local\\Temp/ipykernel_14008/596208664.py:18: FutureWarning: Using a non-tuple sequence for multidimensional indexing is deprecated; use `arr[tuple(seq)]` instead of `arr[seq]`. In the future this will be interpreted as an array index, `arr[np.array(seq)]`, which will result either in an error or a different result.\n",
      "  predicted[i] = self.ytrain[idx].mean()\n"
     ]
    }
   ],
   "source": [
    "model2 = KNNregressor2()\n",
    "model2.fit(X , y)\n",
    "xtest = [[0.45]]\n",
    "print(xtest)\n",
    "i , x = model2.predict(xtest)\n",
    "print(i , x)"
   ]
  },
  {
   "cell_type": "code",
   "execution_count": 30,
   "id": "5362811b",
   "metadata": {},
   "outputs": [
    {
     "data": {
      "text/plain": [
       "(numpy.ndarray, numpy.int64, 34)"
      ]
     },
     "execution_count": 30,
     "metadata": {},
     "output_type": "execute_result"
    }
   ],
   "source": [
    "type(x), type(x[0]), x[0]"
   ]
  },
  {
   "cell_type": "code",
   "execution_count": 36,
   "id": "3be031c8",
   "metadata": {},
   "outputs": [
    {
     "data": {
      "image/png": "[encoded data removed]",
      "text/plain": [
       "<Figure size 432x288 with 1 Axes>"
      ]
     },
     "metadata": {
      "needs_background": "light"
     },
     "output_type": "display_data"
    }
   ],
   "source": [
    "plt.scatter(X , y)\n",
    "plt.scatter(xtest , i , c = \"black\")\n",
    "plt.scatter(X[x] , y[x] , c = \"yellow\")\n",
    "plt.xlabel(\"Feature\")\n",
    "plt.ylabel(\"Label/ Output\")\n",
    "plt.title(\"Label vs Feature\")\n",
    "plt.show()"
   ]
  },
  {
   "cell_type": "code",
   "execution_count": 37,
   "id": "e8661158",
   "metadata": {},
   "outputs": [
    {
     "data": {
      "text/plain": [
       "array([[0.54500464],\n",
       "       [0.54820748],\n",
       "       [0.55003505]])"
      ]
     },
     "execution_count": 37,
     "metadata": {},
     "output_type": "execute_result"
    }
   ],
   "source": [
    "idx = [34, 43, 14]\n",
    "X[idx]"
   ]
  },
  {
   "cell_type": "code",
   "execution_count": 38,
   "id": "79e295e8",
   "metadata": {},
   "outputs": [
    {
     "data": {
      "text/plain": [
       "array([32.40155139, 23.15440311, 11.68510712])"
      ]
     },
     "execution_count": 38,
     "metadata": {},
     "output_type": "execute_result"
    }
   ],
   "source": [
    "y[idx]"
   ]
  },
  {
   "cell_type": "markdown",
   "id": "ef1ae745",
   "metadata": {},
   "source": [
    "## Plotting prediction line"
   ]
  },
  {
   "cell_type": "code",
   "execution_count": 59,
   "id": "53666622",
   "metadata": {},
   "outputs": [],
   "source": [
    "class KNNregressor:\n",
    "    \n",
    "    def __init__(self, k=3):\n",
    "        self.k = k\n",
    "        \n",
    "    def fit(self, Xtrain, ytrain):\n",
    "        self.xtrain = Xtrain\n",
    "        self.ytrain = ytrain\n",
    "        \n",
    "    def predict(self, X_test):\n",
    "        prediction = np.empty((len(X_test)))\n",
    "        idx = []\n",
    "        for i in range(len(X_test)):\n",
    "            # compute the distance\n",
    "            distance = np.linalg.norm(X_test[i] - self.xtrain, ord=2, axis=1)\n",
    "            knn_idx = np.argsort(distance)[:self.k]\n",
    "            idx.append(knn_idx)\n",
    "            prediction[i] = self.ytrain[knn_idx].mean()\n",
    "        return prediction, idx"
   ]
  },
  {
   "cell_type": "code",
   "execution_count": 60,
   "id": "3628b7c1",
   "metadata": {},
   "outputs": [],
   "source": [
    "model4 = KNNregressor()\n",
    "model4.fit(X, y)"
   ]
  },
  {
   "cell_type": "code",
   "execution_count": 62,
   "id": "8b6025c5",
   "metadata": {},
   "outputs": [
    {
     "name": "stdout",
     "output_type": "stream",
     "text": [
      "(100, 1)\n",
      "(100,)\n"
     ]
    }
   ],
   "source": [
    "f1 = np.linspace(X[:,0].min() , X[:,0].max() , 100).reshape(-1 ,1)  ## it shape should be same of train data i.e 2d\n",
    "print(f1.shape)\n",
    "predictionn = model4.predict(f1)[0]\n",
    "print(predictionn.shape)\n"
   ]
  },
  {
   "cell_type": "code",
   "execution_count": 66,
   "id": "53891582",
   "metadata": {},
   "outputs": [
    {
     "data": {
      "image/png": "[encoded data removed]",
      "text/plain": [
       "<Figure size 432x288 with 1 Axes>"
      ]
     },
     "metadata": {
      "needs_background": "light"
     },
     "output_type": "display_data"
    }
   ],
   "source": [
    "plt.scatter(X , y)\n",
    "plt.plot(f1 , predictionn , c = \"black\")\n",
    "plt.xlabel(\"Feature\")\n",
    "plt.ylabel(\"Label/ Output\")\n",
    "plt.title(f\"Label vs Feature, (K={model4.k})\")\n",
    "plt.show()\n",
    "\n",
    "## in the plot we have some straight line in btw , that is because\n",
    "## the point of x test have same neighbours that why we get straight line in btw"
   ]
  },
  {
   "cell_type": "code",
   "execution_count": 67,
   "id": "3a7fef5b",
   "metadata": {},
   "outputs": [
    {
     "name": "stdout",
     "output_type": "stream",
     "text": [
      "[-66.62301138 -66.62301138 -66.62301138 -71.74826414 -71.74826414\n",
      " -71.74826414 -71.74826414 -64.37802394 -64.37802394 -53.72437624\n",
      " -53.72437624 -53.72437624 -53.72437624 -43.41394767 -43.41394767\n",
      " -43.41394767 -43.41394767 -46.24815781 -46.24815781 -46.24815781\n",
      " -46.24815781 -44.36000006 -38.86133696 -38.86133696 -37.51337565\n",
      " -40.88666072 -40.88666072 -34.95867951 -34.95867951 -34.95867951\n",
      " -26.92875367 -26.92875367 -26.92875367 -22.14854865 -22.14854865\n",
      " -22.14854865 -18.32270693 -18.32270693 -18.17268219 -18.17268219\n",
      " -18.17268219 -15.95241833 -12.30817672 -12.30817672  -4.62703129\n",
      "  -4.62703129   0.79685187  -0.78516404  -6.38597835  -6.38597835\n",
      "  -7.36760973  -7.36760973  -3.33709998  -5.51102485  -5.51102485\n",
      "   2.6546512    2.6546512    2.6546512   18.1585781   22.41368721\n",
      "  22.41368721  22.41368721  24.03470393  31.97075723  33.33307137\n",
      "  30.87994902  30.87994902  21.22141339  23.81324276  32.60235888\n",
      "  36.84367833  35.17158155  32.65104992  32.65104992  32.65104992\n",
      "  32.65104992  28.36403433  34.64154387  34.64154387  34.64154387\n",
      "  42.15201068  42.15201068  42.15201068  42.15201068  42.15201068\n",
      "  42.15201068  58.08068746  58.08068746  58.08068746  58.08068746\n",
      "  58.08068746  64.42994428  64.42994428  64.42994428  64.42994428\n",
      "  64.42994428  64.42994428  64.42994428  64.42994428  64.42994428]\n"
     ]
    }
   ],
   "source": [
    "print(predictionn)"
   ]
  },
  {
   "cell_type": "code",
   "execution_count": 69,
   "id": "11c3b096",
   "metadata": {},
   "outputs": [],
   "source": [
    "from sklearn.neighbors import KNeighborsClassifier , KNeighborsRegressor"
   ]
  },
  {
   "cell_type": "code",
   "execution_count": 71,
   "id": "94f2c1be",
   "metadata": {},
   "outputs": [
    {
     "name": "stdout",
     "output_type": "stream",
     "text": [
      "[-63.54978048 -63.54978048 -63.54978048 -63.54978048 -63.54978048\n",
      " -63.54978048 -63.54978048 -59.4817957  -59.4817957  -59.4817957\n",
      " -59.4817957  -56.90099784 -56.90099784 -44.1817319  -44.1817319\n",
      " -44.1817319  -44.1817319  -44.89018351 -41.7441446  -41.7441446\n",
      " -41.7441446  -41.7441446  -41.45016547 -41.45016547 -37.83208787\n",
      " -38.52724635 -38.52724635 -35.80937315 -33.15266441 -33.15266441\n",
      " -33.15266441 -28.49957336 -28.49957336 -24.29497191 -24.29497191\n",
      " -19.5242773  -19.5242773  -19.5242773  -17.09581665 -15.52262574\n",
      " -15.52262574 -15.52262574  -9.01136688  -9.01136688  -5.62408137\n",
      "  -5.62408137  -5.09011485  -5.09011485  -3.27150289  -4.31615606\n",
      "  -4.31615606  -7.05622892  -7.05622892  -2.58758259   1.10822167\n",
      "   1.10822167   1.10822167  12.70398162  17.8630489   20.96167957\n",
      "  25.53201326  25.53201326  25.53201326  26.15035638  27.67221817\n",
      "  28.1612862   25.98424384  25.71726167  27.72285871  29.56248143\n",
      "  32.50602481  34.58064063  34.58064063  34.58064063  34.58064063\n",
      "  32.29295637  33.7295358   33.7295358   33.7295358   37.76564004\n",
      "  37.76564004  37.76564004  46.03841992  46.03841992  46.03841992\n",
      "  46.03841992  46.03841992  52.79687242  52.79687242  52.79687242\n",
      "  52.79687242  52.79687242  52.79687242  52.79687242  52.79687242\n",
      "  52.79687242  52.79687242  52.79687242  52.79687242  52.79687242]\n"
     ]
    }
   ],
   "source": [
    "model5 = KNeighborsRegressor()\n",
    "model5.fit(X , y)\n",
    "pred = model5.predict(f1)\n",
    "print(pred)"
   ]
  },
  {
   "cell_type": "code",
   "execution_count": 72,
   "id": "ac5d3482",
   "metadata": {},
   "outputs": [],
   "source": [
    "KNeighborsClassifier?"
   ]
  },
  {
   "cell_type": "code",
   "execution_count": null,
   "id": "38a6fdb2",
   "metadata": {},
   "outputs": [],
   "source": []
  },
  {
   "cell_type": "code",
   "execution_count": null,
   "id": "be3d63ca",
   "metadata": {},
   "outputs": [],
   "source": []
  },
  {
   "cell_type": "code",
   "execution_count": null,
   "id": "8f135b78",
   "metadata": {},
   "outputs": [],
   "source": []
  },
  {
   "cell_type": "code",
   "execution_count": null,
   "id": "15343eda",
   "metadata": {},
   "outputs": [],
   "source": []
  }
 ],
 "metadata": {
  "kernelspec": {
   "display_name": "Python 3 (ipykernel)",
   "language": "python",
   "name": "python3"
  },
  "language_info": {
   "codemirror_mode": {
    "name": "ipython",
    "version": 3
   },
   "file_extension": ".py",
   "mimetype": "text/x-python",
   "name": "python",
   "nbconvert_exporter": "python",
   "pygments_lexer": "ipython3",
   "version": "3.9.7"
  }
 },
 "nbformat": 4,
 "nbformat_minor": 5
}
