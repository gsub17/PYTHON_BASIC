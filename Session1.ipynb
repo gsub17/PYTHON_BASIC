{
 "cells": [
  {
   "cell_type": "code",
   "execution_count": null,
   "id": "35e273f4",
   "metadata": {},
   "outputs": [],
   "source": []
  },
  {
   "cell_type": "markdown",
   "id": "7a7060a6",
   "metadata": {},
   "source": [
    " Keyboard Shortcuts\n",
    "- esc + a \n",
    "- esc + b\n",
    "- esc + dd\n",
    "- esc + m\n",
    "- esc + y"
   ]
  },
  {
   "cell_type": "code",
   "execution_count": 5,
   "id": "a828d29c",
   "metadata": {},
   "outputs": [
    {
     "name": "stdout",
     "output_type": "stream",
     "text": [
      "hi\n"
     ]
    }
   ],
   "source": [
    "## to run a code cell\n",
    "print(\"hi\")"
   ]
  },
  {
   "cell_type": "markdown",
   "id": "89ead26a",
   "metadata": {},
   "source": [
    "## to convert into markdown - esc + m\n",
    "print(\"luffy\")"
   ]
  },
  {
   "cell_type": "markdown",
   "id": "f4ed168b",
   "metadata": {},
   "source": [
    "## heading 2\n",
    "### heading 3\n",
    "#### heading 4\n",
    "**Text in Bold**\n"
   ]
  },
  {
   "cell_type": "markdown",
   "id": "e1cbdcce",
   "metadata": {},
   "source": [
    "## Number list\n",
    "1. yo\n",
    "2. hello\n",
    "3. hachi\n",
    "\n",
    "## Bulleted list\n",
    "- A\n",
    "- B\n",
    "\n",
    "## to break a line\n",
    "hello luffy how are u\n",
    "hello luffy     \n",
    "how are u\n",
    "\n"
   ]
  },
  {
   "cell_type": "code",
   "execution_count": 1,
   "id": "792c3e78",
   "metadata": {},
   "outputs": [
    {
     "name": "stdout",
     "output_type": "stream",
     "text": [
      "hi\n"
     ]
    }
   ],
   "source": [
    "print(\"hi\")"
   ]
  },
  {
   "cell_type": "markdown",
   "id": "74ba56ab",
   "metadata": {},
   "source": [
    "## hello ghosh"
   ]
  },
  {
   "cell_type": "code",
   "execution_count": 1,
   "id": "c0de87ca",
   "metadata": {},
   "outputs": [
    {
     "name": "stdout",
     "output_type": "stream",
     "text": [
      "hello ghosh\n"
     ]
    }
   ],
   "source": [
    "print(\"hello ghosh\")"
   ]
  },
  {
   "cell_type": "code",
   "execution_count": 5,
   "id": "437bfb74",
   "metadata": {},
   "outputs": [
    {
     "name": "stdout",
     "output_type": "stream",
     "text": [
      "23 hello ghosh 54\n"
     ]
    }
   ],
   "source": [
    "a = 23\n",
    "b = 54\n",
    "print(a ,\"hello ghosh\" , b)"
   ]
  },
  {
   "cell_type": "code",
   "execution_count": 22,
   "id": "6d8710a0",
   "metadata": {},
   "outputs": [
    {
     "name": "stdout",
     "output_type": "stream",
     "text": [
      "90@54\n"
     ]
    }
   ],
   "source": [
    "n = 900\n",
    "print( a , b , sep = \"@\")"
   ]
  },
  {
   "cell_type": "code",
   "execution_count": 24,
   "id": "8d9eef6a",
   "metadata": {},
   "outputs": [
    {
     "name": "stdout",
     "output_type": "stream",
     "text": [
      "7666 54 78\n"
     ]
    }
   ],
   "source": [
    "c = 78\n",
    "a = 7666\n",
    "print(a , b ,c)"
   ]
  },
  {
   "cell_type": "code",
   "execution_count": 36,
   "id": "42bb222b",
   "metadata": {},
   "outputs": [
    {
     "name": "stdout",
     "output_type": "stream",
     "text": [
      "line 1  string 4\n",
      "ghoshy\n"
     ]
    }
   ],
   "source": [
    "print(\"line 1\", \" string 4\" )\n",
    "print(\"ghoshy\")"
   ]
  },
  {
   "cell_type": "code",
   "execution_count": 34,
   "id": "2e5154e0",
   "metadata": {},
   "outputs": [
    {
     "name": "stdout",
     "output_type": "stream",
     "text": [
      "line 1  string 4\n",
      "ghoshy\n"
     ]
    }
   ],
   "source": [
    "print(\"line 1\", \" string 4\" , end = \"\\n\" )\n",
    "print(\"ghoshy\")"
   ]
  },
  {
   "cell_type": "code",
   "execution_count": 35,
   "id": "67f6c354",
   "metadata": {},
   "outputs": [
    {
     "name": "stdout",
     "output_type": "stream",
     "text": [
      "line 1  string 4\tghoshy\n"
     ]
    }
   ],
   "source": [
    "print(\"line 1\", \" string 4\" , end = \"\\t\" )\n",
    "print(\"ghoshy\")"
   ]
  },
  {
   "cell_type": "code",
   "execution_count": 38,
   "id": "4d02c904",
   "metadata": {},
   "outputs": [
    {
     "name": "stdout",
     "output_type": "stream",
     "text": [
      " ghoshy \n"
     ]
    }
   ],
   "source": [
    "name = \" ghoshy \"\n",
    "print(name)"
   ]
  },
  {
   "cell_type": "markdown",
   "id": "e2468ae5",
   "metadata": {},
   "source": [
    "## Variable , Data types , type() function\n",
    "- int\n",
    "- float\n",
    "- str\n",
    "- boolean"
   ]
  },
  {
   "cell_type": "code",
   "execution_count": 40,
   "id": "aab6d9a7",
   "metadata": {},
   "outputs": [
    {
     "name": "stdout",
     "output_type": "stream",
     "text": [
      "ghosh 23\n",
      "<class 'int'>\n"
     ]
    }
   ],
   "source": [
    "a = 23\n",
    "name = \"ghosh\"\n",
    "print(name , a)\n",
    "print(type (a))"
   ]
  },
  {
   "cell_type": "code",
   "execution_count": 41,
   "id": "b5a1d469",
   "metadata": {},
   "outputs": [
    {
     "name": "stdout",
     "output_type": "stream",
     "text": [
      "ghosh ghosh3\n",
      "<class 'str'> <class 'str'>\n"
     ]
    }
   ],
   "source": [
    "name = \"ghosh\"\n",
    "name1 = 'ghosh3'\n",
    "print(name , name1)\n",
    "print(type(name) , type(name1))"
   ]
  },
  {
   "cell_type": "code",
   "execution_count": 43,
   "id": "7d7de12f",
   "metadata": {},
   "outputs": [
    {
     "name": "stdout",
     "output_type": "stream",
     "text": [
      "hello \n",
      "gandu \n",
      "ghosh\n"
     ]
    }
   ],
   "source": [
    "## multilineString\n",
    "name = \"\"\"hello \n",
    "gandu \n",
    "ghosh\"\"\"\n",
    "print(name)"
   ]
  },
  {
   "cell_type": "code",
   "execution_count": 46,
   "id": "1ca14e55",
   "metadata": {},
   "outputs": [
    {
     "data": {
      "text/plain": [
       "bool"
      ]
     },
     "execution_count": 46,
     "metadata": {},
     "output_type": "execute_result"
    }
   ],
   "source": [
    "flag = True\n",
    "flag2 = False\n",
    "type(flag)"
   ]
  },
  {
   "cell_type": "markdown",
   "id": "4b33f98a",
   "metadata": {},
   "source": [
    "## ARITHMETIC OPERATOR\n",
    "- ADD\n",
    "- SUB\n",
    "- DIVISION\n",
    "- MODULO\n"
   ]
  },
  {
   "cell_type": "code",
   "execution_count": 51,
   "id": "6eeb4b5a",
   "metadata": {},
   "outputs": [],
   "source": [
    "a = 9\n",
    "b = 7\n"
   ]
  },
  {
   "cell_type": "code",
   "execution_count": 52,
   "id": "d64c43df",
   "metadata": {},
   "outputs": [
    {
     "data": {
      "text/plain": [
       "16"
      ]
     },
     "execution_count": 52,
     "metadata": {},
     "output_type": "execute_result"
    }
   ],
   "source": [
    "a+b"
   ]
  },
  {
   "cell_type": "code",
   "execution_count": 53,
   "id": "b6da5cd3",
   "metadata": {},
   "outputs": [
    {
     "data": {
      "text/plain": [
       "2"
      ]
     },
     "execution_count": 53,
     "metadata": {},
     "output_type": "execute_result"
    }
   ],
   "source": [
    "a-b"
   ]
  },
  {
   "cell_type": "code",
   "execution_count": 54,
   "id": "0e3f447b",
   "metadata": {},
   "outputs": [],
   "source": [
    "a = 5\n",
    "b = 4"
   ]
  },
  {
   "cell_type": "code",
   "execution_count": 55,
   "id": "e46c9237",
   "metadata": {},
   "outputs": [
    {
     "data": {
      "text/plain": [
       "3"
      ]
     },
     "execution_count": 55,
     "metadata": {},
     "output_type": "execute_result"
    }
   ],
   "source": [
    "-5%4"
   ]
  },
  {
   "cell_type": "code",
   "execution_count": 56,
   "id": "49a35b73",
   "metadata": {},
   "outputs": [
    {
     "data": {
      "text/plain": [
       "2"
      ]
     },
     "execution_count": 56,
     "metadata": {},
     "output_type": "execute_result"
    }
   ],
   "source": [
    "7//3  ## floor division"
   ]
  },
  {
   "cell_type": "code",
   "execution_count": 58,
   "id": "0afc351c",
   "metadata": {},
   "outputs": [
    {
     "name": "stdout",
     "output_type": "stream",
     "text": [
      "64 8\n"
     ]
    }
   ],
   "source": [
    "## a**b\n",
    "print(4**3 , 2**3)"
   ]
  },
  {
   "cell_type": "code",
   "execution_count": null,
   "id": "fed8abcc",
   "metadata": {},
   "outputs": [],
   "source": []
  }
 ],
 "metadata": {
  "kernelspec": {
   "display_name": "Python 3 (ipykernel)",
   "language": "python",
   "name": "python3"
  },
  "language_info": {
   "codemirror_mode": {
    "name": "ipython",
    "version": 3
   },
   "file_extension": ".py",
   "mimetype": "text/x-python",
   "name": "python",
   "nbconvert_exporter": "python",
   "pygments_lexer": "ipython3",
   "version": "3.9.7"
  }
 },
 "nbformat": 4,
 "nbformat_minor": 5
}
