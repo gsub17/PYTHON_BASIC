{
 "cells": [
  {
   "cell_type": "code",
   "execution_count": null,
   "id": "35e273f4",
   "metadata": {},
   "outputs": [],
   "source": []
  },
  {
   "cell_type": "markdown",
   "id": "7a7060a6",
   "metadata": {},
   "source": [
    " Keyboard Shortcuts\n",
    "- esc + a \n",
    "- esc + b\n",
    "- esc + dd\n",
    "- esc + m\n",
    "- esc + y"
   ]
  },
  {
   "cell_type": "code",
   "execution_count": 5,
   "id": "a828d29c",
   "metadata": {},
   "outputs": [
    {
     "name": "stdout",
     "output_type": "stream",
     "text": [
      "hi\n"
     ]
    }
   ],
   "source": [
    "## to run a code cell\n",
    "print(\"hi\")"
   ]
  },
  {
   "cell_type": "markdown",
   "id": "89ead26a",
   "metadata": {},
   "source": [
    "## to convert into markdown - esc + m\n",
    "print(\"luffy\")"
   ]
  },
  {
   "cell_type": "markdown",
   "id": "f4ed168b",
   "metadata": {},
   "source": [
    "## heading 2\n",
    "### heading 3\n",
    "#### heading 4\n",
    "**Text in Bold**\n"
   ]
  },
  {
   "cell_type": "markdown",
   "id": "e1cbdcce",
   "metadata": {},
   "source": [
    "## Number list\n",
    "1. yo\n",
    "2. hello\n",
    "3. hachi\n",
    "\n",
    "## Bulleted list\n",
    "- A\n",
    "- B\n",
    "\n",
    "## to break a line\n",
    "hello luffy how are u\n",
    "hello luffy     \n",
    "how are u\n",
    "\n"
   ]
  },
  {
   "cell_type": "code",
   "execution_count": null,
   "id": "792c3e78",
   "metadata": {},
   "outputs": [],
   "source": []
  },
  {
   "cell_type": "code",
   "execution_count": null,
   "id": "b0757473",
   "metadata": {},
   "outputs": [],
   "source": []
  },
  {
   "cell_type": "code",
   "execution_count": null,
   "id": "c0de87ca",
   "metadata": {},
   "outputs": [],
   "source": []
  }
 ],
 "metadata": {
  "kernelspec": {
   "display_name": "Python 3 (ipykernel)",
   "language": "python",
   "name": "python3"
  },
  "language_info": {
   "codemirror_mode": {
    "name": "ipython",
    "version": 3
   },
   "file_extension": ".py",
   "mimetype": "text/x-python",
   "name": "python",
   "nbconvert_exporter": "python",
   "pygments_lexer": "ipython3",
   "version": "3.9.7"
  }
 },
 "nbformat": 4,
 "nbformat_minor": 5
}
