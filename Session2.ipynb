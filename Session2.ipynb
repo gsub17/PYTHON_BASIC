{
 "cells": [
  {
   "cell_type": "markdown",
   "id": "9be6dcd0",
   "metadata": {},
   "source": [
    "## Taking input from User and Type Casting\n",
    "write a program to take input from user to add "
   ]
  },
  {
   "cell_type": "code",
   "execution_count": 3,
   "id": "f81da36e",
   "metadata": {},
   "outputs": [
    {
     "name": "stdout",
     "output_type": "stream",
     "text": [
      "Enter first number 10\n",
      "Enter second number 20\n",
      "The sum of a and b 1020\n"
     ]
    }
   ],
   "source": [
    "a = input(\"Enter first number \")\n",
    "b = input(\"Enter second number \")\n",
    "print(\"The sum of a and b\" , a+b)"
   ]
  },
  {
   "cell_type": "code",
   "execution_count": 4,
   "id": "c777e0fd",
   "metadata": {},
   "outputs": [
    {
     "data": {
      "text/plain": [
       "str"
      ]
     },
     "execution_count": 4,
     "metadata": {},
     "output_type": "execute_result"
    }
   ],
   "source": [
    "type(a)"
   ]
  },
  {
   "cell_type": "code",
   "execution_count": 5,
   "id": "81b9d542",
   "metadata": {},
   "outputs": [
    {
     "data": {
      "text/plain": [
       "str"
      ]
     },
     "execution_count": 5,
     "metadata": {},
     "output_type": "execute_result"
    }
   ],
   "source": [
    "type(b)"
   ]
  },
  {
   "cell_type": "code",
   "execution_count": 6,
   "id": "1148f274",
   "metadata": {},
   "outputs": [
    {
     "data": {
      "text/plain": [
       "'435789'"
      ]
     },
     "execution_count": 6,
     "metadata": {},
     "output_type": "execute_result"
    }
   ],
   "source": [
    "s1  = \"435\"\n",
    "s2 = \"789\"\n",
    "s1 + s2"
   ]
  },
  {
   "cell_type": "code",
   "execution_count": 7,
   "id": "9b6142b3",
   "metadata": {},
   "outputs": [
    {
     "name": "stdout",
     "output_type": "stream",
     "text": [
      "435789\n"
     ]
    }
   ],
   "source": [
    "s1  = \"435\"\n",
    "s2 = \"789\"\n",
    "print(s1 + s2)"
   ]
  },
  {
   "cell_type": "code",
   "execution_count": 8,
   "id": "3812d279",
   "metadata": {},
   "outputs": [
    {
     "data": {
      "text/plain": [
       "30"
      ]
     },
     "execution_count": 8,
     "metadata": {},
     "output_type": "execute_result"
    }
   ],
   "source": [
    "a = int(a)\n",
    "b = int(b)\n",
    "a+b"
   ]
  },
  {
   "cell_type": "code",
   "execution_count": 9,
   "id": "5a7e5fb1",
   "metadata": {},
   "outputs": [
    {
     "name": "stdout",
     "output_type": "stream",
     "text": [
      "30\n"
     ]
    }
   ],
   "source": [
    "a = int(a)\n",
    "b = int(b)\n",
    "print(a+b)"
   ]
  },
  {
   "cell_type": "code",
   "execution_count": 11,
   "id": "8754ba26",
   "metadata": {},
   "outputs": [
    {
     "name": "stdout",
     "output_type": "stream",
     "text": [
      "Enter a number30\n",
      "Enter a second number40\n",
      "70\n"
     ]
    }
   ],
   "source": [
    "a = int(input(\"Enter a number\"))\n",
    "b = int(input(\"Enter a second number\"))\n",
    "print(a + b)"
   ]
  },
  {
   "cell_type": "code",
   "execution_count": 12,
   "id": "ba5bd5d2",
   "metadata": {},
   "outputs": [
    {
     "data": {
      "text/plain": [
       "int"
      ]
     },
     "execution_count": 12,
     "metadata": {},
     "output_type": "execute_result"
    }
   ],
   "source": [
    "type(a)"
   ]
  },
  {
   "cell_type": "code",
   "execution_count": null,
   "id": "ba4b3108",
   "metadata": {},
   "outputs": [],
   "source": [
    "## shortcut for comment/uncomment -> ctrl + /\n",
    "# a = 23\n",
    "# b = 45"
   ]
  },
  {
   "cell_type": "code",
   "execution_count": 13,
   "id": "b994f42e",
   "metadata": {},
   "outputs": [
    {
     "name": "stdout",
     "output_type": "stream",
     "text": [
      "23 <class 'int'>\n",
      "23 <class 'str'>\n"
     ]
    }
   ],
   "source": [
    "## to convert int to string\n",
    "a = 23\n",
    "print(a , type(a))\n",
    "a = str(a)\n",
    "print(a , type(a))"
   ]
  },
  {
   "cell_type": "markdown",
   "id": "c00f94ac",
   "metadata": {},
   "source": [
    "## String Formatting\n",
    "- Concatenation using +\n",
    "- format()\n",
    "- %()\n",
    "- f strings"
   ]
  },
  {
   "cell_type": "code",
   "execution_count": null,
   "id": "62f376a0",
   "metadata": {},
   "outputs": [],
   "source": [
    "# Expected output -> \"My name is subhajit . I am doing my post graduates from IIITG\"\n"
   ]
  },
  {
   "cell_type": "code",
   "execution_count": 14,
   "id": "b1d128ed",
   "metadata": {},
   "outputs": [
    {
     "name": "stdout",
     "output_type": "stream",
     "text": [
      "Enter your nameluffy\n",
      "Enter your college nameonepiece\n",
      "My name is luffy. I am doing my post graduation from onepiece\n"
     ]
    }
   ],
   "source": [
    "name = str(input(\"Enter your name\"))\n",
    "college = str(input(\"Enter your college name\"))\n",
    "print(\"My name is \"+ name + \". I am doing my post graduation from \" + college)"
   ]
  },
  {
   "cell_type": "code",
   "execution_count": 15,
   "id": "463bcae8",
   "metadata": {},
   "outputs": [],
   "source": [
    "name = \"subhajit\"\n",
    "college = \" IIIT Guwahati\"\n"
   ]
  },
  {
   "cell_type": "code",
   "execution_count": 16,
   "id": "d99710b6",
   "metadata": {},
   "outputs": [
    {
     "name": "stdout",
     "output_type": "stream",
     "text": [
      "My name is subhajit , I am doing my post graduation form  IIIT Guwahati\n"
     ]
    }
   ],
   "source": [
    "s = \"My name is {} , I am doing my post graduation form {}\".format(name , college)\n",
    "print(s)"
   ]
  },
  {
   "cell_type": "code",
   "execution_count": 17,
   "id": "7457fbfa",
   "metadata": {},
   "outputs": [
    {
     "name": "stdout",
     "output_type": "stream",
     "text": [
      "My name is subhajit , I am doing my post graduation form  IIIT Guwahati\n"
     ]
    }
   ],
   "source": [
    "s = \"My name is {a} , I am doing my post graduation form {b}\".format(a=name , b=college)\n",
    "print(s)"
   ]
  },
  {
   "cell_type": "code",
   "execution_count": 18,
   "id": "9eea7b87",
   "metadata": {},
   "outputs": [
    {
     "name": "stdout",
     "output_type": "stream",
     "text": [
      "My name is subhajit , I am doing my post graduation form  IIIT Guwahati\n"
     ]
    }
   ],
   "source": [
    "s = f\"My name is {name} , I am doing my post graduation form {college}\"\n",
    "print(s)"
   ]
  },
  {
   "cell_type": "markdown",
   "id": "5cf2861d",
   "metadata": {},
   "source": [
    "## Comparison Operators\n",
    "<= >= > < == !="
   ]
  },
  {
   "cell_type": "code",
   "execution_count": 20,
   "id": "4b773145",
   "metadata": {},
   "outputs": [
    {
     "name": "stdout",
     "output_type": "stream",
     "text": [
      "False\n"
     ]
    }
   ],
   "source": [
    "a = 23\n",
    "b = 45\n",
    "print(a >= b)"
   ]
  },
  {
   "cell_type": "code",
   "execution_count": 21,
   "id": "f9b75895",
   "metadata": {},
   "outputs": [
    {
     "data": {
      "text/plain": [
       "False"
      ]
     },
     "execution_count": 21,
     "metadata": {},
     "output_type": "execute_result"
    }
   ],
   "source": [
    "a = 23\n",
    "b = 45\n",
    "a >= b"
   ]
  },
  {
   "cell_type": "code",
   "execution_count": null,
   "id": "d7f5963e",
   "metadata": {},
   "outputs": [],
   "source": []
  },
  {
   "cell_type": "code",
   "execution_count": null,
   "id": "a22cf92b",
   "metadata": {},
   "outputs": [],
   "source": []
  }
 ],
 "metadata": {
  "kernelspec": {
   "display_name": "Python 3 (ipykernel)",
   "language": "python",
   "name": "python3"
  },
  "language_info": {
   "codemirror_mode": {
    "name": "ipython",
    "version": 3
   },
   "file_extension": ".py",
   "mimetype": "text/x-python",
   "name": "python",
   "nbconvert_exporter": "python",
   "pygments_lexer": "ipython3",
   "version": "3.9.7"
  }
 },
 "nbformat": 4,
 "nbformat_minor": 5
}
