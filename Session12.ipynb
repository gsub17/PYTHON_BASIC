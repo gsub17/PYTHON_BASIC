{
 "cells": [
  {
   "cell_type": "markdown",
   "id": "0a6b916c",
   "metadata": {},
   "source": [
    "# OOPS"
   ]
  },
  {
   "cell_type": "code",
   "execution_count": 18,
   "id": "a383106c",
   "metadata": {},
   "outputs": [],
   "source": [
    "class myclass:\n",
    "    \n",
    "    var = 20\n",
    "    \n",
    "    def func(self):  ## u can write anything here in case of self like felt\n",
    "        print(self.var)\n",
    "         \n",
    "    def func2(felt):  # we need declare a reference inside the func2 method so that python can call it implicitly\n",
    "                      # felt is the refernce of the object\n",
    "        print(felt.var)\n",
    "        print(\"hello\")\n",
    "        \n",
    "    def x(self):\n",
    "        print(\"y\")"
   ]
  },
  {
   "cell_type": "code",
   "execution_count": 20,
   "id": "a8abe5fa",
   "metadata": {},
   "outputs": [],
   "source": [
    "a = myclass()"
   ]
  },
  {
   "cell_type": "code",
   "execution_count": 3,
   "id": "7bdd4c42",
   "metadata": {},
   "outputs": [
    {
     "data": {
      "text/plain": [
       "__main__.myclass"
      ]
     },
     "execution_count": 3,
     "metadata": {},
     "output_type": "execute_result"
    }
   ],
   "source": [
    "type(a)"
   ]
  },
  {
   "cell_type": "code",
   "execution_count": 4,
   "id": "1455a2e8",
   "metadata": {},
   "outputs": [
    {
     "name": "stdout",
     "output_type": "stream",
     "text": [
      "20\n"
     ]
    }
   ],
   "source": [
    "a.func()"
   ]
  },
  {
   "cell_type": "code",
   "execution_count": 5,
   "id": "ff07ee98",
   "metadata": {},
   "outputs": [
    {
     "data": {
      "text/plain": [
       "20"
      ]
     },
     "execution_count": 5,
     "metadata": {},
     "output_type": "execute_result"
    }
   ],
   "source": [
    "a.var"
   ]
  },
  {
   "cell_type": "code",
   "execution_count": 12,
   "id": "1547f8c0",
   "metadata": {},
   "outputs": [
    {
     "name": "stdout",
     "output_type": "stream",
     "text": [
      "20\n",
      "hello\n"
     ]
    }
   ],
   "source": [
    "a.func2()\n"
   ]
  },
  {
   "cell_type": "code",
   "execution_count": 21,
   "id": "aa29cdf3",
   "metadata": {},
   "outputs": [
    {
     "name": "stdout",
     "output_type": "stream",
     "text": [
      "y\n"
     ]
    }
   ],
   "source": [
    "a.x()"
   ]
  },
  {
   "cell_type": "code",
   "execution_count": 22,
   "id": "2eb8e772",
   "metadata": {},
   "outputs": [],
   "source": [
    "class Dog:\n",
    "    \n",
    "    kind = \"canine\" # class variable: shared among all objects of class\n",
    "    \n",
    "    def __init__(self, breed, name, age):\n",
    "        self.breed = breed # instance variable\n",
    "        self.name = name # istance variable\n",
    "        self.age = age # instance variable\n",
    "        \n",
    "    def bark(self):\n",
    "        print(f\"{self.name} is barking\")"
   ]
  },
  {
   "cell_type": "code",
   "execution_count": 24,
   "id": "8ea3245e",
   "metadata": {},
   "outputs": [],
   "source": [
    "d = Dog(\"xoro\" , \"zoro\" , 12)"
   ]
  },
  {
   "cell_type": "code",
   "execution_count": 31,
   "id": "5a43823b",
   "metadata": {},
   "outputs": [
    {
     "name": "stdout",
     "output_type": "stream",
     "text": [
      "zoro is barking\n",
      "canine\n"
     ]
    },
    {
     "data": {
      "text/plain": [
       "'canine'"
      ]
     },
     "execution_count": 31,
     "metadata": {},
     "output_type": "execute_result"
    }
   ],
   "source": [
    "d.bark()\n",
    "print(d.kind)\n",
    "Dog.kind"
   ]
  },
  {
   "cell_type": "code",
   "execution_count": 26,
   "id": "13d7c5b8",
   "metadata": {},
   "outputs": [],
   "source": [
    "d2 = Dog(\"poro\" , \"poro\" , 13)"
   ]
  },
  {
   "cell_type": "code",
   "execution_count": 27,
   "id": "62ae9c7a",
   "metadata": {},
   "outputs": [
    {
     "name": "stdout",
     "output_type": "stream",
     "text": [
      "poro is barking\n"
     ]
    }
   ],
   "source": [
    "d2.bark()"
   ]
  },
  {
   "cell_type": "code",
   "execution_count": 36,
   "id": "6ce65ff8",
   "metadata": {},
   "outputs": [],
   "source": [
    "class A:\n",
    "    var1 = 20 # class variable\n",
    "    \n",
    "    def __init__(self , val):\n",
    "        self.val = val # instance variable\n",
    "        "
   ]
  },
  {
   "cell_type": "code",
   "execution_count": 38,
   "id": "9fc9ec7a",
   "metadata": {},
   "outputs": [
    {
     "name": "stdout",
     "output_type": "stream",
     "text": [
      "20 10\n"
     ]
    }
   ],
   "source": [
    "a = A(10)\n",
    "print(a.var1 , a.val)"
   ]
  },
  {
   "cell_type": "code",
   "execution_count": 39,
   "id": "585971a6",
   "metadata": {},
   "outputs": [
    {
     "data": {
      "text/plain": [
       "10"
      ]
     },
     "execution_count": 39,
     "metadata": {},
     "output_type": "execute_result"
    }
   ],
   "source": [
    "a.val"
   ]
  },
  {
   "cell_type": "code",
   "execution_count": 45,
   "id": "bfc40ef3",
   "metadata": {},
   "outputs": [],
   "source": [
    "b = A(90)"
   ]
  },
  {
   "cell_type": "code",
   "execution_count": 43,
   "id": "675198e6",
   "metadata": {},
   "outputs": [
    {
     "name": "stdout",
     "output_type": "stream",
     "text": [
      "40\n"
     ]
    }
   ],
   "source": [
    "a.val = 40\n",
    "print(a.val)"
   ]
  },
  {
   "cell_type": "code",
   "execution_count": 46,
   "id": "6ebfa5c0",
   "metadata": {},
   "outputs": [
    {
     "name": "stdout",
     "output_type": "stream",
     "text": [
      "10 20 20\n"
     ]
    }
   ],
   "source": [
    "a.var1 = 10\n",
    "print(a.var1 , b.var1 , A.var1)"
   ]
  },
  {
   "cell_type": "markdown",
   "id": "b64c8bc2",
   "metadata": {},
   "source": [
    "## Inheritance"
   ]
  },
  {
   "cell_type": "code",
   "execution_count": 12,
   "id": "34ceaf55",
   "metadata": {},
   "outputs": [],
   "source": [
    "class Shape():\n",
    "    \n",
    "    def __init__(self,side):\n",
    "        self.side = side\n",
    "        \n",
    "    def perimeter(self):\n",
    "        print(f\"the perimeter of the shape is: {self.side}\")"
   ]
  },
  {
   "cell_type": "code",
   "execution_count": 13,
   "id": "a5c998a3",
   "metadata": {},
   "outputs": [],
   "source": [
    "class Triangle(Shape):\n",
    "    pass"
   ]
  },
  {
   "cell_type": "code",
   "execution_count": 14,
   "id": "81ae249d",
   "metadata": {},
   "outputs": [],
   "source": [
    "t = Triangle(7)"
   ]
  },
  {
   "cell_type": "code",
   "execution_count": 15,
   "id": "1474a858",
   "metadata": {},
   "outputs": [
    {
     "name": "stdout",
     "output_type": "stream",
     "text": [
      "the perimeter of the shape is: 7\n"
     ]
    }
   ],
   "source": [
    "t.perimeter()"
   ]
  },
  {
   "cell_type": "code",
   "execution_count": 22,
   "id": "029b7fb5",
   "metadata": {},
   "outputs": [],
   "source": [
    "def shape():\n",
    "    \n",
    "    def __init__(self , size):\n",
    "        self.size = size\n",
    "        \n",
    "        \n",
    "    def perimeter(self):\n",
    "         # perimeter of equilateral triangle\n",
    "        print(f\"perimeter is {3 * self.size}\")"
   ]
  },
  {
   "cell_type": "code",
   "execution_count": 28,
   "id": "efc6716b",
   "metadata": {},
   "outputs": [],
   "source": [
    "def triangle(shape):\n",
    "    \n",
    "    def __init__(self , size):\n",
    "        self.side = side\n",
    "        self.perimeter = 3 * self.side\n",
    "        "
   ]
  },
  {
   "cell_type": "code",
   "execution_count": 37,
   "id": "ed5764b5",
   "metadata": {},
   "outputs": [
    {
     "ename": "AttributeError",
     "evalue": "'NoneType' object has no attribute 'size'",
     "output_type": "error",
     "traceback": [
      "\u001b[1;31m---------------------------------------------------------------------------\u001b[0m",
      "\u001b[1;31mAttributeError\u001b[0m                            Traceback (most recent call last)",
      "\u001b[1;32mC:\\Users\\SUBHAJ~1\\AppData\\Local\\Temp/ipykernel_10004/1738924187.py\u001b[0m in \u001b[0;36m<module>\u001b[1;34m\u001b[0m\n\u001b[0;32m      1\u001b[0m \u001b[0mt\u001b[0m \u001b[1;33m=\u001b[0m \u001b[0mtriangle\u001b[0m\u001b[1;33m(\u001b[0m\u001b[1;36m7\u001b[0m\u001b[1;33m)\u001b[0m\u001b[1;33m\u001b[0m\u001b[1;33m\u001b[0m\u001b[0m\n\u001b[1;32m----> 2\u001b[1;33m \u001b[0mprint\u001b[0m\u001b[1;33m(\u001b[0m\u001b[0mt\u001b[0m\u001b[1;33m.\u001b[0m\u001b[0msize\u001b[0m \u001b[1;33m,\u001b[0m \u001b[0mt\u001b[0m\u001b[1;33m.\u001b[0m\u001b[0mperimeter\u001b[0m\u001b[1;33m)\u001b[0m\u001b[1;33m\u001b[0m\u001b[1;33m\u001b[0m\u001b[0m\n\u001b[0m",
      "\u001b[1;31mAttributeError\u001b[0m: 'NoneType' object has no attribute 'size'"
     ]
    }
   ],
   "source": [
    "t = triangle(7)\n",
    "print(t.size , t.perimeter)"
   ]
  },
  {
   "cell_type": "code",
   "execution_count": null,
   "id": "bfb2c0c2",
   "metadata": {},
   "outputs": [],
   "source": []
  },
  {
   "cell_type": "code",
   "execution_count": null,
   "id": "54e42dd4",
   "metadata": {},
   "outputs": [],
   "source": []
  },
  {
   "cell_type": "code",
   "execution_count": null,
   "id": "1bac03d4",
   "metadata": {},
   "outputs": [],
   "source": []
  }
 ],
 "metadata": {
  "kernelspec": {
   "display_name": "Python 3 (ipykernel)",
   "language": "python",
   "name": "python3"
  },
  "language_info": {
   "codemirror_mode": {
    "name": "ipython",
    "version": 3
   },
   "file_extension": ".py",
   "mimetype": "text/x-python",
   "name": "python",
   "nbconvert_exporter": "python",
   "pygments_lexer": "ipython3",
   "version": "3.9.7"
  }
 },
 "nbformat": 4,
 "nbformat_minor": 5
}
