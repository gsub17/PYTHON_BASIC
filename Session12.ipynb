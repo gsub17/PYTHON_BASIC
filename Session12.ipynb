{
 "cells": [
  {
   "cell_type": "markdown",
   "id": "0a6b916c",
   "metadata": {},
   "source": [
    "# OOPS"
   ]
  },
  {
   "cell_type": "code",
   "execution_count": 18,
   "id": "a383106c",
   "metadata": {},
   "outputs": [],
   "source": [
    "class myclass:\n",
    "    \n",
    "    var = 20\n",
    "    \n",
    "    def func(self):  ## u can write anything here in case of self like felt\n",
    "        print(self.var)\n",
    "         \n",
    "    def func2(felt):  # we need declare a reference inside the func2 method so that python can call it implicitly\n",
    "                      # felt is the refernce of the object\n",
    "        print(felt.var)\n",
    "        print(\"hello\")\n",
    "        \n",
    "    def x(self):\n",
    "        print(\"y\")"
   ]
  },
  {
   "cell_type": "code",
   "execution_count": 20,
   "id": "a8abe5fa",
   "metadata": {},
   "outputs": [],
   "source": [
    "a = myclass()"
   ]
  },
  {
   "cell_type": "code",
   "execution_count": 3,
   "id": "7bdd4c42",
   "metadata": {},
   "outputs": [
    {
     "data": {
      "text/plain": [
       "__main__.myclass"
      ]
     },
     "execution_count": 3,
     "metadata": {},
     "output_type": "execute_result"
    }
   ],
   "source": [
    "type(a)"
   ]
  },
  {
   "cell_type": "code",
   "execution_count": 4,
   "id": "1455a2e8",
   "metadata": {},
   "outputs": [
    {
     "name": "stdout",
     "output_type": "stream",
     "text": [
      "20\n"
     ]
    }
   ],
   "source": [
    "a.func()"
   ]
  },
  {
   "cell_type": "code",
   "execution_count": 5,
   "id": "ff07ee98",
   "metadata": {},
   "outputs": [
    {
     "data": {
      "text/plain": [
       "20"
      ]
     },
     "execution_count": 5,
     "metadata": {},
     "output_type": "execute_result"
    }
   ],
   "source": [
    "a.var"
   ]
  },
  {
   "cell_type": "code",
   "execution_count": 12,
   "id": "1547f8c0",
   "metadata": {},
   "outputs": [
    {
     "name": "stdout",
     "output_type": "stream",
     "text": [
      "20\n",
      "hello\n"
     ]
    }
   ],
   "source": [
    "a.func2()\n"
   ]
  },
  {
   "cell_type": "code",
   "execution_count": 21,
   "id": "aa29cdf3",
   "metadata": {},
   "outputs": [
    {
     "name": "stdout",
     "output_type": "stream",
     "text": [
      "y\n"
     ]
    }
   ],
   "source": [
    "a.x()"
   ]
  },
  {
   "cell_type": "code",
   "execution_count": 22,
   "id": "2eb8e772",
   "metadata": {},
   "outputs": [],
   "source": [
    "class Dog:\n",
    "    \n",
    "    kind = \"canine\" # class variable: shared among all objects of class\n",
    "    \n",
    "    def __init__(self, breed, name, age):\n",
    "        self.breed = breed # instance variable\n",
    "        self.name = name # istance variable\n",
    "        self.age = age # instance variable\n",
    "        \n",
    "    def bark(self):\n",
    "        print(f\"{self.name} is barking\")"
   ]
  },
  {
   "cell_type": "code",
   "execution_count": 24,
   "id": "8ea3245e",
   "metadata": {},
   "outputs": [],
   "source": [
    "d = Dog(\"xoro\" , \"zoro\" , 12)"
   ]
  },
  {
   "cell_type": "code",
   "execution_count": 31,
   "id": "5a43823b",
   "metadata": {},
   "outputs": [
    {
     "name": "stdout",
     "output_type": "stream",
     "text": [
      "zoro is barking\n",
      "canine\n"
     ]
    },
    {
     "data": {
      "text/plain": [
       "'canine'"
      ]
     },
     "execution_count": 31,
     "metadata": {},
     "output_type": "execute_result"
    }
   ],
   "source": [
    "d.bark()\n",
    "print(d.kind)\n",
    "Dog.kind"
   ]
  },
  {
   "cell_type": "code",
   "execution_count": 26,
   "id": "13d7c5b8",
   "metadata": {},
   "outputs": [],
   "source": [
    "d2 = Dog(\"poro\" , \"poro\" , 13)"
   ]
  },
  {
   "cell_type": "code",
   "execution_count": 27,
   "id": "62ae9c7a",
   "metadata": {},
   "outputs": [
    {
     "name": "stdout",
     "output_type": "stream",
     "text": [
      "poro is barking\n"
     ]
    }
   ],
   "source": [
    "d2.bark()"
   ]
  },
  {
   "cell_type": "code",
   "execution_count": 36,
   "id": "6ce65ff8",
   "metadata": {},
   "outputs": [],
   "source": [
    "class A:\n",
    "    var1 = 20 # class variable\n",
    "    \n",
    "    def __init__(self , val):\n",
    "        self.val = val # instance variable\n",
    "        "
   ]
  },
  {
   "cell_type": "code",
   "execution_count": 38,
   "id": "9fc9ec7a",
   "metadata": {},
   "outputs": [
    {
     "name": "stdout",
     "output_type": "stream",
     "text": [
      "20 10\n"
     ]
    }
   ],
   "source": [
    "a = A(10)\n",
    "print(a.var1 , a.val)"
   ]
  },
  {
   "cell_type": "code",
   "execution_count": 39,
   "id": "585971a6",
   "metadata": {},
   "outputs": [
    {
     "data": {
      "text/plain": [
       "10"
      ]
     },
     "execution_count": 39,
     "metadata": {},
     "output_type": "execute_result"
    }
   ],
   "source": [
    "a.val"
   ]
  },
  {
   "cell_type": "code",
   "execution_count": 45,
   "id": "bfc40ef3",
   "metadata": {},
   "outputs": [],
   "source": [
    "b = A(90)"
   ]
  },
  {
   "cell_type": "code",
   "execution_count": 43,
   "id": "675198e6",
   "metadata": {},
   "outputs": [
    {
     "name": "stdout",
     "output_type": "stream",
     "text": [
      "40\n"
     ]
    }
   ],
   "source": [
    "a.val = 40\n",
    "print(a.val)"
   ]
  },
  {
   "cell_type": "code",
   "execution_count": 46,
   "id": "6ebfa5c0",
   "metadata": {},
   "outputs": [
    {
     "name": "stdout",
     "output_type": "stream",
     "text": [
      "10 20 20\n"
     ]
    }
   ],
   "source": [
    "a.var1 = 10\n",
    "print(a.var1 , b.var1 , A.var1)"
   ]
  },
  {
   "cell_type": "markdown",
   "id": "b64c8bc2",
   "metadata": {},
   "source": [
    "## Inheritance"
   ]
  },
  {
   "cell_type": "code",
   "execution_count": 47,
   "id": "041d458f",
   "metadata": {},
   "outputs": [],
   "source": [
    "s = \"sub\""
   ]
  },
  {
   "cell_type": "code",
   "execution_count": 48,
   "id": "9691de83",
   "metadata": {
    "scrolled": true
   },
   "outputs": [
    {
     "data": {
      "text/plain": [
       "['__add__',\n",
       " '__class__',\n",
       " '__contains__',\n",
       " '__delattr__',\n",
       " '__dir__',\n",
       " '__doc__',\n",
       " '__eq__',\n",
       " '__format__',\n",
       " '__ge__',\n",
       " '__getattribute__',\n",
       " '__getitem__',\n",
       " '__getnewargs__',\n",
       " '__gt__',\n",
       " '__hash__',\n",
       " '__init__',\n",
       " '__init_subclass__',\n",
       " '__iter__',\n",
       " '__le__',\n",
       " '__len__',\n",
       " '__lt__',\n",
       " '__mod__',\n",
       " '__mul__',\n",
       " '__ne__',\n",
       " '__new__',\n",
       " '__reduce__',\n",
       " '__reduce_ex__',\n",
       " '__repr__',\n",
       " '__rmod__',\n",
       " '__rmul__',\n",
       " '__setattr__',\n",
       " '__sizeof__',\n",
       " '__str__',\n",
       " '__subclasshook__',\n",
       " 'capitalize',\n",
       " 'casefold',\n",
       " 'center',\n",
       " 'count',\n",
       " 'encode',\n",
       " 'endswith',\n",
       " 'expandtabs',\n",
       " 'find',\n",
       " 'format',\n",
       " 'format_map',\n",
       " 'index',\n",
       " 'isalnum',\n",
       " 'isalpha',\n",
       " 'isascii',\n",
       " 'isdecimal',\n",
       " 'isdigit',\n",
       " 'isidentifier',\n",
       " 'islower',\n",
       " 'isnumeric',\n",
       " 'isprintable',\n",
       " 'isspace',\n",
       " 'istitle',\n",
       " 'isupper',\n",
       " 'join',\n",
       " 'ljust',\n",
       " 'lower',\n",
       " 'lstrip',\n",
       " 'maketrans',\n",
       " 'partition',\n",
       " 'removeprefix',\n",
       " 'removesuffix',\n",
       " 'replace',\n",
       " 'rfind',\n",
       " 'rindex',\n",
       " 'rjust',\n",
       " 'rpartition',\n",
       " 'rsplit',\n",
       " 'rstrip',\n",
       " 'split',\n",
       " 'splitlines',\n",
       " 'startswith',\n",
       " 'strip',\n",
       " 'swapcase',\n",
       " 'title',\n",
       " 'translate',\n",
       " 'upper',\n",
       " 'zfill']"
      ]
     },
     "execution_count": 48,
     "metadata": {},
     "output_type": "execute_result"
    }
   ],
   "source": [
    "dir(s)"
   ]
  },
  {
   "cell_type": "code",
   "execution_count": 49,
   "id": "031a4cce",
   "metadata": {},
   "outputs": [
    {
     "data": {
      "text/plain": [
       "'SUB'"
      ]
     },
     "execution_count": 49,
     "metadata": {},
     "output_type": "execute_result"
    }
   ],
   "source": [
    "s.upper()"
   ]
  },
  {
   "cell_type": "code",
   "execution_count": 50,
   "id": "fd260d0e",
   "metadata": {},
   "outputs": [
    {
     "data": {
      "text/plain": [
       "'Sub'"
      ]
     },
     "execution_count": 50,
     "metadata": {},
     "output_type": "execute_result"
    }
   ],
   "source": [
    "s.title()"
   ]
  },
  {
   "cell_type": "code",
   "execution_count": 54,
   "id": "0bc222e1",
   "metadata": {},
   "outputs": [
    {
     "name": "stdout",
     "output_type": "stream",
     "text": [
      "False\n"
     ]
    },
    {
     "data": {
      "text/plain": [
       "'12Abc'"
      ]
     },
     "execution_count": 54,
     "metadata": {},
     "output_type": "execute_result"
    }
   ],
   "source": [
    "y = \"12abc\"\n",
    "\n",
    "y.title()"
   ]
  },
  {
   "cell_type": "code",
   "execution_count": null,
   "id": "34ceaf55",
   "metadata": {},
   "outputs": [],
   "source": []
  },
  {
   "cell_type": "code",
   "execution_count": null,
   "id": "a5c998a3",
   "metadata": {},
   "outputs": [],
   "source": []
  },
  {
   "cell_type": "code",
   "execution_count": null,
   "id": "81ae249d",
   "metadata": {},
   "outputs": [],
   "source": []
  }
 ],
 "metadata": {
  "kernelspec": {
   "display_name": "Python 3 (ipykernel)",
   "language": "python",
   "name": "python3"
  },
  "language_info": {
   "codemirror_mode": {
    "name": "ipython",
    "version": 3
   },
   "file_extension": ".py",
   "mimetype": "text/x-python",
   "name": "python",
   "nbconvert_exporter": "python",
   "pygments_lexer": "ipython3",
   "version": "3.9.7"
  }
 },
 "nbformat": 4,
 "nbformat_minor": 5
}
