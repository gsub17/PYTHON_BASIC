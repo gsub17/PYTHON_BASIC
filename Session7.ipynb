{
 "cells": [
  {
   "cell_type": "markdown",
   "id": "0aadb94b",
   "metadata": {},
   "source": [
    "## Dictionary\n",
    "- Hashmap"
   ]
  },
  {
   "cell_type": "code",
   "execution_count": 1,
   "id": "d657d115",
   "metadata": {},
   "outputs": [
    {
     "name": "stdout",
     "output_type": "stream",
     "text": [
      "<class 'dict'> <class 'list'> <class 'tuple'>\n"
     ]
    }
   ],
   "source": [
    "d = {}\n",
    "a = []\n",
    "c = ()\n",
    "print(type(d) , type(a) , type(c))"
   ]
  },
  {
   "cell_type": "code",
   "execution_count": 2,
   "id": "ee91162a",
   "metadata": {},
   "outputs": [
    {
     "data": {
      "text/plain": [
       "0"
      ]
     },
     "execution_count": 2,
     "metadata": {},
     "output_type": "execute_result"
    }
   ],
   "source": [
    "len(d)"
   ]
  },
  {
   "cell_type": "code",
   "execution_count": 4,
   "id": "59f91c25",
   "metadata": {},
   "outputs": [
    {
     "name": "stdout",
     "output_type": "stream",
     "text": [
      "10\n"
     ]
    }
   ],
   "source": [
    " l = [10 , 20 , 30]\n",
    "print(l[0])"
   ]
  },
  {
   "cell_type": "code",
   "execution_count": 27,
   "id": "c9807b1f",
   "metadata": {},
   "outputs": [
    {
     "name": "stdout",
     "output_type": "stream",
     "text": [
      "{'a': 1, 'b': 2, 'c': 3, 'f': 50}\n"
     ]
    }
   ],
   "source": [
    "d = {\n",
    "    'a': 1 , \n",
    "    'b': 2 ,\n",
    "    'c': 3,\n",
    "    'f': 50\n",
    "}\n",
    "\n",
    "print(d)"
   ]
  },
  {
   "cell_type": "code",
   "execution_count": 5,
   "id": "9128d385",
   "metadata": {},
   "outputs": [
    {
     "data": {
      "text/plain": [
       "1"
      ]
     },
     "execution_count": 5,
     "metadata": {},
     "output_type": "execute_result"
    }
   ],
   "source": [
    "d['a'] ## hash index"
   ]
  },
  {
   "cell_type": "code",
   "execution_count": 7,
   "id": "622a59ef",
   "metadata": {},
   "outputs": [
    {
     "name": "stdout",
     "output_type": "stream",
     "text": [
      "20 <class 'tuple'>\n"
     ]
    }
   ],
   "source": [
    "p = (10 , 20 , 30)\n",
    "print(p[1] , type(p))"
   ]
  },
  {
   "cell_type": "code",
   "execution_count": 8,
   "id": "a4f495f3",
   "metadata": {},
   "outputs": [
    {
     "name": "stdout",
     "output_type": "stream",
     "text": [
      "50\n"
     ]
    }
   ],
   "source": [
    "print(d['f'])"
   ]
  },
  {
   "cell_type": "code",
   "execution_count": 9,
   "id": "e9b5ea31",
   "metadata": {},
   "outputs": [
    {
     "data": {
      "text/plain": [
       "4"
      ]
     },
     "execution_count": 9,
     "metadata": {},
     "output_type": "execute_result"
    }
   ],
   "source": [
    "len(d)"
   ]
  },
  {
   "cell_type": "code",
   "execution_count": 10,
   "id": "15a9bae0",
   "metadata": {},
   "outputs": [],
   "source": [
    "d['g'] = 40"
   ]
  },
  {
   "cell_type": "code",
   "execution_count": 11,
   "id": "ac12eeca",
   "metadata": {},
   "outputs": [
    {
     "name": "stdout",
     "output_type": "stream",
     "text": [
      "{'a': 1, 'b': 2, 'c': 3, 'f': 50, 'g': 40}\n"
     ]
    }
   ],
   "source": [
    "print(d)"
   ]
  },
  {
   "cell_type": "code",
   "execution_count": 13,
   "id": "6f5668c0",
   "metadata": {},
   "outputs": [
    {
     "name": "stdout",
     "output_type": "stream",
     "text": [
      "{'a': 1, 'b': 100, 'c': 3, 'f': 50, 'g': 40}\n"
     ]
    }
   ],
   "source": [
    "d['b'] = 100\n",
    "print(d)"
   ]
  },
  {
   "cell_type": "code",
   "execution_count": 14,
   "id": "e8b25962",
   "metadata": {},
   "outputs": [
    {
     "data": {
      "text/plain": [
       "100"
      ]
     },
     "execution_count": 14,
     "metadata": {},
     "output_type": "execute_result"
    }
   ],
   "source": [
    "d.get('b')"
   ]
  },
  {
   "cell_type": "code",
   "execution_count": 18,
   "id": "b704dabc",
   "metadata": {},
   "outputs": [
    {
     "name": "stdout",
     "output_type": "stream",
     "text": [
      "None\n"
     ]
    }
   ],
   "source": [
    "print(d.get('k'))"
   ]
  },
  {
   "cell_type": "code",
   "execution_count": 24,
   "id": "dcd7baa7",
   "metadata": {},
   "outputs": [
    {
     "name": "stdout",
     "output_type": "stream",
     "text": [
      "Enter user namesjdndn\n",
      "enter the passdsjfjdnfj\n"
     ]
    },
    {
     "ename": "KeyError",
     "evalue": "'sjdndn'",
     "output_type": "error",
     "traceback": [
      "\u001b[1;31m---------------------------------------------------------------------------\u001b[0m",
      "\u001b[1;31mKeyError\u001b[0m                                  Traceback (most recent call last)",
      "\u001b[1;32mC:\\Users\\SUBHAJ~1\\AppData\\Local\\Temp/ipykernel_9504/3576100682.py\u001b[0m in \u001b[0;36m<module>\u001b[1;34m\u001b[0m\n\u001b[0;32m      5\u001b[0m \u001b[0mpassword\u001b[0m \u001b[1;33m=\u001b[0m \u001b[0minput\u001b[0m\u001b[1;33m(\u001b[0m\u001b[1;34m\"enter the pass\"\u001b[0m\u001b[1;33m)\u001b[0m\u001b[1;33m\u001b[0m\u001b[1;33m\u001b[0m\u001b[0m\n\u001b[0;32m      6\u001b[0m \u001b[1;33m\u001b[0m\u001b[0m\n\u001b[1;32m----> 7\u001b[1;33m \u001b[1;32mif\u001b[0m \u001b[0muser\u001b[0m\u001b[1;33m[\u001b[0m\u001b[0musername\u001b[0m\u001b[1;33m]\u001b[0m \u001b[1;33m:\u001b[0m\u001b[1;33m\u001b[0m\u001b[1;33m\u001b[0m\u001b[0m\n\u001b[0m\u001b[0;32m      8\u001b[0m     \u001b[1;32mif\u001b[0m \u001b[0mpassword\u001b[0m \u001b[1;33m==\u001b[0m \u001b[0muser\u001b[0m\u001b[1;33m[\u001b[0m\u001b[0musername\u001b[0m\u001b[1;33m]\u001b[0m\u001b[1;33m:\u001b[0m\u001b[1;33m\u001b[0m\u001b[1;33m\u001b[0m\u001b[0m\n\u001b[0;32m      9\u001b[0m         \u001b[0mprint\u001b[0m\u001b[1;33m(\u001b[0m\u001b[1;34m\"login successfull\"\u001b[0m\u001b[1;33m)\u001b[0m\u001b[1;33m\u001b[0m\u001b[1;33m\u001b[0m\u001b[0m\n",
      "\u001b[1;31mKeyError\u001b[0m: 'sjdndn'"
     ]
    }
   ],
   "source": [
    "\n",
    "user = {'sub' : 'sub123' ,\n",
    "         'har' : 'har123',\n",
    "         'sai' : 'sai123'}\n",
    "username = input(\"Enter user name\")\n",
    "password = input(\"enter the pass\")\n",
    "\n",
    "if user[username] :\n",
    "    if password == user[username]:\n",
    "        print(\"login successfull\")\n",
    "    else:\n",
    "        print(\"wrong password\")\n",
    "else:\n",
    "    print(f\"{username} doen't exists\")"
   ]
  },
  {
   "cell_type": "code",
   "execution_count": 25,
   "id": "0de92cbc",
   "metadata": {},
   "outputs": [
    {
     "name": "stdout",
     "output_type": "stream",
     "text": [
      "Enter user namejsjfjdsf\n",
      "enter the passfjdfnsj\n",
      "jsjfjdsf doen't exists\n"
     ]
    }
   ],
   "source": [
    "user = {'sub' : 'sub123' ,\n",
    "         'har' : 'har123',\n",
    "         'sai' : 'sai123'}\n",
    "username = input(\"Enter user name\")\n",
    "password = input(\"enter the pass\")\n",
    "\n",
    "if user.get(username) != None :      # to remove key error and have a safe method\n",
    "    if password == user[username]:\n",
    "        print(\"login successfull\")\n",
    "    else:\n",
    "        print(\"wrong password\")\n",
    "else:\n",
    "    print(f\"{username} doen't exists\")"
   ]
  },
  {
   "cell_type": "code",
   "execution_count": 29,
   "id": "e11e3e4f",
   "metadata": {},
   "outputs": [
    {
     "data": {
      "text/plain": [
       "dict_keys(['a', 'b', 'c', 'f'])"
      ]
     },
     "execution_count": 29,
     "metadata": {},
     "output_type": "execute_result"
    }
   ],
   "source": [
    "d.keys()"
   ]
  },
  {
   "cell_type": "code",
   "execution_count": 32,
   "id": "0f99a21f",
   "metadata": {},
   "outputs": [
    {
     "name": "stdout",
     "output_type": "stream",
     "text": [
      "a  ->  1\n",
      "b  ->  2\n",
      "c  ->  3\n",
      "f  ->  50\n"
     ]
    }
   ],
   "source": [
    "for key in d.keys():\n",
    "    print(key , \" -> \" ,d[key])"
   ]
  },
  {
   "cell_type": "code",
   "execution_count": 33,
   "id": "266d8aa3",
   "metadata": {},
   "outputs": [
    {
     "data": {
      "text/plain": [
       "['__class__',\n",
       " '__class_getitem__',\n",
       " '__contains__',\n",
       " '__delattr__',\n",
       " '__delitem__',\n",
       " '__dir__',\n",
       " '__doc__',\n",
       " '__eq__',\n",
       " '__format__',\n",
       " '__ge__',\n",
       " '__getattribute__',\n",
       " '__getitem__',\n",
       " '__gt__',\n",
       " '__hash__',\n",
       " '__init__',\n",
       " '__init_subclass__',\n",
       " '__ior__',\n",
       " '__iter__',\n",
       " '__le__',\n",
       " '__len__',\n",
       " '__lt__',\n",
       " '__ne__',\n",
       " '__new__',\n",
       " '__or__',\n",
       " '__reduce__',\n",
       " '__reduce_ex__',\n",
       " '__repr__',\n",
       " '__reversed__',\n",
       " '__ror__',\n",
       " '__setattr__',\n",
       " '__setitem__',\n",
       " '__sizeof__',\n",
       " '__str__',\n",
       " '__subclasshook__',\n",
       " 'clear',\n",
       " 'copy',\n",
       " 'fromkeys',\n",
       " 'get',\n",
       " 'items',\n",
       " 'keys',\n",
       " 'pop',\n",
       " 'popitem',\n",
       " 'setdefault',\n",
       " 'update',\n",
       " 'values']"
      ]
     },
     "execution_count": 33,
     "metadata": {},
     "output_type": "execute_result"
    }
   ],
   "source": [
    "dir(d)"
   ]
  },
  {
   "cell_type": "code",
   "execution_count": 36,
   "id": "84ab8ce8",
   "metadata": {},
   "outputs": [
    {
     "name": "stdout",
     "output_type": "stream",
     "text": [
      "{'a': 1, 'b': 2, 'c': 3, 'f': 50}\n",
      "dict_items([('a', 1), ('b', 2), ('c', 3), ('f', 50)]) <class 'dict'>\n"
     ]
    }
   ],
   "source": [
    "print(d)\n",
    "print(d.items() , type(d))"
   ]
  },
  {
   "cell_type": "code",
   "execution_count": 37,
   "id": "5c03daf5",
   "metadata": {},
   "outputs": [
    {
     "name": "stdout",
     "output_type": "stream",
     "text": [
      "('a', 1) <class 'tuple'>\n",
      "('b', 2) <class 'tuple'>\n",
      "('c', 3) <class 'tuple'>\n",
      "('f', 50) <class 'tuple'>\n"
     ]
    }
   ],
   "source": [
    "for item in d.items():\n",
    "    print(item , type(item))"
   ]
  },
  {
   "cell_type": "code",
   "execution_count": 42,
   "id": "71d180a5",
   "metadata": {},
   "outputs": [
    {
     "name": "stdout",
     "output_type": "stream",
     "text": [
      "('f', 50) \n",
      " 2 <class 'tuple'>\n"
     ]
    }
   ],
   "source": [
    "print(item  , \"\\n\"  ,len(item) , type(item))"
   ]
  },
  {
   "cell_type": "code",
   "execution_count": 43,
   "id": "ad089f48",
   "metadata": {},
   "outputs": [
    {
     "name": "stdout",
     "output_type": "stream",
     "text": [
      "f 50\n"
     ]
    }
   ],
   "source": [
    "## unpacking tuple item\n",
    "a , c = item\n",
    "print(a , c)"
   ]
  },
  {
   "cell_type": "code",
   "execution_count": 46,
   "id": "9a207a33",
   "metadata": {},
   "outputs": [
    {
     "name": "stdout",
     "output_type": "stream",
     "text": [
      "dict_values([1, 2, 3, 50])\n",
      "<class 'dict_values'>\n",
      "1\n",
      "2\n",
      "3\n",
      "50\n"
     ]
    }
   ],
   "source": [
    "print(d.values())\n",
    "print(type(d.values()))\n",
    "for val in d.values():\n",
    "    print(val)"
   ]
  },
  {
   "cell_type": "code",
   "execution_count": 48,
   "id": "02e267e5",
   "metadata": {},
   "outputs": [
    {
     "name": "stdout",
     "output_type": "stream",
     "text": [
      "['a', 'b', 'c', 'f'] <class 'list'>\n"
     ]
    }
   ],
   "source": [
    "keys = list(d.keys())\n",
    "print(keys , type(keys))"
   ]
  },
  {
   "cell_type": "code",
   "execution_count": 54,
   "id": "3b7aca54",
   "metadata": {},
   "outputs": [
    {
     "name": "stdout",
     "output_type": "stream",
     "text": [
      "{'b': 2, 'c': 3}\n"
     ]
    },
    {
     "ename": "KeyError",
     "evalue": "'a'",
     "output_type": "error",
     "traceback": [
      "\u001b[1;31m---------------------------------------------------------------------------\u001b[0m",
      "\u001b[1;31mKeyError\u001b[0m                                  Traceback (most recent call last)",
      "\u001b[1;32mC:\\Users\\SUBHAJ~1\\AppData\\Local\\Temp/ipykernel_9504/794378973.py\u001b[0m in \u001b[0;36m<module>\u001b[1;34m\u001b[0m\n\u001b[0;32m      1\u001b[0m \u001b[0mprint\u001b[0m\u001b[1;33m(\u001b[0m\u001b[0md\u001b[0m\u001b[1;33m)\u001b[0m\u001b[1;33m\u001b[0m\u001b[1;33m\u001b[0m\u001b[0m\n\u001b[1;32m----> 2\u001b[1;33m \u001b[0mprint\u001b[0m\u001b[1;33m(\u001b[0m\u001b[0md\u001b[0m\u001b[1;33m.\u001b[0m\u001b[0mpop\u001b[0m\u001b[1;33m(\u001b[0m\u001b[1;34m'a'\u001b[0m\u001b[1;33m)\u001b[0m\u001b[1;33m)\u001b[0m\u001b[1;33m\u001b[0m\u001b[1;33m\u001b[0m\u001b[0m\n\u001b[0m",
      "\u001b[1;31mKeyError\u001b[0m: 'a'"
     ]
    }
   ],
   "source": [
    "print(d)\n",
    "print(d.pop('a'))"
   ]
  },
  {
   "cell_type": "code",
   "execution_count": 55,
   "id": "7b9ab9eb",
   "metadata": {},
   "outputs": [
    {
     "name": "stdout",
     "output_type": "stream",
     "text": [
      "2\n"
     ]
    }
   ],
   "source": [
    "print(d.pop('b'))"
   ]
  },
  {
   "cell_type": "code",
   "execution_count": 57,
   "id": "c15d6769",
   "metadata": {},
   "outputs": [
    {
     "name": "stdout",
     "output_type": "stream",
     "text": [
      "{'c': 3}\n"
     ]
    }
   ],
   "source": [
    "print(d)"
   ]
  },
  {
   "cell_type": "code",
   "execution_count": 59,
   "id": "6ef69a9f",
   "metadata": {},
   "outputs": [],
   "source": [
    "d.update( {'a' : 10 })\n",
    "d.update( {'d' : 20 })"
   ]
  },
  {
   "cell_type": "code",
   "execution_count": 60,
   "id": "d83ba7e1",
   "metadata": {},
   "outputs": [
    {
     "name": "stdout",
     "output_type": "stream",
     "text": [
      "{'c': 3, 'a': 10, 'd': 20}\n"
     ]
    }
   ],
   "source": [
    "print(d)"
   ]
  },
  {
   "cell_type": "code",
   "execution_count": 69,
   "id": "c260769d",
   "metadata": {},
   "outputs": [],
   "source": [
    "## dict can store hetrogenous values\n",
    "d = { \"name\" : \"ghosh\" ,\n",
    "    \"phone\" : 1234 ,\n",
    "     \"likes\" : [\"anime\" , \"luffy\" , \"onepiece\"],\n",
    "     \"friends\" : {\"A\" : 1 , \"B\" : 2 , \"C\":3}\n",
    "     \n",
    "    }"
   ]
  },
  {
   "cell_type": "code",
   "execution_count": 70,
   "id": "2d2f3d15",
   "metadata": {},
   "outputs": [
    {
     "name": "stdout",
     "output_type": "stream",
     "text": [
      "{'name': 'ghosh', 'phone': 1234, 'likes': ['anime', 'luffy', 'onepiece'], 'friends': {'A': 1, 'B': 2, 'C': 3}}\n"
     ]
    }
   ],
   "source": [
    "print(d)"
   ]
  },
  {
   "cell_type": "code",
   "execution_count": 72,
   "id": "4db65e95",
   "metadata": {},
   "outputs": [
    {
     "name": "stdout",
     "output_type": "stream",
     "text": [
      "['anime', 'luffy', 'onepiece']\n"
     ]
    }
   ],
   "source": [
    "print(d['likes'])"
   ]
  },
  {
   "cell_type": "code",
   "execution_count": 73,
   "id": "9525bceb",
   "metadata": {},
   "outputs": [
    {
     "name": "stdout",
     "output_type": "stream",
     "text": [
      "onepiece\n"
     ]
    }
   ],
   "source": [
    "print(d['likes'][2])"
   ]
  },
  {
   "cell_type": "code",
   "execution_count": 74,
   "id": "39304178",
   "metadata": {},
   "outputs": [
    {
     "name": "stdout",
     "output_type": "stream",
     "text": [
      "2\n"
     ]
    }
   ],
   "source": [
    "print(d['friends']['B'])"
   ]
  },
  {
   "cell_type": "code",
   "execution_count": 75,
   "id": "314a33c6",
   "metadata": {},
   "outputs": [
    {
     "name": "stdout",
     "output_type": "stream",
     "text": [
      "{'a': 1, 23: 'ghosh', False: 'ghosh2', 3.4: 'pi', (1, 2, 3): 0}\n"
     ]
    }
   ],
   "source": [
    "## keys can be immutable datatypes only\n",
    "d = { \"a\" : 1 ,\n",
    "      23 : \"ghosh\",\n",
    "      False : \"ghosh2\",\n",
    "      3.4 : \"pi\",\n",
    "     (1 , 2 ,3) : 0}\n",
    "print(d)"
   ]
  },
  {
   "cell_type": "code",
   "execution_count": 3,
   "id": "307ea61f",
   "metadata": {},
   "outputs": [
    {
     "name": "stdout",
     "output_type": "stream",
     "text": [
      "Enter the number to find7\n",
      "True\n"
     ]
    }
   ],
   "source": [
    "# A[i] <= 100\n",
    "A= [1 , 3, 4, 100 ,50 , 7 ,10]\n",
    "\n",
    "## if a given element exist in A\n",
    "x = int(input(\"Enter the number to find\"))\n",
    "count = 0\n",
    "for i in A:\n",
    "    if(i == x):\n",
    "        count = 1\n",
    "if(count == 1):\n",
    "    print(True)\n",
    "else:\n",
    "    print(False)\n",
    "    \n",
    "## Searching is taking O(n) time\n",
    "\n"
   ]
  },
  {
   "cell_type": "markdown",
   "id": "1b1a1098",
   "metadata": {},
   "source": [
    "**Sets**\n",
    "- unoredered collection of unique element"
   ]
  },
  {
   "cell_type": "code",
   "execution_count": 11,
   "id": "46e52cde",
   "metadata": {},
   "outputs": [
    {
     "name": "stdout",
     "output_type": "stream",
     "text": [
      "<class 'set'> {1, 2, 3, 4, 5}\n"
     ]
    }
   ],
   "source": [
    "s = { 1 , 2 , 5,3 ,4}\n",
    "print(type(s) , s)"
   ]
  },
  {
   "cell_type": "code",
   "execution_count": 7,
   "id": "ddbb6869",
   "metadata": {},
   "outputs": [
    {
     "data": {
      "text/plain": [
       "4"
      ]
     },
     "execution_count": 7,
     "metadata": {},
     "output_type": "execute_result"
    }
   ],
   "source": [
    "len(s)"
   ]
  },
  {
   "cell_type": "code",
   "execution_count": 8,
   "id": "6edb23a4",
   "metadata": {},
   "outputs": [
    {
     "data": {
      "text/plain": [
       "set"
      ]
     },
     "execution_count": 8,
     "metadata": {},
     "output_type": "execute_result"
    }
   ],
   "source": [
    "s1 =set()\n",
    "type(s1)"
   ]
  },
  {
   "cell_type": "code",
   "execution_count": 12,
   "id": "f3510e00",
   "metadata": {},
   "outputs": [
    {
     "name": "stdout",
     "output_type": "stream",
     "text": [
      "{1, 2, 3, 4, 5}\n"
     ]
    }
   ],
   "source": [
    "print(s)"
   ]
  },
  {
   "cell_type": "code",
   "execution_count": 13,
   "id": "c89ca11c",
   "metadata": {},
   "outputs": [
    {
     "name": "stdout",
     "output_type": "stream",
     "text": [
      "{1, 2, 3, 4}\n"
     ]
    }
   ],
   "source": [
    "## unique elements\n",
    "l = { 1 , 1 ,2 ,3 , 2 , 4 , 4}\n",
    "s = set(l)\n",
    "print(s)"
   ]
  },
  {
   "cell_type": "code",
   "execution_count": 14,
   "id": "efaf145e",
   "metadata": {},
   "outputs": [
    {
     "data": {
      "text/plain": [
       "['__and__',\n",
       " '__class__',\n",
       " '__class_getitem__',\n",
       " '__contains__',\n",
       " '__delattr__',\n",
       " '__dir__',\n",
       " '__doc__',\n",
       " '__eq__',\n",
       " '__format__',\n",
       " '__ge__',\n",
       " '__getattribute__',\n",
       " '__gt__',\n",
       " '__hash__',\n",
       " '__iand__',\n",
       " '__init__',\n",
       " '__init_subclass__',\n",
       " '__ior__',\n",
       " '__isub__',\n",
       " '__iter__',\n",
       " '__ixor__',\n",
       " '__le__',\n",
       " '__len__',\n",
       " '__lt__',\n",
       " '__ne__',\n",
       " '__new__',\n",
       " '__or__',\n",
       " '__rand__',\n",
       " '__reduce__',\n",
       " '__reduce_ex__',\n",
       " '__repr__',\n",
       " '__ror__',\n",
       " '__rsub__',\n",
       " '__rxor__',\n",
       " '__setattr__',\n",
       " '__sizeof__',\n",
       " '__str__',\n",
       " '__sub__',\n",
       " '__subclasshook__',\n",
       " '__xor__',\n",
       " 'add',\n",
       " 'clear',\n",
       " 'copy',\n",
       " 'difference',\n",
       " 'difference_update',\n",
       " 'discard',\n",
       " 'intersection',\n",
       " 'intersection_update',\n",
       " 'isdisjoint',\n",
       " 'issubset',\n",
       " 'issuperset',\n",
       " 'pop',\n",
       " 'remove',\n",
       " 'symmetric_difference',\n",
       " 'symmetric_difference_update',\n",
       " 'union',\n",
       " 'update']"
      ]
     },
     "execution_count": 14,
     "metadata": {},
     "output_type": "execute_result"
    }
   ],
   "source": [
    "s1 = {1 , 2 ,3 , 7 }\n",
    "s2 = { 3 , 9 ,  6, 7}\n",
    "dir(s1)"
   ]
  },
  {
   "cell_type": "code",
   "execution_count": 15,
   "id": "c7c89fbd",
   "metadata": {},
   "outputs": [
    {
     "name": "stdout",
     "output_type": "stream",
     "text": [
      "{1, 2}\n"
     ]
    }
   ],
   "source": [
    "print(s1.difference(s2))"
   ]
  },
  {
   "cell_type": "code",
   "execution_count": 16,
   "id": "c28cc502",
   "metadata": {},
   "outputs": [
    {
     "data": {
      "text/plain": [
       "{1, 2, 3, 6, 7, 9}"
      ]
     },
     "execution_count": 16,
     "metadata": {},
     "output_type": "execute_result"
    }
   ],
   "source": [
    "s1.union(s2)"
   ]
  },
  {
   "cell_type": "code",
   "execution_count": 17,
   "id": "a0e6b9e7",
   "metadata": {},
   "outputs": [
    {
     "name": "stdout",
     "output_type": "stream",
     "text": [
      "key is not present\n"
     ]
    }
   ],
   "source": [
    "key = 100\n",
    "if key in s1:\n",
    "    print(\"key is present\")\n",
    "else:\n",
    "    print(\"key is not present\")"
   ]
  },
  {
   "cell_type": "code",
   "execution_count": 18,
   "id": "bfbce940",
   "metadata": {},
   "outputs": [
    {
     "name": "stdout",
     "output_type": "stream",
     "text": [
      "key is present\n"
     ]
    }
   ],
   "source": [
    "key = 2\n",
    "if key in s1:\n",
    "    print(\"key is present\")\n",
    "else:\n",
    "    print(\"key is not present\")"
   ]
  },
  {
   "cell_type": "markdown",
   "id": "15b52d1c",
   "metadata": {},
   "source": [
    "## is the string is pallindrome"
   ]
  },
  {
   "cell_type": "code",
   "execution_count": 52,
   "id": "6c9bd450",
   "metadata": {},
   "outputs": [
    {
     "name": "stdout",
     "output_type": "stream",
     "text": [
      "['a', 'b', 'c', 'd', 'c', 'b', 'a']\n",
      "['a', 'b', 'c', 'd', 'c', 'b', 'a']\n",
      "True\n"
     ]
    }
   ],
   "source": [
    "s = \"abcdcba\"\n",
    "\n",
    "list = []\n",
    "for i in s:\n",
    "    list.append(i)\n",
    "print(list)\n",
    "\n",
    "list2 = []\n",
    "\n",
    "for i in range(len(list) - 1 , - 1 , -1):\n",
    "    list2.append(list[i])\n",
    "\n",
    "print(list2)\n",
    "\n",
    "if list == list2:\n",
    "    print(True)\n",
    "else:\n",
    "    print(False)\n",
    "    \n",
    "\n",
    "    "
   ]
  },
  {
   "cell_type": "code",
   "execution_count": 53,
   "id": "c8ab55e8",
   "metadata": {},
   "outputs": [
    {
     "name": "stdout",
     "output_type": "stream",
     "text": [
      "True\n"
     ]
    }
   ],
   "source": [
    "rev = s[::-1]\n",
    "if rev == s:\n",
    "    print(True)\n",
    "else:\n",
    "    print(False)"
   ]
  },
  {
   "cell_type": "code",
   "execution_count": null,
   "id": "f0af0cc7",
   "metadata": {},
   "outputs": [],
   "source": []
  },
  {
   "cell_type": "code",
   "execution_count": null,
   "id": "7e3b251f",
   "metadata": {},
   "outputs": [],
   "source": []
  },
  {
   "cell_type": "code",
   "execution_count": null,
   "id": "99f20c89",
   "metadata": {},
   "outputs": [],
   "source": []
  },
  {
   "cell_type": "code",
   "execution_count": null,
   "id": "bf863b87",
   "metadata": {},
   "outputs": [],
   "source": []
  },
  {
   "cell_type": "code",
   "execution_count": null,
   "id": "fb955c7e",
   "metadata": {},
   "outputs": [],
   "source": []
  },
  {
   "cell_type": "code",
   "execution_count": null,
   "id": "aa6b5e44",
   "metadata": {},
   "outputs": [],
   "source": []
  },
  {
   "cell_type": "code",
   "execution_count": null,
   "id": "6c136572",
   "metadata": {},
   "outputs": [],
   "source": []
  }
 ],
 "metadata": {
  "kernelspec": {
   "display_name": "Python 3 (ipykernel)",
   "language": "python",
   "name": "python3"
  },
  "language_info": {
   "codemirror_mode": {
    "name": "ipython",
    "version": 3
   },
   "file_extension": ".py",
   "mimetype": "text/x-python",
   "name": "python",
   "nbconvert_exporter": "python",
   "pygments_lexer": "ipython3",
   "version": "3.9.7"
  }
 },
 "nbformat": 4,
 "nbformat_minor": 5
}
