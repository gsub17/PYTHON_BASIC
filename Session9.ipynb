{
 "cells": [
  {
   "cell_type": "code",
   "execution_count": 4,
   "id": "6ba6bb41",
   "metadata": {},
   "outputs": [],
   "source": [
    "## check a no. is odd or even\n",
    "def check_even(n):\n",
    "    if n&1 == 0:\n",
    "        return True\n",
    "    else:\n",
    "        return False\n"
   ]
  },
  {
   "cell_type": "code",
   "execution_count": 9,
   "id": "395344ff",
   "metadata": {},
   "outputs": [
    {
     "name": "stdout",
     "output_type": "stream",
     "text": [
      "True\n"
     ]
    }
   ],
   "source": [
    "print(check_even(4))"
   ]
  },
  {
   "cell_type": "markdown",
   "id": "566bad98",
   "metadata": {},
   "source": [
    "## Bit manipulation"
   ]
  },
  {
   "cell_type": "markdown",
   "id": "fe5440eb",
   "metadata": {},
   "source": [
    "-0. check if ith bit of a no. is set or not"
   ]
  },
  {
   "cell_type": "code",
   "execution_count": 30,
   "id": "645c4717",
   "metadata": {},
   "outputs": [
    {
     "name": "stdout",
     "output_type": "stream",
     "text": [
      "[1, 0, 0, 0]\n"
     ]
    }
   ],
   "source": [
    "# to get binary value of it\n",
    "n = 8\n",
    "l =[]\n",
    "while(n > 0):\n",
    "    i = n%2\n",
    "    l.append(i)\n",
    "    n = n//2\n",
    "l.reverse()\n",
    "print(l)\n",
    "\n",
    "    \n",
    "    "
   ]
  },
  {
   "cell_type": "code",
   "execution_count": null,
   "id": "b6d11b47",
   "metadata": {},
   "outputs": [],
   "source": [
    "def convert(n):\n",
    "    l = []\n",
    "    sum = 0\n",
    "    while(n > 0):\n",
    "        i = n%2\n",
    "        l.append(i)\n",
    "        n = n//2\n",
    "    l.reverse()\n",
    "    return l"
   ]
  },
  {
   "cell_type": "markdown",
   "id": "0f379fef",
   "metadata": {},
   "source": [
    "## check if ith bit of a no. is set or not"
   ]
  },
  {
   "cell_type": "code",
   "execution_count": 36,
   "id": "025a7a33",
   "metadata": {},
   "outputs": [],
   "source": [
    "## check if ith bit of a no. is set or not\n",
    "def convert(n):\n",
    "    l = []\n",
    "    sum = 0\n",
    "    while(n > 0):\n",
    "        i = n%2\n",
    "        l.append(i)\n",
    "        n = n//2\n",
    "    l.reverse()\n",
    "    return l\n",
    "\n",
    "def check_ith_bit(n , position):\n",
    "   \n",
    "    l = convert(n)\n",
    "    print(l)\n",
    "    if l[position] == 1:\n",
    "        return True\n",
    "    else:\n",
    "        return False\n",
    "        "
   ]
  },
  {
   "cell_type": "code",
   "execution_count": 38,
   "id": "5fb6663d",
   "metadata": {},
   "outputs": [
    {
     "name": "stdout",
     "output_type": "stream",
     "text": [
      "[1, 0, 1]\n"
     ]
    },
    {
     "data": {
      "text/plain": [
       "True"
      ]
     },
     "execution_count": 38,
     "metadata": {},
     "output_type": "execute_result"
    }
   ],
   "source": [
    "check_ith_bit(5 , 2)"
   ]
  },
  {
   "cell_type": "code",
   "execution_count": 1,
   "id": "94f41eec",
   "metadata": {},
   "outputs": [],
   "source": [
    "## ma'am approach\n",
    "def check_ith_bit(n,i):\n",
    "    if n & 1 > 0:\n",
    "        return True\n",
    "    else:\n",
    "        return False"
   ]
  },
  {
   "cell_type": "code",
   "execution_count": null,
   "id": "1dd878a1",
   "metadata": {},
   "outputs": [],
   "source": [
    "print(check_ith_bit())"
   ]
  },
  {
   "cell_type": "markdown",
   "id": "e05d2d5c",
   "metadata": {},
   "source": [
    "## count to total set bits of a number"
   ]
  },
  {
   "cell_type": "code",
   "execution_count": 3,
   "id": "ddf82f02",
   "metadata": {},
   "outputs": [],
   "source": [
    "## count to total set bits of a number\n",
    "def convert(n):\n",
    "    l = []\n",
    "    sum = 0\n",
    "    while(n > 0):\n",
    "        i = n%2\n",
    "        l.append(i)\n",
    "        n = n//2\n",
    "    l.reverse()\n",
    "    return l\n",
    "\n",
    "def count_setbit(n):\n",
    "    l = convert(n)\n",
    "    print(l)\n",
    "    count = 0\n",
    "    for i in l:\n",
    "        if i == 1:\n",
    "            count += 1\n",
    "    return count\n",
    "            \n"
   ]
  },
  {
   "cell_type": "code",
   "execution_count": 7,
   "id": "81a564d9",
   "metadata": {},
   "outputs": [
    {
     "name": "stdout",
     "output_type": "stream",
     "text": [
      "[1, 0, 0, 1, 0, 0, 0]\n"
     ]
    },
    {
     "data": {
      "text/plain": [
       "2"
      ]
     },
     "execution_count": 7,
     "metadata": {},
     "output_type": "execute_result"
    }
   ],
   "source": [
    "count_setbit(72)"
   ]
  },
  {
   "cell_type": "code",
   "execution_count": null,
   "id": "9e97055b",
   "metadata": {},
   "outputs": [],
   "source": [
    "def count_set_bits(n):\n",
    "    count = 0\n",
    "    for i in range(0,31):\n",
    "        "
   ]
  },
  {
   "cell_type": "code",
   "execution_count": 1,
   "id": "60698ca7",
   "metadata": {},
   "outputs": [
    {
     "name": "stdout",
     "output_type": "stream",
     "text": [
      "2\n"
     ]
    }
   ],
   "source": [
    "a = 5\n",
    "print(a >> 1)"
   ]
  },
  {
   "cell_type": "code",
   "execution_count": 12,
   "id": "a9c4689d",
   "metadata": {},
   "outputs": [
    {
     "name": "stdout",
     "output_type": "stream",
     "text": [
      "x : 13 it count of set bits 3\n",
      "x : 15 it count of set bits 4\n",
      "x : 72 it count of set bits 2\n",
      "x : -2 it count of set bits 0\n"
     ]
    }
   ],
   "source": [
    "def count_set_bit2(n):\n",
    "    count = 0\n",
    "    while n>0:\n",
    "        count += 1\n",
    "        n = n &(n-1)\n",
    "    return count\n",
    "\n",
    "for x in [13 , 15 , 72 , -2]:\n",
    "    print(f\"x : {x} it count of set bits {count_set_bit2(x)}\")\n",
    "    "
   ]
  },
  {
   "cell_type": "code",
   "execution_count": 15,
   "id": "d117fa8b",
   "metadata": {},
   "outputs": [
    {
     "name": "stdout",
     "output_type": "stream",
     "text": [
      "8\n"
     ]
    }
   ],
   "source": [
    "x = [10 , 5 , 10 , 5 , 6 , 8 , 6]\n",
    "ans = 0\n",
    "for i in x:\n",
    "    ans = ans ^ i\n",
    "print(ans)\n",
    "    "
   ]
  },
  {
   "cell_type": "markdown",
   "id": "47c812cd",
   "metadata": {},
   "source": [
    "## Given a and b , such that a^x = b"
   ]
  },
  {
   "cell_type": "code",
   "execution_count": 17,
   "id": "a20fdad3",
   "metadata": {},
   "outputs": [],
   "source": [
    "def func(a , b):\n",
    "    return a ^ b"
   ]
  },
  {
   "cell_type": "code",
   "execution_count": 18,
   "id": "98e3c8f2",
   "metadata": {},
   "outputs": [
    {
     "data": {
      "text/plain": [
       "15"
      ]
     },
     "execution_count": 18,
     "metadata": {},
     "output_type": "execute_result"
    }
   ],
   "source": [
    "func(5 , 10)"
   ]
  },
  {
   "cell_type": "code",
   "execution_count": 19,
   "id": "ce787603",
   "metadata": {},
   "outputs": [
    {
     "data": {
      "text/plain": [
       "3"
      ]
     },
     "execution_count": 19,
     "metadata": {},
     "output_type": "execute_result"
    }
   ],
   "source": [
    "func(9, 10)"
   ]
  },
  {
   "cell_type": "markdown",
   "id": "8ab349a5",
   "metadata": {},
   "source": [
    "## count total set bit in a no."
   ]
  },
  {
   "cell_type": "code",
   "execution_count": 11,
   "id": "2c859455",
   "metadata": {},
   "outputs": [
    {
     "data": {
      "text/plain": [
       "2"
      ]
     },
     "execution_count": 11,
     "metadata": {},
     "output_type": "execute_result"
    }
   ],
   "source": [
    "def count_set_bits(n):\n",
    "    count = 0\n",
    "    for i in range(0 , 31):\n",
    "        if (n >> i) &1 == 1:  #n remain the same\n",
    "            count +=1\n",
    "    return count\n",
    "            \n",
    "count_set_bits(10)\n",
    "        "
   ]
  },
  {
   "cell_type": "code",
   "execution_count": 12,
   "id": "e89273a5",
   "metadata": {},
   "outputs": [
    {
     "data": {
      "text/plain": [
       "29"
      ]
     },
     "execution_count": 12,
     "metadata": {},
     "output_type": "execute_result"
    }
   ],
   "source": [
    "def count_nonset_bits(n):\n",
    "    count = 0\n",
    "    for i in range(0,31):\n",
    "        if(n >> i) & 1 == 0:\n",
    "            count += 1\n",
    "    return count\n",
    "\n",
    "count_nonset_bits(10)"
   ]
  },
  {
   "cell_type": "markdown",
   "id": "5cf198a1",
   "metadata": {},
   "source": [
    "## check whether a no. is power of 2 or not"
   ]
  },
  {
   "cell_type": "code",
   "execution_count": 14,
   "id": "1250ddbe",
   "metadata": {},
   "outputs": [
    {
     "data": {
      "text/plain": [
       "False"
      ]
     },
     "execution_count": 14,
     "metadata": {},
     "output_type": "execute_result"
    }
   ],
   "source": [
    "def power_of_two(n):\n",
    "    if (n & n-1) == 0:\n",
    "        return True\n",
    "    return False\n",
    "    \n",
    "power_of_two(10)"
   ]
  },
  {
   "cell_type": "markdown",
   "id": "8a3e542f",
   "metadata": {},
   "source": [
    "## unique element II"
   ]
  },
  {
   "cell_type": "markdown",
   "id": "4447cb67",
   "metadata": {},
   "source": [
    "Given an array of n element . Every element is repeated thrice except one . Find that element\n",
    "inp = 1 , 3 , 1 , 8 , 1 , 8 , 8\n",
    "out = 3"
   ]
  },
  {
   "cell_type": "markdown",
   "id": "5801a712",
   "metadata": {},
   "source": [
    "# given a list of integer.Find Ai and Aj such that Ai xor Aj = k\n"
   ]
  },
  {
   "cell_type": "code",
   "execution_count": 25,
   "id": "0f94d598",
   "metadata": {},
   "outputs": [
    {
     "name": "stdout",
     "output_type": "stream",
     "text": [
      "8\n",
      "3\n"
     ]
    }
   ],
   "source": [
    "l = [3 , 5 , 8 , 1 ,11]\n",
    "k = 11\n",
    "\n",
    "for i in l:\n",
    "    ans = i ^ k\n",
    "    for j in l :\n",
    "        if j == ans:\n",
    "            print(j)\n",
    "            break\n"
   ]
  },
  {
   "cell_type": "code",
   "execution_count": null,
   "id": "78b216a6",
   "metadata": {},
   "outputs": [],
   "source": []
  },
  {
   "cell_type": "code",
   "execution_count": null,
   "id": "65f4c9bc",
   "metadata": {},
   "outputs": [],
   "source": []
  }
 ],
 "metadata": {
  "kernelspec": {
   "display_name": "Python 3 (ipykernel)",
   "language": "python",
   "name": "python3"
  },
  "language_info": {
   "codemirror_mode": {
    "name": "ipython",
    "version": 3
   },
   "file_extension": ".py",
   "mimetype": "text/x-python",
   "name": "python",
   "nbconvert_exporter": "python",
   "pygments_lexer": "ipython3",
   "version": "3.9.7"
  }
 },
 "nbformat": 4,
 "nbformat_minor": 5
}
