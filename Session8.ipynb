{
 "cells": [
  {
   "cell_type": "markdown",
   "id": "3d7d7dcc",
   "metadata": {},
   "source": [
    "## Functions"
   ]
  },
  {
   "cell_type": "code",
   "execution_count": 1,
   "id": "0a6e9954",
   "metadata": {},
   "outputs": [],
   "source": [
    "def factorial(n):\n",
    "    if n == 0 | n== 1:\n",
    "        print(1)\n",
    "    else:\n",
    "        i = 2\n",
    "        ans = 1\n",
    "        while( i <= n):\n",
    "            ans = ans * i\n",
    "            i += 1\n",
    "        print(ans)"
   ]
  },
  {
   "cell_type": "code",
   "execution_count": 2,
   "id": "59899c0c",
   "metadata": {},
   "outputs": [
    {
     "name": "stdout",
     "output_type": "stream",
     "text": [
      "24\n"
     ]
    }
   ],
   "source": [
    "# function call\n",
    "factorial(4)"
   ]
  },
  {
   "cell_type": "code",
   "execution_count": 4,
   "id": "c81c674c",
   "metadata": {},
   "outputs": [],
   "source": [
    "def sum_numbers(a,b):\n",
    "    print(a+b)"
   ]
  },
  {
   "cell_type": "code",
   "execution_count": 5,
   "id": "260abe08",
   "metadata": {},
   "outputs": [
    {
     "name": "stdout",
     "output_type": "stream",
     "text": [
      "10\n"
     ]
    }
   ],
   "source": [
    "sum_numbers(3 , 7)"
   ]
  },
  {
   "cell_type": "code",
   "execution_count": 7,
   "id": "cbf2d909",
   "metadata": {},
   "outputs": [
    {
     "data": {
      "text/plain": [
       "True"
      ]
     },
     "execution_count": 7,
     "metadata": {},
     "output_type": "execute_result"
    }
   ],
   "source": [
    "isinstance(10 , (int))"
   ]
  },
  {
   "cell_type": "code",
   "execution_count": 8,
   "id": "29a52e47",
   "metadata": {},
   "outputs": [
    {
     "data": {
      "text/plain": [
       "True"
      ]
     },
     "execution_count": 8,
     "metadata": {},
     "output_type": "execute_result"
    }
   ],
   "source": [
    "isinstance(10 , (int , float))"
   ]
  },
  {
   "cell_type": "code",
   "execution_count": 10,
   "id": "a2a0c842",
   "metadata": {},
   "outputs": [
    {
     "data": {
      "text/plain": [
       "False"
      ]
     },
     "execution_count": 10,
     "metadata": {},
     "output_type": "execute_result"
    }
   ],
   "source": [
    "isinstance(\"a\" , (int , float))"
   ]
  },
  {
   "cell_type": "code",
   "execution_count": 12,
   "id": "fcc298fd",
   "metadata": {},
   "outputs": [],
   "source": [
    "def sum_of_numbers(a , b):\n",
    "    if isinstance(a , (int , float)) & isinstance(b , (int,float)):\n",
    "        print(a+b)\n",
    "    else:\n",
    "        print('Enter correct values')"
   ]
  },
  {
   "cell_type": "code",
   "execution_count": 13,
   "id": "0a026ba9",
   "metadata": {},
   "outputs": [
    {
     "name": "stdout",
     "output_type": "stream",
     "text": [
      "30\n"
     ]
    }
   ],
   "source": [
    "sum_of_numbers(10,20)"
   ]
  },
  {
   "cell_type": "code",
   "execution_count": 14,
   "id": "a54fd4f7",
   "metadata": {},
   "outputs": [
    {
     "name": "stdout",
     "output_type": "stream",
     "text": [
      "Enter correct values\n"
     ]
    }
   ],
   "source": [
    "sum_of_numbers('a',20)"
   ]
  },
  {
   "cell_type": "code",
   "execution_count": 15,
   "id": "d5599a6f",
   "metadata": {},
   "outputs": [
    {
     "data": {
      "text/plain": [
       "function"
      ]
     },
     "execution_count": 15,
     "metadata": {},
     "output_type": "execute_result"
    }
   ],
   "source": [
    "type(sum_of_numbers)"
   ]
  },
  {
   "cell_type": "code",
   "execution_count": 16,
   "id": "36a4f0ac",
   "metadata": {},
   "outputs": [
    {
     "name": "stdout",
     "output_type": "stream",
     "text": [
      "30\n",
      "None\n"
     ]
    }
   ],
   "source": [
    "print(sum_of_numbers(10,20))"
   ]
  },
  {
   "cell_type": "code",
   "execution_count": 23,
   "id": "1cec38c7",
   "metadata": {},
   "outputs": [],
   "source": [
    "def factorial(n):\n",
    "    if n == 0 | n== 1:\n",
    "        return 1\n",
    "    i = 2\n",
    "    ans = 1\n",
    "    while( i <= n):\n",
    "        ans = ans * i\n",
    "        i += 1\n",
    "    return ans\n"
   ]
  },
  {
   "cell_type": "code",
   "execution_count": 24,
   "id": "4b507e67",
   "metadata": {},
   "outputs": [
    {
     "name": "stdout",
     "output_type": "stream",
     "text": [
      "3628800\n"
     ]
    }
   ],
   "source": [
    "print(factorial(10))"
   ]
  },
  {
   "cell_type": "code",
   "execution_count": 2,
   "id": "cb9094fc",
   "metadata": {},
   "outputs": [],
   "source": [
    "def sum_product(a,b,c):\n",
    "    return a+b+c , a*b*c"
   ]
  },
  {
   "cell_type": "code",
   "execution_count": 26,
   "id": "d885c3be",
   "metadata": {},
   "outputs": [
    {
     "name": "stdout",
     "output_type": "stream",
     "text": [
      "(8, 12)\n"
     ]
    }
   ],
   "source": [
    "print(sum_product(1,3,4))"
   ]
  },
  {
   "cell_type": "code",
   "execution_count": 3,
   "id": "121a784a",
   "metadata": {},
   "outputs": [
    {
     "name": "stdout",
     "output_type": "stream",
     "text": [
      "6 6\n"
     ]
    }
   ],
   "source": [
    "s , p = sum_product(1 , 2 ,3)  ## unpacking is used\n",
    "print(s , p)"
   ]
  },
  {
   "cell_type": "markdown",
   "id": "aa0bee6a",
   "metadata": {},
   "source": [
    "## Default parameter"
   ]
  },
  {
   "cell_type": "code",
   "execution_count": 4,
   "id": "cb42a4fb",
   "metadata": {},
   "outputs": [],
   "source": [
    "def sum_product(a , b , c =0):   ## by default it will take c = 0 if no value is givem\n",
    "    return a+b+c , a*b*c"
   ]
  },
  {
   "cell_type": "code",
   "execution_count": 5,
   "id": "5221578a",
   "metadata": {},
   "outputs": [
    {
     "name": "stdout",
     "output_type": "stream",
     "text": [
      "(9, 0)\n"
     ]
    }
   ],
   "source": [
    "print(sum_product(4,5))"
   ]
  },
  {
   "cell_type": "code",
   "execution_count": 6,
   "id": "89c896c8",
   "metadata": {},
   "outputs": [
    {
     "name": "stdout",
     "output_type": "stream",
     "text": [
      "(10, 20)\n"
     ]
    }
   ],
   "source": [
    "print(sum_product(4,5,1))"
   ]
  },
  {
   "cell_type": "markdown",
   "id": "786a3a79",
   "metadata": {},
   "source": [
    "## Positional and Keyword arguments"
   ]
  },
  {
   "cell_type": "code",
   "execution_count": 7,
   "id": "77e6cb52",
   "metadata": {},
   "outputs": [],
   "source": [
    "def func(a , b ,c):\n",
    "    print(a , b, c)"
   ]
  },
  {
   "cell_type": "code",
   "execution_count": 8,
   "id": "d02e5cde",
   "metadata": {},
   "outputs": [
    {
     "name": "stdout",
     "output_type": "stream",
     "text": [
      "1 2 3\n"
     ]
    }
   ],
   "source": [
    "func(1 , 2 ,3)  # positional arguments , parameters are assigned values based on thr position of the arguments"
   ]
  },
  {
   "cell_type": "code",
   "execution_count": 9,
   "id": "438ff633",
   "metadata": {},
   "outputs": [
    {
     "name": "stdout",
     "output_type": "stream",
     "text": [
      "1 2 3\n"
     ]
    }
   ],
   "source": [
    "func(a = 1 , c = 3 , b = 2) # keyword arguments , position doesn't matter"
   ]
  },
  {
   "cell_type": "code",
   "execution_count": 10,
   "id": "00c6755b",
   "metadata": {},
   "outputs": [
    {
     "name": "stdout",
     "output_type": "stream",
     "text": [
      "1 2 3\n"
     ]
    }
   ],
   "source": [
    "func(b = 2 , c = 3 , a = 1)"
   ]
  },
  {
   "cell_type": "markdown",
   "id": "e8dcff3f",
   "metadata": {},
   "source": [
    "## Variable length positional arguments"
   ]
  },
  {
   "cell_type": "code",
   "execution_count": 12,
   "id": "30b38307",
   "metadata": {},
   "outputs": [],
   "source": [
    "def func(a , b):\n",
    "    print(a)\n",
    "    print(b)"
   ]
  },
  {
   "cell_type": "code",
   "execution_count": 13,
   "id": "462da087",
   "metadata": {},
   "outputs": [
    {
     "name": "stdout",
     "output_type": "stream",
     "text": [
      "1\n",
      "2\n"
     ]
    }
   ],
   "source": [
    "func(1 , 2)"
   ]
  },
  {
   "cell_type": "code",
   "execution_count": 14,
   "id": "b31e907f",
   "metadata": {},
   "outputs": [
    {
     "ename": "TypeError",
     "evalue": "func() missing 1 required positional argument: 'b'",
     "output_type": "error",
     "traceback": [
      "\u001b[1;31m---------------------------------------------------------------------------\u001b[0m",
      "\u001b[1;31mTypeError\u001b[0m                                 Traceback (most recent call last)",
      "\u001b[1;32mC:\\Users\\SUBHAJ~1\\AppData\\Local\\Temp/ipykernel_10520/1723464958.py\u001b[0m in \u001b[0;36m<module>\u001b[1;34m\u001b[0m\n\u001b[1;32m----> 1\u001b[1;33m \u001b[0mfunc\u001b[0m\u001b[1;33m(\u001b[0m\u001b[1;36m1\u001b[0m\u001b[1;33m)\u001b[0m\u001b[1;33m\u001b[0m\u001b[1;33m\u001b[0m\u001b[0m\n\u001b[0m",
      "\u001b[1;31mTypeError\u001b[0m: func() missing 1 required positional argument: 'b'"
     ]
    }
   ],
   "source": [
    "func(1)"
   ]
  },
  {
   "cell_type": "code",
   "execution_count": 15,
   "id": "672f14a1",
   "metadata": {},
   "outputs": [],
   "source": [
    "def func(a , *b):  ## *b will give output as tuple\n",
    "    print(a)\n",
    "    print(b)\n",
    "    "
   ]
  },
  {
   "cell_type": "code",
   "execution_count": 16,
   "id": "4d7d3643",
   "metadata": {},
   "outputs": [
    {
     "name": "stdout",
     "output_type": "stream",
     "text": [
      "1\n",
      "(3,)\n"
     ]
    }
   ],
   "source": [
    "func(1 , 3)"
   ]
  },
  {
   "cell_type": "code",
   "execution_count": 18,
   "id": "58683a8a",
   "metadata": {},
   "outputs": [
    {
     "name": "stdout",
     "output_type": "stream",
     "text": [
      "1\n",
      "(2, 3, 4, 55)\n"
     ]
    }
   ],
   "source": [
    "func(1 , 2 ,3 , 4 ,55)"
   ]
  },
  {
   "cell_type": "code",
   "execution_count": 21,
   "id": "03f54049",
   "metadata": {},
   "outputs": [],
   "source": [
    "def func2(a , *args): # *args naming convention is used\n",
    "    print(a)\n",
    "    print(args)"
   ]
  },
  {
   "cell_type": "code",
   "execution_count": 22,
   "id": "4c0a5fb9",
   "metadata": {},
   "outputs": [
    {
     "name": "stdout",
     "output_type": "stream",
     "text": [
      "2\n",
      "(3, 4, 5)\n"
     ]
    }
   ],
   "source": [
    "func2(2 , 3 , 4,5)"
   ]
  },
  {
   "cell_type": "markdown",
   "id": "59b9f55d",
   "metadata": {},
   "source": [
    "## Varaible length keyword argument"
   ]
  },
  {
   "cell_type": "code",
   "execution_count": 27,
   "id": "623075f0",
   "metadata": {},
   "outputs": [],
   "source": [
    "def func(**kwargs):  # give output as dictionary\n",
    "    print(kwargs)"
   ]
  },
  {
   "cell_type": "code",
   "execution_count": 24,
   "id": "de9f2ec8",
   "metadata": {},
   "outputs": [
    {
     "name": "stdout",
     "output_type": "stream",
     "text": [
      "{'a': 3, 'x': 4}\n"
     ]
    }
   ],
   "source": [
    "func(a = 3 , x =4)"
   ]
  },
  {
   "cell_type": "code",
   "execution_count": 30,
   "id": "678aedeb",
   "metadata": {},
   "outputs": [],
   "source": [
    "def func(**kwargs):  # give output as dictionary\n",
    "    print(kwargs)\n",
    "    print(kwargs['a'])\n",
    "    print(kwargs['b'])\n",
    "    "
   ]
  },
  {
   "cell_type": "code",
   "execution_count": 31,
   "id": "1d09f1a4",
   "metadata": {},
   "outputs": [
    {
     "name": "stdout",
     "output_type": "stream",
     "text": [
      "{'a': 3, 'b': 4}\n",
      "3\n",
      "4\n"
     ]
    }
   ],
   "source": [
    "func(a = 3 , b =4)"
   ]
  },
  {
   "cell_type": "code",
   "execution_count": 33,
   "id": "b37b8122",
   "metadata": {},
   "outputs": [],
   "source": [
    "def func(a , b , c=0 , *args , **kwargs ):\n",
    "    print(\"Required positional arguments\")\n",
    "    print(\"a\" , a)\n",
    "    print(\"b\" , b)\n",
    "    print(\"args\" , args)\n",
    "    print(\"kwargs\" , kwargs)\n",
    "    print(\"c\" , c)"
   ]
  },
  {
   "cell_type": "code",
   "execution_count": 35,
   "id": "ab96f50a",
   "metadata": {},
   "outputs": [
    {
     "name": "stdout",
     "output_type": "stream",
     "text": [
      "Required positional arguments\n",
      "a 1\n",
      "b 2\n",
      "args (4, 5, 6)\n",
      "kwargs {'d': 'a ', 'i': 56}\n",
      "c 3\n"
     ]
    }
   ],
   "source": [
    "func(1 , 2 , 3 , 4 ,5 , 6 , d = 'a ' , i = 56)"
   ]
  },
  {
   "cell_type": "code",
   "execution_count": null,
   "id": "d92405b5",
   "metadata": {},
   "outputs": [],
   "source": [
    "## Lambda functions"
   ]
  },
  {
   "cell_type": "code",
   "execution_count": 1,
   "id": "07267910",
   "metadata": {},
   "outputs": [],
   "source": [
    "def product(a , b):\n",
    "    return a*b"
   ]
  },
  {
   "cell_type": "code",
   "execution_count": 9,
   "id": "16cf4e3b",
   "metadata": {},
   "outputs": [
    {
     "name": "stdout",
     "output_type": "stream",
     "text": [
      "6\n"
     ]
    }
   ],
   "source": [
    "x = product(2 , 3)\n",
    "print(x)"
   ]
  },
  {
   "cell_type": "code",
   "execution_count": null,
   "id": "d3c4c348",
   "metadata": {},
   "outputs": [],
   "source": []
  },
  {
   "cell_type": "code",
   "execution_count": 2,
   "id": "22bc7789",
   "metadata": {},
   "outputs": [],
   "source": [
    "a = lambda a, b :a*b"
   ]
  },
  {
   "cell_type": "code",
   "execution_count": 3,
   "id": "b23f968f",
   "metadata": {},
   "outputs": [
    {
     "data": {
      "text/plain": [
       "20"
      ]
     },
     "execution_count": 3,
     "metadata": {},
     "output_type": "execute_result"
    }
   ],
   "source": [
    "a(4,5)"
   ]
  },
  {
   "cell_type": "code",
   "execution_count": 4,
   "id": "4536f03e",
   "metadata": {},
   "outputs": [],
   "source": [
    "def sum(a , b, c):\n",
    "    return a+b+c"
   ]
  },
  {
   "cell_type": "code",
   "execution_count": 5,
   "id": "4b159f2e",
   "metadata": {},
   "outputs": [],
   "source": [
    "b = lambda a,b,c :a + b + c"
   ]
  },
  {
   "cell_type": "code",
   "execution_count": 6,
   "id": "f4057188",
   "metadata": {},
   "outputs": [
    {
     "data": {
      "text/plain": [
       "9"
      ]
     },
     "execution_count": 6,
     "metadata": {},
     "output_type": "execute_result"
    }
   ],
   "source": [
    "b(2,3,4)"
   ]
  },
  {
   "cell_type": "code",
   "execution_count": 12,
   "id": "30c77cfb",
   "metadata": {},
   "outputs": [],
   "source": [
    "l = [(\"luffy\" , 20 ),\n",
    "     (\"zoro\" , 21) ,\n",
    "     (\"nami\" , 19),\n",
    "     (\"chopper\" , 21)\n",
    "    ]"
   ]
  },
  {
   "cell_type": "code",
   "execution_count": 14,
   "id": "daa31018",
   "metadata": {},
   "outputs": [
    {
     "name": "stdout",
     "output_type": "stream",
     "text": [
      "[('chopper', 21), ('luffy', 20), ('nami', 19), ('zoro', 21)]\n"
     ]
    }
   ],
   "source": [
    "l.sort()\n",
    "print(l)"
   ]
  },
  {
   "cell_type": "code",
   "execution_count": 15,
   "id": "39e923f4",
   "metadata": {},
   "outputs": [
    {
     "data": {
      "text/plain": [
       "[('chopper', 21), ('luffy', 20), ('nami', 19), ('zoro', 21)]"
      ]
     },
     "execution_count": 15,
     "metadata": {},
     "output_type": "execute_result"
    }
   ],
   "source": [
    "sorted(l)"
   ]
  },
  {
   "cell_type": "code",
   "execution_count": 16,
   "id": "38140693",
   "metadata": {},
   "outputs": [],
   "source": [
    "l = [(\"luffy\" , 20 ),\n",
    "     (\"zoro\" , 21) ,\n",
    "     (\"nami\" , 19),\n",
    "     (\"chopper\" , 21),\n",
    "     (\"luffy\" , 21)\n",
    "    ]"
   ]
  },
  {
   "cell_type": "code",
   "execution_count": 18,
   "id": "13bed7e4",
   "metadata": {},
   "outputs": [
    {
     "name": "stdout",
     "output_type": "stream",
     "text": [
      "[('chopper', 21), ('luffy', 20), ('luffy', 21), ('nami', 19), ('zoro', 21)]\n"
     ]
    }
   ],
   "source": [
    "l.sort()  # it is sorting based on both the values\n",
    "print(l)"
   ]
  },
  {
   "cell_type": "code",
   "execution_count": 19,
   "id": "f7336353",
   "metadata": {},
   "outputs": [],
   "source": [
    "def keyfunc(t): # we are passing tuple here\n",
    "    return t[1] # we are passing t[1] which is 21"
   ]
  },
  {
   "cell_type": "code",
   "execution_count": 20,
   "id": "0cfa432d",
   "metadata": {},
   "outputs": [
    {
     "data": {
      "text/plain": [
       "[('nami', 19), ('luffy', 20), ('chopper', 21), ('luffy', 21), ('zoro', 21)]"
      ]
     },
     "execution_count": 20,
     "metadata": {},
     "output_type": "execute_result"
    }
   ],
   "source": [
    "sorted(l , key = keyfunc) ## it will sort according to the key which is 21 , 20"
   ]
  },
  {
   "cell_type": "code",
   "execution_count": 21,
   "id": "f71eec5b",
   "metadata": {},
   "outputs": [],
   "source": [
    "l = [ (\"zoro\" , 1 , 23) ,\n",
    "      (\"sanji\" , 2 , 24),\n",
    "     (\"nami\" , 3 , 25) ,\n",
    "     (\"usoop\" , 4 , 24) , \n",
    "     (\"robin\" , 5 , 27)\n",
    "]"
   ]
  },
  {
   "cell_type": "code",
   "execution_count": 23,
   "id": "cc353844",
   "metadata": {},
   "outputs": [],
   "source": [
    "def keyfunc(t):\n",
    "    return t[2]"
   ]
  },
  {
   "cell_type": "code",
   "execution_count": 24,
   "id": "d795d8fb",
   "metadata": {},
   "outputs": [
    {
     "data": {
      "text/plain": [
       "[('zoro', 1, 23),\n",
       " ('sanji', 2, 24),\n",
       " ('usoop', 4, 24),\n",
       " ('nami', 3, 25),\n",
       " ('robin', 5, 27)]"
      ]
     },
     "execution_count": 24,
     "metadata": {},
     "output_type": "execute_result"
    }
   ],
   "source": [
    "sorted(l , key = keyfunc)"
   ]
  },
  {
   "cell_type": "markdown",
   "id": "47312139",
   "metadata": {},
   "source": [
    "## Iterators"
   ]
  },
  {
   "cell_type": "code",
   "execution_count": 26,
   "id": "b5825bff",
   "metadata": {},
   "outputs": [],
   "source": [
    "l = [10 , 20, 30]\n",
    "it = iter(l)"
   ]
  },
  {
   "cell_type": "code",
   "execution_count": 27,
   "id": "c9225d44",
   "metadata": {},
   "outputs": [
    {
     "data": {
      "text/plain": [
       "list_iterator"
      ]
     },
     "execution_count": 27,
     "metadata": {},
     "output_type": "execute_result"
    }
   ],
   "source": [
    "type(it)"
   ]
  },
  {
   "cell_type": "code",
   "execution_count": 28,
   "id": "fa65fcc7",
   "metadata": {},
   "outputs": [
    {
     "data": {
      "text/plain": [
       "10"
      ]
     },
     "execution_count": 28,
     "metadata": {},
     "output_type": "execute_result"
    }
   ],
   "source": [
    "it.__next__()"
   ]
  },
  {
   "cell_type": "code",
   "execution_count": 29,
   "id": "4f43deb3",
   "metadata": {},
   "outputs": [],
   "source": [
    "d = { \"a\":10 , \"b\":20 , \"c\":30}\n"
   ]
  },
  {
   "cell_type": "code",
   "execution_count": 30,
   "id": "7570d131",
   "metadata": {},
   "outputs": [],
   "source": [
    "itd = iter(d)"
   ]
  },
  {
   "cell_type": "code",
   "execution_count": 31,
   "id": "b682f0e0",
   "metadata": {},
   "outputs": [
    {
     "data": {
      "text/plain": [
       "dict_keyiterator"
      ]
     },
     "execution_count": 31,
     "metadata": {},
     "output_type": "execute_result"
    }
   ],
   "source": [
    "type(itd)"
   ]
  },
  {
   "cell_type": "code",
   "execution_count": 35,
   "id": "c636fda2",
   "metadata": {},
   "outputs": [
    {
     "ename": "StopIteration",
     "evalue": "",
     "output_type": "error",
     "traceback": [
      "\u001b[1;31m---------------------------------------------------------------------------\u001b[0m",
      "\u001b[1;31mStopIteration\u001b[0m                             Traceback (most recent call last)",
      "\u001b[1;32mC:\\Users\\SUBHAJ~1\\AppData\\Local\\Temp/ipykernel_7932/3086368820.py\u001b[0m in \u001b[0;36m<module>\u001b[1;34m\u001b[0m\n\u001b[1;32m----> 1\u001b[1;33m \u001b[0mitd\u001b[0m\u001b[1;33m.\u001b[0m\u001b[0m__next__\u001b[0m\u001b[1;33m(\u001b[0m\u001b[1;33m)\u001b[0m\u001b[1;33m\u001b[0m\u001b[1;33m\u001b[0m\u001b[0m\n\u001b[0m",
      "\u001b[1;31mStopIteration\u001b[0m: "
     ]
    }
   ],
   "source": [
    "itd.__next__()"
   ]
  },
  {
   "cell_type": "code",
   "execution_count": 36,
   "id": "929ca131",
   "metadata": {},
   "outputs": [],
   "source": [
    "s1 = iter(\"hello\")"
   ]
  },
  {
   "cell_type": "code",
   "execution_count": 38,
   "id": "31588202",
   "metadata": {},
   "outputs": [
    {
     "data": {
      "text/plain": [
       "'e'"
      ]
     },
     "execution_count": 38,
     "metadata": {},
     "output_type": "execute_result"
    }
   ],
   "source": [
    "s1.__next__()"
   ]
  },
  {
   "cell_type": "code",
   "execution_count": 40,
   "id": "22ce9777",
   "metadata": {},
   "outputs": [
    {
     "name": "stdout",
     "output_type": "stream",
     "text": [
      "{'naruto': 1, 'sasuke': 2, 'sakura': 3}\n"
     ]
    }
   ],
   "source": [
    " l = [\"naruto\" , \"sasuke\" , \"sakura\" , \"itachi\"]\n",
    "## we are a making a dict of it\n",
    "d = {}\n",
    "for i in range(1 , len(l)):\n",
    "    d[l[i - 1]] = i\n",
    "print(d)"
   ]
  },
  {
   "cell_type": "code",
   "execution_count": null,
   "id": "06af2235",
   "metadata": {},
   "outputs": [],
   "source": [
    "d = { }"
   ]
  },
  {
   "cell_type": "markdown",
   "id": "29cf86bc",
   "metadata": {},
   "source": [
    "## Zip function"
   ]
  },
  {
   "cell_type": "code",
   "execution_count": 47,
   "id": "3f28283e",
   "metadata": {},
   "outputs": [
    {
     "name": "stdout",
     "output_type": "stream",
     "text": [
      "(10, 'A')\n",
      "(20, 'B')\n",
      "(30, 'C')\n",
      "(40, 'D')\n",
      "(50, 'T')\n"
     ]
    }
   ],
   "source": [
    "l1 = [10 , 20 , 30 ,40 , 50]\n",
    "l2 = [\"A\" , \"B\" , \"C\" , \"D\" , \"T\"]\n",
    "## we want to iterate on both the list together\n",
    "\n",
    "for x in zip(l1 , l2):\n",
    "    print(x)              # we are iterating over l1 and l2 together and getting a tuple"
   ]
  },
  {
   "cell_type": "code",
   "execution_count": 48,
   "id": "afd36974",
   "metadata": {},
   "outputs": [
    {
     "name": "stdout",
     "output_type": "stream",
     "text": [
      "==============================\n"
     ]
    }
   ],
   "source": [
    "print(\"=\"*30)"
   ]
  },
  {
   "cell_type": "code",
   "execution_count": null,
   "id": "97ea62e9",
   "metadata": {},
   "outputs": [],
   "source": []
  },
  {
   "cell_type": "code",
   "execution_count": null,
   "id": "630833aa",
   "metadata": {},
   "outputs": [],
   "source": []
  },
  {
   "cell_type": "markdown",
   "id": "46a37833",
   "metadata": {},
   "source": [
    "## Generators"
   ]
  },
  {
   "cell_type": "code",
   "execution_count": null,
   "id": "de193265",
   "metadata": {},
   "outputs": [],
   "source": []
  },
  {
   "cell_type": "code",
   "execution_count": null,
   "id": "8c6ddd1c",
   "metadata": {},
   "outputs": [],
   "source": []
  },
  {
   "cell_type": "code",
   "execution_count": null,
   "id": "463df4fb",
   "metadata": {},
   "outputs": [],
   "source": []
  },
  {
   "cell_type": "code",
   "execution_count": null,
   "id": "3b7cac57",
   "metadata": {},
   "outputs": [],
   "source": []
  },
  {
   "cell_type": "code",
   "execution_count": null,
   "id": "19645542",
   "metadata": {},
   "outputs": [],
   "source": []
  },
  {
   "cell_type": "code",
   "execution_count": null,
   "id": "44e10454",
   "metadata": {},
   "outputs": [],
   "source": []
  },
  {
   "cell_type": "code",
   "execution_count": null,
   "id": "c106976b",
   "metadata": {},
   "outputs": [],
   "source": []
  },
  {
   "cell_type": "code",
   "execution_count": null,
   "id": "71ce80da",
   "metadata": {},
   "outputs": [],
   "source": []
  },
  {
   "cell_type": "code",
   "execution_count": null,
   "id": "b75da180",
   "metadata": {},
   "outputs": [],
   "source": []
  },
  {
   "cell_type": "code",
   "execution_count": null,
   "id": "9df43b90",
   "metadata": {},
   "outputs": [],
   "source": []
  },
  {
   "cell_type": "code",
   "execution_count": null,
   "id": "9022ce87",
   "metadata": {},
   "outputs": [],
   "source": []
  },
  {
   "cell_type": "code",
   "execution_count": null,
   "id": "0a4a6748",
   "metadata": {},
   "outputs": [],
   "source": []
  },
  {
   "cell_type": "code",
   "execution_count": null,
   "id": "b37c88cf",
   "metadata": {},
   "outputs": [],
   "source": []
  }
 ],
 "metadata": {
  "kernelspec": {
   "display_name": "Python 3 (ipykernel)",
   "language": "python",
   "name": "python3"
  },
  "language_info": {
   "codemirror_mode": {
    "name": "ipython",
    "version": 3
   },
   "file_extension": ".py",
   "mimetype": "text/x-python",
   "name": "python",
   "nbconvert_exporter": "python",
   "pygments_lexer": "ipython3",
   "version": "3.9.7"
  }
 },
 "nbformat": 4,
 "nbformat_minor": 5
}
