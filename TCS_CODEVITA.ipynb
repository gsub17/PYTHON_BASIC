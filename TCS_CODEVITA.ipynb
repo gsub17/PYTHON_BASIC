{
 "cells": [
  {
   "cell_type": "markdown",
   "id": "b34400c9",
   "metadata": {},
   "source": [
    "## College Rank 1"
   ]
  },
  {
   "cell_type": "code",
   "execution_count": 2,
   "id": "1e36b65c",
   "metadata": {},
   "outputs": [
    {
     "name": "stdout",
     "output_type": "stream",
     "text": [
      "4 5\n"
     ]
    }
   ],
   "source": [
    "inp = list(map(int, input().split()))"
   ]
  },
  {
   "cell_type": "code",
   "execution_count": 3,
   "id": "65abcebe",
   "metadata": {},
   "outputs": [],
   "source": [
    "C = inp[0]      # no. of college\n",
    "N = inp[1]      # no. of students"
   ]
  },
  {
   "cell_type": "code",
   "execution_count": 86,
   "id": "5bb4958a",
   "metadata": {},
   "outputs": [
    {
     "name": "stdout",
     "output_type": "stream",
     "text": [
      "2 1 1 1\n"
     ]
    }
   ],
   "source": [
    "C_no_of_seats = list(map(int, input().split()))"
   ]
  },
  {
   "cell_type": "code",
   "execution_count": 9,
   "id": "ccbbb28d",
   "metadata": {},
   "outputs": [
    {
     "name": "stdout",
     "output_type": "stream",
     "text": [
      "S-1,97.05,C-1,C-3,C-2\n",
      "S-2,48.03,C-1,C-2,C-3\n",
      "S-3,85.69,C-1,C-3,C-2\n",
      "S-4,80.83,C-1,C-3,C-2\n",
      "S-5,41.23,C-1,C-2,C-3\n"
     ]
    }
   ],
   "source": [
    "N_student = []\n",
    "\n",
    "for i in range(0 , N , 1):\n",
    "        temp = input().split(\",\")\n",
    "        N_student.append(temp)\n",
    "        \n",
    "    "
   ]
  },
  {
   "cell_type": "code",
   "execution_count": 10,
   "id": "277206ed",
   "metadata": {},
   "outputs": [
    {
     "name": "stdout",
     "output_type": "stream",
     "text": [
      "[['S-1', '97.05', 'C-1', 'C-3', 'C-2'], ['S-2', '48.03', 'C-1', 'C-2', 'C-3'], ['S-3', '85.69', 'C-1', 'C-3', 'C-2'], ['S-4', '80.83', 'C-1', 'C-3', 'C-2'], ['S-5', '41.23', 'C-1', 'C-2', 'C-3']]\n"
     ]
    }
   ],
   "source": [
    "print(N_student)"
   ]
  },
  {
   "cell_type": "code",
   "execution_count": 72,
   "id": "20b8aca0",
   "metadata": {},
   "outputs": [],
   "source": [
    "N_student2 = []\n",
    "def convert(N_student):\n",
    "    temp = N_student\n",
    "    id1 = temp[0]\n",
    "    id1 = int(id1[2])\n",
    "\n",
    "    per = float(temp[1])\n",
    "    per = int(per*100)\n",
    "\n",
    "    choice1 = temp[2]\n",
    "    choice1 = int(choice1[2])\n",
    "\n",
    "    choice2 = temp[3]\n",
    "    choice2 = int(choice2[2])\n",
    "\n",
    "    choice3 = temp[4]\n",
    "    choice3 = int(choice3[2])\n",
    "    \n",
    "    N_student2.append([id1,per,choice1,choice2,choice3])\n",
    "    return"
   ]
  },
  {
   "cell_type": "code",
   "execution_count": 73,
   "id": "b4344de8",
   "metadata": {},
   "outputs": [],
   "source": [
    "\n",
    "for i in range(0 , N , 1):\n",
    "    temp = N_student[i]\n",
    "    convert(temp)\n",
    "    "
   ]
  },
  {
   "cell_type": "code",
   "execution_count": 74,
   "id": "c1154d7c",
   "metadata": {},
   "outputs": [
    {
     "name": "stdout",
     "output_type": "stream",
     "text": [
      "[[1, 9705, 1, 3, 2], [2, 4803, 1, 2, 3], [3, 8569, 1, 3, 2], [4, 8083, 1, 3, 2], [5, 4123, 1, 2, 3]]\n"
     ]
    }
   ],
   "source": [
    "print(N_student2)"
   ]
  },
  {
   "cell_type": "code",
   "execution_count": 75,
   "id": "b2b28b05",
   "metadata": {},
   "outputs": [],
   "source": [
    "N_student = N_student2"
   ]
  },
  {
   "cell_type": "code",
   "execution_count": 76,
   "id": "cac04ec4",
   "metadata": {},
   "outputs": [
    {
     "name": "stdout",
     "output_type": "stream",
     "text": [
      "[[1, 9705, 1, 3, 2], [2, 4803, 1, 2, 3], [3, 8569, 1, 3, 2], [4, 8083, 1, 3, 2], [5, 4123, 1, 2, 3]]\n"
     ]
    }
   ],
   "source": [
    "print(N_student)"
   ]
  },
  {
   "cell_type": "code",
   "execution_count": 77,
   "id": "298717bd",
   "metadata": {},
   "outputs": [],
   "source": [
    "# take second element for sort\n",
    "def takeSecond(elem):\n",
    "    return elem[1]"
   ]
  },
  {
   "cell_type": "code",
   "execution_count": 78,
   "id": "98666905",
   "metadata": {},
   "outputs": [],
   "source": [
    "# sort list with key\n",
    "N_student.sort(key=takeSecond)\n",
    "N_student.reverse()"
   ]
  },
  {
   "cell_type": "code",
   "execution_count": 79,
   "id": "3dfaffd1",
   "metadata": {},
   "outputs": [
    {
     "name": "stdout",
     "output_type": "stream",
     "text": [
      "[[1, 9705, 1, 3, 2], [3, 8569, 1, 3, 2], [4, 8083, 1, 3, 2], [2, 4803, 1, 2, 3], [5, 4123, 1, 2, 3]]\n",
      "[2, 1, 1, 1]\n"
     ]
    }
   ],
   "source": [
    "print(N_student)\n",
    "print(C_no_of_seats)"
   ]
  },
  {
   "cell_type": "code",
   "execution_count": 80,
   "id": "320ee67b",
   "metadata": {},
   "outputs": [],
   "source": [
    "# to check availability of seats\n",
    "def check(C_no_seats , detail):\n",
    "    \n",
    "    choice1 = detail[2]-1 # choice shows college no.\n",
    "    choice2 = detail[3]-1\n",
    "    choice3 = detail[4]-1\n",
    "    \n",
    "    if C_no_seats[choice1] > 0:\n",
    "        C_no_seats[choice1] -= 1\n",
    "        return detail[2]\n",
    "    elif C_no_seats[choice2] > 0:\n",
    "        C_no_seats[choice2] -= 1\n",
    "        return detail[3]\n",
    "    elif C_no_seats[choice3] > 0:\n",
    "        C_no_seats[choice3] -= 1\n",
    "        return detail[4]\n",
    "    \n",
    "    return 0"
   ]
  },
  {
   "cell_type": "code",
   "execution_count": 87,
   "id": "9a6c680d",
   "metadata": {},
   "outputs": [],
   "source": [
    "output = []\n",
    "\n",
    "for i in range(0 , N , 1):\n",
    "    temp = N_student[i]\n",
    "    result = check(C_no_of_seats , temp)\n",
    "    id = temp[0]\n",
    "    \n",
    "    if result != 0:\n",
    "        x = \"Student-\"+str(id)+\" C-\"+str(result)\n",
    "        output.append(x)"
   ]
  },
  {
   "cell_type": "code",
   "execution_count": 88,
   "id": "b495d094",
   "metadata": {},
   "outputs": [
    {
     "name": "stdout",
     "output_type": "stream",
     "text": [
      "['Student-1 C-1', 'Student-3 C-1', 'Student-4 C-3', 'Student-2 C-2']\n"
     ]
    }
   ],
   "source": [
    "print(output)"
   ]
  },
  {
   "cell_type": "code",
   "execution_count": 121,
   "id": "66c99b0d",
   "metadata": {},
   "outputs": [
    {
     "name": "stdout",
     "output_type": "stream",
     "text": [
      "[0, 0, 0, 1]\n"
     ]
    }
   ],
   "source": [
    "#print(C_no_of_seats)"
   ]
  },
  {
   "cell_type": "code",
   "execution_count": 122,
   "id": "025a441d",
   "metadata": {},
   "outputs": [
    {
     "name": "stdout",
     "output_type": "stream",
     "text": [
      "[[1, 1], [3, 1], [4, 3], [2, 2]]\n"
     ]
    }
   ],
   "source": [
    "#print(output)"
   ]
  }
 ],
 "metadata": {
  "kernelspec": {
   "display_name": "Python 3 (ipykernel)",
   "language": "python",
   "name": "python3"
  },
  "language_info": {
   "codemirror_mode": {
    "name": "ipython",
    "version": 3
   },
   "file_extension": ".py",
   "mimetype": "text/x-python",
   "name": "python",
   "nbconvert_exporter": "python",
   "pygments_lexer": "ipython3",
   "version": "3.9.7"
  }
 },
 "nbformat": 4,
 "nbformat_minor": 5
}
